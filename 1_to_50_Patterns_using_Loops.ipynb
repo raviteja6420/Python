{
 "cells": [
  {
   "cell_type": "markdown",
   "id": "461ccd8d",
   "metadata": {},
   "source": [
    "## Pattern Problems 1-50\n",
    "***"
   ]
  },
  {
   "cell_type": "markdown",
   "id": "e0fa8aff",
   "metadata": {},
   "source": [
    "## pattern 1"
   ]
  },
  {
   "cell_type": "code",
   "execution_count": 1,
   "id": "3cf2c985",
   "metadata": {},
   "outputs": [],
   "source": [
    "# Pattern 1 using For Loop\n",
    "def pattern1for(char = '*', n = 5):\n",
    "    for i in range(1, n + 1):\n",
    "        print(char*n)"
   ]
  },
  {
   "cell_type": "code",
   "execution_count": 2,
   "id": "73cb80a3",
   "metadata": {},
   "outputs": [
    {
     "name": "stdout",
     "output_type": "stream",
     "text": [
      "*****\n",
      "*****\n",
      "*****\n",
      "*****\n",
      "*****\n"
     ]
    }
   ],
   "source": [
    "pattern1for()"
   ]
  },
  {
   "cell_type": "code",
   "execution_count": 3,
   "id": "69452d3c",
   "metadata": {},
   "outputs": [
    {
     "name": "stdout",
     "output_type": "stream",
     "text": [
      "#########\n",
      "#########\n",
      "#########\n",
      "#########\n",
      "#########\n",
      "#########\n",
      "#########\n",
      "#########\n",
      "#########\n"
     ]
    }
   ],
   "source": [
    "pattern1for(char = '#',n = 9)"
   ]
  },
  {
   "cell_type": "code",
   "execution_count": 4,
   "id": "098e9bfc",
   "metadata": {},
   "outputs": [
    {
     "name": "stdout",
     "output_type": "stream",
     "text": [
      "*****\n",
      "*****\n",
      "*****\n",
      "*****\n",
      "*****\n"
     ]
    }
   ],
   "source": [
    "# Pattern 1 using while loop\n",
    "def pattern1while(char = '*', n = 5):\n",
    "    i = 0\n",
    "    while i < n:\n",
    "        print(char*n)\n",
    "        i += 1\n",
    "        \n",
    "pattern1while()"
   ]
  },
  {
   "cell_type": "code",
   "execution_count": 5,
   "id": "ce1c5821",
   "metadata": {},
   "outputs": [
    {
     "name": "stdout",
     "output_type": "stream",
     "text": [
      "++++++++++\n",
      "++++++++++\n",
      "++++++++++\n",
      "++++++++++\n",
      "++++++++++\n",
      "++++++++++\n",
      "++++++++++\n",
      "++++++++++\n",
      "++++++++++\n",
      "++++++++++\n"
     ]
    }
   ],
   "source": [
    "pattern1while(char = '+', n = 10)"
   ]
  },
  {
   "cell_type": "markdown",
   "id": "31c2f249",
   "metadata": {},
   "source": [
    "## pattern 2"
   ]
  },
  {
   "cell_type": "code",
   "execution_count": 6,
   "id": "eeec482d",
   "metadata": {},
   "outputs": [
    {
     "name": "stdout",
     "output_type": "stream",
     "text": [
      "11111\n",
      "22222\n",
      "33333\n",
      "44444\n",
      "55555\n"
     ]
    }
   ],
   "source": [
    "# pattern 2 using for loop\n",
    "# 11111\n",
    "# 22222\n",
    "# 33333\n",
    "# 44444\n",
    "# 55555\n",
    "\n",
    "for i in range(1, 6):\n",
    "    print(str(i) * 5)"
   ]
  },
  {
   "cell_type": "code",
   "execution_count": 7,
   "id": "46b2440a",
   "metadata": {},
   "outputs": [
    {
     "name": "stdout",
     "output_type": "stream",
     "text": [
      "11111\n",
      "22222\n",
      "33333\n",
      "44444\n",
      "55555\n"
     ]
    }
   ],
   "source": [
    "# pattern 2 using for loop\n",
    "def pattern2for(n=5):\n",
    "    for i in range(1, n+1):\n",
    "        print(str(i)* n)\n",
    "        \n",
    "pattern2for()"
   ]
  },
  {
   "cell_type": "code",
   "execution_count": 8,
   "id": "1e0f88f1",
   "metadata": {},
   "outputs": [
    {
     "name": "stdout",
     "output_type": "stream",
     "text": [
      "111111\n",
      "222222\n",
      "333333\n",
      "444444\n",
      "555555\n",
      "666666\n"
     ]
    }
   ],
   "source": [
    "# pattern 2 using while loop\n",
    "\n",
    "def pattern2while(n=5):\n",
    "    i = 1\n",
    "    while i <= n:\n",
    "        print(str(i) * n)\n",
    "        i += 1\n",
    "\n",
    "pattern2while(6)"
   ]
  },
  {
   "cell_type": "markdown",
   "id": "0af535c8",
   "metadata": {},
   "source": [
    "## pattern 3"
   ]
  },
  {
   "cell_type": "code",
   "execution_count": 9,
   "id": "41b1986c",
   "metadata": {},
   "outputs": [
    {
     "name": "stdout",
     "output_type": "stream",
     "text": [
      "1 2 3 4 5 \n",
      "1 2 3 4 5 \n",
      "1 2 3 4 5 \n",
      "1 2 3 4 5 \n",
      "1 2 3 4 5 \n"
     ]
    }
   ],
   "source": [
    "# pattern 3 using for loop \n",
    "# 12345\n",
    "# 12345\n",
    "# 12345\n",
    "# 12345\n",
    "# 12345\n",
    "for i in range(1, 6):\n",
    "    for j in range(1, 6):\n",
    "        print(j, end = ' ')\n",
    "    print()"
   ]
  },
  {
   "cell_type": "code",
   "execution_count": 10,
   "id": "b5aed368",
   "metadata": {},
   "outputs": [],
   "source": [
    "def pattern3for(n=5):\n",
    "    for i in range(1, n+1):\n",
    "        for j in range(1, n+1):\n",
    "            print(j, end = ' ')\n",
    "        print()  "
   ]
  },
  {
   "cell_type": "code",
   "execution_count": 11,
   "id": "3a154153",
   "metadata": {},
   "outputs": [
    {
     "name": "stdout",
     "output_type": "stream",
     "text": [
      "1 2 3 4 5 \n",
      "1 2 3 4 5 \n",
      "1 2 3 4 5 \n",
      "1 2 3 4 5 \n",
      "1 2 3 4 5 \n"
     ]
    }
   ],
   "source": [
    "pattern3for(5)"
   ]
  },
  {
   "cell_type": "code",
   "execution_count": 12,
   "id": "826d48f0",
   "metadata": {},
   "outputs": [
    {
     "name": "stdout",
     "output_type": "stream",
     "text": [
      "1 2 3 4 5 \n",
      "1 2 3 4 5 \n",
      "1 2 3 4 5 \n",
      "1 2 3 4 5 \n",
      "1 2 3 4 5 \n"
     ]
    }
   ],
   "source": [
    "# pattern 3 using while loop\n",
    "def pattern3while(n = 5):\n",
    "    i = 1\n",
    "    while i <= n:\n",
    "        j = 1\n",
    "        while j <= n:\n",
    "            print(j, end = ' ')\n",
    "            j += 1\n",
    "        i += 1\n",
    "        print()\n",
    "        \n",
    "pattern3while()"
   ]
  },
  {
   "cell_type": "markdown",
   "id": "be8b377a",
   "metadata": {},
   "source": [
    "## pattern 4"
   ]
  },
  {
   "cell_type": "markdown",
   "id": "cae44048",
   "metadata": {},
   "source": [
    "![](https://web.alfredstate.edu/faculty/weimandn/miscellaneous/ascii/ASCII%20Conversion%20Chart.gif)"
   ]
  },
  {
   "cell_type": "code",
   "execution_count": 13,
   "id": "4e36ef17",
   "metadata": {},
   "outputs": [
    {
     "name": "stdout",
     "output_type": "stream",
     "text": [
      "AAAAA\n",
      "BBBBB\n",
      "CCCCC\n",
      "DDDDD\n",
      "EEEEE\n",
      "\n"
     ]
    }
   ],
   "source": [
    "# pattern 4 using for loop\n",
    "# AAAAA\n",
    "# BBBBB\n",
    "# CCCCC\n",
    "# DDDDD\n",
    "# EEEEE\n",
    "\n",
    "# ord('A') = 65\n",
    "# chr(65) = 'A'\n",
    "\n",
    "for i in range(65, 70):\n",
    "    print(chr(i)*5)\n",
    "print()"
   ]
  },
  {
   "cell_type": "code",
   "execution_count": 14,
   "id": "50a1d5a7",
   "metadata": {},
   "outputs": [],
   "source": [
    "# pattern 4 using for loop\n",
    "def pattern4for(start = 'A', end = 'E'):         # start always less than end i.e: A(65) < E(70)\n",
    "    for i in range(ord(start), ord(end)+1):  \n",
    "        print((chr(i)+' ')*((ord(end)+1)-ord(start)))"
   ]
  },
  {
   "cell_type": "code",
   "execution_count": 15,
   "id": "ddd89f20",
   "metadata": {
    "scrolled": true
   },
   "outputs": [
    {
     "name": "stdout",
     "output_type": "stream",
     "text": [
      "A A A A A \n",
      "B B B B B \n",
      "C C C C C \n",
      "D D D D D \n",
      "E E E E E \n"
     ]
    }
   ],
   "source": [
    "pattern4for()"
   ]
  },
  {
   "cell_type": "code",
   "execution_count": 16,
   "id": "3c7778d8",
   "metadata": {},
   "outputs": [
    {
     "name": "stdout",
     "output_type": "stream",
     "text": [
      "H H H H H H H H H H H H H H H H H \n",
      "I I I I I I I I I I I I I I I I I \n",
      "J J J J J J J J J J J J J J J J J \n",
      "K K K K K K K K K K K K K K K K K \n",
      "L L L L L L L L L L L L L L L L L \n",
      "M M M M M M M M M M M M M M M M M \n",
      "N N N N N N N N N N N N N N N N N \n",
      "O O O O O O O O O O O O O O O O O \n",
      "P P P P P P P P P P P P P P P P P \n",
      "Q Q Q Q Q Q Q Q Q Q Q Q Q Q Q Q Q \n",
      "R R R R R R R R R R R R R R R R R \n",
      "S S S S S S S S S S S S S S S S S \n",
      "T T T T T T T T T T T T T T T T T \n",
      "U U U U U U U U U U U U U U U U U \n",
      "V V V V V V V V V V V V V V V V V \n",
      "W W W W W W W W W W W W W W W W W \n",
      "X X X X X X X X X X X X X X X X X \n"
     ]
    }
   ],
   "source": [
    "pattern4for(start='H', end='X')"
   ]
  },
  {
   "cell_type": "code",
   "execution_count": 17,
   "id": "ac23778d",
   "metadata": {},
   "outputs": [],
   "source": [
    "# pattern 4 using while loop\n",
    "def pattern4while(start = 'A', end = 'E'): # start always less than end i.e: A(65) < E(70)\n",
    "    i = ord(start)\n",
    "    while i <= ord(end):\n",
    "        print(chr(i)*((ord(end)+1)-ord(start)))\n",
    "        i += 1"
   ]
  },
  {
   "cell_type": "code",
   "execution_count": 18,
   "id": "ed88c5df",
   "metadata": {},
   "outputs": [
    {
     "name": "stdout",
     "output_type": "stream",
     "text": [
      "AAAAA\n",
      "BBBBB\n",
      "CCCCC\n",
      "DDDDD\n",
      "EEEEE\n"
     ]
    }
   ],
   "source": [
    "pattern4while()"
   ]
  },
  {
   "cell_type": "code",
   "execution_count": 19,
   "id": "7ee1f1ce",
   "metadata": {},
   "outputs": [
    {
     "name": "stdout",
     "output_type": "stream",
     "text": [
      "PPPPPPPPP\n",
      "QQQQQQQQQ\n",
      "RRRRRRRRR\n",
      "SSSSSSSSS\n",
      "TTTTTTTTT\n",
      "UUUUUUUUU\n",
      "VVVVVVVVV\n",
      "WWWWWWWWW\n",
      "XXXXXXXXX\n"
     ]
    }
   ],
   "source": [
    "pattern4while(start = 'P', end = 'X')"
   ]
  },
  {
   "cell_type": "markdown",
   "id": "8113831a",
   "metadata": {},
   "source": [
    "## pattern 5"
   ]
  },
  {
   "cell_type": "code",
   "execution_count": 20,
   "id": "19973ab6",
   "metadata": {},
   "outputs": [
    {
     "name": "stdout",
     "output_type": "stream",
     "text": [
      "A B C D E \n",
      "A B C D E \n",
      "A B C D E \n",
      "A B C D E \n",
      "A B C D E \n"
     ]
    }
   ],
   "source": [
    "# A B C D E\n",
    "# A B C D E\n",
    "# A B C D E\n",
    "# A B C D E\n",
    "# A B C D E\n",
    "\n",
    "for i in range(ord('A'), ord('E')+1):\n",
    "    for j in range(ord('A'), ord('E')+1):\n",
    "        print(chr(j), end = ' ')\n",
    "    print()"
   ]
  },
  {
   "cell_type": "code",
   "execution_count": 5,
   "id": "20598333",
   "metadata": {},
   "outputs": [],
   "source": [
    "# pattern 5 using for loop\n",
    "def pattern5for(start = 'A', end = 'E'):       # start always less than end i.e: A(65) < E(70)\n",
    "    for i in range(ord(start), ord(end)+1):\n",
    "        for j in range(ord(start), ord(end)+1):\n",
    "            print(chr(j), end = ' ')\n",
    "        print()"
   ]
  },
  {
   "cell_type": "code",
   "execution_count": 6,
   "id": "8418afac",
   "metadata": {},
   "outputs": [
    {
     "name": "stdout",
     "output_type": "stream",
     "text": [
      "A B C D E \n",
      "A B C D E \n",
      "A B C D E \n",
      "A B C D E \n",
      "A B C D E \n"
     ]
    }
   ],
   "source": [
    "pattern5for()"
   ]
  },
  {
   "cell_type": "code",
   "execution_count": 22,
   "id": "f8587f3d",
   "metadata": {},
   "outputs": [
    {
     "name": "stdout",
     "output_type": "stream",
     "text": [
      "P Q R S T U V W X \n",
      "P Q R S T U V W X \n",
      "P Q R S T U V W X \n",
      "P Q R S T U V W X \n",
      "P Q R S T U V W X \n",
      "P Q R S T U V W X \n",
      "P Q R S T U V W X \n",
      "P Q R S T U V W X \n",
      "P Q R S T U V W X \n"
     ]
    }
   ],
   "source": [
    "pattern5for(start ='P', end = 'X')"
   ]
  },
  {
   "cell_type": "code",
   "execution_count": 23,
   "id": "a36f7c80",
   "metadata": {},
   "outputs": [],
   "source": [
    "# pattern 5 using while loop\n",
    "def pattern5while(start = 'A', end = 'E'):  # start always less than end i.e: A(65) < E(70)\n",
    "    i = ord(start)\n",
    "    while i <= ord(end):\n",
    "        j = ord(start)\n",
    "        while j <= ord(end):\n",
    "            print(chr(j), end=' ')\n",
    "            j += 1\n",
    "        i += 1\n",
    "        print()"
   ]
  },
  {
   "cell_type": "code",
   "execution_count": 24,
   "id": "d78b951c",
   "metadata": {},
   "outputs": [
    {
     "name": "stdout",
     "output_type": "stream",
     "text": [
      "A B C D E \n",
      "A B C D E \n",
      "A B C D E \n",
      "A B C D E \n",
      "A B C D E \n"
     ]
    }
   ],
   "source": [
    "pattern5while()"
   ]
  },
  {
   "cell_type": "code",
   "execution_count": 25,
   "id": "46017e49",
   "metadata": {},
   "outputs": [
    {
     "name": "stdout",
     "output_type": "stream",
     "text": [
      "K L M N O P Q R S T U V \n",
      "K L M N O P Q R S T U V \n",
      "K L M N O P Q R S T U V \n",
      "K L M N O P Q R S T U V \n",
      "K L M N O P Q R S T U V \n",
      "K L M N O P Q R S T U V \n",
      "K L M N O P Q R S T U V \n",
      "K L M N O P Q R S T U V \n",
      "K L M N O P Q R S T U V \n",
      "K L M N O P Q R S T U V \n",
      "K L M N O P Q R S T U V \n",
      "K L M N O P Q R S T U V \n"
     ]
    }
   ],
   "source": [
    "pattern5while(start = 'K', end = 'V')"
   ]
  },
  {
   "cell_type": "markdown",
   "id": "5f6241da",
   "metadata": {},
   "source": [
    "## pattern 6"
   ]
  },
  {
   "cell_type": "code",
   "execution_count": 26,
   "id": "ccc3791a",
   "metadata": {},
   "outputs": [
    {
     "name": "stdout",
     "output_type": "stream",
     "text": [
      "55555\n",
      "44444\n",
      "33333\n",
      "22222\n",
      "11111\n"
     ]
    }
   ],
   "source": [
    "# 55555\n",
    "# 44444\n",
    "# 33333\n",
    "# 22222\n",
    "# 11111\n",
    "\n",
    "for i in range(5, 0, -1):\n",
    "    print(str(i) * 5)"
   ]
  },
  {
   "cell_type": "code",
   "execution_count": 27,
   "id": "504c29d8",
   "metadata": {},
   "outputs": [],
   "source": [
    "# pattern 6 using for loop\n",
    "\n",
    "def pattern6for(n = 5):\n",
    "    for i in range(n, 0, -1):\n",
    "        print(str(i)* n)"
   ]
  },
  {
   "cell_type": "code",
   "execution_count": 28,
   "id": "e3d5ef9c",
   "metadata": {},
   "outputs": [
    {
     "name": "stdout",
     "output_type": "stream",
     "text": [
      "55555\n",
      "44444\n",
      "33333\n",
      "22222\n",
      "11111\n"
     ]
    }
   ],
   "source": [
    "pattern6for()"
   ]
  },
  {
   "cell_type": "code",
   "execution_count": 29,
   "id": "65d8b963",
   "metadata": {},
   "outputs": [
    {
     "name": "stdout",
     "output_type": "stream",
     "text": [
      "666666\n",
      "555555\n",
      "444444\n",
      "333333\n",
      "222222\n",
      "111111\n"
     ]
    }
   ],
   "source": [
    "pattern6for(n = 6)"
   ]
  },
  {
   "cell_type": "code",
   "execution_count": 30,
   "id": "23efde7f",
   "metadata": {},
   "outputs": [],
   "source": [
    "# pattern 6 using while loop\n",
    "def pattern6while(n = 5):\n",
    "    i = n\n",
    "    while i >= 1:\n",
    "        print(str(i)*n)\n",
    "        i -= 1"
   ]
  },
  {
   "cell_type": "code",
   "execution_count": 31,
   "id": "10364652",
   "metadata": {},
   "outputs": [
    {
     "name": "stdout",
     "output_type": "stream",
     "text": [
      "55555\n",
      "44444\n",
      "33333\n",
      "22222\n",
      "11111\n"
     ]
    }
   ],
   "source": [
    "pattern6while(5)"
   ]
  },
  {
   "cell_type": "code",
   "execution_count": 32,
   "id": "724f328c",
   "metadata": {},
   "outputs": [
    {
     "name": "stdout",
     "output_type": "stream",
     "text": [
      "7777777\n",
      "6666666\n",
      "5555555\n",
      "4444444\n",
      "3333333\n",
      "2222222\n",
      "1111111\n"
     ]
    }
   ],
   "source": [
    "pattern6while(7)"
   ]
  },
  {
   "cell_type": "markdown",
   "id": "e77e506f",
   "metadata": {},
   "source": [
    "## pattern 7"
   ]
  },
  {
   "cell_type": "code",
   "execution_count": 33,
   "id": "f07131e0",
   "metadata": {},
   "outputs": [
    {
     "name": "stdout",
     "output_type": "stream",
     "text": [
      "5 4 3 2 1 \n",
      "5 4 3 2 1 \n",
      "5 4 3 2 1 \n",
      "5 4 3 2 1 \n",
      "5 4 3 2 1 \n"
     ]
    }
   ],
   "source": [
    "# 5 4 3 2 1\n",
    "# 5 4 3 2 1\n",
    "# 5 4 3 2 1\n",
    "# 5 4 3 2 1\n",
    "# 5 4 3 2 1\n",
    "\n",
    "for i in range(5, 0, -1):\n",
    "    for j in range(5, 0, -1):\n",
    "        print(j, end= ' ')\n",
    "    print()"
   ]
  },
  {
   "cell_type": "code",
   "execution_count": 34,
   "id": "a055b75c",
   "metadata": {},
   "outputs": [],
   "source": [
    "# pattern 7 using for loop\n",
    "\n",
    "def pattern7for(n = 5):\n",
    "    for i in range(n, 0, -1):\n",
    "        for j in range(n, 0, -1):\n",
    "            print(j, end= ' ')\n",
    "        print()"
   ]
  },
  {
   "cell_type": "code",
   "execution_count": 35,
   "id": "f0110542",
   "metadata": {},
   "outputs": [
    {
     "name": "stdout",
     "output_type": "stream",
     "text": [
      "5 4 3 2 1 \n",
      "5 4 3 2 1 \n",
      "5 4 3 2 1 \n",
      "5 4 3 2 1 \n",
      "5 4 3 2 1 \n"
     ]
    }
   ],
   "source": [
    "pattern7for()"
   ]
  },
  {
   "cell_type": "code",
   "execution_count": 36,
   "id": "c21c0b6d",
   "metadata": {},
   "outputs": [
    {
     "name": "stdout",
     "output_type": "stream",
     "text": [
      "8 7 6 5 4 3 2 1 \n",
      "8 7 6 5 4 3 2 1 \n",
      "8 7 6 5 4 3 2 1 \n",
      "8 7 6 5 4 3 2 1 \n",
      "8 7 6 5 4 3 2 1 \n",
      "8 7 6 5 4 3 2 1 \n",
      "8 7 6 5 4 3 2 1 \n",
      "8 7 6 5 4 3 2 1 \n"
     ]
    }
   ],
   "source": [
    "pattern7for(8)"
   ]
  },
  {
   "cell_type": "code",
   "execution_count": 37,
   "id": "f14a486c",
   "metadata": {},
   "outputs": [],
   "source": [
    "# pattern 7 using while loop\n",
    "\n",
    "def pattern7while(n=5):\n",
    "    i = n\n",
    "    while i >= 1:\n",
    "        j = n\n",
    "        while j >= 1:\n",
    "            print(j, end=' ')\n",
    "            j -= 1\n",
    "        i -= 1\n",
    "        print()"
   ]
  },
  {
   "cell_type": "code",
   "execution_count": 38,
   "id": "19b38001",
   "metadata": {},
   "outputs": [
    {
     "name": "stdout",
     "output_type": "stream",
     "text": [
      "5 4 3 2 1 \n",
      "5 4 3 2 1 \n",
      "5 4 3 2 1 \n",
      "5 4 3 2 1 \n",
      "5 4 3 2 1 \n"
     ]
    }
   ],
   "source": [
    "pattern7while()"
   ]
  },
  {
   "cell_type": "code",
   "execution_count": 39,
   "id": "5943fb35",
   "metadata": {},
   "outputs": [
    {
     "name": "stdout",
     "output_type": "stream",
     "text": [
      "8 7 6 5 4 3 2 1 \n",
      "8 7 6 5 4 3 2 1 \n",
      "8 7 6 5 4 3 2 1 \n",
      "8 7 6 5 4 3 2 1 \n",
      "8 7 6 5 4 3 2 1 \n",
      "8 7 6 5 4 3 2 1 \n",
      "8 7 6 5 4 3 2 1 \n",
      "8 7 6 5 4 3 2 1 \n"
     ]
    }
   ],
   "source": [
    "pattern7while(n = 8)"
   ]
  },
  {
   "cell_type": "markdown",
   "id": "58a505ee",
   "metadata": {},
   "source": [
    "## pattern 8"
   ]
  },
  {
   "cell_type": "code",
   "execution_count": 40,
   "id": "11b54d87",
   "metadata": {},
   "outputs": [
    {
     "name": "stdout",
     "output_type": "stream",
     "text": [
      "EEEEE\n",
      "DDDDD\n",
      "CCCCC\n",
      "BBBBB\n",
      "AAAAA\n",
      "\n"
     ]
    }
   ],
   "source": [
    "# EEEEE\n",
    "# DDDDD\n",
    "# CCCCC\n",
    "# BBBBB\n",
    "# AAAAA\n",
    "\n",
    "# ord('A') = 65\n",
    "# chr(65) = 'A'\n",
    "\n",
    "for i in range(69, 64, -1):\n",
    "    print(chr(i)*5)\n",
    "print()\n"
   ]
  },
  {
   "cell_type": "code",
   "execution_count": 41,
   "id": "abb24a76",
   "metadata": {},
   "outputs": [],
   "source": [
    "# pattern 8 using for loop\n",
    "def pattern8for(start = 'E', end = 'A'): \n",
    "    \n",
    "    for i in range(ord(start), ord(end)-1, -1):\n",
    "        print((chr(i)+' ') * ((ord(start)-ord(end))+1))"
   ]
  },
  {
   "cell_type": "code",
   "execution_count": 42,
   "id": "38561cfb",
   "metadata": {},
   "outputs": [
    {
     "name": "stdout",
     "output_type": "stream",
     "text": [
      "E E E E E \n",
      "D D D D D \n",
      "C C C C C \n",
      "B B B B B \n",
      "A A A A A \n"
     ]
    }
   ],
   "source": [
    "pattern8for()"
   ]
  },
  {
   "cell_type": "code",
   "execution_count": 43,
   "id": "e8300418",
   "metadata": {},
   "outputs": [
    {
     "name": "stdout",
     "output_type": "stream",
     "text": [
      "Z Z Z Z Z Z Z \n",
      "Y Y Y Y Y Y Y \n",
      "X X X X X X X \n",
      "W W W W W W W \n",
      "V V V V V V V \n",
      "U U U U U U U \n",
      "T T T T T T T \n"
     ]
    }
   ],
   "source": [
    "pattern8for(start = 'Z', end = 'T')"
   ]
  },
  {
   "cell_type": "code",
   "execution_count": 44,
   "id": "39a4dd01",
   "metadata": {},
   "outputs": [
    {
     "name": "stdout",
     "output_type": "stream",
     "text": [
      "E E E E E \n",
      "D D D D D \n",
      "C C C C C \n",
      "B B B B B \n",
      "A A A A A \n"
     ]
    }
   ],
   "source": [
    "# pattern 8 using while loop\n",
    "def pattern8while(start = 'E', end = 'A'):\n",
    "    i = ord(start)\n",
    "    while i >= ord(end):\n",
    "        print((chr(i)+' ') * ((ord(start)-ord(end))+1))\n",
    "        i -= 1\n",
    "        \n",
    "pattern8while()"
   ]
  },
  {
   "cell_type": "code",
   "execution_count": 45,
   "id": "85fa208d",
   "metadata": {},
   "outputs": [
    {
     "name": "stdout",
     "output_type": "stream",
     "text": [
      "X X X X X X X X X \n",
      "W W W W W W W W W \n",
      "V V V V V V V V V \n",
      "U U U U U U U U U \n",
      "T T T T T T T T T \n",
      "S S S S S S S S S \n",
      "R R R R R R R R R \n",
      "Q Q Q Q Q Q Q Q Q \n",
      "P P P P P P P P P \n"
     ]
    }
   ],
   "source": [
    "pattern8while(start = 'X', end = 'P')"
   ]
  },
  {
   "cell_type": "markdown",
   "id": "06178fd2",
   "metadata": {},
   "source": [
    "## pattern 9"
   ]
  },
  {
   "cell_type": "code",
   "execution_count": 46,
   "id": "1a3f7820",
   "metadata": {},
   "outputs": [
    {
     "name": "stdout",
     "output_type": "stream",
     "text": [
      "E D C B A \n",
      "E D C B A \n",
      "E D C B A \n",
      "E D C B A \n",
      "E D C B A \n"
     ]
    }
   ],
   "source": [
    "# EDCBA\n",
    "# EDCBA\n",
    "# EDCBA\n",
    "# EDCBA\n",
    "# EDCBA\n",
    "\n",
    "for i in range(ord('E'), ord('A')-1, -1):\n",
    "    for j in range(ord('E'), ord('A')-1, -1):\n",
    "        print(chr(j), end = ' ')\n",
    "    print()"
   ]
  },
  {
   "cell_type": "code",
   "execution_count": 47,
   "id": "818f2ca4",
   "metadata": {},
   "outputs": [],
   "source": [
    "# pattern 9 using for loop\n",
    "\n",
    "def pattern9for(start = 'E', end = 'A'):\n",
    "    for i in range(ord(start), ord(end)-1, -1):\n",
    "        for j in range(ord(start), ord(end)-1, -1):\n",
    "            print(chr(j), end = ' ')\n",
    "        print()"
   ]
  },
  {
   "cell_type": "code",
   "execution_count": 48,
   "id": "1bda206c",
   "metadata": {},
   "outputs": [
    {
     "name": "stdout",
     "output_type": "stream",
     "text": [
      "E D C B A \n",
      "E D C B A \n",
      "E D C B A \n",
      "E D C B A \n",
      "E D C B A \n"
     ]
    }
   ],
   "source": [
    "pattern9for()"
   ]
  },
  {
   "cell_type": "code",
   "execution_count": 49,
   "id": "a27f47db",
   "metadata": {},
   "outputs": [
    {
     "name": "stdout",
     "output_type": "stream",
     "text": [
      "P O N M L K \n",
      "P O N M L K \n",
      "P O N M L K \n",
      "P O N M L K \n",
      "P O N M L K \n",
      "P O N M L K \n"
     ]
    }
   ],
   "source": [
    "pattern9for(start='P', end='K')"
   ]
  },
  {
   "cell_type": "code",
   "execution_count": 50,
   "id": "51b06454",
   "metadata": {},
   "outputs": [],
   "source": [
    "# pattern 9 using while loop\n",
    "\n",
    "def pattern9while(start = 'E', end = 'A'):\n",
    "    i = ord(start)\n",
    "    while i >= ord(end):\n",
    "        j = ord(start)\n",
    "        while j >= ord(end):\n",
    "            print(chr(j), end=' ')\n",
    "            j -= 1\n",
    "        i -= 1\n",
    "        print()"
   ]
  },
  {
   "cell_type": "code",
   "execution_count": 51,
   "id": "745fd71f",
   "metadata": {},
   "outputs": [
    {
     "name": "stdout",
     "output_type": "stream",
     "text": [
      "E D C B A \n",
      "E D C B A \n",
      "E D C B A \n",
      "E D C B A \n",
      "E D C B A \n"
     ]
    }
   ],
   "source": [
    "pattern9while()"
   ]
  },
  {
   "cell_type": "code",
   "execution_count": 52,
   "id": "f8ede829",
   "metadata": {},
   "outputs": [
    {
     "name": "stdout",
     "output_type": "stream",
     "text": [
      "X W V U T S R Q P \n",
      "X W V U T S R Q P \n",
      "X W V U T S R Q P \n",
      "X W V U T S R Q P \n",
      "X W V U T S R Q P \n",
      "X W V U T S R Q P \n",
      "X W V U T S R Q P \n",
      "X W V U T S R Q P \n",
      "X W V U T S R Q P \n"
     ]
    }
   ],
   "source": [
    "pattern9while('X', 'P')"
   ]
  },
  {
   "cell_type": "markdown",
   "id": "d23fad50",
   "metadata": {},
   "source": [
    " ## pattern 10"
   ]
  },
  {
   "cell_type": "code",
   "execution_count": 53,
   "id": "8c88a317",
   "metadata": {},
   "outputs": [],
   "source": [
    "# *\n",
    "# * *\n",
    "# * * *\n",
    "# * * * *\n",
    "# * * * * *"
   ]
  },
  {
   "cell_type": "code",
   "execution_count": 54,
   "id": "ca164439",
   "metadata": {},
   "outputs": [],
   "source": [
    "# pattern 10 using for loop\n",
    "def pattern10for(char = '*', n = 5):\n",
    "    for i in range(1, n+1):\n",
    "        for j in range(i):\n",
    "            print(char, end=' ')\n",
    "        print()"
   ]
  },
  {
   "cell_type": "code",
   "execution_count": 55,
   "id": "6d8527ef",
   "metadata": {},
   "outputs": [
    {
     "name": "stdout",
     "output_type": "stream",
     "text": [
      "* \n",
      "* * \n",
      "* * * \n",
      "* * * * \n",
      "* * * * * \n"
     ]
    }
   ],
   "source": [
    "pattern10for()"
   ]
  },
  {
   "cell_type": "code",
   "execution_count": 56,
   "id": "258cc8e6",
   "metadata": {},
   "outputs": [
    {
     "name": "stdout",
     "output_type": "stream",
     "text": [
      "+ \n",
      "+ + \n",
      "+ + + \n",
      "+ + + + \n",
      "+ + + + + \n",
      "+ + + + + + \n",
      "+ + + + + + + \n",
      "+ + + + + + + + \n",
      "+ + + + + + + + + \n",
      "+ + + + + + + + + + \n"
     ]
    }
   ],
   "source": [
    "pattern10for(char = '+', n = 10)"
   ]
  },
  {
   "cell_type": "code",
   "execution_count": 57,
   "id": "b4c3a068",
   "metadata": {},
   "outputs": [],
   "source": [
    "# pattern 10 using while loop\n",
    "def pattern10while(char = '*', n = 5):\n",
    "    i = 1\n",
    "    while i <= n:\n",
    "        print((char+' ')*i)\n",
    "        i += 1"
   ]
  },
  {
   "cell_type": "code",
   "execution_count": 58,
   "id": "2f7a0b81",
   "metadata": {},
   "outputs": [
    {
     "name": "stdout",
     "output_type": "stream",
     "text": [
      "* \n",
      "* * \n",
      "* * * \n",
      "* * * * \n",
      "* * * * * \n"
     ]
    }
   ],
   "source": [
    "pattern10while()"
   ]
  },
  {
   "cell_type": "code",
   "execution_count": 59,
   "id": "b807dfdd",
   "metadata": {},
   "outputs": [
    {
     "name": "stdout",
     "output_type": "stream",
     "text": [
      "+ \n",
      "+ + \n",
      "+ + + \n",
      "+ + + + \n",
      "+ + + + + \n",
      "+ + + + + + \n",
      "+ + + + + + + \n",
      "+ + + + + + + + \n"
     ]
    }
   ],
   "source": [
    "pattern10while(char = '+', n = 8)"
   ]
  },
  {
   "cell_type": "markdown",
   "id": "e843cea1",
   "metadata": {},
   "source": [
    "## pattern 11"
   ]
  },
  {
   "cell_type": "code",
   "execution_count": 60,
   "id": "9f5057d3",
   "metadata": {},
   "outputs": [],
   "source": [
    "# 1\n",
    "# 22\n",
    "# 333\n",
    "# 4444\n",
    "# 55555"
   ]
  },
  {
   "cell_type": "code",
   "execution_count": 61,
   "id": "28f41e78",
   "metadata": {},
   "outputs": [],
   "source": [
    "# pattern 11 using for loop\n",
    "def pattern11for(n = 5):\n",
    "    for i in range(1, n+1):\n",
    "        print((str(i)+' ')*i)"
   ]
  },
  {
   "cell_type": "code",
   "execution_count": 62,
   "id": "9c4d5c81",
   "metadata": {},
   "outputs": [
    {
     "name": "stdout",
     "output_type": "stream",
     "text": [
      "1 \n",
      "2 2 \n",
      "3 3 3 \n",
      "4 4 4 4 \n",
      "5 5 5 5 5 \n"
     ]
    }
   ],
   "source": [
    "pattern11for()"
   ]
  },
  {
   "cell_type": "code",
   "execution_count": 63,
   "id": "b1a11546",
   "metadata": {},
   "outputs": [
    {
     "name": "stdout",
     "output_type": "stream",
     "text": [
      "1 \n",
      "2 2 \n",
      "3 3 3 \n",
      "4 4 4 4 \n",
      "5 5 5 5 5 \n",
      "6 6 6 6 6 6 \n",
      "7 7 7 7 7 7 7 \n",
      "8 8 8 8 8 8 8 8 \n"
     ]
    }
   ],
   "source": [
    "pattern11for(n = 8)"
   ]
  },
  {
   "cell_type": "code",
   "execution_count": 64,
   "id": "cbc5cdae",
   "metadata": {},
   "outputs": [],
   "source": [
    "# pattern 11 using while loop\n",
    "def pattern11while(n = 5):\n",
    "    i = 1\n",
    "    while i<=n:\n",
    "        print((str(i)+' ')*i)\n",
    "        i += 1"
   ]
  },
  {
   "cell_type": "code",
   "execution_count": 65,
   "id": "b4de97a7",
   "metadata": {},
   "outputs": [
    {
     "name": "stdout",
     "output_type": "stream",
     "text": [
      "1 \n",
      "2 2 \n",
      "3 3 3 \n",
      "4 4 4 4 \n",
      "5 5 5 5 5 \n"
     ]
    }
   ],
   "source": [
    "pattern11while()"
   ]
  },
  {
   "cell_type": "code",
   "execution_count": 66,
   "id": "d080b5a1",
   "metadata": {},
   "outputs": [
    {
     "name": "stdout",
     "output_type": "stream",
     "text": [
      "1 \n",
      "2 2 \n",
      "3 3 3 \n"
     ]
    }
   ],
   "source": [
    "pattern11while(n = 3)"
   ]
  },
  {
   "cell_type": "markdown",
   "id": "fa999d58",
   "metadata": {},
   "source": [
    "## pattern 12"
   ]
  },
  {
   "cell_type": "code",
   "execution_count": 67,
   "id": "c1c560aa",
   "metadata": {},
   "outputs": [],
   "source": [
    "# 1\n",
    "# 1 2\n",
    "# 1 2 3\n",
    "# 1 2 3 4\n",
    "# 1 2 3 4 5"
   ]
  },
  {
   "cell_type": "code",
   "execution_count": 68,
   "id": "544b8d9b",
   "metadata": {},
   "outputs": [],
   "source": [
    "# pattern 12 using for loop\n",
    "\n",
    "def pattern12for(n = 5):\n",
    "    for i in range(1, n+1):\n",
    "        for j in range(1, i+1):\n",
    "            print(str(j), end= ' ')\n",
    "        print()"
   ]
  },
  {
   "cell_type": "code",
   "execution_count": 69,
   "id": "3255fab2",
   "metadata": {},
   "outputs": [
    {
     "name": "stdout",
     "output_type": "stream",
     "text": [
      "1 \n",
      "1 2 \n",
      "1 2 3 \n",
      "1 2 3 4 \n",
      "1 2 3 4 5 \n"
     ]
    }
   ],
   "source": [
    "pattern12for()"
   ]
  },
  {
   "cell_type": "code",
   "execution_count": 70,
   "id": "8f7623fd",
   "metadata": {},
   "outputs": [
    {
     "name": "stdout",
     "output_type": "stream",
     "text": [
      "1 \n",
      "1 2 \n",
      "1 2 3 \n",
      "1 2 3 4 \n",
      "1 2 3 4 5 \n",
      "1 2 3 4 5 6 \n",
      "1 2 3 4 5 6 7 \n",
      "1 2 3 4 5 6 7 8 \n"
     ]
    }
   ],
   "source": [
    "pattern12for(n = 8)"
   ]
  },
  {
   "cell_type": "code",
   "execution_count": 71,
   "id": "4346c3f7",
   "metadata": {},
   "outputs": [],
   "source": [
    "# pattern 12 using while loop\n",
    "\n",
    "def pattern12while(n = 5):\n",
    "    i = 1\n",
    "    while i <= n:\n",
    "        j = 1\n",
    "        while j <= i:\n",
    "            print(str(j), end= ' ')\n",
    "            j += 1\n",
    "        i += 1\n",
    "        print()"
   ]
  },
  {
   "cell_type": "code",
   "execution_count": 72,
   "id": "631c1a0e",
   "metadata": {},
   "outputs": [
    {
     "name": "stdout",
     "output_type": "stream",
     "text": [
      "1 \n",
      "1 2 \n",
      "1 2 3 \n",
      "1 2 3 4 \n",
      "1 2 3 4 5 \n"
     ]
    }
   ],
   "source": [
    "pattern12while()"
   ]
  },
  {
   "cell_type": "code",
   "execution_count": 73,
   "id": "4e07a092",
   "metadata": {},
   "outputs": [
    {
     "name": "stdout",
     "output_type": "stream",
     "text": [
      "1 \n",
      "1 2 \n",
      "1 2 3 \n",
      "1 2 3 4 \n",
      "1 2 3 4 5 \n",
      "1 2 3 4 5 6 \n",
      "1 2 3 4 5 6 7 \n"
     ]
    }
   ],
   "source": [
    "pattern12while(n = 7)"
   ]
  },
  {
   "cell_type": "markdown",
   "id": "5f829b0a",
   "metadata": {},
   "source": [
    "## pattern 13"
   ]
  },
  {
   "cell_type": "code",
   "execution_count": 74,
   "id": "f9dff145",
   "metadata": {},
   "outputs": [],
   "source": [
    "# A\n",
    "# BB\n",
    "# CCC\n",
    "# DDDD\n",
    "# EEEEE"
   ]
  },
  {
   "cell_type": "code",
   "execution_count": 75,
   "id": "abeeb1b7",
   "metadata": {},
   "outputs": [],
   "source": [
    "# pattern 13 using for loop\n",
    "\n",
    "def pattern13for(start = 'A', end = 'E'):\n",
    "    n = 1\n",
    "    for i in range(ord(start), ord(end)+1):\n",
    "        print((chr(i)+' ')*n)\n",
    "        n += 1"
   ]
  },
  {
   "cell_type": "code",
   "execution_count": 76,
   "id": "630192ea",
   "metadata": {},
   "outputs": [
    {
     "name": "stdout",
     "output_type": "stream",
     "text": [
      "A \n",
      "B B \n",
      "C C C \n",
      "D D D D \n",
      "E E E E E \n"
     ]
    }
   ],
   "source": [
    "pattern13for()"
   ]
  },
  {
   "cell_type": "code",
   "execution_count": 77,
   "id": "db37fcc5",
   "metadata": {},
   "outputs": [
    {
     "name": "stdout",
     "output_type": "stream",
     "text": [
      "K \n",
      "L L \n",
      "M M M \n",
      "N N N N \n",
      "O O O O O \n",
      "P P P P P P \n"
     ]
    }
   ],
   "source": [
    "pattern13for(start = 'K', end = 'P')"
   ]
  },
  {
   "cell_type": "code",
   "execution_count": 78,
   "id": "4f6001d8",
   "metadata": {},
   "outputs": [],
   "source": [
    "# pattern 13 using while loop\n",
    "\n",
    "def pattern13while(start = 'A', end = 'E'):\n",
    "    i = ord(start)\n",
    "    n = 1\n",
    "    while i <= ord(end):\n",
    "        print((chr(i)+' ')*n)\n",
    "        i += 1\n",
    "        n += 1"
   ]
  },
  {
   "cell_type": "code",
   "execution_count": 79,
   "id": "675e1364",
   "metadata": {},
   "outputs": [
    {
     "name": "stdout",
     "output_type": "stream",
     "text": [
      "A \n",
      "B B \n",
      "C C C \n",
      "D D D D \n",
      "E E E E E \n"
     ]
    }
   ],
   "source": [
    "pattern13while()"
   ]
  },
  {
   "cell_type": "code",
   "execution_count": 80,
   "id": "bbf1e5a2",
   "metadata": {},
   "outputs": [
    {
     "name": "stdout",
     "output_type": "stream",
     "text": [
      "I \n",
      "J J \n",
      "K K K \n",
      "L L L L \n",
      "M M M M M \n",
      "N N N N N N \n",
      "O O O O O O O \n"
     ]
    }
   ],
   "source": [
    "pattern13while(start = 'I', end = 'O')"
   ]
  },
  {
   "cell_type": "markdown",
   "id": "bf546627",
   "metadata": {},
   "source": [
    "## pattern 14"
   ]
  },
  {
   "cell_type": "code",
   "execution_count": 81,
   "id": "f8c61ce2",
   "metadata": {},
   "outputs": [],
   "source": [
    "# A\n",
    "# A B\n",
    "# A B C\n",
    "# A B C D\n",
    "# A B C D E"
   ]
  },
  {
   "cell_type": "code",
   "execution_count": 82,
   "id": "c88234a5",
   "metadata": {},
   "outputs": [],
   "source": [
    "# pattern 14 using for loop\n",
    "\n",
    "def pattern14for(start = 'A', end = 'E'):\n",
    "    for i in range(ord(start), ord(end)+1):\n",
    "        for j in range(ord(start), i + 1):\n",
    "            print(chr(j), end = ' ')\n",
    "        print()"
   ]
  },
  {
   "cell_type": "code",
   "execution_count": 83,
   "id": "f12b631c",
   "metadata": {},
   "outputs": [
    {
     "name": "stdout",
     "output_type": "stream",
     "text": [
      "A \n",
      "A B \n",
      "A B C \n",
      "A B C D \n",
      "A B C D E \n"
     ]
    }
   ],
   "source": [
    "pattern14for()"
   ]
  },
  {
   "cell_type": "code",
   "execution_count": 84,
   "id": "edafd153",
   "metadata": {},
   "outputs": [],
   "source": [
    "# pattern 14 using while loop\n",
    "\n",
    "def pattern14while(start = 'A', end = 'E'):\n",
    "    i = ord(start)\n",
    "    while i <= ord(end):\n",
    "        j = ord(start)\n",
    "        while j <= (i):\n",
    "            print(chr(j), end=' ')\n",
    "            j += 1\n",
    "        i += 1\n",
    "        print()"
   ]
  },
  {
   "cell_type": "code",
   "execution_count": 85,
   "id": "bae8541e",
   "metadata": {},
   "outputs": [
    {
     "name": "stdout",
     "output_type": "stream",
     "text": [
      "A \n",
      "A B \n",
      "A B C \n",
      "A B C D \n",
      "A B C D E \n"
     ]
    }
   ],
   "source": [
    "pattern14while()"
   ]
  },
  {
   "cell_type": "markdown",
   "id": "1dd2e47d",
   "metadata": {},
   "source": [
    "## pattern 15"
   ]
  },
  {
   "cell_type": "code",
   "execution_count": 86,
   "id": "525aabe2",
   "metadata": {},
   "outputs": [],
   "source": [
    "# * * * * *\n",
    "# * * * *\n",
    "# * * *\n",
    "# * *\n",
    "# *"
   ]
  },
  {
   "cell_type": "code",
   "execution_count": 87,
   "id": "e5e7b9ed",
   "metadata": {},
   "outputs": [],
   "source": [
    "# pattern 15 using for loop\n",
    "\n",
    "def pattern15for(char = '*', n = 5):\n",
    "    for i in range(n, 0, -1):\n",
    "        print((char+' ')*i)\n",
    "    "
   ]
  },
  {
   "cell_type": "code",
   "execution_count": 88,
   "id": "aa43488b",
   "metadata": {},
   "outputs": [
    {
     "name": "stdout",
     "output_type": "stream",
     "text": [
      "* * * * * \n",
      "* * * * \n",
      "* * * \n",
      "* * \n",
      "* \n"
     ]
    }
   ],
   "source": [
    "pattern15for()"
   ]
  },
  {
   "cell_type": "code",
   "execution_count": 89,
   "id": "5c166800",
   "metadata": {},
   "outputs": [
    {
     "name": "stdout",
     "output_type": "stream",
     "text": [
      "+ + + + + + + + \n",
      "+ + + + + + + \n",
      "+ + + + + + \n",
      "+ + + + + \n",
      "+ + + + \n",
      "+ + + \n",
      "+ + \n",
      "+ \n"
     ]
    }
   ],
   "source": [
    "pattern15for(char = '+', n = 8)"
   ]
  },
  {
   "cell_type": "code",
   "execution_count": 90,
   "id": "d7080ba5",
   "metadata": {},
   "outputs": [],
   "source": [
    "# pattern 15 using while loop\n",
    "\n",
    "def pattern15while(char = '*', n = 5):\n",
    "    i = n\n",
    "    while i >= 1:\n",
    "        print(((char+' ')*i))\n",
    "        i -= 1"
   ]
  },
  {
   "cell_type": "code",
   "execution_count": 91,
   "id": "217e519b",
   "metadata": {},
   "outputs": [
    {
     "name": "stdout",
     "output_type": "stream",
     "text": [
      "* * * * * \n",
      "* * * * \n",
      "* * * \n",
      "* * \n",
      "* \n"
     ]
    }
   ],
   "source": [
    "pattern15while()"
   ]
  },
  {
   "cell_type": "code",
   "execution_count": 92,
   "id": "36a2f807",
   "metadata": {},
   "outputs": [
    {
     "name": "stdout",
     "output_type": "stream",
     "text": [
      "# # # # # # \n",
      "# # # # # \n",
      "# # # # \n",
      "# # # \n",
      "# # \n",
      "# \n"
     ]
    }
   ],
   "source": [
    "pattern15while(char = '#', n = 6)"
   ]
  },
  {
   "cell_type": "markdown",
   "id": "1d2bce2b",
   "metadata": {},
   "source": [
    "## pattern 16"
   ]
  },
  {
   "cell_type": "code",
   "execution_count": 93,
   "id": "2b69e8b1",
   "metadata": {},
   "outputs": [],
   "source": [
    "# 1 1 1 1 1\n",
    "# 2 2 2 2\n",
    "# 3 3 3 \n",
    "# 4 4\n",
    "# 5"
   ]
  },
  {
   "cell_type": "code",
   "execution_count": 94,
   "id": "f1c5bdbc",
   "metadata": {},
   "outputs": [],
   "source": [
    "# pattern 16 using for loop\n",
    "\n",
    "def pattern16for(n = 5):\n",
    "    j = n\n",
    "    for i in range(1, n+1):\n",
    "        print((str(i)+' ')*j)\n",
    "        j -= 1"
   ]
  },
  {
   "cell_type": "code",
   "execution_count": 95,
   "id": "4819cf27",
   "metadata": {},
   "outputs": [
    {
     "name": "stdout",
     "output_type": "stream",
     "text": [
      "1 1 1 1 1 \n",
      "2 2 2 2 \n",
      "3 3 3 \n",
      "4 4 \n",
      "5 \n"
     ]
    }
   ],
   "source": [
    "pattern16for()"
   ]
  },
  {
   "cell_type": "code",
   "execution_count": 96,
   "id": "055de431",
   "metadata": {},
   "outputs": [
    {
     "name": "stdout",
     "output_type": "stream",
     "text": [
      "1 1 1 1 1 1 1 1 \n",
      "2 2 2 2 2 2 2 \n",
      "3 3 3 3 3 3 \n",
      "4 4 4 4 4 \n",
      "5 5 5 5 \n",
      "6 6 6 \n",
      "7 7 \n",
      "8 \n"
     ]
    }
   ],
   "source": [
    "pattern16for(n = 8)"
   ]
  },
  {
   "cell_type": "code",
   "execution_count": 1,
   "id": "a343a193",
   "metadata": {},
   "outputs": [
    {
     "ename": "NameError",
     "evalue": "name 'n' is not defined",
     "output_type": "error",
     "traceback": [
      "\u001b[1;31m---------------------------------------------------------------------------\u001b[0m",
      "\u001b[1;31mNameError\u001b[0m                                 Traceback (most recent call last)",
      "Cell \u001b[1;32mIn[1], line 3\u001b[0m\n\u001b[0;32m      1\u001b[0m \u001b[38;5;66;03m# pattern 16 using while\u001b[39;00m\n\u001b[1;32m----> 3\u001b[0m m \u001b[38;5;241m=\u001b[39m \u001b[43mn\u001b[49m\n\u001b[0;32m      4\u001b[0m \u001b[38;5;28;01mwhile\u001b[39;00m i \u001b[38;5;129;01min\u001b[39;00m \u001b[38;5;28mrange\u001b[39m(\u001b[38;5;241m1\u001b[39m, n\u001b[38;5;241m+\u001b[39m\u001b[38;5;241m1\u001b[39m):\n\u001b[0;32m      5\u001b[0m     \u001b[38;5;28mprint\u001b[39m((\u001b[38;5;28mstr\u001b[39m(i)\u001b[38;5;241m+\u001b[39m\u001b[38;5;124m'\u001b[39m\u001b[38;5;124m \u001b[39m\u001b[38;5;124m'\u001b[39m)\u001b[38;5;241m*\u001b[39mm)\n",
      "\u001b[1;31mNameError\u001b[0m: name 'n' is not defined"
     ]
    }
   ],
   "source": [
    "# pattern 16 using while\n",
    "\n",
    "m = n\n",
    "while i in range(1, n+1):\n",
    "    print((str(i)+' ')*m)\n",
    "    i+=1\n",
    "    m-=1"
   ]
  },
  {
   "cell_type": "code",
   "execution_count": 88,
   "id": "d249bc87",
   "metadata": {},
   "outputs": [],
   "source": [
    "# pattern 16 using while loop\n",
    "def pattern16while(n = 5):\n",
    "    i = 1\n",
    "    m = n\n",
    "    while i <= n:\n",
    "        print((str(i)+' ')*m)\n",
    "        i += 1\n",
    "        m -= 1"
   ]
  },
  {
   "cell_type": "code",
   "execution_count": 89,
   "id": "a98ec221",
   "metadata": {},
   "outputs": [
    {
     "name": "stdout",
     "output_type": "stream",
     "text": [
      "1 1 1 1 1 \n",
      "2 2 2 2 \n",
      "3 3 3 \n",
      "4 4 \n",
      "5 \n"
     ]
    }
   ],
   "source": [
    "pattern16while()"
   ]
  },
  {
   "cell_type": "code",
   "execution_count": null,
   "id": "12bbe598",
   "metadata": {},
   "outputs": [],
   "source": [
    "pattern16while(n = 9)"
   ]
  },
  {
   "cell_type": "markdown",
   "id": "a7d25ede",
   "metadata": {},
   "source": [
    "## pattern 17"
   ]
  },
  {
   "cell_type": "code",
   "execution_count": null,
   "id": "68f117b1",
   "metadata": {},
   "outputs": [],
   "source": [
    "# 1 2 3 4 5 \n",
    "# 1 2 3 4\n",
    "# 1 2 3\n",
    "# 1 2\n",
    "# 1"
   ]
  },
  {
   "cell_type": "code",
   "execution_count": null,
   "id": "f9c41531",
   "metadata": {},
   "outputs": [],
   "source": [
    "# pattern 17 using for loop\n",
    "\n",
    "def pattern17for(n = 5):\n",
    "    for i in range(n, 0, -1):\n",
    "        for j in range(1, i+1):\n",
    "            print(j, end=' ')\n",
    "        print()"
   ]
  },
  {
   "cell_type": "code",
   "execution_count": null,
   "id": "d273576c",
   "metadata": {},
   "outputs": [],
   "source": [
    "pattern17for()"
   ]
  },
  {
   "cell_type": "code",
   "execution_count": null,
   "id": "4e2f8c63",
   "metadata": {},
   "outputs": [],
   "source": [
    "pattern17for(8)"
   ]
  },
  {
   "cell_type": "code",
   "execution_count": null,
   "id": "7f4567da",
   "metadata": {},
   "outputs": [],
   "source": [
    "# pattern 17 using while loop\n",
    "\n",
    "def pattern17while(n = 5):\n",
    "    i = n\n",
    "    while i >= 1:\n",
    "        j = 1\n",
    "        while j <= i:\n",
    "            print(j,end= ' ' )\n",
    "            j += 1\n",
    "        i -= 1\n",
    "        print()"
   ]
  },
  {
   "cell_type": "code",
   "execution_count": null,
   "id": "5f2e9c6c",
   "metadata": {},
   "outputs": [],
   "source": [
    "pattern17while()"
   ]
  },
  {
   "cell_type": "code",
   "execution_count": null,
   "id": "bef45156",
   "metadata": {},
   "outputs": [],
   "source": [
    "pattern17while(9)"
   ]
  },
  {
   "cell_type": "markdown",
   "id": "faa02437",
   "metadata": {},
   "source": [
    "## pattern 18"
   ]
  },
  {
   "cell_type": "code",
   "execution_count": null,
   "id": "89f8466f",
   "metadata": {},
   "outputs": [],
   "source": [
    "# A A A A A\n",
    "# B B B B \n",
    "# C C C \n",
    "# D D \n",
    "# E"
   ]
  },
  {
   "cell_type": "code",
   "execution_count": null,
   "id": "bca5833c",
   "metadata": {},
   "outputs": [],
   "source": [
    "# pattern 18 using for loop\n",
    "\n",
    "def pattern18for(start = 'A', end = 'E'):\n",
    "    j = (ord(end)-ord(start))+1\n",
    "    for i in range(ord(start), ord(end)+1):\n",
    "        print((chr(i)+ ' ')*j)\n",
    "        j -= 1\n",
    "    print()"
   ]
  },
  {
   "cell_type": "code",
   "execution_count": null,
   "id": "cf0bf740",
   "metadata": {},
   "outputs": [],
   "source": [
    "pattern18for()"
   ]
  },
  {
   "cell_type": "code",
   "execution_count": null,
   "id": "32ed7523",
   "metadata": {},
   "outputs": [],
   "source": [
    "pattern18for(start='O', end='X')"
   ]
  },
  {
   "cell_type": "code",
   "execution_count": null,
   "id": "38d983fe",
   "metadata": {},
   "outputs": [],
   "source": [
    "# pattern 18 using while loop\n",
    "\n",
    "def pattern18while(start = 'A', end = 'E'):\n",
    "    i = ord(start)\n",
    "    j = (ord(end)-ord(start))+1\n",
    "    while i <= ord(end):\n",
    "        print((chr(i)+ ' ')*j)\n",
    "        i += 1\n",
    "        j -= 1\n",
    "    print()"
   ]
  },
  {
   "cell_type": "code",
   "execution_count": null,
   "id": "9cc45f59",
   "metadata": {},
   "outputs": [],
   "source": [
    "pattern18while()"
   ]
  },
  {
   "cell_type": "code",
   "execution_count": null,
   "id": "01c92294",
   "metadata": {},
   "outputs": [],
   "source": [
    "pattern18while(start = 'G', end = 'M')"
   ]
  },
  {
   "cell_type": "markdown",
   "id": "5e5d745a",
   "metadata": {},
   "source": [
    "## pattern 19"
   ]
  },
  {
   "cell_type": "code",
   "execution_count": null,
   "id": "e4c9709e",
   "metadata": {},
   "outputs": [],
   "source": [
    "# A B C D E\n",
    "# A B C D\n",
    "# A B C\n",
    "# A B\n",
    "# A"
   ]
  },
  {
   "cell_type": "code",
   "execution_count": null,
   "id": "f9dc1fdd",
   "metadata": {},
   "outputs": [],
   "source": [
    "# pattern 19 using for loop\n",
    "\n",
    "def pattern19for(start = 'A', end = 'E'):\n",
    "    for i in range(ord(end), ord(start)-1, -1):\n",
    "        for j in range(ord(start), i+1):\n",
    "            print(chr(j), end=' ')\n",
    "        print()"
   ]
  },
  {
   "cell_type": "code",
   "execution_count": null,
   "id": "6f279ef4",
   "metadata": {},
   "outputs": [],
   "source": [
    "pattern19for()"
   ]
  },
  {
   "cell_type": "code",
   "execution_count": null,
   "id": "124e4f42",
   "metadata": {},
   "outputs": [],
   "source": [
    "pattern19for(start = 'H', end = 'O')"
   ]
  },
  {
   "cell_type": "code",
   "execution_count": null,
   "id": "655ac275",
   "metadata": {},
   "outputs": [],
   "source": [
    "# pattern 19 using while loop\n",
    "\n",
    "def pattern19while(start = 'A', end = 'E'):\n",
    "    i = ord(end)\n",
    "    while i >= ord(start):\n",
    "        j = ord(start)\n",
    "        while j <= i:\n",
    "            print(chr(j), end = ' ')\n",
    "            j += 1\n",
    "        i -= 1\n",
    "        print()"
   ]
  },
  {
   "cell_type": "code",
   "execution_count": null,
   "id": "38317816",
   "metadata": {},
   "outputs": [],
   "source": [
    "pattern19while()"
   ]
  },
  {
   "cell_type": "code",
   "execution_count": null,
   "id": "a439c186",
   "metadata": {},
   "outputs": [],
   "source": [
    "pattern19while(start='M', end='X')"
   ]
  },
  {
   "cell_type": "markdown",
   "id": "8948f5cf",
   "metadata": {},
   "source": [
    "## pattern 20"
   ]
  },
  {
   "cell_type": "code",
   "execution_count": null,
   "id": "b3cb18f2",
   "metadata": {},
   "outputs": [],
   "source": [
    "# 5 5 5 5 5\n",
    "# 4 4 4 4 \n",
    "# 3 3 3 \n",
    "# 2 2 \n",
    "# 1"
   ]
  },
  {
   "cell_type": "code",
   "execution_count": null,
   "id": "f94f6501",
   "metadata": {},
   "outputs": [],
   "source": [
    "# pattern 20 using for loop\n",
    "\n",
    "def pattern20for(n = 5):\n",
    "    for i in range(n, 0, -1):\n",
    "            print((str(i)+' ')*i)"
   ]
  },
  {
   "cell_type": "code",
   "execution_count": null,
   "id": "a2d90485",
   "metadata": {},
   "outputs": [],
   "source": [
    "pattern20for()"
   ]
  },
  {
   "cell_type": "code",
   "execution_count": null,
   "id": "b2c3ebbc",
   "metadata": {},
   "outputs": [],
   "source": [
    "pattern20for(n = 9)"
   ]
  },
  {
   "cell_type": "code",
   "execution_count": null,
   "id": "610d1593",
   "metadata": {},
   "outputs": [],
   "source": [
    "# pattern 20 using while loop\n",
    "\n",
    "def pattern20while(n = 5):\n",
    "    i = n\n",
    "    while i >= 1:\n",
    "        print((str(i)+' ')*i)\n",
    "        i -= 1"
   ]
  },
  {
   "cell_type": "code",
   "execution_count": null,
   "id": "09f311e6",
   "metadata": {},
   "outputs": [],
   "source": [
    "pattern20while()"
   ]
  },
  {
   "cell_type": "code",
   "execution_count": null,
   "id": "391c00d4",
   "metadata": {},
   "outputs": [],
   "source": [
    "pattern20while(n = 7)"
   ]
  },
  {
   "cell_type": "markdown",
   "id": "202ea5aa",
   "metadata": {},
   "source": [
    "## pattern 21"
   ]
  },
  {
   "cell_type": "code",
   "execution_count": null,
   "id": "1117b14c",
   "metadata": {},
   "outputs": [],
   "source": [
    "# 5 4 3 2 1\n",
    "# 5 4 3 2\n",
    "# 5 4 3\n",
    "# 5 4 \n",
    "# 5"
   ]
  },
  {
   "cell_type": "code",
   "execution_count": null,
   "id": "497e3edf",
   "metadata": {},
   "outputs": [],
   "source": [
    "# pattern 21 using for loop\n",
    "\n",
    "def pattern21for(n = 5):\n",
    "    k=0\n",
    "    for i in range(n, 0, -1):\n",
    "        for j in range(n, k, -1):\n",
    "            print(j, end=' ')   \n",
    "        k += 1\n",
    "        print()"
   ]
  },
  {
   "cell_type": "code",
   "execution_count": null,
   "id": "037c1737",
   "metadata": {},
   "outputs": [],
   "source": [
    "pattern21for()"
   ]
  },
  {
   "cell_type": "code",
   "execution_count": null,
   "id": "64c796b6",
   "metadata": {},
   "outputs": [],
   "source": [
    "pattern21for(8)"
   ]
  },
  {
   "cell_type": "code",
   "execution_count": null,
   "id": "0150583e",
   "metadata": {},
   "outputs": [],
   "source": [
    "# pattern 21 using while loop\n",
    "def pattern21while(n=5):\n",
    "    i = n\n",
    "    k = 1\n",
    "    while i >= 1:\n",
    "        j = n\n",
    "        while j >= k:\n",
    "            print(j, end=' ')\n",
    "            j -= 1\n",
    "        k += 1\n",
    "        i -= 1\n",
    "        print()"
   ]
  },
  {
   "cell_type": "code",
   "execution_count": null,
   "id": "039b32ab",
   "metadata": {},
   "outputs": [],
   "source": [
    "pattern21while()"
   ]
  },
  {
   "cell_type": "code",
   "execution_count": null,
   "id": "9546af73",
   "metadata": {},
   "outputs": [],
   "source": [
    "pattern21while(n=8)"
   ]
  },
  {
   "cell_type": "markdown",
   "id": "fc16e2ec",
   "metadata": {},
   "source": [
    "## pattern 22"
   ]
  },
  {
   "cell_type": "code",
   "execution_count": null,
   "id": "df2e1e71",
   "metadata": {},
   "outputs": [],
   "source": [
    "# E E E E E\n",
    "# D D D D\n",
    "# C C C\n",
    "# B B \n",
    "# A"
   ]
  },
  {
   "cell_type": "code",
   "execution_count": 103,
   "id": "8c45fb59",
   "metadata": {},
   "outputs": [],
   "source": [
    "# pattern 22 using for loop\n",
    "def pattern22for(start='E', end= 'A'):\n",
    "    j = (ord(start)-ord(end))+1\n",
    "    for i in range(ord(start), ord(end)-1, -1):\n",
    "        print((chr(i)+' ')*j)\n",
    "        j -= 1"
   ]
  },
  {
   "cell_type": "code",
   "execution_count": 104,
   "id": "6681d87c",
   "metadata": {},
   "outputs": [
    {
     "name": "stdout",
     "output_type": "stream",
     "text": [
      "E E E E E \n",
      "D D D D \n",
      "C C C \n",
      "B B \n",
      "A \n"
     ]
    }
   ],
   "source": [
    "pattern22for()"
   ]
  },
  {
   "cell_type": "code",
   "execution_count": 105,
   "id": "84979af6",
   "metadata": {},
   "outputs": [
    {
     "name": "stdout",
     "output_type": "stream",
     "text": [
      "Z Z Z Z Z Z Z Z Z Z Z Z Z Z Z Z \n",
      "Y Y Y Y Y Y Y Y Y Y Y Y Y Y Y \n",
      "X X X X X X X X X X X X X X \n",
      "W W W W W W W W W W W W W \n",
      "V V V V V V V V V V V V \n",
      "U U U U U U U U U U U \n",
      "T T T T T T T T T T \n",
      "S S S S S S S S S \n",
      "R R R R R R R R \n",
      "Q Q Q Q Q Q Q \n",
      "P P P P P P \n",
      "O O O O O \n",
      "N N N N \n",
      "M M M \n",
      "L L \n",
      "K \n"
     ]
    }
   ],
   "source": [
    "pattern22for(start='Z', end = 'K')"
   ]
  },
  {
   "cell_type": "code",
   "execution_count": 106,
   "id": "078d1723",
   "metadata": {},
   "outputs": [],
   "source": [
    "# pattern 22 using while loop\n",
    "\n",
    "def pattern22while(start='E', end='A'):\n",
    "    i = ord(start)\n",
    "    j = (ord(start)-ord(end))+1\n",
    "    while i >= ord(end):\n",
    "        print((chr(i)+' ')*j)\n",
    "        i -= 1\n",
    "        j -= 1"
   ]
  },
  {
   "cell_type": "code",
   "execution_count": 107,
   "id": "c90e5b54",
   "metadata": {},
   "outputs": [
    {
     "name": "stdout",
     "output_type": "stream",
     "text": [
      "E E E E E \n",
      "D D D D \n",
      "C C C \n",
      "B B \n",
      "A \n"
     ]
    }
   ],
   "source": [
    "pattern22while()"
   ]
  },
  {
   "cell_type": "markdown",
   "id": "8dda1078",
   "metadata": {},
   "source": [
    "## pattern 23"
   ]
  },
  {
   "cell_type": "code",
   "execution_count": 108,
   "id": "aecff753",
   "metadata": {},
   "outputs": [],
   "source": [
    "# E D C B A\n",
    "# E D C B \n",
    "# E D C \n",
    "# E D \n",
    "# E "
   ]
  },
  {
   "cell_type": "code",
   "execution_count": 119,
   "id": "abff9f78",
   "metadata": {},
   "outputs": [],
   "source": [
    "# pattern 23 using for loop\n",
    "\n",
    "def pattern23for(start = 'E', end = 'A'):\n",
    "    k = ord(end)\n",
    "    for i in range(ord(start), ord(end)-1, -1):\n",
    "        for j in range(ord(start), k-1, -1):\n",
    "            print(chr(j), end=' ')\n",
    "        k += 1\n",
    "        print()"
   ]
  },
  {
   "cell_type": "code",
   "execution_count": 120,
   "id": "1fe0f892",
   "metadata": {},
   "outputs": [
    {
     "name": "stdout",
     "output_type": "stream",
     "text": [
      "E D C B A \n",
      "E D C B \n",
      "E D C \n",
      "E D \n",
      "E \n"
     ]
    }
   ],
   "source": [
    "pattern23for()"
   ]
  },
  {
   "cell_type": "code",
   "execution_count": 121,
   "id": "a1c63962",
   "metadata": {},
   "outputs": [
    {
     "name": "stdout",
     "output_type": "stream",
     "text": [
      "X W V U T S R Q P O N M L K \n",
      "X W V U T S R Q P O N M L \n",
      "X W V U T S R Q P O N M \n",
      "X W V U T S R Q P O N \n",
      "X W V U T S R Q P O \n",
      "X W V U T S R Q P \n",
      "X W V U T S R Q \n",
      "X W V U T S R \n",
      "X W V U T S \n",
      "X W V U T \n",
      "X W V U \n",
      "X W V \n",
      "X W \n",
      "X \n"
     ]
    }
   ],
   "source": [
    "pattern23for(start='X', end='K')"
   ]
  },
  {
   "cell_type": "code",
   "execution_count": 139,
   "id": "36eb4ec9",
   "metadata": {},
   "outputs": [],
   "source": [
    "# pattern 23 using while loop\n",
    "\n",
    "def pattern23while(start='E', end='A'):\n",
    "    i = ord(start)\n",
    "    k = ord(end)\n",
    "    while i>=ord(end):\n",
    "        j = ord(start)\n",
    "        while j>=k:\n",
    "            print(chr(j), end=' ')\n",
    "            j -= 1\n",
    "        i -= 1\n",
    "        k += 1\n",
    "        print()"
   ]
  },
  {
   "cell_type": "code",
   "execution_count": 140,
   "id": "404d02ed",
   "metadata": {},
   "outputs": [
    {
     "name": "stdout",
     "output_type": "stream",
     "text": [
      "E D C B A \n",
      "E D C B \n",
      "E D C \n",
      "E D \n",
      "E \n"
     ]
    }
   ],
   "source": [
    "pattern23while()"
   ]
  },
  {
   "cell_type": "code",
   "execution_count": 141,
   "id": "7a4a210f",
   "metadata": {},
   "outputs": [
    {
     "name": "stdout",
     "output_type": "stream",
     "text": [
      "H G F E D C B A \n",
      "H G F E D C B \n",
      "H G F E D C \n",
      "H G F E D \n",
      "H G F E \n",
      "H G F \n",
      "H G \n",
      "H \n"
     ]
    }
   ],
   "source": [
    "pattern23while(start='H', end='A')"
   ]
  },
  {
   "cell_type": "markdown",
   "id": "58d53e9d",
   "metadata": {},
   "source": [
    "## pattern 24"
   ]
  },
  {
   "cell_type": "code",
   "execution_count": 1,
   "id": "bec2576e",
   "metadata": {},
   "outputs": [],
   "source": [
    "#     *\n",
    "#    **\n",
    "#   ***\n",
    "#  ****\n",
    "# *****"
   ]
  },
  {
   "cell_type": "code",
   "execution_count": 52,
   "id": "dfeca9d2",
   "metadata": {},
   "outputs": [],
   "source": [
    "# pattern 24 using for loop\n",
    "def pattern24for(n = 5, char='*'):\n",
    "    for i in range(1, n+1):\n",
    "            print(' ' * (n-i)+ char*i)"
   ]
  },
  {
   "cell_type": "code",
   "execution_count": 53,
   "id": "89f3f9ff",
   "metadata": {},
   "outputs": [
    {
     "name": "stdout",
     "output_type": "stream",
     "text": [
      "    *\n",
      "   **\n",
      "  ***\n",
      " ****\n",
      "*****\n"
     ]
    }
   ],
   "source": [
    "pattern24for()"
   ]
  },
  {
   "cell_type": "code",
   "execution_count": 54,
   "id": "38066a65",
   "metadata": {},
   "outputs": [
    {
     "name": "stdout",
     "output_type": "stream",
     "text": [
      "         +\n",
      "        ++\n",
      "       +++\n",
      "      ++++\n",
      "     +++++\n",
      "    ++++++\n",
      "   +++++++\n",
      "  ++++++++\n",
      " +++++++++\n",
      "++++++++++\n"
     ]
    }
   ],
   "source": [
    "pattern24for(n=10, char='+')"
   ]
  },
  {
   "cell_type": "code",
   "execution_count": 21,
   "id": "28865c79",
   "metadata": {},
   "outputs": [],
   "source": [
    "# pattern 24 using while loop\n",
    "def pattern24while(n=5, char='*'):\n",
    "    i = 1\n",
    "    while i <= n:\n",
    "        print(' ' * (n-i) + char*i)\n",
    "        i += 1"
   ]
  },
  {
   "cell_type": "code",
   "execution_count": 22,
   "id": "6982610d",
   "metadata": {},
   "outputs": [
    {
     "name": "stdout",
     "output_type": "stream",
     "text": [
      "    *\n",
      "   **\n",
      "  ***\n",
      " ****\n",
      "*****\n"
     ]
    }
   ],
   "source": [
    "pattern24while()"
   ]
  },
  {
   "cell_type": "code",
   "execution_count": 30,
   "id": "a13f8f1a",
   "metadata": {},
   "outputs": [
    {
     "name": "stdout",
     "output_type": "stream",
     "text": [
      "         #\n",
      "        ##\n",
      "       ###\n",
      "      ####\n",
      "     #####\n",
      "    ######\n",
      "   #######\n",
      "  ########\n",
      " #########\n",
      "##########\n"
     ]
    }
   ],
   "source": [
    "pattern24while(n = 10, char='#')"
   ]
  },
  {
   "cell_type": "markdown",
   "id": "4d2d00c4",
   "metadata": {},
   "source": [
    "## pattern 25"
   ]
  },
  {
   "cell_type": "code",
   "execution_count": null,
   "id": "8cc131fa",
   "metadata": {},
   "outputs": [],
   "source": [
    "#     1\n",
    "#    22\n",
    "#   333\n",
    "#  4444\n",
    "# 55555"
   ]
  },
  {
   "cell_type": "code",
   "execution_count": 29,
   "id": "770f4bc5",
   "metadata": {},
   "outputs": [],
   "source": [
    "# pattern 25 using for loop\n",
    "\n",
    "def pattern25for(n = 5):\n",
    "    for i in range(1, n+1):\n",
    "        print(' ' * (n-i), str(i)*i)"
   ]
  },
  {
   "cell_type": "code",
   "execution_count": 30,
   "id": "8532ec02",
   "metadata": {},
   "outputs": [
    {
     "name": "stdout",
     "output_type": "stream",
     "text": [
      "     1\n",
      "    22\n",
      "   333\n",
      "  4444\n",
      " 55555\n"
     ]
    }
   ],
   "source": [
    "pattern25for()"
   ]
  },
  {
   "cell_type": "code",
   "execution_count": 32,
   "id": "50f3e227",
   "metadata": {},
   "outputs": [
    {
     "name": "stdout",
     "output_type": "stream",
     "text": [
      "         1\n",
      "        22\n",
      "       333\n",
      "      4444\n",
      "     55555\n",
      "    666666\n",
      "   7777777\n",
      "  88888888\n",
      " 999999999\n"
     ]
    }
   ],
   "source": [
    "pattern25for(n=9)"
   ]
  },
  {
   "cell_type": "code",
   "execution_count": 37,
   "id": "ae0a9be4",
   "metadata": {},
   "outputs": [],
   "source": [
    "# pattern 25 using while loop\n",
    "\n",
    "def pattern25while(n=5):\n",
    "    i = 1\n",
    "    while i <= n:\n",
    "        print(' ' * (n-i), str(i)*i)\n",
    "        i += 1"
   ]
  },
  {
   "cell_type": "code",
   "execution_count": 38,
   "id": "1d0a5c1e",
   "metadata": {},
   "outputs": [
    {
     "name": "stdout",
     "output_type": "stream",
     "text": [
      "     1\n",
      "    22\n",
      "   333\n",
      "  4444\n",
      " 55555\n"
     ]
    }
   ],
   "source": [
    "pattern25while()"
   ]
  },
  {
   "cell_type": "code",
   "execution_count": 39,
   "id": "5a14654c",
   "metadata": {},
   "outputs": [
    {
     "name": "stdout",
     "output_type": "stream",
     "text": [
      "         1\n",
      "        22\n",
      "       333\n",
      "      4444\n",
      "     55555\n",
      "    666666\n",
      "   7777777\n",
      "  88888888\n",
      " 999999999\n"
     ]
    }
   ],
   "source": [
    "pattern25while(n = 9)"
   ]
  },
  {
   "cell_type": "markdown",
   "id": "32889d3f",
   "metadata": {},
   "source": [
    "## pattern 26"
   ]
  },
  {
   "cell_type": "code",
   "execution_count": 40,
   "id": "eb031407",
   "metadata": {},
   "outputs": [],
   "source": [
    "#     1\n",
    "#    12\n",
    "#   123\n",
    "#  1234\n",
    "# 12345"
   ]
  },
  {
   "cell_type": "code",
   "execution_count": 104,
   "id": "da755a7f",
   "metadata": {},
   "outputs": [],
   "source": [
    "# pattern 26 using for loop\n",
    "\n",
    "def pattern26for(n=5):\n",
    "    # new line\n",
    "    print(\"\")\n",
    "    # display the pattern\n",
    "    for i in range(1, n + 1):\n",
    "        # print space\n",
    "        for j in range(1, 2 * (n - i) + 1):\n",
    "            print(\" \", end = \"\")\n",
    "        # print numbers\n",
    "        for j in range(1, i + 1):\n",
    "            print(j, end = \" \")\n",
    "        \n",
    "        # new line\n",
    "        print(\"\")"
   ]
  },
  {
   "cell_type": "code",
   "execution_count": 105,
   "id": "df5b06f9",
   "metadata": {},
   "outputs": [
    {
     "name": "stdout",
     "output_type": "stream",
     "text": [
      "\n",
      "        1 \n",
      "      1 2 \n",
      "    1 2 3 \n",
      "  1 2 3 4 \n",
      "1 2 3 4 5 \n"
     ]
    }
   ],
   "source": [
    "pattern26for()"
   ]
  },
  {
   "cell_type": "code",
   "execution_count": 106,
   "id": "2aa12255",
   "metadata": {},
   "outputs": [
    {
     "name": "stdout",
     "output_type": "stream",
     "text": [
      "\n",
      "                1 \n",
      "              1 2 \n",
      "            1 2 3 \n",
      "          1 2 3 4 \n",
      "        1 2 3 4 5 \n",
      "      1 2 3 4 5 6 \n",
      "    1 2 3 4 5 6 7 \n",
      "  1 2 3 4 5 6 7 8 \n",
      "1 2 3 4 5 6 7 8 9 \n"
     ]
    }
   ],
   "source": [
    "pattern26for(n=9)"
   ]
  },
  {
   "cell_type": "code",
   "execution_count": 14,
   "id": "7021f059",
   "metadata": {},
   "outputs": [],
   "source": [
    "# pattern 26 using while loop \n",
    "\n",
    "def pattern26while(n=5):\n",
    "    # print rows\n",
    "    i = 1\n",
    "    while i <= n:\n",
    "        j = 1\n",
    "        while j <= (2 * (n-i)):\n",
    "            print(' ', end='')\n",
    "            j += 1\n",
    "        k = 1\n",
    "        while k <= i:\n",
    "            print(k, end =' ')\n",
    "            k += 1\n",
    "    \n",
    "        i += 1\n",
    "\n",
    "        print()"
   ]
  },
  {
   "cell_type": "code",
   "execution_count": 15,
   "id": "a8a90e56",
   "metadata": {},
   "outputs": [
    {
     "name": "stdout",
     "output_type": "stream",
     "text": [
      "        1 \n",
      "      1 2 \n",
      "    1 2 3 \n",
      "  1 2 3 4 \n",
      "1 2 3 4 5 \n"
     ]
    }
   ],
   "source": [
    "pattern26while()"
   ]
  },
  {
   "cell_type": "code",
   "execution_count": 16,
   "id": "58d01323",
   "metadata": {},
   "outputs": [
    {
     "name": "stdout",
     "output_type": "stream",
     "text": [
      "                  1 \n",
      "                1 2 \n",
      "              1 2 3 \n",
      "            1 2 3 4 \n",
      "          1 2 3 4 5 \n",
      "        1 2 3 4 5 6 \n",
      "      1 2 3 4 5 6 7 \n",
      "    1 2 3 4 5 6 7 8 \n",
      "  1 2 3 4 5 6 7 8 9 \n",
      "1 2 3 4 5 6 7 8 9 10 \n"
     ]
    }
   ],
   "source": [
    "pattern26while(n=10)"
   ]
  },
  {
   "cell_type": "markdown",
   "id": "dceb4bd6",
   "metadata": {},
   "source": [
    "## pattern 27"
   ]
  },
  {
   "cell_type": "code",
   "execution_count": 17,
   "id": "3ac057cf",
   "metadata": {},
   "outputs": [],
   "source": [
    "#     A\n",
    "#    BB\n",
    "#   CCC\n",
    "#  DDDD\n",
    "# EEEEE"
   ]
  },
  {
   "cell_type": "code",
   "execution_count": 7,
   "id": "3b1c32c9",
   "metadata": {},
   "outputs": [],
   "source": [
    "# pattern 27 using for loop\n",
    "\n",
    "def pattern27for(start='A', end='E'):\n",
    "    n = ord(end)\n",
    "    k = 1\n",
    "    for i in range(ord(start), ord(end)+1):\n",
    "            print(' ' * (n - i) + (chr(i)*k))\n",
    "            k += 1"
   ]
  },
  {
   "cell_type": "code",
   "execution_count": 8,
   "id": "2a0bfc02",
   "metadata": {},
   "outputs": [
    {
     "name": "stdout",
     "output_type": "stream",
     "text": [
      "    A\n",
      "   BB\n",
      "  CCC\n",
      " DDDD\n",
      "EEEEE\n"
     ]
    }
   ],
   "source": [
    "pattern27for()"
   ]
  },
  {
   "cell_type": "code",
   "execution_count": 9,
   "id": "28775c76",
   "metadata": {},
   "outputs": [
    {
     "name": "stdout",
     "output_type": "stream",
     "text": [
      "        H\n",
      "       II\n",
      "      JJJ\n",
      "     KKKK\n",
      "    LLLLL\n",
      "   MMMMMM\n",
      "  NNNNNNN\n",
      " OOOOOOOO\n",
      "PPPPPPPPP\n"
     ]
    }
   ],
   "source": [
    "pattern27for(start = 'H', end = 'P')"
   ]
  },
  {
   "cell_type": "code",
   "execution_count": 11,
   "id": "5188b77e",
   "metadata": {},
   "outputs": [],
   "source": [
    "# pattern 27 using while loop\n",
    "\n",
    "def pattern27while(start='A', end='E'):\n",
    "    n = ord(end)\n",
    "    i = ord(start)\n",
    "    k = 1\n",
    "    while i <= n:\n",
    "        print(' ' * (n-i) + (chr(i)*k))\n",
    "        i += 1\n",
    "        k += 1"
   ]
  },
  {
   "cell_type": "code",
   "execution_count": 12,
   "id": "a2c30500",
   "metadata": {},
   "outputs": [
    {
     "name": "stdout",
     "output_type": "stream",
     "text": [
      "    A\n",
      "   BB\n",
      "  CCC\n",
      " DDDD\n",
      "EEEEE\n"
     ]
    }
   ],
   "source": [
    "pattern27while()"
   ]
  },
  {
   "cell_type": "code",
   "execution_count": 14,
   "id": "8f1358e1",
   "metadata": {},
   "outputs": [
    {
     "name": "stdout",
     "output_type": "stream",
     "text": [
      "        H\n",
      "       II\n",
      "      JJJ\n",
      "     KKKK\n",
      "    LLLLL\n",
      "   MMMMMM\n",
      "  NNNNNNN\n",
      " OOOOOOOO\n",
      "PPPPPPPPP\n"
     ]
    }
   ],
   "source": [
    "pattern27while(start='H', end='P')"
   ]
  },
  {
   "cell_type": "markdown",
   "id": "6b85d008",
   "metadata": {},
   "source": [
    "## pattern 28"
   ]
  },
  {
   "cell_type": "code",
   "execution_count": 15,
   "id": "c765ce4c",
   "metadata": {},
   "outputs": [],
   "source": [
    "#         A\n",
    "#        AB\n",
    "#       ABC\n",
    "#      ABCD\n",
    "#     ABCDE"
   ]
  },
  {
   "cell_type": "code",
   "execution_count": 54,
   "id": "2b29930d",
   "metadata": {},
   "outputs": [],
   "source": [
    "# pattern 28 using for loop\n",
    "\n",
    "def pattern28for(start='A', end='E'):\n",
    "    n = ord(end)\n",
    "    k = 1\n",
    "    for i in range(ord(start), ord(end)+1):\n",
    "        print(' '*(n - i), end='')\n",
    "        for j in range(ord(start), ord(start)+k):\n",
    "             print(chr(j), end='')\n",
    "        k += 1\n",
    "        print()"
   ]
  },
  {
   "cell_type": "code",
   "execution_count": 55,
   "id": "0e0e0c4c",
   "metadata": {},
   "outputs": [
    {
     "name": "stdout",
     "output_type": "stream",
     "text": [
      "    A\n",
      "   AB\n",
      "  ABC\n",
      " ABCD\n",
      "ABCDE\n"
     ]
    }
   ],
   "source": [
    "pattern28for()"
   ]
  },
  {
   "cell_type": "code",
   "execution_count": 56,
   "id": "2b3392c1",
   "metadata": {},
   "outputs": [
    {
     "name": "stdout",
     "output_type": "stream",
     "text": [
      "       H\n",
      "      HI\n",
      "     HIJ\n",
      "    HIJK\n",
      "   HIJKL\n",
      "  HIJKLM\n",
      " HIJKLMN\n",
      "HIJKLMNO\n"
     ]
    }
   ],
   "source": [
    "pattern28for(start='H', end='O')"
   ]
  },
  {
   "cell_type": "code",
   "execution_count": 9,
   "id": "1a416535",
   "metadata": {},
   "outputs": [],
   "source": [
    "# pattern 28 using while loop \n",
    "\n",
    "def pattern28while(start='A', end='E'):\n",
    "    n = ord(end)\n",
    "    i = ord(start)\n",
    "    k = 1\n",
    "    while i <= n:\n",
    "        print(' '*(n - i), end='')\n",
    "        j = ord(start)\n",
    "        while j <= i:\n",
    "            print(chr(j), end='')\n",
    "            j += 1\n",
    "        i += 1\n",
    "        k += 1\n",
    "        \n",
    "        print()"
   ]
  },
  {
   "cell_type": "code",
   "execution_count": 10,
   "id": "77db53af",
   "metadata": {},
   "outputs": [
    {
     "name": "stdout",
     "output_type": "stream",
     "text": [
      "    A\n",
      "   AB\n",
      "  ABC\n",
      " ABCD\n",
      "ABCDE\n"
     ]
    }
   ],
   "source": [
    "pattern28while()"
   ]
  },
  {
   "cell_type": "code",
   "execution_count": 11,
   "id": "79085272",
   "metadata": {},
   "outputs": [
    {
     "name": "stdout",
     "output_type": "stream",
     "text": [
      "       H\n",
      "      HI\n",
      "     HIJ\n",
      "    HIJK\n",
      "   HIJKL\n",
      "  HIJKLM\n",
      " HIJKLMN\n",
      "HIJKLMNO\n"
     ]
    }
   ],
   "source": [
    "pattern28while(start='H', end='O')"
   ]
  },
  {
   "cell_type": "markdown",
   "id": "05cf59ae",
   "metadata": {},
   "source": [
    "## pattern 29"
   ]
  },
  {
   "cell_type": "code",
   "execution_count": 12,
   "id": "8a5e3608",
   "metadata": {},
   "outputs": [],
   "source": [
    "# *****\n",
    "#  ****\n",
    "#   ***\n",
    "#    **\n",
    "#     *"
   ]
  },
  {
   "cell_type": "code",
   "execution_count": 31,
   "id": "1e61f53a",
   "metadata": {},
   "outputs": [],
   "source": [
    "# pattern 29 using for loop\n",
    "def pattern29for(n=5, char='*'):\n",
    "    s = 0\n",
    "    for i in range(n, 0, -1):\n",
    "        print(' '*s + char*i)\n",
    "        s+=1"
   ]
  },
  {
   "cell_type": "code",
   "execution_count": 32,
   "id": "76403895",
   "metadata": {},
   "outputs": [
    {
     "name": "stdout",
     "output_type": "stream",
     "text": [
      "*****\n",
      " ****\n",
      "  ***\n",
      "   **\n",
      "    *\n"
     ]
    }
   ],
   "source": [
    "pattern29for()"
   ]
  },
  {
   "cell_type": "code",
   "execution_count": 33,
   "id": "ea4c9c1a",
   "metadata": {},
   "outputs": [
    {
     "name": "stdout",
     "output_type": "stream",
     "text": [
      "$$$$$$$$$$\n",
      " $$$$$$$$$\n",
      "  $$$$$$$$\n",
      "   $$$$$$$\n",
      "    $$$$$$\n",
      "     $$$$$\n",
      "      $$$$\n",
      "       $$$\n",
      "        $$\n",
      "         $\n"
     ]
    }
   ],
   "source": [
    "pattern29for(n = 10, char='$')"
   ]
  },
  {
   "cell_type": "code",
   "execution_count": 36,
   "id": "ea6d04a2",
   "metadata": {},
   "outputs": [],
   "source": [
    "# pattern 29 using while loop\n",
    "\n",
    "def pattern29while(n=5, char='*'):\n",
    "    i = n\n",
    "    s = 0\n",
    "    while i >= 1:\n",
    "        print(' '*s + char*i)\n",
    "        i -= 1\n",
    "        s += 1"
   ]
  },
  {
   "cell_type": "code",
   "execution_count": 37,
   "id": "d55358af",
   "metadata": {},
   "outputs": [
    {
     "name": "stdout",
     "output_type": "stream",
     "text": [
      "*****\n",
      " ****\n",
      "  ***\n",
      "   **\n",
      "    *\n"
     ]
    }
   ],
   "source": [
    "pattern29while()"
   ]
  },
  {
   "cell_type": "code",
   "execution_count": 45,
   "id": "25018e3a",
   "metadata": {},
   "outputs": [
    {
     "name": "stdout",
     "output_type": "stream",
     "text": [
      "!!!!!!!!!!!!\n",
      " !!!!!!!!!!!\n",
      "  !!!!!!!!!!\n",
      "   !!!!!!!!!\n",
      "    !!!!!!!!\n",
      "     !!!!!!!\n",
      "      !!!!!!\n",
      "       !!!!!\n",
      "        !!!!\n",
      "         !!!\n",
      "          !!\n",
      "           !\n"
     ]
    }
   ],
   "source": [
    "pattern29while(char='!', n=12)"
   ]
  },
  {
   "cell_type": "markdown",
   "id": "00aa3b05",
   "metadata": {},
   "source": [
    "## pattern 30"
   ]
  },
  {
   "cell_type": "code",
   "execution_count": null,
   "id": "11573dbb",
   "metadata": {},
   "outputs": [],
   "source": [
    "# 55555\n",
    "#  4444\n",
    "#   333\n",
    "#    22\n",
    "#     1"
   ]
  },
  {
   "cell_type": "code",
   "execution_count": 48,
   "id": "a8b24907",
   "metadata": {},
   "outputs": [],
   "source": [
    "# pattern 30 using for loop\n",
    "def pattern30for(n=5):\n",
    "    s = 0\n",
    "    for i in range(n, 0, -1):\n",
    "        print(' '*s + str(i)*i)\n",
    "        s += 1"
   ]
  },
  {
   "cell_type": "code",
   "execution_count": 49,
   "id": "82d02dd2",
   "metadata": {},
   "outputs": [
    {
     "name": "stdout",
     "output_type": "stream",
     "text": [
      "55555\n",
      " 4444\n",
      "  333\n",
      "   22\n",
      "    1\n"
     ]
    }
   ],
   "source": [
    "pattern30for()"
   ]
  },
  {
   "cell_type": "code",
   "execution_count": 53,
   "id": "f3ad3839",
   "metadata": {},
   "outputs": [],
   "source": [
    "# pattern 30 using while\n",
    "\n",
    "def pattern30while(n=5):\n",
    "    i = n\n",
    "    s = 0\n",
    "    while i >= 1:\n",
    "        print(' '*s + str(i)*i)\n",
    "        i -= 1\n",
    "        s += 1"
   ]
  },
  {
   "cell_type": "code",
   "execution_count": 54,
   "id": "38adaf50",
   "metadata": {},
   "outputs": [
    {
     "name": "stdout",
     "output_type": "stream",
     "text": [
      "55555\n",
      " 4444\n",
      "  333\n",
      "   22\n",
      "    1\n"
     ]
    }
   ],
   "source": [
    "pattern30while()"
   ]
  },
  {
   "cell_type": "code",
   "execution_count": 56,
   "id": "7916bc52",
   "metadata": {},
   "outputs": [
    {
     "name": "stdout",
     "output_type": "stream",
     "text": [
      "999999999\n",
      " 88888888\n",
      "  7777777\n",
      "   666666\n",
      "    55555\n",
      "     4444\n",
      "      333\n",
      "       22\n",
      "        1\n"
     ]
    }
   ],
   "source": [
    "pattern30while(n = 9)"
   ]
  },
  {
   "cell_type": "markdown",
   "id": "26075169",
   "metadata": {},
   "source": [
    "## pattern 31"
   ]
  },
  {
   "cell_type": "code",
   "execution_count": 57,
   "id": "0f364c65",
   "metadata": {},
   "outputs": [],
   "source": [
    "# 12345\n",
    "#  1234\n",
    "#   123\n",
    "#    12\n",
    "#     1"
   ]
  },
  {
   "cell_type": "code",
   "execution_count": 64,
   "id": "7069b461",
   "metadata": {},
   "outputs": [],
   "source": [
    "# pattern 31 using for loop\n",
    "def pattern31for(n=5):\n",
    "    s = 0\n",
    "    for i in range(n, 0, -1):\n",
    "        print(' '*s, end='')\n",
    "        for j in range(1, i+1):\n",
    "            print(j, end='')\n",
    "        s += 1\n",
    "        print()"
   ]
  },
  {
   "cell_type": "code",
   "execution_count": 65,
   "id": "a1580997",
   "metadata": {},
   "outputs": [
    {
     "name": "stdout",
     "output_type": "stream",
     "text": [
      "12345\n",
      " 1234\n",
      "  123\n",
      "   12\n",
      "    1\n"
     ]
    }
   ],
   "source": [
    "pattern31for()"
   ]
  },
  {
   "cell_type": "code",
   "execution_count": 72,
   "id": "297c841b",
   "metadata": {},
   "outputs": [],
   "source": [
    "# pattern 31 using while loop\n",
    "def pattern31while(n=5):\n",
    "    s = 0\n",
    "    i = n\n",
    "    while i >= 1:\n",
    "        print(' '*s, end='')\n",
    "        j = 1\n",
    "        while j <= i:\n",
    "            print(j, end='')\n",
    "            j += 1\n",
    "        i -= 1\n",
    "        s += 1\n",
    "        print()"
   ]
  },
  {
   "cell_type": "code",
   "execution_count": 73,
   "id": "7a935e63",
   "metadata": {},
   "outputs": [
    {
     "name": "stdout",
     "output_type": "stream",
     "text": [
      "12345\n",
      " 1234\n",
      "  123\n",
      "   12\n",
      "    1\n"
     ]
    }
   ],
   "source": [
    "pattern31while()"
   ]
  },
  {
   "cell_type": "markdown",
   "id": "68c22111",
   "metadata": {},
   "source": [
    "## pattern 32"
   ]
  },
  {
   "cell_type": "code",
   "execution_count": null,
   "id": "ce12a00c",
   "metadata": {},
   "outputs": [],
   "source": [
    "# EEEEE\n",
    "#  DDDD\n",
    "#   CCC\n",
    "#    BB\n",
    "#     A"
   ]
  },
  {
   "cell_type": "code",
   "execution_count": 78,
   "id": "6c72fb25",
   "metadata": {},
   "outputs": [],
   "source": [
    "# pattern 32 using for loop\n",
    "def pattern32for(start='E', end='A'):\n",
    "    s = 0\n",
    "    c = (ord(start)-ord(end))+1\n",
    "    for i in range(ord(start), ord(end)-1, -1):\n",
    "        print(' '*s + (chr(i)*c))\n",
    "        c -= 1\n",
    "        s += 1"
   ]
  },
  {
   "cell_type": "code",
   "execution_count": 79,
   "id": "75443fab",
   "metadata": {},
   "outputs": [
    {
     "name": "stdout",
     "output_type": "stream",
     "text": [
      "EEEEE\n",
      " DDDD\n",
      "  CCC\n",
      "   BB\n",
      "    A\n"
     ]
    }
   ],
   "source": [
    "pattern32for()"
   ]
  },
  {
   "cell_type": "code",
   "execution_count": 80,
   "id": "29e6b6ae",
   "metadata": {},
   "outputs": [
    {
     "name": "stdout",
     "output_type": "stream",
     "text": [
      "XXXXXXXXX\n",
      " WWWWWWWW\n",
      "  VVVVVVV\n",
      "   UUUUUU\n",
      "    TTTTT\n",
      "     SSSS\n",
      "      RRR\n",
      "       QQ\n",
      "        P\n"
     ]
    }
   ],
   "source": [
    "pattern32for(start='X', end='P')"
   ]
  },
  {
   "cell_type": "code",
   "execution_count": 2,
   "id": "aac36a47",
   "metadata": {},
   "outputs": [],
   "source": [
    "# pattern 32 using while loop\n",
    "def pattern32while(start='E', end='A'):\n",
    "    i = ord(start)\n",
    "    s = 0\n",
    "    c = (ord(start)-ord(end))+1\n",
    "    while i >= ord(end) :\n",
    "        print(' '*s + (chr(i)*c))\n",
    "        i -= 1\n",
    "        s += 1\n",
    "        c -= 1"
   ]
  },
  {
   "cell_type": "code",
   "execution_count": 3,
   "id": "966d9c5c",
   "metadata": {},
   "outputs": [
    {
     "name": "stdout",
     "output_type": "stream",
     "text": [
      "EEEEE\n",
      " DDDD\n",
      "  CCC\n",
      "   BB\n",
      "    A\n"
     ]
    }
   ],
   "source": [
    "pattern32while()"
   ]
  },
  {
   "cell_type": "code",
   "execution_count": 4,
   "id": "d3e394e9",
   "metadata": {},
   "outputs": [
    {
     "name": "stdout",
     "output_type": "stream",
     "text": [
      "XXXXXXXXXXXXX\n",
      " WWWWWWWWWWWW\n",
      "  VVVVVVVVVVV\n",
      "   UUUUUUUUUU\n",
      "    TTTTTTTTT\n",
      "     SSSSSSSS\n",
      "      RRRRRRR\n",
      "       QQQQQQ\n",
      "        PPPPP\n",
      "         OOOO\n",
      "          NNN\n",
      "           MM\n",
      "            L\n"
     ]
    }
   ],
   "source": [
    "pattern32while(start='X', end='L')"
   ]
  },
  {
   "cell_type": "markdown",
   "id": "03ce57f6",
   "metadata": {},
   "source": [
    "## pattern 33"
   ]
  },
  {
   "cell_type": "code",
   "execution_count": 5,
   "id": "b8956585",
   "metadata": {},
   "outputs": [],
   "source": [
    "# ABCDE\n",
    "#  ABCD\n",
    "#   ABC\n",
    "#    AB\n",
    "#     A"
   ]
  },
  {
   "cell_type": "code",
   "execution_count": 8,
   "id": "45be8bf7",
   "metadata": {},
   "outputs": [],
   "source": [
    "# pattern 33 using for loop\n",
    "\n",
    "def pattern33for(start='A', end='E'):\n",
    "    s=0\n",
    "    for i in range(ord(end), ord(start)-1, -1):\n",
    "        print(' '*s, end='')\n",
    "        for j in range(ord(start), i+1):\n",
    "            print(chr(j), end='')\n",
    "        s += 1\n",
    "        print()"
   ]
  },
  {
   "cell_type": "code",
   "execution_count": 9,
   "id": "bb38bcb3",
   "metadata": {},
   "outputs": [
    {
     "name": "stdout",
     "output_type": "stream",
     "text": [
      "ABCDE\n",
      " ABCD\n",
      "  ABC\n",
      "   AB\n",
      "    A\n"
     ]
    }
   ],
   "source": [
    "pattern33for()"
   ]
  },
  {
   "cell_type": "code",
   "execution_count": 10,
   "id": "94d92df3",
   "metadata": {},
   "outputs": [
    {
     "name": "stdout",
     "output_type": "stream",
     "text": [
      "HIJKLMNO\n",
      " HIJKLMN\n",
      "  HIJKLM\n",
      "   HIJKL\n",
      "    HIJK\n",
      "     HIJ\n",
      "      HI\n",
      "       H\n"
     ]
    }
   ],
   "source": [
    "pattern33for(start='H', end='O')"
   ]
  },
  {
   "cell_type": "code",
   "execution_count": 19,
   "id": "4fadb85c",
   "metadata": {},
   "outputs": [],
   "source": [
    "# pattern 33 usign while loop\n",
    "\n",
    "def pattern33while(start='A', end='E'):\n",
    "    i = ord(end)\n",
    "    s = 0\n",
    "    while i >= ord(start):\n",
    "        print(' '*s, end='')\n",
    "        j = ord(start)\n",
    "        while j <= i:\n",
    "            print(chr(j), end='')\n",
    "            j += 1\n",
    "        s += 1\n",
    "        i -= 1\n",
    "        print()"
   ]
  },
  {
   "cell_type": "code",
   "execution_count": 20,
   "id": "ac4dd149",
   "metadata": {},
   "outputs": [
    {
     "name": "stdout",
     "output_type": "stream",
     "text": [
      "ABCDE\n",
      " ABCD\n",
      "  ABC\n",
      "   AB\n",
      "    A\n"
     ]
    }
   ],
   "source": [
    "pattern33while()"
   ]
  },
  {
   "cell_type": "code",
   "execution_count": 21,
   "id": "0ccdd0a5",
   "metadata": {},
   "outputs": [
    {
     "name": "stdout",
     "output_type": "stream",
     "text": [
      "KLMNOPQRST\n",
      " KLMNOPQRS\n",
      "  KLMNOPQR\n",
      "   KLMNOPQ\n",
      "    KLMNOP\n",
      "     KLMNO\n",
      "      KLMN\n",
      "       KLM\n",
      "        KL\n",
      "         K\n"
     ]
    }
   ],
   "source": [
    "pattern33while(start='K', end='T')"
   ]
  },
  {
   "cell_type": "markdown",
   "id": "fab03d1b",
   "metadata": {},
   "source": [
    "## pattern 34"
   ]
  },
  {
   "cell_type": "code",
   "execution_count": null,
   "id": "30551c0c",
   "metadata": {},
   "outputs": [],
   "source": [
    "#     *\n",
    "#    ***\n",
    "#   *****\n",
    "#  *******\n",
    "# *********"
   ]
  },
  {
   "cell_type": "code",
   "execution_count": 31,
   "id": "3fe6a1b0",
   "metadata": {},
   "outputs": [],
   "source": [
    "# pattern 34 using for loop\n",
    "def pattern34for(n=5, char='*'):\n",
    "    s = n-1\n",
    "    c = 1\n",
    "    for i in range(1, n+1):\n",
    "        print(' '*s, end='')\n",
    "        for j in range(1, c+1):\n",
    "            print(char, end='')\n",
    "        s -= 1\n",
    "        c += 2\n",
    "        print()"
   ]
  },
  {
   "cell_type": "code",
   "execution_count": 32,
   "id": "27cb55f0",
   "metadata": {},
   "outputs": [
    {
     "name": "stdout",
     "output_type": "stream",
     "text": [
      "    *\n",
      "   ***\n",
      "  *****\n",
      " *******\n",
      "*********\n"
     ]
    }
   ],
   "source": [
    "pattern34for()"
   ]
  },
  {
   "cell_type": "code",
   "execution_count": 39,
   "id": "9bbb0619",
   "metadata": {},
   "outputs": [
    {
     "name": "stdout",
     "output_type": "stream",
     "text": [
      "           !\n",
      "          !!!\n",
      "         !!!!!\n",
      "        !!!!!!!\n",
      "       !!!!!!!!!\n",
      "      !!!!!!!!!!!\n",
      "     !!!!!!!!!!!!!\n",
      "    !!!!!!!!!!!!!!!\n",
      "   !!!!!!!!!!!!!!!!!\n",
      "  !!!!!!!!!!!!!!!!!!!\n",
      " !!!!!!!!!!!!!!!!!!!!!\n",
      "!!!!!!!!!!!!!!!!!!!!!!!\n"
     ]
    }
   ],
   "source": [
    "pattern34for(12, '!')"
   ]
  },
  {
   "cell_type": "code",
   "execution_count": 44,
   "id": "63d149d4",
   "metadata": {},
   "outputs": [],
   "source": [
    "# pattern 34 using while loop \n",
    "def pattern34while(n = 5, char='*'):\n",
    "    s = n-1\n",
    "    i = 1\n",
    "    c = 1\n",
    "    while i <= n:\n",
    "        print(' '*s, end='')\n",
    "        j = 1 \n",
    "        while j <= c:\n",
    "            print(char, end='')\n",
    "            j += 1\n",
    "        s -= 1\n",
    "        c += 2\n",
    "        i += 1\n",
    "        print()"
   ]
  },
  {
   "cell_type": "code",
   "execution_count": 45,
   "id": "dd74741c",
   "metadata": {},
   "outputs": [
    {
     "name": "stdout",
     "output_type": "stream",
     "text": [
      "    *\n",
      "   ***\n",
      "  *****\n",
      " *******\n",
      "*********\n"
     ]
    }
   ],
   "source": [
    "pattern34while()"
   ]
  },
  {
   "cell_type": "code",
   "execution_count": 48,
   "id": "f1bf0f2a",
   "metadata": {},
   "outputs": [
    {
     "name": "stdout",
     "output_type": "stream",
     "text": [
      "        #\n",
      "       ###\n",
      "      #####\n",
      "     #######\n",
      "    #########\n",
      "   ###########\n",
      "  #############\n",
      " ###############\n",
      "#################\n"
     ]
    }
   ],
   "source": [
    "pattern34while(n=9, char='#')"
   ]
  },
  {
   "cell_type": "markdown",
   "id": "4366f3b8",
   "metadata": {},
   "source": [
    "## pattern 35"
   ]
  },
  {
   "cell_type": "code",
   "execution_count": null,
   "id": "975f77a7",
   "metadata": {},
   "outputs": [],
   "source": [
    "#     1\n",
    "#    222\n",
    "#   33333\n",
    "#  4444444\n",
    "# 555555555"
   ]
  },
  {
   "cell_type": "code",
   "execution_count": 77,
   "id": "4546ab01",
   "metadata": {},
   "outputs": [],
   "source": [
    "# pattern 35 using for loop \n",
    "def pattern35for(n=5):\n",
    "    s = n-1\n",
    "    k = 1\n",
    "    for i in range(1, n+1):\n",
    "        print(' '*s + ((str(i))*k))\n",
    "        s -= 1\n",
    "        k += 2"
   ]
  },
  {
   "cell_type": "code",
   "execution_count": 78,
   "id": "a68a0ca1",
   "metadata": {},
   "outputs": [
    {
     "name": "stdout",
     "output_type": "stream",
     "text": [
      "    1\n",
      "   222\n",
      "  33333\n",
      " 4444444\n",
      "555555555\n"
     ]
    }
   ],
   "source": [
    "pattern35for()"
   ]
  },
  {
   "cell_type": "code",
   "execution_count": 79,
   "id": "d3b936f1",
   "metadata": {},
   "outputs": [
    {
     "name": "stdout",
     "output_type": "stream",
     "text": [
      "        1\n",
      "       222\n",
      "      33333\n",
      "     4444444\n",
      "    555555555\n",
      "   66666666666\n",
      "  7777777777777\n",
      " 888888888888888\n",
      "99999999999999999\n"
     ]
    }
   ],
   "source": [
    "pattern35for(9)"
   ]
  },
  {
   "cell_type": "code",
   "execution_count": 82,
   "id": "7d648415",
   "metadata": {},
   "outputs": [],
   "source": [
    "# pattern 35 using while loop\n",
    "\n",
    "def pattern35while(n = 5):\n",
    "    i = 1\n",
    "    k = 1\n",
    "    s = n-1\n",
    "    while i <= n:\n",
    "        print(' '*s + (str(i)*k))\n",
    "        i += 1\n",
    "        k += 2\n",
    "        s -= 1"
   ]
  },
  {
   "cell_type": "code",
   "execution_count": 83,
   "id": "58602ba6",
   "metadata": {},
   "outputs": [
    {
     "name": "stdout",
     "output_type": "stream",
     "text": [
      "    1\n",
      "   222\n",
      "  33333\n",
      " 4444444\n",
      "555555555\n"
     ]
    }
   ],
   "source": [
    "pattern35while()"
   ]
  },
  {
   "cell_type": "code",
   "execution_count": 84,
   "id": "276266e1",
   "metadata": {},
   "outputs": [
    {
     "name": "stdout",
     "output_type": "stream",
     "text": [
      "        1\n",
      "       222\n",
      "      33333\n",
      "     4444444\n",
      "    555555555\n",
      "   66666666666\n",
      "  7777777777777\n",
      " 888888888888888\n",
      "99999999999999999\n"
     ]
    }
   ],
   "source": [
    "pattern35while(9)"
   ]
  },
  {
   "cell_type": "markdown",
   "id": "d20fb66e",
   "metadata": {},
   "source": [
    "## pattern 36"
   ]
  },
  {
   "cell_type": "code",
   "execution_count": null,
   "id": "9b6f18a2",
   "metadata": {},
   "outputs": [],
   "source": [
    "#     1\n",
    "#    333\n",
    "#   55555\n",
    "#  7777777\n",
    "# 999999999"
   ]
  },
  {
   "cell_type": "code",
   "execution_count": 95,
   "id": "069cef8d",
   "metadata": {},
   "outputs": [],
   "source": [
    "# pattern 36 using for loop  \n",
    "\n",
    "def pattern36for(n=5):\n",
    "    s = n-1\n",
    "    k = 1\n",
    "    t = 1\n",
    "    for i in range(1, n+1):\n",
    "        print(' '*s + ((str(t))*k))\n",
    "        s -= 1\n",
    "        k += 2\n",
    "        t += 2"
   ]
  },
  {
   "cell_type": "code",
   "execution_count": 96,
   "id": "6e504ffe",
   "metadata": {},
   "outputs": [
    {
     "name": "stdout",
     "output_type": "stream",
     "text": [
      "    1\n",
      "   333\n",
      "  55555\n",
      " 7777777\n",
      "999999999\n"
     ]
    }
   ],
   "source": [
    "def pattern361for(n=5):\n",
    "    s = n-1\n",
    "    k = 1\n",
    "    t = 1\n",
    "    for i in range(1, n+6, 2):\n",
    "        print(' '*s + ((str(i))*k))\n",
    "        s -= 1\n",
    "        k += 2\n",
    "        t += 2\n",
    "        \n",
    "pattern361for()"
   ]
  },
  {
   "cell_type": "code",
   "execution_count": 97,
   "id": "6ff8b676",
   "metadata": {},
   "outputs": [
    {
     "name": "stdout",
     "output_type": "stream",
     "text": [
      "    1\n",
      "   333\n",
      "  55555\n",
      " 7777777\n",
      "999999999\n"
     ]
    }
   ],
   "source": [
    "pattern36for()"
   ]
  },
  {
   "cell_type": "code",
   "execution_count": 87,
   "id": "fe69f327",
   "metadata": {},
   "outputs": [],
   "source": [
    "# pattern 36 using while loop\n",
    "\n",
    "def pattern36while(n = 5):\n",
    "    i = 1\n",
    "    k = 1\n",
    "    s = n-1\n",
    "    t = 1\n",
    "    while i <= n:\n",
    "        print(' '*s + (str(t)*k))\n",
    "        i += 1\n",
    "        k += 2\n",
    "        s -= 1\n",
    "        t += 2"
   ]
  },
  {
   "cell_type": "code",
   "execution_count": 88,
   "id": "61723ddc",
   "metadata": {},
   "outputs": [
    {
     "name": "stdout",
     "output_type": "stream",
     "text": [
      "    1\n",
      "   333\n",
      "  55555\n",
      " 7777777\n",
      "999999999\n"
     ]
    }
   ],
   "source": [
    "pattern36while()"
   ]
  },
  {
   "cell_type": "markdown",
   "id": "dbad2c17",
   "metadata": {},
   "source": [
    "## pattern 37"
   ]
  },
  {
   "cell_type": "code",
   "execution_count": null,
   "id": "da6ea050",
   "metadata": {},
   "outputs": [],
   "source": [
    "#     A\n",
    "#    BBB\n",
    "#   CCCCC\n",
    "#  DDDDDDD\n",
    "# EEEEEEEEE"
   ]
  },
  {
   "cell_type": "code",
   "execution_count": 99,
   "id": "07b0c0f7",
   "metadata": {},
   "outputs": [],
   "source": [
    "# pattern 37 using for loop \n",
    "def pattern37for(start='A', end='E'):\n",
    "    s = ord(end)-ord(start)\n",
    "    k = 1\n",
    "    for i in range(ord(start), (ord(end))+1):\n",
    "        print(' '*s + ((chr(i))*k))\n",
    "        s -= 1\n",
    "        k += 2"
   ]
  },
  {
   "cell_type": "code",
   "execution_count": 100,
   "id": "2ca621c2",
   "metadata": {},
   "outputs": [
    {
     "name": "stdout",
     "output_type": "stream",
     "text": [
      "    A\n",
      "   BBB\n",
      "  CCCCC\n",
      " DDDDDDD\n",
      "EEEEEEEEE\n"
     ]
    }
   ],
   "source": [
    "pattern37for()"
   ]
  },
  {
   "cell_type": "code",
   "execution_count": 104,
   "id": "7a5ceef3",
   "metadata": {},
   "outputs": [
    {
     "name": "stdout",
     "output_type": "stream",
     "text": [
      "       H\n",
      "      III\n",
      "     JJJJJ\n",
      "    KKKKKKK\n",
      "   LLLLLLLLL\n",
      "  MMMMMMMMMMM\n",
      " NNNNNNNNNNNNN\n",
      "OOOOOOOOOOOOOOO\n"
     ]
    }
   ],
   "source": [
    "pattern37for(start='H', end='O')"
   ]
  },
  {
   "cell_type": "code",
   "execution_count": 105,
   "id": "6008a905",
   "metadata": {},
   "outputs": [],
   "source": [
    "# pattern 37 using while loop\n",
    "\n",
    "def pattern37while(start='A', end='E'):\n",
    "    i = ord(start)\n",
    "    k = 1\n",
    "    s = ord(end)-ord(start)\n",
    "    while i <= ord(end):\n",
    "        print(' '*s + (chr(i)*k))\n",
    "        i += 1\n",
    "        k += 2\n",
    "        s -= 1"
   ]
  },
  {
   "cell_type": "code",
   "execution_count": 106,
   "id": "08a52b6f",
   "metadata": {},
   "outputs": [
    {
     "name": "stdout",
     "output_type": "stream",
     "text": [
      "    A\n",
      "   BBB\n",
      "  CCCCC\n",
      " DDDDDDD\n",
      "EEEEEEEEE\n"
     ]
    }
   ],
   "source": [
    "pattern37while()"
   ]
  },
  {
   "cell_type": "markdown",
   "id": "24d3b2f0",
   "metadata": {},
   "source": [
    "## pattern 38"
   ]
  },
  {
   "cell_type": "code",
   "execution_count": null,
   "id": "01af1153",
   "metadata": {},
   "outputs": [],
   "source": [
    "#     A\n",
    "#    ccc\n",
    "#   EEEEE\n",
    "#  GGGGGGG\n",
    "# IIIIIIIII"
   ]
  },
  {
   "cell_type": "code",
   "execution_count": 115,
   "id": "3ed16efe",
   "metadata": {},
   "outputs": [],
   "source": [
    "# pattern 38 using for loop\n",
    "def pattern38for(start='A', end='I'):\n",
    "    s = ord(end)-ord(start)\n",
    "    k = 1\n",
    "    for i in range(ord(start), ord(end)+1, 2):\n",
    "        print(' '*s + ((chr(i))*k))\n",
    "        s -= 1\n",
    "        k += 2"
   ]
  },
  {
   "cell_type": "code",
   "execution_count": 116,
   "id": "8c41fc8c",
   "metadata": {},
   "outputs": [
    {
     "name": "stdout",
     "output_type": "stream",
     "text": [
      "        A\n",
      "       CCC\n",
      "      EEEEE\n",
      "     GGGGGGG\n",
      "    IIIIIIIII\n"
     ]
    }
   ],
   "source": [
    "pattern38for()"
   ]
  },
  {
   "cell_type": "code",
   "execution_count": 117,
   "id": "59f15178",
   "metadata": {},
   "outputs": [
    {
     "name": "stdout",
     "output_type": "stream",
     "text": [
      "                H\n",
      "               JJJ\n",
      "              LLLLL\n",
      "             NNNNNNN\n",
      "            PPPPPPPPP\n",
      "           RRRRRRRRRRR\n",
      "          TTTTTTTTTTTTT\n",
      "         VVVVVVVVVVVVVVV\n",
      "        XXXXXXXXXXXXXXXXX\n"
     ]
    }
   ],
   "source": [
    "pattern38for(start='H', end='X')"
   ]
  },
  {
   "cell_type": "code",
   "execution_count": 118,
   "id": "d3371109",
   "metadata": {},
   "outputs": [],
   "source": [
    "# pattern 38 using while loop\n",
    "\n",
    "def pattern38while(start='A', end='I'):\n",
    "    i = ord(start)\n",
    "    k = 1\n",
    "    s = ord(end)-ord(start)\n",
    "    while i <= ord(end):\n",
    "        print(' '*s + (chr(i)*k))\n",
    "        i += 2\n",
    "        k += 2\n",
    "        s -= 1"
   ]
  },
  {
   "cell_type": "code",
   "execution_count": 119,
   "id": "84fba249",
   "metadata": {},
   "outputs": [
    {
     "name": "stdout",
     "output_type": "stream",
     "text": [
      "        A\n",
      "       CCC\n",
      "      EEEEE\n",
      "     GGGGGGG\n",
      "    IIIIIIIII\n"
     ]
    }
   ],
   "source": [
    "pattern38while()"
   ]
  },
  {
   "cell_type": "code",
   "execution_count": 121,
   "id": "4224c7a6",
   "metadata": {},
   "outputs": [
    {
     "name": "stdout",
     "output_type": "stream",
     "text": [
      "          F\n",
      "         HHH\n",
      "        JJJJJ\n",
      "       LLLLLLL\n",
      "      NNNNNNNNN\n",
      "     PPPPPPPPPPP\n"
     ]
    }
   ],
   "source": [
    "pattern38while(start='F', end='P')"
   ]
  },
  {
   "cell_type": "markdown",
   "id": "2e614bdf",
   "metadata": {},
   "source": [
    "## pattern 39"
   ]
  },
  {
   "cell_type": "code",
   "execution_count": null,
   "id": "e4eb1ebb",
   "metadata": {},
   "outputs": [],
   "source": [
    "#     1\n",
    "#    123\n",
    "#   12345\n",
    "#  1234567\n",
    "# 123456789"
   ]
  },
  {
   "cell_type": "code",
   "execution_count": 128,
   "id": "3d410fd3",
   "metadata": {},
   "outputs": [],
   "source": [
    "# pattern 39 using for loop\n",
    "def pattern39for(n=5):\n",
    "    s = n-1\n",
    "    r = 1\n",
    "    for i in range(1, n+1):\n",
    "        print(' '*s, end='')\n",
    "        for j in range(1, r+1):\n",
    "            print(j, end='')\n",
    "        s -= 1\n",
    "        r += 2\n",
    "        print()"
   ]
  },
  {
   "cell_type": "code",
   "execution_count": 129,
   "id": "bf62dafe",
   "metadata": {},
   "outputs": [
    {
     "name": "stdout",
     "output_type": "stream",
     "text": [
      "    1\n",
      "   123\n",
      "  12345\n",
      " 1234567\n",
      "123456789\n"
     ]
    }
   ],
   "source": [
    "pattern39for()"
   ]
  },
  {
   "cell_type": "code",
   "execution_count": 130,
   "id": "48a680cc",
   "metadata": {},
   "outputs": [],
   "source": [
    "# pattern 39 using while loop\n",
    "\n",
    "def pattern39while(n=5):\n",
    "    s = n-1\n",
    "    r = 1\n",
    "    i = 1\n",
    "    while i <= n:\n",
    "        print(' '*s, end='')\n",
    "        j = 1\n",
    "        while j <= r:\n",
    "            print(j, end='')\n",
    "            j += 1\n",
    "        s -= 1\n",
    "        r += 2\n",
    "        i += 1\n",
    "        print()"
   ]
  },
  {
   "cell_type": "code",
   "execution_count": 131,
   "id": "c66d093a",
   "metadata": {},
   "outputs": [
    {
     "name": "stdout",
     "output_type": "stream",
     "text": [
      "    1\n",
      "   123\n",
      "  12345\n",
      " 1234567\n",
      "123456789\n"
     ]
    }
   ],
   "source": [
    "pattern39while()"
   ]
  },
  {
   "cell_type": "markdown",
   "id": "900a12e0",
   "metadata": {},
   "source": [
    "## pattern 40"
   ]
  },
  {
   "cell_type": "code",
   "execution_count": null,
   "id": "861e7a20",
   "metadata": {},
   "outputs": [],
   "source": [
    "#     1\n",
    "#    321\n",
    "#   54321\n",
    "#  7654321\n",
    "# 987654321"
   ]
  },
  {
   "cell_type": "code",
   "execution_count": 136,
   "id": "e61a6e81",
   "metadata": {},
   "outputs": [],
   "source": [
    "# pattern 40 using for loop \n",
    "\n",
    "def pattern40for(n=5):\n",
    "    s = n-1\n",
    "    r = 1\n",
    "    for i in range(1, n+1):\n",
    "        print(' '*s, end='')\n",
    "        for j in range(r, 0, -1):\n",
    "            print(j, end='')\n",
    "        s -= 1\n",
    "        r += 2\n",
    "        print()"
   ]
  },
  {
   "cell_type": "code",
   "execution_count": 137,
   "id": "7b3ff08f",
   "metadata": {},
   "outputs": [
    {
     "name": "stdout",
     "output_type": "stream",
     "text": [
      "    1\n",
      "   321\n",
      "  54321\n",
      " 7654321\n",
      "987654321\n"
     ]
    }
   ],
   "source": [
    "pattern40for()"
   ]
  },
  {
   "cell_type": "code",
   "execution_count": 15,
   "id": "0c3ec036",
   "metadata": {},
   "outputs": [
    {
     "name": "stdout",
     "output_type": "stream",
     "text": [
      "    1\n",
      "   321\n",
      "  54321\n",
      " 7654321\n",
      "987654321\n"
     ]
    }
   ],
   "source": [
    "# pattern 40 using while loop\n",
    "def pattern40while(n=5):\n",
    "    i = 1  \n",
    "    while i <= n:\n",
    "        print(' '*(n-i), end='')\n",
    "        j = 2*i-1\n",
    "        while j >= 1:\n",
    "            print(j, end='')\n",
    "            j -= 1\n",
    "        i += 1\n",
    "        print()\n",
    "\n",
    "pattern40while()"
   ]
  },
  {
   "cell_type": "code",
   "execution_count": 14,
   "id": "7230a18c",
   "metadata": {},
   "outputs": [],
   "source": [
    "# pattern 40 using while loop\n",
    "def pattern40while(n=5):\n",
    "    i = 1\n",
    "    while i <= n:\n",
    "        print(' ' * (n - i), end='')\n",
    "        j = 2 * i - 1\n",
    "        while j >= 1:\n",
    "            print(j, end='')\n",
    "            j -= 1\n",
    "        print()\n",
    "        i += 1"
   ]
  },
  {
   "cell_type": "code",
   "execution_count": 12,
   "id": "1f59bab4",
   "metadata": {},
   "outputs": [
    {
     "name": "stdout",
     "output_type": "stream",
     "text": [
      "    1\n",
      "   321\n",
      "  54321\n",
      " 7654321\n",
      "987654321\n"
     ]
    }
   ],
   "source": [
    "pattern40while()"
   ]
  },
  {
   "cell_type": "markdown",
   "id": "1d50d5b6",
   "metadata": {},
   "source": [
    "## pattern 41"
   ]
  },
  {
   "cell_type": "code",
   "execution_count": null,
   "id": "8e6218bd",
   "metadata": {},
   "outputs": [],
   "source": [
    "#     A\n",
    "#    ABC\n",
    "#   ABCDE\n",
    "#  ABCDEFG\n",
    "# ABCDEFGHI"
   ]
  },
  {
   "cell_type": "code",
   "execution_count": 32,
   "id": "6934ed20",
   "metadata": {},
   "outputs": [],
   "source": [
    "# pattern 41 using for loop\n",
    "def pattern41for(start='A', end='E'):\n",
    "    s = (ord(end)-ord(start))\n",
    "    t = ord(start)\n",
    "    for i in range(ord(start), ord(end)+1):\n",
    "        print(' '*s, end='')\n",
    "        for j in range(ord(start), (t)+1):\n",
    "            print(chr(j), end='')\n",
    "        s -= 1\n",
    "        t += 2\n",
    "        print()"
   ]
  },
  {
   "cell_type": "code",
   "execution_count": 33,
   "id": "e3be8284",
   "metadata": {},
   "outputs": [
    {
     "name": "stdout",
     "output_type": "stream",
     "text": [
      "    A\n",
      "   ABC\n",
      "  ABCDE\n",
      " ABCDEFG\n",
      "ABCDEFGHI\n"
     ]
    }
   ],
   "source": [
    "pattern41for()"
   ]
  },
  {
   "cell_type": "code",
   "execution_count": 35,
   "id": "43c9a841",
   "metadata": {},
   "outputs": [
    {
     "name": "stdout",
     "output_type": "stream",
     "text": [
      "       H\n",
      "      HIJ\n",
      "     HIJKL\n",
      "    HIJKLMN\n",
      "   HIJKLMNOP\n",
      "  HIJKLMNOPQR\n",
      " HIJKLMNOPQRST\n",
      "HIJKLMNOPQRSTUV\n"
     ]
    }
   ],
   "source": [
    "pattern41for(start='H', end='O')"
   ]
  },
  {
   "cell_type": "code",
   "execution_count": 11,
   "id": "9ef617e8",
   "metadata": {},
   "outputs": [],
   "source": [
    "# pattern 41 using while\n",
    "\n",
    "def pattern41while(start='A', end='E'):\n",
    "    s = ord(end)-ord(start)\n",
    "    i = ord(start)\n",
    "    r = ord(start)\n",
    "    while i <= ord(end):\n",
    "        print(' '*s, end='')\n",
    "        j = ord(start)\n",
    "        while j <= r:\n",
    "            print(chr(j), end='')\n",
    "            j += 1\n",
    "        r += 2\n",
    "        i += 1\n",
    "        s -= 1\n",
    "        print()"
   ]
  },
  {
   "cell_type": "code",
   "execution_count": 12,
   "id": "dc58c45a",
   "metadata": {},
   "outputs": [
    {
     "name": "stdout",
     "output_type": "stream",
     "text": [
      "    A\n",
      "   ABC\n",
      "  ABCDE\n",
      " ABCDEFG\n",
      "ABCDEFGHI\n"
     ]
    }
   ],
   "source": [
    "pattern41while()"
   ]
  },
  {
   "cell_type": "markdown",
   "id": "b8c8dd7d",
   "metadata": {},
   "source": [
    "## pattern 42"
   ]
  },
  {
   "cell_type": "code",
   "execution_count": 13,
   "id": "fd2cca88",
   "metadata": {},
   "outputs": [],
   "source": [
    "#     A\n",
    "#    CBA\n",
    "#   EDCBA\n",
    "#  GFEDCBA\n",
    "# IHGFEDCBA"
   ]
  },
  {
   "cell_type": "code",
   "execution_count": 15,
   "id": "1dfa562a",
   "metadata": {},
   "outputs": [],
   "source": [
    "# pattern 42 using for loop\n",
    "def pattern42for(start='A', end='E'):\n",
    "    s = ord(end)-ord(start)\n",
    "    r = ord(start)\n",
    "    for i in range(ord(start), ord(end)+1):\n",
    "        print(' '*s, end='')\n",
    "        for j in range(r, ord(start)-1, -1):\n",
    "            print(chr(j), end='')\n",
    "        s -= 1\n",
    "        r += 2\n",
    "        print()"
   ]
  },
  {
   "cell_type": "code",
   "execution_count": 16,
   "id": "d6c09b56",
   "metadata": {},
   "outputs": [
    {
     "name": "stdout",
     "output_type": "stream",
     "text": [
      "    A\n",
      "   CBA\n",
      "  EDCBA\n",
      " GFEDCBA\n",
      "IHGFEDCBA\n"
     ]
    }
   ],
   "source": [
    "pattern42for()"
   ]
  },
  {
   "cell_type": "code",
   "execution_count": 30,
   "id": "e4467bab",
   "metadata": {},
   "outputs": [
    {
     "name": "stdout",
     "output_type": "stream",
     "text": [
      "     H\n",
      "    JIH\n",
      "   LKJIH\n",
      "  NMLKJIH\n",
      " PONMLKJIH\n",
      "RQPONMLKJIH\n"
     ]
    }
   ],
   "source": [
    "pattern42for(start='H', end='M')"
   ]
  },
  {
   "cell_type": "code",
   "execution_count": 42,
   "id": "aed1e01f",
   "metadata": {},
   "outputs": [],
   "source": [
    "# pattern 42 using while loop\n",
    "def pattern42while(start='A', end='E'):\n",
    "    s = ord(end)-ord(start)\n",
    "    i = ord(start)\n",
    "    while i <= ord(end):\n",
    "        print(' '*s, end='')\n",
    "        j = (2 * i)-ord(start)\n",
    "        while j >= ord(start):\n",
    "            print(chr(j), end='')\n",
    "            j -= 1\n",
    "        s -= 1\n",
    "        i += 1\n",
    "        print()"
   ]
  },
  {
   "cell_type": "code",
   "execution_count": 43,
   "id": "299b0385",
   "metadata": {},
   "outputs": [
    {
     "name": "stdout",
     "output_type": "stream",
     "text": [
      "    A\n",
      "   CBA\n",
      "  EDCBA\n",
      " GFEDCBA\n",
      "IHGFEDCBA\n"
     ]
    }
   ],
   "source": [
    "pattern42while()"
   ]
  },
  {
   "cell_type": "code",
   "execution_count": 46,
   "id": "f1164213",
   "metadata": {},
   "outputs": [
    {
     "name": "stdout",
     "output_type": "stream",
     "text": [
      "       H\n",
      "      JIH\n",
      "     LKJIH\n",
      "    NMLKJIH\n",
      "   PONMLKJIH\n",
      "  RQPONMLKJIH\n",
      " TSRQPONMLKJIH\n",
      "VUTSRQPONMLKJIH\n"
     ]
    }
   ],
   "source": [
    "pattern42while(start='H', end='O')"
   ]
  },
  {
   "cell_type": "markdown",
   "id": "d524a588",
   "metadata": {},
   "source": [
    "## pattern 43"
   ]
  },
  {
   "cell_type": "code",
   "execution_count": null,
   "id": "067dc133",
   "metadata": {},
   "outputs": [],
   "source": [
    "#     0\n",
    "#    101\n",
    "#   21012\n",
    "#  3210123\n",
    "# 432101234"
   ]
  },
  {
   "cell_type": "code",
   "execution_count": 55,
   "id": "acfa9773",
   "metadata": {},
   "outputs": [],
   "source": [
    "# patten 43 using for loop\n",
    "def pattern43for(n=5):\n",
    "    for i in range(n):\n",
    "        for j in range(n - i - 1):\n",
    "            print(\" \", end=\"\")\n",
    "        for k in range(i, 0, -1):\n",
    "            print(k, end=\"\")\n",
    "        for l in range(i + 1):\n",
    "            print(l, end=\"\")\n",
    "        print()"
   ]
  },
  {
   "cell_type": "code",
   "execution_count": 56,
   "id": "81bdcf55",
   "metadata": {},
   "outputs": [
    {
     "name": "stdout",
     "output_type": "stream",
     "text": [
      "    0\n",
      "   101\n",
      "  21012\n",
      " 3210123\n",
      "432101234\n"
     ]
    }
   ],
   "source": [
    "pattern43for()"
   ]
  },
  {
   "cell_type": "code",
   "execution_count": 63,
   "id": "6446fe38",
   "metadata": {},
   "outputs": [
    {
     "name": "stdout",
     "output_type": "stream",
     "text": [
      "         0\n",
      "        101\n",
      "       21012\n",
      "      3210123\n",
      "     432101234\n",
      "    54321012345\n",
      "   6543210123456\n",
      "  765432101234567\n",
      " 87654321012345678\n",
      "9876543210123456789\n"
     ]
    }
   ],
   "source": [
    "pattern43for(10)"
   ]
  },
  {
   "cell_type": "code",
   "execution_count": 64,
   "id": "1e7bb869",
   "metadata": {},
   "outputs": [],
   "source": [
    "# pattern 43 using while loop \n",
    "def pattern43while(n=5):\n",
    "    i = 0\n",
    "    while i <= (n-1):\n",
    "        j = 0\n",
    "        while j <= (n-i-1):\n",
    "            print(' ', end='')\n",
    "            j += 1\n",
    "        k = i\n",
    "        while k >= 1:\n",
    "            print(k, end='')\n",
    "            k -= 1\n",
    "        l = 0\n",
    "        while l <= i:\n",
    "            print(l, end='')\n",
    "            l += 1\n",
    "        i += 1\n",
    "        print()"
   ]
  },
  {
   "cell_type": "code",
   "execution_count": 65,
   "id": "82332025",
   "metadata": {},
   "outputs": [
    {
     "name": "stdout",
     "output_type": "stream",
     "text": [
      "     0\n",
      "    101\n",
      "   21012\n",
      "  3210123\n",
      " 432101234\n"
     ]
    }
   ],
   "source": [
    "pattern43while()"
   ]
  },
  {
   "cell_type": "code",
   "execution_count": 66,
   "id": "f1895d33",
   "metadata": {},
   "outputs": [
    {
     "name": "stdout",
     "output_type": "stream",
     "text": [
      "          0\n",
      "         101\n",
      "        21012\n",
      "       3210123\n",
      "      432101234\n",
      "     54321012345\n",
      "    6543210123456\n",
      "   765432101234567\n",
      "  87654321012345678\n",
      " 9876543210123456789\n"
     ]
    }
   ],
   "source": [
    "pattern43while(10)"
   ]
  },
  {
   "cell_type": "markdown",
   "id": "7cce6955",
   "metadata": {},
   "source": [
    "## pattern 44"
   ]
  },
  {
   "cell_type": "code",
   "execution_count": 67,
   "id": "ad29c03d",
   "metadata": {},
   "outputs": [],
   "source": [
    "#      A\n",
    "#     BAB\n",
    "#    CBABC\n",
    "#   DCBABCD\n",
    "#  EDCBABCDE"
   ]
  },
  {
   "cell_type": "code",
   "execution_count": 70,
   "id": "9f5f4fcd",
   "metadata": {},
   "outputs": [],
   "source": [
    "# pattern 44 using for loop\n",
    "\n",
    "def pattern44for(start='A', end='E'):\n",
    "    for i in range(ord(start), ord(end)+1):\n",
    "        for j in range(ord(end)-i):\n",
    "            print(' ', end='')\n",
    "        for k in range(i, ord(start), -1):\n",
    "            print(chr(k), end='')\n",
    "        for l in range(ord(start), i+1):\n",
    "            print(chr(l), end='')\n",
    "        print()"
   ]
  },
  {
   "cell_type": "code",
   "execution_count": 71,
   "id": "ebbe28db",
   "metadata": {},
   "outputs": [
    {
     "name": "stdout",
     "output_type": "stream",
     "text": [
      "    A\n",
      "   BAB\n",
      "  CBABC\n",
      " DCBABCD\n",
      "EDCBABCDE\n"
     ]
    }
   ],
   "source": [
    "pattern44for()"
   ]
  },
  {
   "cell_type": "code",
   "execution_count": 73,
   "id": "9128e09f",
   "metadata": {},
   "outputs": [],
   "source": [
    "# pattern44for(start='H', end='O')"
   ]
  },
  {
   "cell_type": "code",
   "execution_count": 99,
   "id": "73077b3f",
   "metadata": {},
   "outputs": [],
   "source": [
    "# pattern 44 using while loop\n",
    "def pattern44while(start='A', end='E'):\n",
    "    i = ord(start)\n",
    "    while i <= ord(end):\n",
    "        j = ord(end)-i\n",
    "        while j >= 1:\n",
    "            print(' ', end='')\n",
    "            j -= 1\n",
    "        k = i\n",
    "        while k >= ord(start)+1:\n",
    "            print(chr(k), end='')\n",
    "            k -= 1\n",
    "        l = ord(start)\n",
    "        while l <= i:\n",
    "            print(chr(l), end='')\n",
    "            l += 1\n",
    "        i += 1\n",
    "        print()"
   ]
  },
  {
   "cell_type": "code",
   "execution_count": 100,
   "id": "da8b1579",
   "metadata": {},
   "outputs": [
    {
     "name": "stdout",
     "output_type": "stream",
     "text": [
      "    A\n",
      "   BAB\n",
      "  CBABC\n",
      " DCBABCD\n",
      "EDCBABCDE\n"
     ]
    }
   ],
   "source": [
    "pattern44while()"
   ]
  },
  {
   "cell_type": "code",
   "execution_count": 101,
   "id": "21719aa7",
   "metadata": {},
   "outputs": [
    {
     "name": "stdout",
     "output_type": "stream",
     "text": [
      "       H\n",
      "      IHI\n",
      "     JIHIJ\n",
      "    KJIHIJK\n",
      "   LKJIHIJKL\n",
      "  MLKJIHIJKLM\n",
      " NMLKJIHIJKLMN\n",
      "ONMLKJIHIJKLMNO\n"
     ]
    }
   ],
   "source": [
    "pattern44while(start='H', end='O')"
   ]
  },
  {
   "cell_type": "markdown",
   "id": "115c62b4",
   "metadata": {},
   "source": [
    "## pattern 45 "
   ]
  },
  {
   "cell_type": "code",
   "execution_count": null,
   "id": "b3004923",
   "metadata": {},
   "outputs": [],
   "source": [
    "#     1\n",
    "#    121\n",
    "#   12321\n",
    "#  1234321"
   ]
  },
  {
   "cell_type": "code",
   "execution_count": 126,
   "id": "2523d143",
   "metadata": {},
   "outputs": [],
   "source": [
    "# pattern 45 using for loop\n",
    "def pattern45for(n=4):\n",
    "    for i in range(1, n+1):\n",
    "        for j in range(0, n-i):\n",
    "            print(' ', end='')\n",
    "        for k in range(1,i):\n",
    "            print(k, end='')\n",
    "        for l in range(i, 0, -1):\n",
    "            print(l, end='')\n",
    "        print()"
   ]
  },
  {
   "cell_type": "code",
   "execution_count": 129,
   "id": "d6e7f567",
   "metadata": {},
   "outputs": [
    {
     "name": "stdout",
     "output_type": "stream",
     "text": [
      "    1\n",
      "   121\n",
      "  12321\n",
      " 1234321\n",
      "123454321\n"
     ]
    }
   ],
   "source": [
    "pattern45for()"
   ]
  },
  {
   "cell_type": "code",
   "execution_count": 130,
   "id": "3571c057",
   "metadata": {},
   "outputs": [
    {
     "name": "stdout",
     "output_type": "stream",
     "text": [
      "        1\n",
      "       121\n",
      "      12321\n",
      "     1234321\n",
      "    123454321\n",
      "   12345654321\n",
      "  1234567654321\n",
      " 123456787654321\n",
      "12345678987654321\n"
     ]
    }
   ],
   "source": [
    "pattern45for(9)"
   ]
  },
  {
   "cell_type": "code",
   "execution_count": 143,
   "id": "115ea92f",
   "metadata": {},
   "outputs": [],
   "source": [
    "# pattern 45 using while loop\n",
    "def pattern45while(n=4):\n",
    "    i = 1\n",
    "    while i <= n:\n",
    "        j = 0\n",
    "        while j <= (n-i)+1:\n",
    "            print(' ', end='')\n",
    "            j += 1\n",
    "        k = 1\n",
    "        while k <= i-1:\n",
    "            print(k, end='')\n",
    "            k += 1\n",
    "        l = i\n",
    "        while l >= 1:\n",
    "            print(l, end='')\n",
    "            l -= 1\n",
    "        i += 1\n",
    "        print()"
   ]
  },
  {
   "cell_type": "code",
   "execution_count": 144,
   "id": "e8fef228",
   "metadata": {},
   "outputs": [
    {
     "name": "stdout",
     "output_type": "stream",
     "text": [
      "     1\n",
      "    121\n",
      "   12321\n",
      "  1234321\n"
     ]
    }
   ],
   "source": [
    "pattern45while()"
   ]
  },
  {
   "cell_type": "code",
   "execution_count": 145,
   "id": "dd3218ff",
   "metadata": {},
   "outputs": [
    {
     "name": "stdout",
     "output_type": "stream",
     "text": [
      "        1\n",
      "       121\n",
      "      12321\n",
      "     1234321\n",
      "    123454321\n",
      "   12345654321\n",
      "  1234567654321\n",
      " 123456787654321\n",
      "12345678987654321\n"
     ]
    }
   ],
   "source": [
    "pattern45for(9)"
   ]
  },
  {
   "cell_type": "markdown",
   "id": "613701b2",
   "metadata": {},
   "source": [
    "## pattern 46"
   ]
  },
  {
   "cell_type": "code",
   "execution_count": 146,
   "id": "e449b3dd",
   "metadata": {},
   "outputs": [],
   "source": [
    "#     A \n",
    "#    ABA\n",
    "#   ABCBA\n",
    "#  ABCDCBA\n",
    "# ABCDEDCBA"
   ]
  },
  {
   "cell_type": "code",
   "execution_count": 163,
   "id": "02ca735d",
   "metadata": {},
   "outputs": [],
   "source": [
    "# pattern 46 using for loop\n",
    "\n",
    "def pattern46for(start='A', end='E'):\n",
    "    for i in range(ord(start), ord(end)+1):\n",
    "        n = ord(end)\n",
    "        for j in range(0, n-i):\n",
    "            print(' ', end='')\n",
    "        for k in range(ord(start), i):\n",
    "            print(chr(k), end='')\n",
    "        for l in range(i, ord(start)-1, -1):\n",
    "            print(chr(l), end='')\n",
    "        print()"
   ]
  },
  {
   "cell_type": "code",
   "execution_count": 164,
   "id": "adcb755d",
   "metadata": {},
   "outputs": [
    {
     "name": "stdout",
     "output_type": "stream",
     "text": [
      "    A\n",
      "   ABA\n",
      "  ABCBA\n",
      " ABCDCBA\n",
      "ABCDEDCBA\n"
     ]
    }
   ],
   "source": [
    "pattern46for()"
   ]
  },
  {
   "cell_type": "code",
   "execution_count": 165,
   "id": "dcdc11a1",
   "metadata": {},
   "outputs": [
    {
     "name": "stdout",
     "output_type": "stream",
     "text": [
      "       H\n",
      "      HIH\n",
      "     HIJIH\n",
      "    HIJKJIH\n",
      "   HIJKLKJIH\n",
      "  HIJKLMLKJIH\n",
      " HIJKLMNMLKJIH\n",
      "HIJKLMNONMLKJIH\n"
     ]
    }
   ],
   "source": [
    "pattern46for(start='H', end='O')"
   ]
  },
  {
   "cell_type": "code",
   "execution_count": 25,
   "id": "f8990eb2",
   "metadata": {},
   "outputs": [],
   "source": [
    "# pattern 46 using while loop\n",
    "def pattern46while(start='A', end='E'):\n",
    "    i = ord(start)\n",
    "    while i <= ord(end):\n",
    "        n = ord(end)\n",
    "        j = 1\n",
    "        while j <= n-i:\n",
    "            print(' ', end='')\n",
    "            j += 1\n",
    "        k = ord(start)\n",
    "        while k <= i-1:\n",
    "            print(chr(k), end='')\n",
    "            k += 1\n",
    "        l = i\n",
    "        while l >= ord(start):\n",
    "            print(chr(l), end='')\n",
    "            l -= 1\n",
    "        i += 1\n",
    "        print()"
   ]
  },
  {
   "cell_type": "code",
   "execution_count": 26,
   "id": "aa0b828b",
   "metadata": {},
   "outputs": [
    {
     "name": "stdout",
     "output_type": "stream",
     "text": [
      "    A\n",
      "   ABA\n",
      "  ABCBA\n",
      " ABCDCBA\n",
      "ABCDEDCBA\n"
     ]
    }
   ],
   "source": [
    "pattern46while()"
   ]
  },
  {
   "cell_type": "code",
   "execution_count": 30,
   "id": "06463e9c",
   "metadata": {},
   "outputs": [
    {
     "name": "stdout",
     "output_type": "stream",
     "text": [
      "         I\n",
      "        IJI\n",
      "       IJKJI\n",
      "      IJKLKJI\n",
      "     IJKLMLKJI\n",
      "    IJKLMNMLKJI\n",
      "   IJKLMNONMLKJI\n",
      "  IJKLMNOPONMLKJI\n",
      " IJKLMNOPQPONMLKJI\n",
      "IJKLMNOPQRQPONMLKJI\n"
     ]
    }
   ],
   "source": [
    "pattern46while(start='I', end='R')"
   ]
  },
  {
   "cell_type": "markdown",
   "id": "34d77a22",
   "metadata": {},
   "source": [
    "## pattern 47"
   ]
  },
  {
   "cell_type": "code",
   "execution_count": 31,
   "id": "9d234fb8",
   "metadata": {},
   "outputs": [],
   "source": [
    "# *******\n",
    "#  *****\n",
    "#   ***\n",
    "#    *"
   ]
  },
  {
   "cell_type": "code",
   "execution_count": 21,
   "id": "265f8386",
   "metadata": {},
   "outputs": [],
   "source": [
    "# pattern 47 using for loop\n",
    "def pattern47for(char='*', n=4):\n",
    "    k = 1\n",
    "    for i in range(n+3, 0, -2):\n",
    "        print(' ' * k + char*i)\n",
    "        k += 1"
   ]
  },
  {
   "cell_type": "code",
   "execution_count": 22,
   "id": "7f1e5e4b",
   "metadata": {},
   "outputs": [
    {
     "name": "stdout",
     "output_type": "stream",
     "text": [
      " *******\n",
      "  *****\n",
      "   ***\n",
      "    *\n"
     ]
    }
   ],
   "source": [
    "pattern47for()"
   ]
  },
  {
   "cell_type": "code",
   "execution_count": 26,
   "id": "51037585",
   "metadata": {},
   "outputs": [
    {
     "name": "stdout",
     "output_type": "stream",
     "text": [
      " !!!!!!!!!!!\n",
      "  !!!!!!!!!\n",
      "   !!!!!!!\n",
      "    !!!!!\n",
      "     !!!\n",
      "      !\n"
     ]
    }
   ],
   "source": [
    "pattern47for(char='!', n = 8)"
   ]
  },
  {
   "cell_type": "code",
   "execution_count": 38,
   "id": "381bf3de",
   "metadata": {},
   "outputs": [],
   "source": [
    "# pattern 47 using while\n",
    "def pattern47while(char='*', n = 4):\n",
    "    k = 0\n",
    "    i = n+3\n",
    "    while i >= 1:\n",
    "        print(' '*k + char*i)\n",
    "        i -= 2\n",
    "        k += 1"
   ]
  },
  {
   "cell_type": "code",
   "execution_count": 39,
   "id": "bdaf0661",
   "metadata": {},
   "outputs": [
    {
     "name": "stdout",
     "output_type": "stream",
     "text": [
      "*******\n",
      " *****\n",
      "  ***\n",
      "   *\n"
     ]
    }
   ],
   "source": [
    "pattern47while()"
   ]
  },
  {
   "cell_type": "code",
   "execution_count": 40,
   "id": "9d6161c0",
   "metadata": {},
   "outputs": [
    {
     "name": "stdout",
     "output_type": "stream",
     "text": [
      "$$$$$$$$$$$\n",
      " $$$$$$$$$\n",
      "  $$$$$$$\n",
      "   $$$$$\n",
      "    $$$\n",
      "     $\n"
     ]
    }
   ],
   "source": [
    "pattern47while(char='$', n=8)"
   ]
  },
  {
   "cell_type": "markdown",
   "id": "1563963b",
   "metadata": {},
   "source": [
    "## pattern 48 "
   ]
  },
  {
   "cell_type": "code",
   "execution_count": 41,
   "id": "02c3b47e",
   "metadata": {},
   "outputs": [],
   "source": [
    "# 4444444\n",
    "#  33333\n",
    "#   222\n",
    "#    1"
   ]
  },
  {
   "cell_type": "code",
   "execution_count": 48,
   "id": "dc426aca",
   "metadata": {},
   "outputs": [],
   "source": [
    "# pattern 48 using for loop\n",
    "def pattern48for(n=4):\n",
    "    k = 0\n",
    "    j = n+3\n",
    "    for i in range(n, 0, -1):\n",
    "        print(' '*k + str(i)*j, end='')\n",
    "        j -= 2\n",
    "        k += 1\n",
    "        print()"
   ]
  },
  {
   "cell_type": "code",
   "execution_count": 49,
   "id": "ffd74a45",
   "metadata": {},
   "outputs": [
    {
     "name": "stdout",
     "output_type": "stream",
     "text": [
      "4444444\n",
      " 33333\n",
      "  222\n",
      "   1\n"
     ]
    }
   ],
   "source": [
    "pattern48for()"
   ]
  },
  {
   "cell_type": "code",
   "execution_count": 51,
   "id": "3479b577",
   "metadata": {},
   "outputs": [],
   "source": [
    "# pattern 48 using while loop\n",
    "def pattern48while(n=4):\n",
    "    k = 0\n",
    "    j = n+3\n",
    "    i = n\n",
    "    while i >= 1:\n",
    "        print(' '*k + str(i)*j)\n",
    "        j -= 2\n",
    "        k += 1\n",
    "        i -= 1"
   ]
  },
  {
   "cell_type": "code",
   "execution_count": 52,
   "id": "ab1a5b13",
   "metadata": {},
   "outputs": [
    {
     "name": "stdout",
     "output_type": "stream",
     "text": [
      "4444444\n",
      " 33333\n",
      "  222\n",
      "   1\n"
     ]
    }
   ],
   "source": [
    "pattern48while()"
   ]
  },
  {
   "cell_type": "markdown",
   "id": "e5c431bb",
   "metadata": {},
   "source": [
    "## pattern 49"
   ]
  },
  {
   "cell_type": "code",
   "execution_count": null,
   "id": "d367dcdc",
   "metadata": {},
   "outputs": [],
   "source": [
    "# 7777777\n",
    "#  55555\n",
    "#   333\n",
    "#    1"
   ]
  },
  {
   "cell_type": "code",
   "execution_count": 53,
   "id": "c35c331e",
   "metadata": {},
   "outputs": [],
   "source": [
    "def pattern49for(n=4):\n",
    "    k = 0\n",
    "    j = n+3\n",
    "    for i in range(n+3, 0, -2):\n",
    "        print(' '*k + str(i)*j, end='')\n",
    "        j -= 2\n",
    "        k += 1\n",
    "        print()"
   ]
  },
  {
   "cell_type": "code",
   "execution_count": 54,
   "id": "50ed47cf",
   "metadata": {},
   "outputs": [
    {
     "name": "stdout",
     "output_type": "stream",
     "text": [
      "7777777\n",
      " 55555\n",
      "  333\n",
      "   1\n"
     ]
    }
   ],
   "source": [
    "pattern49for()"
   ]
  },
  {
   "cell_type": "code",
   "execution_count": 57,
   "id": "5f743667",
   "metadata": {},
   "outputs": [],
   "source": [
    "# pattern 49 using while loop\n",
    "def pattern49while(n=4):\n",
    "    k = 0\n",
    "    j = n+3\n",
    "    i = n+3\n",
    "    while i >= 1:\n",
    "        print(' '*k + str(i)*j)\n",
    "        j -= 2\n",
    "        k += 1\n",
    "        i -= 2"
   ]
  },
  {
   "cell_type": "code",
   "execution_count": 58,
   "id": "12e3b717",
   "metadata": {},
   "outputs": [
    {
     "name": "stdout",
     "output_type": "stream",
     "text": [
      "7777777\n",
      " 55555\n",
      "  333\n",
      "   1\n"
     ]
    }
   ],
   "source": [
    "pattern49while()"
   ]
  },
  {
   "cell_type": "markdown",
   "id": "d17ba4c7",
   "metadata": {},
   "source": [
    "## pattern 50"
   ]
  },
  {
   "cell_type": "code",
   "execution_count": 59,
   "id": "f6c200e1",
   "metadata": {},
   "outputs": [],
   "source": [
    "# 1234567\n",
    "#  12345\n",
    "#   123\n",
    "#    1"
   ]
  },
  {
   "cell_type": "code",
   "execution_count": 91,
   "id": "f2897860",
   "metadata": {},
   "outputs": [],
   "source": [
    "# pattern 50 using for loop\n",
    "def pattern50for(n=4):\n",
    "    j = n+4\n",
    "    for k in range(0, n):\n",
    "        print(' '*k, end='')\n",
    "        for i in range(1, j):\n",
    "            print(i, end='')\n",
    "        print()\n",
    "        j -= 2"
   ]
  },
  {
   "cell_type": "code",
   "execution_count": 92,
   "id": "9caafbd2",
   "metadata": {},
   "outputs": [
    {
     "name": "stdout",
     "output_type": "stream",
     "text": [
      "1234567\n",
      " 12345\n",
      "  123\n",
      "   1\n"
     ]
    }
   ],
   "source": [
    "pattern50for()"
   ]
  },
  {
   "cell_type": "code",
   "execution_count": 95,
   "id": "265c63cf",
   "metadata": {},
   "outputs": [],
   "source": [
    "# pattern 50 using while loop\n",
    "def pattern50while(n=4):\n",
    "    j = n + 3\n",
    "    k = 0\n",
    "    while k <= n-1:\n",
    "        print(' '*k, end='')\n",
    "        i = 1\n",
    "        while i <= j:\n",
    "            print(i, end='')\n",
    "            i += 1\n",
    "        j -= 2\n",
    "        k += 1\n",
    "        print()"
   ]
  },
  {
   "cell_type": "code",
   "execution_count": 96,
   "id": "95b29575",
   "metadata": {},
   "outputs": [
    {
     "name": "stdout",
     "output_type": "stream",
     "text": [
      "1234567\n",
      " 12345\n",
      "  123\n",
      "   1\n"
     ]
    }
   ],
   "source": [
    "pattern50while()"
   ]
  },
  {
   "cell_type": "code",
   "execution_count": 99,
   "id": "dde498a4",
   "metadata": {},
   "outputs": [
    {
     "name": "stdout",
     "output_type": "stream",
     "text": [
      "123456789\n",
      " 1234567\n",
      "  12345\n",
      "   123\n",
      "    1\n",
      "     \n"
     ]
    }
   ],
   "source": [
    "pattern50while(6)"
   ]
  }
 ],
 "metadata": {
  "kernelspec": {
   "display_name": "Python 3 (ipykernel)",
   "language": "python",
   "name": "python3"
  },
  "language_info": {
   "codemirror_mode": {
    "name": "ipython",
    "version": 3
   },
   "file_extension": ".py",
   "mimetype": "text/x-python",
   "name": "python",
   "nbconvert_exporter": "python",
   "pygments_lexer": "ipython3",
   "version": "3.10.9"
  }
 },
 "nbformat": 4,
 "nbformat_minor": 5
}
