{
 "cells": [
  {
   "cell_type": "markdown",
   "id": "16337f3a",
   "metadata": {},
   "source": [
    "### `*args` and `**kwargs`:\n",
    "***\n",
    "* In Python, *args and **kwargs are special syntax used in function definitions to allow the handling of variable-length argument lists. \n",
    "* They are used when you want to pass a varying number of positional or keyword arguments to a function. \n",
    "* The names args and kwargs are just conventions, and you can use any other names, but these are commonly used in the Python community."
   ]
  },
  {
   "cell_type": "code",
   "execution_count": null,
   "id": "fa9260e4",
   "metadata": {},
   "outputs": [],
   "source": [
    "# arbitery positional args are called as *args, while keyword arguments are reffered as **kwargs\n",
    "\n",
    "# words, args & kwargs are followed in industry, you subsitute other words in their place.\n",
    "\n",
    "# what matters are * & **\n",
    "\n",
    "# *args are given as list, ehere as **kwargs are given as dict"
   ]
  },
  {
   "cell_type": "markdown",
   "id": "52c615aa",
   "metadata": {},
   "source": [
    "#### `*args` (Arbitrary Positional Arguments) :\n",
    "***\n",
    "* When you use *args in a function definition, it allows the function to accept an arbitrary number of positional arguments as a tuple. \n",
    "* You can pass any number of arguments, and they will be collected into a tuple inside the function."
   ]
  },
  {
   "cell_type": "code",
   "execution_count": 3,
   "id": "b8494352",
   "metadata": {},
   "outputs": [
    {
     "name": "stdout",
     "output_type": "stream",
     "text": [
      "15\n"
     ]
    }
   ],
   "source": [
    "# Example: \n",
    "\n",
    "def sum_numbers(*args):\n",
    "    total = 0\n",
    "    for num in args:\n",
    "        total += num\n",
    "    return total\n",
    "\n",
    "result = sum_numbers(1, 2, 3, 4, 5)\n",
    "print(result)  # Output: 15\n"
   ]
  },
  {
   "cell_type": "markdown",
   "id": "c332fefb",
   "metadata": {},
   "source": [
    "> In this example, `*args` allows the `sum_numbers` function to accept any number of arguments, and it calculates their `sum`."
   ]
  },
  {
   "cell_type": "markdown",
   "id": "b1a41fec",
   "metadata": {},
   "source": [
    "#### `**kwargs` (Arbitrary Keyword Arguments):\n",
    "***\n",
    "* Similarly, `**kwargs` allows a function to accept an arbitrary number of keyword arguments as a dictionary. \n",
    "* The name \"kwargs\" stands for \"keyword arguments.\""
   ]
  },
  {
   "cell_type": "code",
   "execution_count": 5,
   "id": "fe90b714",
   "metadata": {},
   "outputs": [
    {
     "name": "stdout",
     "output_type": "stream",
     "text": [
      "name: Alice\n",
      "age: 30\n",
      "city: New York\n"
     ]
    }
   ],
   "source": [
    "# Example: \n",
    "\n",
    "def print_kwargs(**kwargs):\n",
    "    for key, value in kwargs.items():\n",
    "        print(f\"{key}: {value}\")\n",
    "\n",
    "print_kwargs(name=\"Alice\", age=30, city=\"New York\")\n"
   ]
  },
  {
   "cell_type": "markdown",
   "id": "4eac63d8",
   "metadata": {},
   "source": [
    "> In this example, **kwargs enables the print_kwargs function to accept keyword arguments, and it prints them out in a key-value format."
   ]
  },
  {
   "cell_type": "markdown",
   "id": "cd713198",
   "metadata": {},
   "source": [
    "#### Combining `*args` and `**kwargs`:\n",
    "***\n",
    "* You can also use both `*args` and `**kwargs` in the same function definition if you want to handle both variable-length positional and keyword arguments."
   ]
  },
  {
   "cell_type": "code",
   "execution_count": 6,
   "id": "0e1a8c61",
   "metadata": {},
   "outputs": [
    {
     "name": "stdout",
     "output_type": "stream",
     "text": [
      "Positional arguments (args): (1, 2)\n",
      "Keyword arguments (kwargs): {'a': 'apple', 'b': 'banana', 'c': 'cherry'}\n"
     ]
    }
   ],
   "source": [
    "# Example:\n",
    "\n",
    "def example_function(*args, **kwargs):\n",
    "    print(\"Positional arguments (args):\", args)\n",
    "    print(\"Keyword arguments (kwargs):\", kwargs)\n",
    "\n",
    "example_function(1, 2, a=\"apple\", b=\"banana\", c=\"cherry\")"
   ]
  },
  {
   "cell_type": "markdown",
   "id": "39aa55d8",
   "metadata": {},
   "source": [
    "> In this example, the example_function accepts both positional and keyword arguments and prints them accordingly."
   ]
  }
 ],
 "metadata": {
  "kernelspec": {
   "display_name": "Python 3 (ipykernel)",
   "language": "python",
   "name": "python3"
  },
  "language_info": {
   "codemirror_mode": {
    "name": "ipython",
    "version": 3
   },
   "file_extension": ".py",
   "mimetype": "text/x-python",
   "name": "python",
   "nbconvert_exporter": "python",
   "pygments_lexer": "ipython3",
   "version": "3.10.9"
  }
 },
 "nbformat": 4,
 "nbformat_minor": 5
}
