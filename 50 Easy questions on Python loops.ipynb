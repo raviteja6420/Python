{
 "cells": [
  {
   "cell_type": "markdown",
   "id": "25a0939a",
   "metadata": {},
   "source": [
    "## Easy Exercise on python loops"
   ]
  },
  {
   "cell_type": "markdown",
   "id": "c37c5c18",
   "metadata": {},
   "source": [
    "### 01. Sum all numbers from 1 to n using a for loop."
   ]
  },
  {
   "cell_type": "code",
   "execution_count": 5,
   "id": "abe16678",
   "metadata": {},
   "outputs": [
    {
     "name": "stdout",
     "output_type": "stream",
     "text": [
      "Enter your Number: 100\n",
      "5050\n"
     ]
    }
   ],
   "source": [
    "n = int(input('Enter your Number: '))\n",
    "sum = 0\n",
    "for num in (range(1 , n+1)):\n",
    "    sum = sum + num\n",
    "    \n",
    "print(sum)"
   ]
  },
  {
   "cell_type": "markdown",
   "id": "abd7738e",
   "metadata": {},
   "source": [
    "### 02. Print all even numbers from a list using a for loop."
   ]
  },
  {
   "cell_type": "code",
   "execution_count": 6,
   "id": "b35b38e4",
   "metadata": {},
   "outputs": [
    {
     "name": "stdout",
     "output_type": "stream",
     "text": [
      "2\n",
      "4\n",
      "6\n",
      "8\n",
      "10\n"
     ]
    }
   ],
   "source": [
    "num = [1,2,3,4,5,6,7,8,9,10]\n",
    "for even in num:\n",
    "    if even % 2 == 0:\n",
    "        print(even)"
   ]
  },
  {
   "cell_type": "markdown",
   "id": "dd7cc488",
   "metadata": {},
   "source": [
    "### 03. Concatenate all strings from a list into one using a for loop."
   ]
  },
  {
   "cell_type": "code",
   "execution_count": 9,
   "id": "b155b27a",
   "metadata": {},
   "outputs": [
    {
     "name": "stdout",
     "output_type": "stream",
     "text": [
      " Python is awesome\n"
     ]
    }
   ],
   "source": [
    "words = ['Python', 'is', 'awesome']\n",
    "result = ''\n",
    "for word in words:\n",
    "    result = result + ' ' + word\n",
    "print(result)"
   ]
  },
  {
   "cell_type": "markdown",
   "id": "a2c75f6d",
   "metadata": {},
   "source": [
    "### 04. Find the factorial of a given number using a while loop."
   ]
  },
  {
   "cell_type": "code",
   "execution_count": 25,
   "id": "c7cca00d",
   "metadata": {},
   "outputs": [
    {
     "name": "stdout",
     "output_type": "stream",
     "text": [
      "Enter number you want to find !: 5\n",
      "120\n"
     ]
    }
   ],
   "source": [
    "num = int(input('Enter number you want to find !: '))\n",
    "fac = 1\n",
    "while num > 0:\n",
    "    fac = fac * num\n",
    "    num -= 1\n",
    "    \n",
    "print(fac)"
   ]
  },
  {
   "cell_type": "markdown",
   "id": "5a73eaab",
   "metadata": {},
   "source": [
    "### 05. Remove duplicates from a list using a for loop."
   ]
  },
  {
   "cell_type": "code",
   "execution_count": 27,
   "id": "50067b1c",
   "metadata": {},
   "outputs": [
    {
     "name": "stdout",
     "output_type": "stream",
     "text": [
      "[1, 2, 4, 5, 9, 8, 7, 6, 3]\n"
     ]
    }
   ],
   "source": [
    "items_list = [1,2,4,1,5,4,4,5,9,8,7,6,3,1]\n",
    "unique = []\n",
    "\n",
    "for num in items_list:\n",
    "    if num not in unique:\n",
    "        unique.append(num)\n",
    "        \n",
    "print(unique)"
   ]
  },
  {
   "cell_type": "markdown",
   "id": "f20d5874",
   "metadata": {},
   "source": [
    "### 06. Print the keys of a dictionary using a for loop"
   ]
  },
  {
   "cell_type": "code",
   "execution_count": 30,
   "id": "54a84ab3",
   "metadata": {},
   "outputs": [
    {
     "name": "stdout",
     "output_type": "stream",
     "text": [
      "Name is:  Abhilash\n",
      "Name is:  Bharat\n",
      "Name is:  Chirudeep\n",
      "Name is:  David\n",
      "Name is:  Evanka\n"
     ]
    }
   ],
   "source": [
    "student_scores = {\n",
    "    \"Abhilash\": 85,\n",
    "    \"Bharat\": 92,\n",
    "    \"Chirudeep\": 78,\n",
    "    \"David\": 90,\n",
    "    \"Evanka\": 88\n",
    "}\n",
    "\n",
    "for keys in student_scores:\n",
    "    print(f'Name is:  {keys}')"
   ]
  },
  {
   "cell_type": "markdown",
   "id": "f5b53a02",
   "metadata": {},
   "source": [
    "### 07. Count the number of vowels in a given string using a for loop"
   ]
  },
  {
   "cell_type": "code",
   "execution_count": 32,
   "id": "533c4050",
   "metadata": {},
   "outputs": [
    {
     "name": "stdout",
     "output_type": "stream",
     "text": [
      "Enter your string: raviteja\n",
      "4\n"
     ]
    }
   ],
   "source": [
    "string = input('Enter your string: ')\n",
    "vowels = 'aeiouAEIOU'\n",
    "count = 0\n",
    "for char in string:\n",
    "    if char in vowels:\n",
    "        count += 1\n",
    "        \n",
    "print(count)"
   ]
  },
  {
   "cell_type": "markdown",
   "id": "7f002b57",
   "metadata": {},
   "source": [
    "### 08. Reverse a list using a while loop."
   ]
  },
  {
   "cell_type": "code",
   "execution_count": 34,
   "id": "2cc6fb21",
   "metadata": {},
   "outputs": [
    {
     "name": "stdout",
     "output_type": "stream",
     "text": [
      "[5, 4, 3, 2, 1]\n"
     ]
    }
   ],
   "source": [
    "numbers = [1, 2, 3, 4, 5]\n",
    "start, end = 0, len(numbers) - 1\n",
    "while start < end:\n",
    "    numbers[start], numbers[end] = numbers[end], numbers[start]\n",
    "    start += 1\n",
    "    end -= 1\n",
    "print(numbers)"
   ]
  },
  {
   "cell_type": "markdown",
   "id": "8be238e1",
   "metadata": {},
   "source": [
    "### 09. Recreatin len() function using loops"
   ]
  },
  {
   "cell_type": "code",
   "execution_count": 1,
   "id": "b2a0094c",
   "metadata": {},
   "outputs": [
    {
     "name": "stdout",
     "output_type": "stream",
     "text": [
      "Enter your string: raviteja\n",
      "8\n"
     ]
    }
   ],
   "source": [
    "string = input('Enter your string: ')\n",
    "c = 0\n",
    "for char in string:\n",
    "    c += 1\n",
    "    \n",
    "print(c)"
   ]
  },
  {
   "cell_type": "markdown",
   "id": "47a90d5b",
   "metadata": {},
   "source": [
    "### 10. Create a list of squares of numbers from 1 to n using a for loop."
   ]
  },
  {
   "cell_type": "code",
   "execution_count": 1,
   "id": "705dee48",
   "metadata": {},
   "outputs": [
    {
     "name": "stdout",
     "output_type": "stream",
     "text": [
      "Enter your Number: 5\n",
      "[1, 4, 9, 16, 25]\n"
     ]
    }
   ],
   "source": [
    "num = int(input('Enter your Number: '))\n",
    "sq = []\n",
    "\n",
    "for char in range(1, num + 1):\n",
    "    sq.append(char ** 2)\n",
    "    num += 1\n",
    "    \n",
    "print(sq)"
   ]
  },
  {
   "cell_type": "code",
   "execution_count": 2,
   "id": "d2e9038b",
   "metadata": {},
   "outputs": [
    {
     "name": "stdout",
     "output_type": "stream",
     "text": [
      "Enter number: 5\n",
      "[1, 4, 9, 16, 25]\n"
     ]
    }
   ],
   "source": [
    "num = int(input('Enter number: '))\n",
    "sq = [i ** 2 for i in range(1, num + 1)]\n",
    "print(sq)"
   ]
  },
  {
   "cell_type": "markdown",
   "id": "010d13af",
   "metadata": {},
   "source": [
    "### 11. Check if a given number is prime using a for loop."
   ]
  },
  {
   "cell_type": "code",
   "execution_count": 4,
   "id": "5c245024",
   "metadata": {},
   "outputs": [
    {
     "name": "stdout",
     "output_type": "stream",
     "text": [
      "Enter Number: 6\n",
      "6 is not Prime number\n"
     ]
    }
   ],
   "source": [
    "num = int(input('Enter Number: '))\n",
    "is_prime = True\n",
    "\n",
    "for i in range(2, (num//2)+1):\n",
    "    if num % i == 0:\n",
    "        is_prime = False\n",
    "        break\n",
    "if is_prime:\n",
    "    print(f'{num} is prime Number')\n",
    "else:\n",
    "    print(f'{num} is not Prime number')"
   ]
  },
  {
   "cell_type": "markdown",
   "id": "227161aa",
   "metadata": {},
   "source": [
    "### 12. Merge two dictionaries into one using a for loop."
   ]
  },
  {
   "cell_type": "code",
   "execution_count": 7,
   "id": "9c4030e8",
   "metadata": {},
   "outputs": [
    {
     "name": "stdout",
     "output_type": "stream",
     "text": [
      "{'a': 1, 'b': 2, 'c': 3, 'd': 4, 'e': 5, 'f': 6, 'g': 7, 'h': 8}\n"
     ]
    }
   ],
   "source": [
    "dict1 = {\"a\": 1, \"b\": 2, \"c\": 3, \"d\": 4}\n",
    "dict2 = {\"e\": 5, \"f\": 6, \"g\": 7, \"h\": 8}\n",
    "\n",
    "merged_dict = {}\n",
    "\n",
    "for key in dict1:\n",
    "    merged_dict[key] = dict1[key]\n",
    "    \n",
    "for key in dict2:\n",
    "    merged_dict[key] = dict2[key]\n",
    "    \n",
    "print(merged_dict)"
   ]
  },
  {
   "cell_type": "markdown",
   "id": "66267984",
   "metadata": {},
   "source": [
    "### 13. Calculate the average of numbers in a list using a for loop."
   ]
  },
  {
   "cell_type": "code",
   "execution_count": 16,
   "id": "7ab6199b",
   "metadata": {},
   "outputs": [
    {
     "name": "stdout",
     "output_type": "stream",
     "text": [
      "Enter numbers separeted by space: 1 5 4 5 7 5 9 6\n",
      "5.25\n"
     ]
    }
   ],
   "source": [
    "lst = input('Enter numbers separeted by space: ').split()\n",
    "sum = 0\n",
    "for num in lst:\n",
    "    sum = sum + int(num)\n",
    "    \n",
    "avg = sum / len(lst)\n",
    "\n",
    "print(avg)"
   ]
  },
  {
   "cell_type": "markdown",
   "id": "8bcee458",
   "metadata": {},
   "source": [
    "### 14. Convert a string to uppercase using a for loop."
   ]
  },
  {
   "cell_type": "code",
   "execution_count": 25,
   "id": "926f3621",
   "metadata": {},
   "outputs": [
    {
     "name": "stdout",
     "output_type": "stream",
     "text": [
      "Enter string: raviteja\n",
      "RAVITEJA\n"
     ]
    }
   ],
   "source": [
    "string = input('Enter string: ')\n",
    "upper = \"\"\n",
    "for char in string:\n",
    "    upper += char.upper()\n",
    "    \n",
    "print(upper)"
   ]
  },
  {
   "cell_type": "markdown",
   "id": "85fa37b9",
   "metadata": {},
   "source": [
    "### 15. Find the length of the longest word in a sentence using a for loop."
   ]
  },
  {
   "cell_type": "code",
   "execution_count": 34,
   "id": "158ca9de",
   "metadata": {},
   "outputs": [
    {
     "name": "stdout",
     "output_type": "stream",
     "text": [
      "Enter your sentense: Maddela ravi teja\n",
      "length of longest word in a sentense is: 7\n"
     ]
    }
   ],
   "source": [
    "sen = input('Enter your sentense: ').split()\n",
    "max_len = 0\n",
    "for word in sen:\n",
    "    if len(word) > max_len:\n",
    "        max_len = len(word)\n",
    "        \n",
    "print(f'length of longest word in a sentense is: {max_len}')"
   ]
  },
  {
   "cell_type": "markdown",
   "id": "cc9cd131",
   "metadata": {},
   "source": [
    "### 16. Remove all occurrences of a specific element from a list using a while loop."
   ]
  },
  {
   "cell_type": "code",
   "execution_count": 41,
   "id": "f7276e66",
   "metadata": {},
   "outputs": [
    {
     "name": "stdout",
     "output_type": "stream",
     "text": [
      "[1, 3, 4, 5, 3, 5]\n"
     ]
    }
   ],
   "source": [
    "numbers = [1, 2, 2, 3, 4, 2, 5, 2, 3, 5]\n",
    "\n",
    "element_to_remove = 2\n",
    "\n",
    "while element_to_remove in numbers:\n",
    "    \n",
    "    numbers.remove(element_to_remove)\n",
    "    \n",
    "    \n",
    "print(numbers)"
   ]
  },
  {
   "cell_type": "markdown",
   "id": "9d2a9852",
   "metadata": {},
   "source": [
    "### 17. Calculate the product of elements in a list using a for loop.\n",
    "\n"
   ]
  },
  {
   "cell_type": "code",
   "execution_count": 45,
   "id": "5433baff",
   "metadata": {},
   "outputs": [
    {
     "name": "stdout",
     "output_type": "stream",
     "text": [
      "Enter numbers separated by a space: 1 5 3 4\n",
      "60\n"
     ]
    }
   ],
   "source": [
    "lst = input('Enter numbers separated by a space: ').split()\n",
    "\n",
    "product = 1\n",
    "\n",
    "for num in lst:\n",
    "    product = product * (int(num))\n",
    "    \n",
    "print(product)"
   ]
  },
  {
   "cell_type": "markdown",
   "id": "3bc29408",
   "metadata": {},
   "source": [
    "### 18. Convert a list of tuples into a dictionary using a for loop."
   ]
  },
  {
   "cell_type": "code",
   "execution_count": 46,
   "id": "0feff76a",
   "metadata": {},
   "outputs": [
    {
     "name": "stdout",
     "output_type": "stream",
     "text": [
      "{'a': 1, 'b': 2, 'c': 3}\n"
     ]
    }
   ],
   "source": [
    "tuples = (('a', 1), ('b', 2), ('c', 3))\n",
    "dictionary = {}\n",
    "\n",
    "for key, value in tuples:\n",
    "    dictionary[key] = value\n",
    "print(dictionary)"
   ]
  },
  {
   "cell_type": "markdown",
   "id": "9e9c2cae",
   "metadata": {},
   "source": [
    "### 19. Check if a given string is a palindrome using a for loop."
   ]
  },
  {
   "cell_type": "code",
   "execution_count": 51,
   "id": "585619db",
   "metadata": {},
   "outputs": [],
   "source": [
    "string = \"racecar\"\n",
    "is_palindrome = True\n",
    "\n",
    "for i in range(len(string) // 2):\n",
    "    if string[i] != string[-(i + 1)]:\n",
    "        is_palindrome = False\n",
    "        break\n",
    "        \n",
    "print(is_palindrome)\n"
   ]
  },
  {
   "cell_type": "markdown",
   "id": "e07f20a2",
   "metadata": {},
   "source": [
    "### 20.Find the common elements between two lists using a for loop."
   ]
  },
  {
   "cell_type": "code",
   "execution_count": 54,
   "id": "115f0d4a",
   "metadata": {},
   "outputs": [
    {
     "name": "stdout",
     "output_type": "stream",
     "text": [
      "[4, 5, 7]\n"
     ]
    }
   ],
   "source": [
    "lst1 = [1, 2, 3, 4, 5, 6, 7]\n",
    "lst2 = [5, 7, 4]\n",
    "common = []\n",
    "for i in lst1:\n",
    "    if i in lst2:\n",
    "        common.append(i)\n",
    "print(common)"
   ]
  },
  {
   "cell_type": "markdown",
   "id": "f247a8c9",
   "metadata": {},
   "source": [
    "### 21. Count the number of occurrences of each element in a list using a dictionary and a for loop."
   ]
  },
  {
   "cell_type": "code",
   "execution_count": 71,
   "id": "abb6f656",
   "metadata": {},
   "outputs": [
    {
     "name": "stdout",
     "output_type": "stream",
     "text": [
      "{1: 4, 2: 3, 3: 3, 6: 1, 8: 1, 9: 1, 4: 1, 5: 1}\n"
     ]
    }
   ],
   "source": [
    "lst = [1,1,2,1,2,3,6,8,9,4,1,5,3,2,3]\n",
    "\n",
    "dic = {}\n",
    "\n",
    "for num in lst:\n",
    "    dic[num] = dic.get(num, 0) + 1\n",
    "    \n",
    "print(dic)"
   ]
  },
  {
   "cell_type": "markdown",
   "id": "d7d9640b",
   "metadata": {},
   "source": [
    "### 22. Merge two lists into a single list with unique elements using a for loop."
   ]
  },
  {
   "cell_type": "code",
   "execution_count": 78,
   "id": "2178393a",
   "metadata": {},
   "outputs": [
    {
     "name": "stdout",
     "output_type": "stream",
     "text": [
      "[1, 2, 3, 4, 5, 6]\n"
     ]
    }
   ],
   "source": [
    "lst1 = [1,2,3,4]\n",
    "lst2 = [3,4,5,6]\n",
    "\n",
    "merged = lst1[:]\n",
    "for num in lst2:\n",
    "    if num not in merged:\n",
    "        merged.append(num)\n",
    "print(merged)"
   ]
  },
  {
   "cell_type": "markdown",
   "id": "57054cb6",
   "metadata": {},
   "source": [
    "### 23. Create a new list with elements from the original list that are greater than a given value using a for loop."
   ]
  },
  {
   "cell_type": "code",
   "execution_count": 86,
   "id": "52d82857",
   "metadata": {},
   "outputs": [
    {
     "name": "stdout",
     "output_type": "stream",
     "text": [
      "[15, 18, 20, 19, 22]\n"
     ]
    }
   ],
   "source": [
    "lst = [1,5,10,15,18,20,19,22]\n",
    "threshold = 10\n",
    "new = []\n",
    "for num in lst:\n",
    "    if num > threshold:\n",
    "        new.append(num)\n",
    "print(new)"
   ]
  },
  {
   "cell_type": "markdown",
   "id": "03a7a32d",
   "metadata": {},
   "source": [
    "### 24. Find the index of a specific element in a list using a for loop."
   ]
  },
  {
   "cell_type": "code",
   "execution_count": 87,
   "id": "4cad3d40",
   "metadata": {},
   "outputs": [
    {
     "name": "stdout",
     "output_type": "stream",
     "text": [
      "2\n"
     ]
    }
   ],
   "source": [
    "numbers = [1, 2, 3, 4, 5]\n",
    "\n",
    "element_to_find = 3\n",
    "\n",
    "index = -1\n",
    "\n",
    "for i in range(len(numbers)):\n",
    "    if numbers[i] == element_to_find:\n",
    "        index = i\n",
    "        break\n",
    "        \n",
    "print(index)"
   ]
  },
  {
   "cell_type": "markdown",
   "id": "6cb44a61",
   "metadata": {},
   "source": [
    "### 25. Count the number of words in a sentence using a for loop."
   ]
  },
  {
   "cell_type": "code",
   "execution_count": 1,
   "id": "d945aea4",
   "metadata": {},
   "outputs": [
    {
     "name": "stdout",
     "output_type": "stream",
     "text": [
      "Enter sentense: Ravi teja \n",
      "2\n"
     ]
    }
   ],
   "source": [
    "sen = input('Enter sentense: ').split()\n",
    "count = 0\n",
    "for word in sen:\n",
    "    count += 1\n",
    "print(count)"
   ]
  },
  {
   "cell_type": "markdown",
   "id": "c7834746",
   "metadata": {},
   "source": [
    "### 26. Check if a given word starts with a vowel using a for loop."
   ]
  },
  {
   "cell_type": "code",
   "execution_count": 4,
   "id": "640aca01",
   "metadata": {},
   "outputs": [
    {
     "name": "stdout",
     "output_type": "stream",
     "text": [
      "Given word apple starts with vowel\n",
      "given word banana starts with consonent\n",
      "given word cherry starts with consonent\n",
      "given word dates starts with consonent\n",
      "given word fig starts with consonent\n",
      "Given word orange starts with vowel\n"
     ]
    }
   ],
   "source": [
    "lst = ['apple', 'banana', 'cherry', 'dates', 'fig', 'orange']\n",
    "vowels = 'AEIOUaeiou'\n",
    "for i in lst:\n",
    "    if i[0] in vowels:\n",
    "        print(f'Given word {i} starts with vowel')\n",
    "        \n",
    "    else:\n",
    "        print(f'given word {i} starts with consonent')"
   ]
  },
  {
   "cell_type": "markdown",
   "id": "1f1a5790",
   "metadata": {},
   "source": [
    "### 27. Convert a list of strings into a single string separated by commas using a for loop."
   ]
  },
  {
   "cell_type": "code",
   "execution_count": 7,
   "id": "f928549a",
   "metadata": {},
   "outputs": [
    {
     "name": "stdout",
     "output_type": "stream",
     "text": [
      " apple banana cherry dates fig orange\n"
     ]
    }
   ],
   "source": [
    "lst = ['apple', 'banana', 'cherry', 'dates', 'fig', 'orange']\n",
    "result = ''\n",
    "for i in lst:\n",
    "    result = result + \" \" + i\n",
    "print(result)"
   ]
  },
  {
   "cell_type": "markdown",
   "id": "42294f83",
   "metadata": {},
   "source": [
    "### 28. Print the keys and values of a dictionary using a for loop."
   ]
  },
  {
   "cell_type": "code",
   "execution_count": 11,
   "id": "6359fc8c",
   "metadata": {},
   "outputs": [
    {
     "name": "stdout",
     "output_type": "stream",
     "text": [
      "Abhilash's age is 30\n",
      "Bharat's age is 23\n",
      "Chirudeep's age is 22\n",
      "David's age is 40\n",
      "Evanka's age is 43\n"
     ]
    }
   ],
   "source": [
    "student_age = {\n",
    "    \"Abhilash\": 30,\n",
    "    \"Bharat\": 23,\n",
    "    \"Chirudeep\": 22,\n",
    "    \"David\": 40,\n",
    "    \"Evanka\": 43\n",
    "}\n",
    "\n",
    "# Iterating over key-value pairs using a for loop and .items()\n",
    "\n",
    "for name, age in student_age.items():\n",
    "    print(f\"{name}'s age is {age}\")\n"
   ]
  },
  {
   "cell_type": "markdown",
   "id": "ee8215b1",
   "metadata": {},
   "source": [
    "### 29. Remove all occurrences of a specific key from a dictionary using a while loop."
   ]
  },
  {
   "cell_type": "code",
   "execution_count": 15,
   "id": "010ec6d5",
   "metadata": {},
   "outputs": [
    {
     "name": "stdout",
     "output_type": "stream",
     "text": [
      "{'Abhilash': 30, 'Bharat': 23, 'Chirudeep': 22, 'Evanka': 43}\n"
     ]
    }
   ],
   "source": [
    "student_age = {\"Abhilash\": 30, \"Bharat\": 23, \"Chirudeep\": 22, \"David\": 40, \"Evanka\": 43}\n",
    "\n",
    "specific_occurance = 'David'\n",
    "\n",
    "while specific_occurance in student_age:\n",
    "    student_age.pop('David')\n",
    "    \n",
    "print(student_age)"
   ]
  },
  {
   "cell_type": "markdown",
   "id": "32a27ea3",
   "metadata": {},
   "source": [
    "### 30. Print the last three elements of a list using a for loop."
   ]
  },
  {
   "cell_type": "code",
   "execution_count": 18,
   "id": "9f847313",
   "metadata": {},
   "outputs": [
    {
     "name": "stdout",
     "output_type": "stream",
     "text": [
      "11\n",
      "12\n",
      "13\n"
     ]
    }
   ],
   "source": [
    "numbers = [1, 2, 3, 4, 5, 6, 7, 8, 9, 10, 11, 12, 13]\n",
    "\n",
    "for i in range(len(numbers) - 3, len(numbers)):\n",
    "    \n",
    "    print(numbers[i])"
   ]
  },
  {
   "cell_type": "markdown",
   "id": "4a1153fd",
   "metadata": {},
   "source": [
    "### 31. Create a new list with elements from the original list that contain a specific character using a for loop."
   ]
  },
  {
   "cell_type": "code",
   "execution_count": 22,
   "id": "e276262f",
   "metadata": {},
   "outputs": [
    {
     "name": "stdout",
     "output_type": "stream",
     "text": [
      "['banana', 'orange']\n"
     ]
    }
   ],
   "source": [
    "words = [\"apple\", \"banana\", \"orange\", \"grape\", \"fig\"]\n",
    "\n",
    "find_char = \"n\"\n",
    "\n",
    "contains_char = []\n",
    "\n",
    "for word in words:\n",
    "    if find_char in word:\n",
    "        \n",
    "        contains_char.append(word)\n",
    "        \n",
    "print(contains_char)"
   ]
  },
  {
   "cell_type": "markdown",
   "id": "71e39bb7",
   "metadata": {},
   "source": [
    "### 32. Check if all elements in a list are positive using a for loop."
   ]
  },
  {
   "cell_type": "code",
   "execution_count": 26,
   "id": "c7cff0ab",
   "metadata": {},
   "outputs": [
    {
     "name": "stdout",
     "output_type": "stream",
     "text": [
      "False\n"
     ]
    }
   ],
   "source": [
    "numbers = [1, 2, -3, -4, 5]\n",
    "\n",
    "all_positive = True\n",
    "\n",
    "for num in numbers:\n",
    "    if num <= 0:\n",
    "        all_positive = False\n",
    "        break\n",
    "print(all_positive)"
   ]
  },
  {
   "cell_type": "markdown",
   "id": "6466fc32",
   "metadata": {},
   "source": [
    "### 33. Print the elements of a list in reverse order using a for loop. "
   ]
  },
  {
   "cell_type": "code",
   "execution_count": 35,
   "id": "8019eba6",
   "metadata": {},
   "outputs": [
    {
     "name": "stdout",
     "output_type": "stream",
     "text": [
      "6\n",
      "5\n",
      "4\n",
      "3\n",
      "2\n",
      "1\n"
     ]
    }
   ],
   "source": [
    "lst = [1,2,3,4,5,6]\n",
    "for i in range(len(lst)-1, -1, -1):\n",
    "    print(lst[i])"
   ]
  },
  {
   "cell_type": "markdown",
   "id": "84c8b46d",
   "metadata": {},
   "source": [
    "### 34. Count the number of uppercase letters in a given string using a for loop."
   ]
  },
  {
   "cell_type": "code",
   "execution_count": 39,
   "id": "d590c0af",
   "metadata": {},
   "outputs": [
    {
     "name": "stdout",
     "output_type": "stream",
     "text": [
      "Enter your string: Ravi Teja\n",
      "2\n"
     ]
    }
   ],
   "source": [
    "c = 0\n",
    "string = input('Enter your string: ')\n",
    "for a in string:\n",
    "    if a.isupper():\n",
    "        c += 1\n",
    "print(c)"
   ]
  },
  {
   "cell_type": "markdown",
   "id": "d064abd4",
   "metadata": {},
   "source": [
    "### 35. Find the first non-repeated element in a list using a dictionary and a for loop."
   ]
  },
  {
   "cell_type": "code",
   "execution_count": 42,
   "id": "7388694e",
   "metadata": {},
   "outputs": [
    {
     "name": "stdout",
     "output_type": "stream",
     "text": [
      "{1: 4, 2: 2, 3: 3, 5: 2, 6: 1, 4: 2}\n"
     ]
    }
   ],
   "source": [
    "lst = [1,1,1,2,3,5,6,4,2,3,1,5,3,4]\n",
    "occ = {}\n",
    "for num in lst:\n",
    "    occ[num] = occ.get(num, 0)+1\n",
    "print(occ)"
   ]
  },
  {
   "cell_type": "markdown",
   "id": "e85c8be7",
   "metadata": {},
   "source": [
    "### 36. Create a new list with squared elements from the original list using a list comprehension."
   ]
  },
  {
   "cell_type": "code",
   "execution_count": 43,
   "id": "fd65e1f6",
   "metadata": {},
   "outputs": [
    {
     "name": "stdout",
     "output_type": "stream",
     "text": [
      "[1, 4, 9, 16, 25, 36, 49, 64, 81, 100]\n"
     ]
    }
   ],
   "source": [
    "lst = [1,2,3,4,5,6,7,8,9,10]\n",
    "\n",
    "sq = [num ** 2 for num in lst]\n",
    "print(sq)"
   ]
  },
  {
   "cell_type": "markdown",
   "id": "a11980d9",
   "metadata": {},
   "source": [
    "### 37. Find the median of a list using a for loop"
   ]
  },
  {
   "cell_type": "code",
   "execution_count": 54,
   "id": "40e6222f",
   "metadata": {},
   "outputs": [
    {
     "name": "stdout",
     "output_type": "stream",
     "text": [
      "5.44\n"
     ]
    }
   ],
   "source": [
    "lst = [1,5,4,7,9,6,3,5,9]\n",
    "sum = 0 \n",
    "for num in lst:\n",
    "    sum = sum + num\n",
    "    \n",
    "print(round(sum / len(lst), 2))\n"
   ]
  },
  {
   "cell_type": "markdown",
   "id": "50d126a4",
   "metadata": {},
   "source": [
    "### 38. Count the number of digits in a given integer using a while loop."
   ]
  },
  {
   "cell_type": "code",
   "execution_count": 60,
   "id": "b0f1b113",
   "metadata": {},
   "outputs": [
    {
     "name": "stdout",
     "output_type": "stream",
     "text": [
      "5\n"
     ]
    }
   ],
   "source": [
    "number = 12345\n",
    "num_digits = 0\n",
    "\n",
    "while number != 0:\n",
    "    number //= 10\n",
    "    num_digits += 1\n",
    "\n",
    "print(num_digits)"
   ]
  },
  {
   "cell_type": "markdown",
   "id": "c043cec4",
   "metadata": {},
   "source": [
    "### 39.Calculate the factorial of a given number using a while loop."
   ]
  },
  {
   "cell_type": "code",
   "execution_count": 76,
   "id": "fbed5685",
   "metadata": {},
   "outputs": [
    {
     "name": "stdout",
     "output_type": "stream",
     "text": [
      "Enter Number: 5\n",
      "120\n"
     ]
    }
   ],
   "source": [
    "num = int(input('Enter Number: '))\n",
    "factorial = 1\n",
    "\n",
    "while num > 0:\n",
    "    factorial = factorial * num\n",
    "    num -= 1\n",
    "    \n",
    "print(factorial)"
   ]
  },
  {
   "cell_type": "markdown",
   "id": "92e2efe8",
   "metadata": {},
   "source": [
    "### 40. Print the first n terms of the multiplication table of a given number using a while loop."
   ]
  },
  {
   "cell_type": "code",
   "execution_count": 6,
   "id": "51c6edd2",
   "metadata": {},
   "outputs": [
    {
     "name": "stdout",
     "output_type": "stream",
     "text": [
      "Enter your starting Number: 12\n",
      "Enter your Ending Number: 12\n",
      "12 * 1 = 12\n",
      "12 * 2 = 24\n",
      "12 * 3 = 36\n",
      "12 * 4 = 48\n",
      "12 * 5 = 60\n",
      "12 * 6 = 72\n",
      "12 * 7 = 84\n",
      "12 * 8 = 96\n",
      "12 * 9 = 108\n",
      "12 * 10 = 120\n",
      "\n"
     ]
    }
   ],
   "source": [
    "start = int(input('Enter your starting Number: '))\n",
    "end = int(input('Enter your Ending Number: '))\n",
    "for i in range(start, end+1):\n",
    "    for j in range(1, 11):\n",
    "        print(f'{i} * {j} = {i*j}')\n",
    "    print()"
   ]
  },
  {
   "cell_type": "code",
   "execution_count": 15,
   "id": "70cc94d4",
   "metadata": {},
   "outputs": [
    {
     "name": "stdout",
     "output_type": "stream",
     "text": [
      "Enter Number: 19\n",
      "19 x 1 = 19\n",
      "19 x 2 = 38\n",
      "19 x 3 = 57\n",
      "19 x 4 = 76\n",
      "19 x 5 = 95\n",
      "19 x 6 = 114\n",
      "19 x 7 = 133\n",
      "19 x 8 = 152\n",
      "19 x 9 = 171\n",
      "19 x 10 = 190\n"
     ]
    }
   ],
   "source": [
    "num = int(input('Enter Number: '))\n",
    "c = 1\n",
    "while c <= 10:\n",
    "    print(f'{num} x {c} = {num * c}')\n",
    "    c += 1\n",
    "              "
   ]
  },
  {
   "cell_type": "markdown",
   "id": "10bbdb7c",
   "metadata": {},
   "source": [
    "### 41. Check if a given number is a perfect square using a while loop."
   ]
  },
  {
   "cell_type": "code",
   "execution_count": 24,
   "id": "74432be3",
   "metadata": {},
   "outputs": [
    {
     "name": "stdout",
     "output_type": "stream",
     "text": [
      "Enter your number: 4\n",
      "given number 4 is perfect square: True\n"
     ]
    }
   ],
   "source": [
    "number = int(input('Enter your number: '))\n",
    "sqrt = 0\n",
    "\n",
    "while sqrt * sqrt < number:\n",
    "    sqrt += 1\n",
    "\n",
    "is_perfect_square = sqrt * sqrt == number\n",
    "print(f'given number {number} is perfect square: {is_perfect_square}')"
   ]
  },
  {
   "cell_type": "markdown",
   "id": "fd720398",
   "metadata": {},
   "source": [
    "### 42. Write a Python program to print the following pattern:"
   ]
  },
  {
   "cell_type": "code",
   "execution_count": 25,
   "id": "4a195ccd",
   "metadata": {},
   "outputs": [
    {
     "name": "stdout",
     "output_type": "stream",
     "text": [
      "1 \n",
      "1 2 \n",
      "1 2 3 \n",
      "1 2 3 4 \n"
     ]
    }
   ],
   "source": [
    "# 1\n",
    "# 1 2\n",
    "# 1 2 3\n",
    "# 1 2 3 4\n",
    "\n",
    "n = 4\n",
    "for i in range(1, n + 1):\n",
    "    for j in range(1, i + 1):\n",
    "        print(j, end=' ')\n",
    "    print()"
   ]
  },
  {
   "cell_type": "markdown",
   "id": "2445cb45",
   "metadata": {},
   "source": [
    "### 43. Question: Write a loop that finds and prints all palindromes (numbers that read the same backward as forward) between 1 and 100.\n",
    "        * Hint: Convert the number to a string and check if it is equal to its reverse."
   ]
  },
  {
   "cell_type": "code",
   "execution_count": 41,
   "id": "8c10a556",
   "metadata": {},
   "outputs": [
    {
     "name": "stdout",
     "output_type": "stream",
     "text": [
      "1\n",
      "2\n",
      "3\n",
      "4\n",
      "5\n",
      "6\n",
      "7\n",
      "8\n",
      "9\n",
      "11\n",
      "22\n",
      "33\n",
      "44\n",
      "55\n",
      "66\n",
      "77\n",
      "88\n",
      "99\n"
     ]
    }
   ],
   "source": [
    "for i in range(1, 101):\n",
    "    if str(i) == str(i)[::-1]:\n",
    "        print(i)"
   ]
  },
  {
   "cell_type": "markdown",
   "id": "e4c8d8cc",
   "metadata": {},
   "source": [
    "### 44. Question: Write a loop that finds and prints all `anagrams` of a given word from a list of words.\n",
    "    * Hint: Use the sorted function to check if two words are anagrams."
   ]
  },
  {
   "cell_type": "code",
   "execution_count": 42,
   "id": "bf2037d3",
   "metadata": {},
   "outputs": [
    {
     "name": "stdout",
     "output_type": "stream",
     "text": [
      "['enlist', 'silent', 'tinsel']\n"
     ]
    }
   ],
   "source": [
    "word = \"listen\"\n",
    "\n",
    "word_list = [\"enlist\", \"silent\", \"hello\", \"tinsel\"]\n",
    "\n",
    "anagrams = [w for w in word_list if sorted(w) == sorted(word)]\n",
    "print(anagrams)"
   ]
  },
  {
   "cell_type": "markdown",
   "id": "553a29f9",
   "metadata": {},
   "source": [
    "### 45. Question: Write a loop that calculates the sum of the cubes of all numbers from 1 to n, where n is a given positive integer, using list comprehension.\n",
    "        * Hint: Use a list comprehension to calculate the cubes and then sum the elements."
   ]
  },
  {
   "cell_type": "code",
   "execution_count": 48,
   "id": "944f6748",
   "metadata": {},
   "outputs": [
    {
     "name": "stdout",
     "output_type": "stream",
     "text": [
      "Enter number: 5\n",
      "225\n"
     ]
    }
   ],
   "source": [
    "n = int(input('Enter number: '))\n",
    "sum_cubes = sum([i ** 3 for i in range(1, n+1)])\n",
    "print(sum_cubes)"
   ]
  },
  {
   "cell_type": "markdown",
   "id": "f62f59c3",
   "metadata": {},
   "source": [
    "### 46. Question: Write a loop that prints the first 10 terms of the sequence: 2, 4, 8, 16, 32, 64, ...\n",
    "    * Hint: Use a variable to keep track of the current term and update it at each step."
   ]
  },
  {
   "cell_type": "code",
   "execution_count": 53,
   "id": "fac50692",
   "metadata": {},
   "outputs": [
    {
     "name": "stdout",
     "output_type": "stream",
     "text": [
      "2\n",
      "4\n",
      "8\n",
      "16\n",
      "32\n",
      "64\n",
      "128\n",
      "256\n",
      "512\n",
      "1024\n"
     ]
    }
   ],
   "source": [
    "current_term = 2\n",
    "for i in range(10):\n",
    "    print(current_term)\n",
    "    current_term *= 2"
   ]
  },
  {
   "cell_type": "markdown",
   "id": "89496a3f",
   "metadata": {},
   "source": [
    "### 47. Question: Write a loop that finds the minimum value in a given list without using the min function.\n",
    "    * Hint: Initialize a variable to keep track of the minimum value."
   ]
  },
  {
   "cell_type": "code",
   "execution_count": 55,
   "id": "4685bc6e",
   "metadata": {},
   "outputs": [
    {
     "name": "stdout",
     "output_type": "stream",
     "text": [
      "2\n"
     ]
    }
   ],
   "source": [
    "my_list = [10, 3, 8, 15, 6, 12,2]\n",
    "\n",
    "min_val = my_list[0]\n",
    "\n",
    "for num in my_list:\n",
    "    if num < min_val:\n",
    "        min_val = num\n",
    "        \n",
    "print(min_val)"
   ]
  },
  {
   "cell_type": "markdown",
   "id": "e57242ce",
   "metadata": {},
   "source": [
    "### 48. Print the ASCII value of all lowercase letters using a for loop:"
   ]
  },
  {
   "cell_type": "code",
   "execution_count": 58,
   "id": "a1241bd1",
   "metadata": {},
   "outputs": [
    {
     "name": "stdout",
     "output_type": "stream",
     "text": [
      "The ASCII value of 'a' is 97\n",
      "The ASCII value of 'b' is 98\n",
      "The ASCII value of 'c' is 99\n",
      "The ASCII value of 'd' is 100\n",
      "The ASCII value of 'e' is 101\n",
      "The ASCII value of 'f' is 102\n",
      "The ASCII value of 'g' is 103\n",
      "The ASCII value of 'h' is 104\n",
      "The ASCII value of 'i' is 105\n",
      "The ASCII value of 'j' is 106\n",
      "The ASCII value of 'k' is 107\n",
      "The ASCII value of 'l' is 108\n",
      "The ASCII value of 'm' is 109\n",
      "The ASCII value of 'n' is 110\n",
      "The ASCII value of 'o' is 111\n",
      "The ASCII value of 'p' is 112\n",
      "The ASCII value of 'q' is 113\n",
      "The ASCII value of 'r' is 114\n",
      "The ASCII value of 's' is 115\n",
      "The ASCII value of 't' is 116\n",
      "The ASCII value of 'u' is 117\n",
      "The ASCII value of 'v' is 118\n",
      "The ASCII value of 'w' is 119\n",
      "The ASCII value of 'x' is 120\n",
      "The ASCII value of 'y' is 121\n",
      "The ASCII value of 'z' is 122\n"
     ]
    }
   ],
   "source": [
    "for letter in 'abcdefghijklmnopqrstuvwxyz':\n",
    "    \n",
    "    print(f\"The ASCII value of '{letter}' is {ord(letter)}\")\n",
    "    \n",
    "# print(chr(97))"
   ]
  },
  {
   "cell_type": "markdown",
   "id": "e5c800ce",
   "metadata": {},
   "source": [
    "### 49. Question: Write a loop that prints the numbers from 1 to 100, but for multiples of 5, print \"Fizz,\" for multiples of 9, print \"Buzz,\" and for multiples of both 5 and 9, print \"FizzBuzz.\"\n",
    "    * Hint: Use the modulo operator % for multiples of 5 and 9."
   ]
  },
  {
   "cell_type": "code",
   "execution_count": 59,
   "id": "0b082d84",
   "metadata": {},
   "outputs": [
    {
     "name": "stdout",
     "output_type": "stream",
     "text": [
      "1\n",
      "2\n",
      "3\n",
      "4\n",
      "Fizz\n",
      "6\n",
      "7\n",
      "8\n",
      "Buzz\n",
      "Fizz\n",
      "11\n",
      "12\n",
      "13\n",
      "14\n",
      "Fizz\n",
      "16\n",
      "17\n",
      "Buzz\n",
      "19\n",
      "Fizz\n",
      "21\n",
      "22\n",
      "23\n",
      "24\n",
      "Fizz\n",
      "26\n",
      "Buzz\n",
      "28\n",
      "29\n",
      "Fizz\n",
      "31\n",
      "32\n",
      "33\n",
      "34\n",
      "Fizz\n",
      "Buzz\n",
      "37\n",
      "38\n",
      "39\n",
      "Fizz\n",
      "41\n",
      "42\n",
      "43\n",
      "44\n",
      "FizzBuzz\n",
      "46\n",
      "47\n",
      "48\n",
      "49\n",
      "Fizz\n",
      "51\n",
      "52\n",
      "53\n",
      "Buzz\n",
      "Fizz\n",
      "56\n",
      "57\n",
      "58\n",
      "59\n",
      "Fizz\n",
      "61\n",
      "62\n",
      "Buzz\n",
      "64\n",
      "Fizz\n",
      "66\n",
      "67\n",
      "68\n",
      "69\n",
      "Fizz\n",
      "71\n",
      "Buzz\n",
      "73\n",
      "74\n",
      "Fizz\n",
      "76\n",
      "77\n",
      "78\n",
      "79\n",
      "Fizz\n",
      "Buzz\n",
      "82\n",
      "83\n",
      "84\n",
      "Fizz\n",
      "86\n",
      "87\n",
      "88\n",
      "89\n",
      "FizzBuzz\n",
      "91\n",
      "92\n",
      "93\n",
      "94\n",
      "Fizz\n",
      "96\n",
      "97\n",
      "98\n",
      "Buzz\n",
      "Fizz\n"
     ]
    }
   ],
   "source": [
    "for i in range(1, 101):\n",
    "    if i % 5 == 0 and i % 9 == 0:\n",
    "        print(\"FizzBuzz\")\n",
    "    elif i % 5 == 0:\n",
    "        print(\"Fizz\")\n",
    "    elif i % 9 == 0:\n",
    "        print(\"Buzz\")\n",
    "    else:\n",
    "        print(i)\n"
   ]
  },
  {
   "cell_type": "markdown",
   "id": "e3cd1ea7",
   "metadata": {},
   "source": [
    "### 50. Question: Write a loop that finds the number of occurrences of each character in a given string, using a dictionary to store the counts."
   ]
  },
  {
   "cell_type": "code",
   "execution_count": 60,
   "id": "a9174947",
   "metadata": {},
   "outputs": [
    {
     "name": "stdout",
     "output_type": "stream",
     "text": [
      "{'h': 1, 'e': 1, 'l': 3, 'o': 2, ' ': 1, 'w': 1, 'r': 1, 'd': 1}\n"
     ]
    }
   ],
   "source": [
    "my_string = \"hello world\"\n",
    "\n",
    "char_count = {}\n",
    "\n",
    "for char in my_string:\n",
    "    char_count[char] = char_count.get(char, 0) + 1\n",
    "    \n",
    "print(char_count)"
   ]
  },
  {
   "cell_type": "code",
   "execution_count": null,
   "id": "a49eba28",
   "metadata": {},
   "outputs": [],
   "source": []
  }
 ],
 "metadata": {
  "kernelspec": {
   "display_name": "Python 3 (ipykernel)",
   "language": "python",
   "name": "python3"
  },
  "language_info": {
   "codemirror_mode": {
    "name": "ipython",
    "version": 3
   },
   "file_extension": ".py",
   "mimetype": "text/x-python",
   "name": "python",
   "nbconvert_exporter": "python",
   "pygments_lexer": "ipython3",
   "version": "3.10.9"
  }
 },
 "nbformat": 4,
 "nbformat_minor": 5
}
