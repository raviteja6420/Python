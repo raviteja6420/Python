{
 "cells": [
  {
   "cell_type": "markdown",
   "id": "ec7b30a8",
   "metadata": {},
   "source": [
    "# List methods\n",
    "***\n",
    "### List\n",
    "***\n",
    "    * A list is a built-in data structure that is used to store a collection of items. \n",
    "    * It is a mutable, ordered sequence of elements enclosed in square brackets ([]), where each element is separated by a comma. \n",
    "    * Lists can contain elements of different types, such as integers, strings, or even other lists.\n",
    "\n",
    "        * Lists are versatile and offer various operations and methods to manipulate and access their elements. \n",
    "        * Here are some common operations and methods associated with lists:\n",
    "        "
   ]
  },
  {
   "cell_type": "code",
   "execution_count": 11,
   "id": "1ccdebf8",
   "metadata": {},
   "outputs": [],
   "source": [
    "my_list = [1, 2, 3, 4, 5]"
   ]
  },
  {
   "cell_type": "markdown",
   "id": "b2c80f2e",
   "metadata": {},
   "source": [
    "#### 1. Accessing elements or indxing Elements\n",
    "***\n",
    "\n",
    "    * Accessing Elements: You can access individual elements in a list by using square brackets and specifying the index of the element. \n",
    "    * Python uses zero-based indexing, so the first element is at index 0"
   ]
  },
  {
   "cell_type": "code",
   "execution_count": 12,
   "id": "8794890f",
   "metadata": {},
   "outputs": [
    {
     "name": "stdout",
     "output_type": "stream",
     "text": [
      "1\n"
     ]
    }
   ],
   "source": [
    "print(my_list[0]) # Output is 1"
   ]
  },
  {
   "cell_type": "markdown",
   "id": "1e43e2c9",
   "metadata": {},
   "source": [
    "#### 2. Modifying Elements: \n",
    "***\n",
    "    * Lists are mutable, which means you can modify their elements by assigning new values to specific indices. "
   ]
  },
  {
   "cell_type": "code",
   "execution_count": 80,
   "id": "b46deedf",
   "metadata": {},
   "outputs": [
    {
     "name": "stdout",
     "output_type": "stream",
     "text": [
      "[1, 2, 10, 4, 5]\n"
     ]
    }
   ],
   "source": [
    "my_list[2] = 10\n",
    "print(my_list)  # Output: [1, 2, 10, 4, 5]"
   ]
  },
  {
   "cell_type": "markdown",
   "id": "ed9a168a",
   "metadata": {},
   "source": [
    "#### 3. List Operations: \n",
    "***\n",
    "    * You can perform operations like concatenation (+) and repetition (*) on lists. "
   ]
  },
  {
   "cell_type": "code",
   "execution_count": 81,
   "id": "b6d0df9e",
   "metadata": {},
   "outputs": [
    {
     "name": "stdout",
     "output_type": "stream",
     "text": [
      "[1, 2, 10, 4, 5, 6, 7, 8]\n",
      "[1, 2, 10, 4, 5, 1, 2, 10, 4, 5, 1, 2, 10, 4, 5]\n"
     ]
    }
   ],
   "source": [
    "new_list = my_list + [6, 7, 8]\n",
    "print(new_list)  # Output: [1, 2, 10, 4, 5, 6, 7, 8]\n",
    "\n",
    "repeated_list = my_list * 3\n",
    "print(repeated_list)  # Output: [1, 2, 10, 4, 5, 1, 2, 10, 4, 5, 1, 2, 10, 4, 5]"
   ]
  },
  {
   "cell_type": "markdown",
   "id": "44d680ee",
   "metadata": {},
   "source": [
    "***\n",
    "#### 4. List Methods: \n",
    "    * Lists provide several built-in methods that allow you to modify, add, remove, or search for elements in a list. \n",
    "    * Some commonly used methods include \n",
    "        1. append(),\n",
    "        2. extend(),\n",
    "        3. insert(),\n",
    "        4. clear(),\n",
    "        5. remove(),\n",
    "        6. copy(),\n",
    "        7. count(),\n",
    "        8. index(),\n",
    "        9. pop(),\n",
    "        10.reverse()\n",
    "        11.sort()\n",
    "***"
   ]
  },
  {
   "cell_type": "markdown",
   "id": "49222dda",
   "metadata": {},
   "source": [
    "##### 1 .append()\n",
    "***\n",
    "    * The append() method is a built-in function in Python that is used to add an element to the end of a list. \n",
    "    * It modifies the list in-place, which means it adds the element to the existing list without creating a new list. "
   ]
  },
  {
   "cell_type": "code",
   "execution_count": 82,
   "id": "93573185",
   "metadata": {},
   "outputs": [
    {
     "name": "stdout",
     "output_type": "stream",
     "text": [
      "['apple', 'banana', 'cherry', 'orange']\n",
      "['apple', 'banana', 'cherry', 'orange', ['Mango', 'Grapes']]\n",
      "['apple', 'banana', 'cherry', 'orange', ['Mango', 'Grapes'], ('Pine apple', 'Black Berry')]\n",
      "['apple', 'banana', 'cherry', 'orange', ['Mango', 'Grapes'], ('Pine apple', 'Black Berry'), {'Watermelon', 'Papaya'}]\n"
     ]
    }
   ],
   "source": [
    "fruits = ['apple', 'banana', 'cherry']\n",
    "\n",
    "fruits.append('orange')\n",
    "print(fruits) # output: ['apple', 'banana', 'cherry', 'orange']\n",
    "\n",
    "fruits.append(['Mango', 'Grapes'])\n",
    "print(fruits) # output: ['apple', 'banana', 'cherry', 'orange', ['Mango', 'Grapes']]\n",
    "\n",
    "fruits.append(('Pine apple', 'Black Berry')) \n",
    "print(fruits) # output: ['apple', 'banana', 'cherry', 'orange', ['Mango', 'Grapes'], ('Pine apple', 'Black Berry')]\n",
    "\n",
    "fruits.append({'Papaya', 'Watermelon'})\n",
    "print(fruits) # output: ['apple', 'banana', 'cherry', 'orange', ['Mango', 'Grapes'], ('Pine apple', 'Black Berry'), {'Watermelon', 'Papaya'}]"
   ]
  },
  {
   "cell_type": "markdown",
   "id": "2efd2c86",
   "metadata": {},
   "source": [
    "* The append() method is commonly used when you want to add elements dynamically to a list, especially when you don't know the initial size of the list or when you're iterating over some data and want to add items one by one to a list.\n",
    "***"
   ]
  },
  {
   "cell_type": "markdown",
   "id": "6f874ccb",
   "metadata": {},
   "source": [
    "##### 2 .extend()\n",
    "***\n",
    "* The extend() method in Python is a built-in function used to add multiple elements to the end of a list. \n",
    "* It allows you to append the elements of another iterable (such as a list, tuple, or string) to an existing list. \n",
    "* The extend() method modifies the list in-place, meaning it adds the elements to the existing list without creating a new list.\n",
    "\n",
    "* The extend() method takes a single argument, which should be an iterable object. \n",
    "* It iterates over the elements of the iterable and adds them individually to the end of the list. \n",
    "* If the iterable contains nested lists, the individual items within those nested lists will be appended to the main list."
   ]
  },
  {
   "cell_type": "code",
   "execution_count": 83,
   "id": "afa32584",
   "metadata": {},
   "outputs": [
    {
     "name": "stdout",
     "output_type": "stream",
     "text": [
      "['apple', 'banana', 'cherry', 'orange', 'grape', 'mango']\n"
     ]
    }
   ],
   "source": [
    "fruits = ['apple', 'banana', 'cherry']\n",
    "\n",
    "more_fruits = ['orange', 'grape', 'mango'] \n",
    "\n",
    "fruits.extend(more_fruits) # append morethan one element\n",
    "\n",
    "print(fruits) # output: ['apple', 'banana', 'cherry', 'orange', 'grape', 'mango']"
   ]
  },
  {
   "cell_type": "markdown",
   "id": "53c9b656",
   "metadata": {},
   "source": [
    "* The extend() method is particularly useful when you want to combine multiple lists into one or when you need to add multiple elements to an existing list. \n",
    "* It allows you to concatenate multiple iterables efficiently and avoid nested lists.\n",
    "***"
   ]
  },
  {
   "cell_type": "markdown",
   "id": "29b71aa4",
   "metadata": {},
   "source": [
    "##### 3 .insert()\n",
    "***\n",
    "* The insert() method in Python is a built-in function used to insert an element at a specified position within a list. \n",
    "* It allows you to modify the list by adding an element at a specific index, shifting the existing elements to the right. \n",
    "\n",
    "    * The insert() method takes two arguments. The first argument, index, specifies the position where you want to insert the element. \n",
    "    * It should be an integer and can range from 0 to the length of the list (inclusive). \n",
    "    * The second argument, element, represents the value you want to insert at the specified position."
   ]
  },
  {
   "cell_type": "code",
   "execution_count": 84,
   "id": "8dd3f5f9",
   "metadata": {},
   "outputs": [
    {
     "name": "stdout",
     "output_type": "stream",
     "text": [
      "['apple', 'orange', 'banana', 'cherry']\n"
     ]
    }
   ],
   "source": [
    "fruits = ['apple', 'banana', 'cherry']\n",
    "fruits.insert(1, 'orange') # fruits.insert(index, 'iterable or element')\n",
    "print(fruits) # output: ['apple', 'orange', 'banana', 'cherry']"
   ]
  },
  {
   "cell_type": "code",
   "execution_count": 85,
   "id": "72a0612b",
   "metadata": {
    "scrolled": true
   },
   "outputs": [
    {
     "name": "stdout",
     "output_type": "stream",
     "text": [
      "['apple', 'banana', 'cherry', 'orange']\n"
     ]
    }
   ],
   "source": [
    "fruits = ['apple', 'banana', 'cherry']\n",
    "fruits.insert(5, 'orange') # giving index morethan list length it appends the string at the end of the list.\n",
    "print(fruits) # output: ['apple', 'banana', 'cherry', 'orange']"
   ]
  },
  {
   "cell_type": "markdown",
   "id": "d73fb0cf",
   "metadata": {},
   "source": [
    "> The insert() method is useful when you need to add an element at a specific position within a list, especially when you want to insert elements dynamically based on certain conditions or when you want to reorder the items in a list.\n",
    "***"
   ]
  },
  {
   "cell_type": "markdown",
   "id": "ac4d647a",
   "metadata": {},
   "source": [
    "##### 4 .clear()\n",
    "***\n",
    "* The clear() method in Python is a built-in function used to remove all elements from a list. \n",
    "* It allows you to empty a list by removing all its elements, leaving it as an empty list. \n",
    "* The clear() method modifies the list in-place, meaning it alters the existing list without creating a new list. .\n",
    "* The clear() method does not take any arguments. \n",
    "* It simply removes all elements from the list, resulting in an empty list."
   ]
  },
  {
   "cell_type": "code",
   "execution_count": 86,
   "id": "6187d442",
   "metadata": {},
   "outputs": [
    {
     "name": "stdout",
     "output_type": "stream",
     "text": [
      "[]\n"
     ]
    }
   ],
   "source": [
    "fruits = ['apple', 'banana', 'cherry']\n",
    "\n",
    "fruits.clear()\n",
    "\n",
    "print(fruits) # output: [] gives empty list"
   ]
  },
  {
   "cell_type": "markdown",
   "id": "69565228",
   "metadata": {},
   "source": [
    "> The clear() method is commonly used when you want to `remove all elements from a list` and start fresh, or when you need to reset a list to its initial state. \n",
    "> It provides a convenient way to `empty a list` without having to manually remove each element one by one."
   ]
  },
  {
   "cell_type": "markdown",
   "id": "b86218c9",
   "metadata": {},
   "source": [
    "##### 5 .remove()\n",
    "***\n",
    "* The remove() method in Python is a built-in function used to remove the `first` occurrence of a specified element from a list. \n",
    "* It allows you to modify the list by `deleting a specific value`. \n",
    "* The remove() method modifies the list in-place, meaning it alters the existing list without creating a new list. \n",
    "* The remove() method takes a `single argument`, which is the element you want to remove from the list. \n",
    "* It searches for the `first` occurrence of that element in the list and removes it. \n",
    "* If the element is not found in the list, it raises a `ValueError`.\n",
    "***"
   ]
  },
  {
   "cell_type": "code",
   "execution_count": 87,
   "id": "45933ca9",
   "metadata": {},
   "outputs": [
    {
     "name": "stdout",
     "output_type": "stream",
     "text": [
      "['apple', 'cherry', 'banana']\n"
     ]
    }
   ],
   "source": [
    "fruits = ['apple', 'banana', 'cherry', 'banana']\n",
    "fruits.remove('banana') # it searches for the first occurance of the element in the list\n",
    "print(fruits) # output: ['apple', 'cherry', 'banana']"
   ]
  },
  {
   "cell_type": "code",
   "execution_count": 88,
   "id": "bcaf438b",
   "metadata": {},
   "outputs": [
    {
     "ename": "ValueError",
     "evalue": "list.remove(x): x not in list",
     "output_type": "error",
     "traceback": [
      "\u001b[1;31m---------------------------------------------------------------------------\u001b[0m",
      "\u001b[1;31mValueError\u001b[0m                                Traceback (most recent call last)",
      "Cell \u001b[1;32mIn[88], line 2\u001b[0m\n\u001b[0;32m      1\u001b[0m fruits \u001b[38;5;241m=\u001b[39m [\u001b[38;5;124m'\u001b[39m\u001b[38;5;124mapple\u001b[39m\u001b[38;5;124m'\u001b[39m, \u001b[38;5;124m'\u001b[39m\u001b[38;5;124mbanana\u001b[39m\u001b[38;5;124m'\u001b[39m, \u001b[38;5;124m'\u001b[39m\u001b[38;5;124mcherry\u001b[39m\u001b[38;5;124m'\u001b[39m, \u001b[38;5;124m'\u001b[39m\u001b[38;5;124mbanana\u001b[39m\u001b[38;5;124m'\u001b[39m, \u001b[38;5;124m'\u001b[39m\u001b[38;5;124mpapaya\u001b[39m\u001b[38;5;124m'\u001b[39m]\n\u001b[1;32m----> 2\u001b[0m \u001b[43mfruits\u001b[49m\u001b[38;5;241;43m.\u001b[39;49m\u001b[43mremove\u001b[49m\u001b[43m(\u001b[49m\u001b[38;5;124;43m'\u001b[39;49m\u001b[38;5;124;43mkiwi\u001b[39;49m\u001b[38;5;124;43m'\u001b[39;49m\u001b[43m)\u001b[49m \u001b[38;5;66;03m# it searches for the first occurance of the element in the list\u001b[39;00m\n\u001b[0;32m      3\u001b[0m \u001b[38;5;28mprint\u001b[39m(fruits)\n",
      "\u001b[1;31mValueError\u001b[0m: list.remove(x): x not in list"
     ]
    }
   ],
   "source": [
    "fruits = ['apple', 'banana', 'cherry', 'banana', 'papaya']\n",
    "fruits.remove('kiwi') # it searches for the first occurance of the element in the list\n",
    "print(fruits)"
   ]
  },
  {
   "cell_type": "markdown",
   "id": "fc2877e4",
   "metadata": {},
   "source": [
    "##### 6 .copy()\n",
    "***\n",
    "* The copy() method in Python is a built-in function used to create a `shallow copy of a list`. \n",
    "* It allows you to `create a new list that contains the same elements as the original list`, `without modifying the original list`. * The copy() method returns a new list `with a separate memory allocation`.\n",
    "* The copy() method `does not take any arguments`. \n",
    "* It creates a new list and copies all the elements from the original list to the new list. \n",
    "* The new list is an independent object, meaning any modifications made to the original list or the copied list will not affect each other."
   ]
  },
  {
   "cell_type": "code",
   "execution_count": 89,
   "id": "77e3b220",
   "metadata": {},
   "outputs": [
    {
     "name": "stdout",
     "output_type": "stream",
     "text": [
      "['apple', 'banana', 'cherry']\n",
      "['apple', 'banana', 'cherry', 'orange']\n"
     ]
    }
   ],
   "source": [
    "fruits = ['apple', 'banana', 'cherry']\n",
    "fruits_copy = fruits.copy()\n",
    "\n",
    "\n",
    "fruits_copy.append('orange')\n",
    "\n",
    "print(fruits)       # output: ['apple', 'banana', 'cherry']\n",
    "print(fruits_copy)  # output: ['apple', 'banana', 'cherry', 'orange']"
   ]
  },
  {
   "cell_type": "markdown",
   "id": "d2d1c0e5",
   "metadata": {},
   "source": [
    "* The copy() method is useful when you want `to create an independent copy of a list`, especially when you need to perform operations on a list without modifying the original list."
   ]
  },
  {
   "cell_type": "markdown",
   "id": "090dedab",
   "metadata": {},
   "source": [
    "##### 7 .count()\n",
    "***\n",
    "* The count() method in Python is a built-in function used `to count the number of occurrences of a specific element in a list`. \n",
    "* It allows you to determine how many times a particular value appears within the list. \n",
    "* The count() method does not modify the list; it only provides information about the `occurrences of an element`. \n",
    "* The count() method `takes a single argument`, which is the element you want to count in the list. \n",
    "* It iterates over the list and `returns the number of occurrences of that element`."
   ]
  },
  {
   "cell_type": "code",
   "execution_count": 90,
   "id": "ec3c508f",
   "metadata": {},
   "outputs": [
    {
     "name": "stdout",
     "output_type": "stream",
     "text": [
      "2\n",
      "2\n",
      "0\n"
     ]
    }
   ],
   "source": [
    "fruits = ['apple', 'banana', 'cherry', 'banana', 'apple']\n",
    "\n",
    "count_apple = fruits.count('apple')\n",
    "\n",
    "count_banana = fruits.count('banana')\n",
    "\n",
    "count_mango = fruits.count('mango')\n",
    "\n",
    "print(count_apple)  # output: 2\n",
    "\n",
    "print(count_banana)   # output: 2\n",
    "\n",
    "print(count_mango)      # output: 0"
   ]
  },
  {
   "cell_type": "markdown",
   "id": "fc680881",
   "metadata": {},
   "source": [
    "* The count() method is useful when you need `to determine the frequency or occurrences of a particular value in a list`. \n",
    "* It allows you `to gather statistical information` about the data within the list.\n",
    "***"
   ]
  },
  {
   "cell_type": "markdown",
   "id": "0f1d44c2",
   "metadata": {},
   "source": [
    "#### 8 .index()\n",
    "***\n",
    "* The index() method in Python is a built-in function used to find the `index of the first occurrence of a specified element in a list`. \n",
    "* It allows you to `locate the position` of a value within the list. \n",
    "* The index() method does not modify the list; it only provides information about the `position of an element`. \n",
    "    * syntax: list_name.index(element, start, end)\n",
    "        * Here, `list_name` is the name of the list in which you want to `find the index`, `element` is the value you want to `locate`, and `start` and `end` (optional) define the range of indices to search within.   \n",
    "\n",
    "            1. The index() method takes the `element argument`, which `represents` the `value` you want to find in the list.    \n",
    "            2. It starts `searching from the beginning of the list` and returns the index of the `first occurrence` of the element. \n",
    "            3. If the element is not found in the list, it raises a `ValueError`.\n",
    "            4. Additionally, you can specify the optional start and end arguments to narrow down the search range within the list. \n",
    "            5. The `start` argument indicates the `index to start` the search (inclusive), and the `end` argument specifies the `index to end the search` (exclusive). \n",
    "            6. By `default`, the search is performed over the `entire list`.\n",
    "\n",
    "***"
   ]
  },
  {
   "cell_type": "code",
   "execution_count": 91,
   "id": "cb2dca05",
   "metadata": {},
   "outputs": [
    {
     "name": "stdout",
     "output_type": "stream",
     "text": [
      "0\n",
      "1\n",
      "2\n",
      "3\n",
      "4\n"
     ]
    }
   ],
   "source": [
    "fruits = ['apple', 'banana', 'cherry', 'banana', 'apple']\n",
    "\n",
    "index_apple = fruits.index('apple', 0 , 1)\n",
    "print(index_apple)\n",
    "\n",
    "index_banana = fruits.index('banana', 1)\n",
    "print(index_banana)\n",
    "\n",
    "index_cherry = fruits.index('cherry', 1)\n",
    "print(index_cherry)\n",
    "\n",
    "index_banana = fruits.index('banana', 2, 4)\n",
    "print(index_banana)\n",
    "\n",
    "index_apple = fruits.index('apple', 3, 5)\n",
    "print(index_apple)"
   ]
  },
  {
   "cell_type": "code",
   "execution_count": 92,
   "id": "266cce94",
   "metadata": {},
   "outputs": [
    {
     "ename": "ValueError",
     "evalue": "'mango' is not in list",
     "output_type": "error",
     "traceback": [
      "\u001b[1;31m---------------------------------------------------------------------------\u001b[0m",
      "\u001b[1;31mValueError\u001b[0m                                Traceback (most recent call last)",
      "Cell \u001b[1;32mIn[92], line 1\u001b[0m\n\u001b[1;32m----> 1\u001b[0m index_mango \u001b[38;5;241m=\u001b[39m \u001b[43mfruits\u001b[49m\u001b[38;5;241;43m.\u001b[39;49m\u001b[43mindex\u001b[49m\u001b[43m(\u001b[49m\u001b[38;5;124;43m'\u001b[39;49m\u001b[38;5;124;43mmango\u001b[39;49m\u001b[38;5;124;43m'\u001b[39;49m\u001b[43m)\u001b[49m  \u001b[38;5;66;03m# Raises ValueError\u001b[39;00m\n\u001b[0;32m      2\u001b[0m \u001b[38;5;28mprint\u001b[39m(index_mango)\n",
      "\u001b[1;31mValueError\u001b[0m: 'mango' is not in list"
     ]
    }
   ],
   "source": [
    "index_mango = fruits.index('mango')  # Raises ValueError\n",
    "print(index_mango)"
   ]
  },
  {
   "cell_type": "markdown",
   "id": "4b6779cd",
   "metadata": {},
   "source": [
    "* The index() method is useful when you want to locate the position of a particular element in a list, especially when you need to retrieve or manipulate data based on its index. \n",
    "* It allows you to find the first occurrence of a value and obtain its index within the list.\n",
    "***"
   ]
  },
  {
   "cell_type": "markdown",
   "id": "15667475",
   "metadata": {},
   "source": [
    "##### 9. pop()\n",
    "***\n",
    "* The pop() method in Python is a built-in function used to remove and return an element from a specified index in a list. \n",
    "* It allows you to modify the list by extracting a value at a particular position. \n",
    "* The pop() method modifies the list in-place, meaning it alters the existing list, and it returns the removed element. \n",
    "\n",
    "    * The pop() method takes a `single optional argument`, which is the `index` of the element you want to remove. \n",
    "    * If an index is specified, pop() removes and returns the element at that index. \n",
    "    * The remaining elements in the list are shifted to the left to fill the gap. \n",
    "    * If `no index is provided`, pop() `removes and returns` the `last element in the list`."
   ]
  },
  {
   "cell_type": "code",
   "execution_count": 93,
   "id": "a520dc30",
   "metadata": {},
   "outputs": [
    {
     "name": "stdout",
     "output_type": "stream",
     "text": [
      "banana\n",
      "['apple', 'cherry']\n"
     ]
    }
   ],
   "source": [
    "fruits = ['apple', 'banana', 'cherry']\n",
    "\n",
    "removed_fruit = fruits.pop(1)\n",
    "\n",
    "print(removed_fruit)\n",
    "\n",
    "print(fruits)"
   ]
  },
  {
   "cell_type": "code",
   "execution_count": 94,
   "id": "61524b9c",
   "metadata": {},
   "outputs": [
    {
     "name": "stdout",
     "output_type": "stream",
     "text": [
      "cherry\n"
     ]
    }
   ],
   "source": [
    "fruits = ['apple', 'banana', 'cherry']\n",
    "\n",
    "index_not_given = fruits.pop() # if no index is given pop() removes and returns last element in the list.\n",
    "\n",
    "print(index_not_given)"
   ]
  },
  {
   "cell_type": "markdown",
   "id": "c30be348",
   "metadata": {},
   "source": [
    "* The pop() method is useful when you need to `extract and remove` a specific element from a list, especially when you want to `retrieve the removed value` or when you need to work with the element at a specific index.\n",
    "***"
   ]
  },
  {
   "cell_type": "markdown",
   "id": "a82c17c2",
   "metadata": {},
   "source": [
    "#### 10 .reverse()\n",
    "*** \n",
    "1. The reverse() method in Python is a built-in function used to `reverse the order of elements in a list`. \n",
    "2. It allows you to modify the list by changing the sequence of its elements. \n",
    "3. The reverse() method modifies the list in-place, meaning it alters the existing list without creating a new list. \n",
    "\n",
    "    * The reverse() method `does not take any arguments`. \n",
    "    * It reverses the order of elements in the list, effectively changing the list from its `original order to the reverse order`"
   ]
  },
  {
   "cell_type": "code",
   "execution_count": 95,
   "id": "fd61d49d",
   "metadata": {},
   "outputs": [
    {
     "name": "stdout",
     "output_type": "stream",
     "text": [
      "['cherry', 'banana', 'apple']\n"
     ]
    }
   ],
   "source": [
    "fruits = ['apple', 'banana', 'cherry']\n",
    "\n",
    "fruits.reverse()\n",
    "\n",
    "print(fruits)"
   ]
  },
  {
   "cell_type": "markdown",
   "id": "66c74aa6",
   "metadata": {},
   "source": [
    "1. The reverse() method permanently modifies the list in-place, meaning the original list is reversed and any subsequent operations will reflect the reversed order. \n",
    "2. If you want to reverse a list temporarily without modifying the original list, you can use the [::-1] slicing technique or the reversed() function."
   ]
  },
  {
   "cell_type": "code",
   "execution_count": 96,
   "id": "45bdef92",
   "metadata": {},
   "outputs": [
    {
     "name": "stdout",
     "output_type": "stream",
     "text": [
      "['apple', 'banana', 'cherry']\n",
      "['cherry', 'banana', 'apple']\n",
      "['cherry', 'banana', 'apple']\n"
     ]
    }
   ],
   "source": [
    "fruits = ['apple', 'banana', 'cherry']\n",
    "print(fruits)\n",
    "\n",
    "reversed_fruits = fruits[::-1] #use slicing technique to reverse a list temporarily without modifying the original list\n",
    "\n",
    "print(reversed_fruits)\n",
    "\n",
    "fruits.reverse() # by using reverse() to do\n",
    "print(fruits)"
   ]
  },
  {
   "cell_type": "markdown",
   "id": "dcc27477",
   "metadata": {},
   "source": [
    "> The reverse() method is useful when you want to reverse the order of elements in a list, especially when you need to process or display the elements in a different order or when you want to iterate over the list in reverse order.\n",
    "***"
   ]
  },
  {
   "cell_type": "markdown",
   "id": "fc33ef63",
   "metadata": {},
   "source": [
    "#### 11 .sort()\n",
    "***\n",
    "1. The sort() method in Python is a built-in function used to sort the elements of a list in ascending order. \n",
    "2. It allows you to modify the list by rearranging its elements in a sorted order. \n",
    "3. The sort() method modifies the list in-place, meaning it alters the existing list without creating a new list.\n",
    "4. The sort() method does not return a new list; it sorts the elements of the original list directly.\n",
    "5. By `default`, the sort() method arranges the elements in `ascending order`.\n",
    "\n",
    "`Syntax :` `list_name.sort(key=None, reverse=False)`"
   ]
  },
  {
   "cell_type": "code",
   "execution_count": 97,
   "id": "228186bf",
   "metadata": {},
   "outputs": [
    {
     "name": "stdout",
     "output_type": "stream",
     "text": [
      "['apple', 'banana', 'cherry']\n"
     ]
    }
   ],
   "source": [
    "fruits = ['banana', 'cherry', 'apple']\n",
    "fruits.sort()\n",
    "print(fruits)"
   ]
  },
  {
   "cell_type": "markdown",
   "id": "b7015cef",
   "metadata": {},
   "source": [
    "***\n",
    "6. If you want to sort the list in `descending order`, you can set the `reverse` parameter to `True`. \n",
    "***"
   ]
  },
  {
   "cell_type": "code",
   "execution_count": 98,
   "id": "eed1cbca",
   "metadata": {},
   "outputs": [
    {
     "name": "stdout",
     "output_type": "stream",
     "text": [
      "['cherry', 'banana', 'apple']\n"
     ]
    }
   ],
   "source": [
    "fruits = ['apple', 'banana', 'cherry']\n",
    "\n",
    "fruits.sort(reverse=True)\n",
    "\n",
    "print(fruits)\n"
   ]
  },
  {
   "cell_type": "markdown",
   "id": "f0eae585",
   "metadata": {},
   "source": [
    "7. A function to `specify` the `sorting criteria`(s),  `key = myfunction`"
   ]
  },
  {
   "cell_type": "code",
   "execution_count": 99,
   "id": "82066f91",
   "metadata": {},
   "outputs": [
    {
     "name": "stdout",
     "output_type": "stream",
     "text": [
      "[{'sweet': 'Kaju Katli', 'expiry': '14'}, {'sweet': 'Jalebi', 'expiry': '15'}, {'sweet': 'Rava Ladoo', 'expiry': '16'}, {'sweet': 'Gulab Jamun', 'expiry': '18'}, {'sweet': 'Rasgulla', 'expiry': '20'}, {'sweet': 'Rasmalai', 'expiry': '22'}]\n"
     ]
    }
   ],
   "source": [
    "def myfunction(sweets):\n",
    "    return sweets['expiry']\n",
    "\n",
    "\n",
    "sweets = [\n",
    "    {'sweet' : 'Jalebi', 'expiry' : '15'},\n",
    "    {'sweet' : 'Rasgulla', 'expiry' : '20'},\n",
    "    {'sweet' : 'Rasmalai', 'expiry' : '22'},\n",
    "    {'sweet' : 'Kaju Katli', 'expiry' : '14'},\n",
    "    {'sweet' : 'Rava Ladoo', 'expiry' : '16'},\n",
    "    {'sweet' : 'Gulab Jamun', 'expiry' : '18'}\n",
    "]\n",
    "\n",
    "sweets.sort(key = myfunction)\n",
    "\n",
    "print(sweets)"
   ]
  },
  {
   "cell_type": "code",
   "execution_count": null,
   "id": "c934b7e8",
   "metadata": {},
   "outputs": [],
   "source": []
  },
  {
   "cell_type": "code",
   "execution_count": null,
   "id": "86317ffa",
   "metadata": {},
   "outputs": [],
   "source": []
  }
 ],
 "metadata": {
  "kernelspec": {
   "display_name": "Python 3 (ipykernel)",
   "language": "python",
   "name": "python3"
  },
  "language_info": {
   "codemirror_mode": {
    "name": "ipython",
    "version": 3
   },
   "file_extension": ".py",
   "mimetype": "text/x-python",
   "name": "python",
   "nbconvert_exporter": "python",
   "pygments_lexer": "ipython3",
   "version": "3.10.9"
  }
 },
 "nbformat": 4,
 "nbformat_minor": 5
}
