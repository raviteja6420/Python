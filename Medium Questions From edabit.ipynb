{
 "cells": [
  {
   "cell_type": "markdown",
   "id": "838d6594",
   "metadata": {},
   "source": [
    "### 01. Create a function that takes two numbers as arguments (`num`, `length`) and returns a list of multiples of `num` until the list `length` reaches length.\n",
    "* `Example`: list_of_multiples(12, 10) ➞ [12, 24, 36, 48, 60, 72, 84, 96, 108, 120]\n",
    "* Notice that `num` is also included in the returned list."
   ]
  },
  {
   "cell_type": "code",
   "execution_count": 5,
   "id": "4611e903",
   "metadata": {},
   "outputs": [
    {
     "name": "stdout",
     "output_type": "stream",
     "text": [
      "Enter Number :12\n",
      "Enter the length :10\n",
      "[12, 24, 36, 48, 60, 72, 84, 96, 108, 120]\n"
     ]
    }
   ],
   "source": [
    "num = int(input('Enter Number :'))\n",
    "length = int(input('Enter the length :'))\n",
    "lst = []\n",
    "for i in range(1, length+1):\n",
    "    lst.append(num * i)\n",
    "    \n",
    "print(lst)"
   ]
  },
  {
   "cell_type": "markdown",
   "id": "cfcce48e",
   "metadata": {},
   "source": [
    "### 02. The challenge is to recreate the functionality of the `title()` method into a function called `emphasise()`. The `title()` method capitalises the first letter of every word and lowercases all of the other letters in the word.\n",
    "\n",
    "* emphasise(\"hello world\") ➞ \"Hello World\"\n"
   ]
  },
  {
   "cell_type": "code",
   "execution_count": 9,
   "id": "2daa7fb9",
   "metadata": {},
   "outputs": [
    {
     "name": "stdout",
     "output_type": "stream",
     "text": [
      "Hello World!\n"
     ]
    }
   ],
   "source": [
    "def emphasise(txt):\n",
    "    return ' '.join(w[0].upper()+w[1:].lower() for w in txt.split())\n",
    "\n",
    "print(emphasise('hello World!'))"
   ]
  },
  {
   "cell_type": "markdown",
   "id": "0e2f8082",
   "metadata": {},
   "source": [
    "### 03. Create a function that takes an integer and outputs an n x n square solely consisting of the integer n.\n",
    "\n",
    "* square_patch(3) ➞ [\n",
    "  [3, 3, 3],\n",
    "  [3, 3, 3],\n",
    "  [3, 3, 3]"
   ]
  },
  {
   "cell_type": "code",
   "execution_count": 40,
   "id": "601993fa",
   "metadata": {},
   "outputs": [
    {
     "name": "stdout",
     "output_type": "stream",
     "text": [
      "Enter number :3\n",
      "[[3, 3, 3], [3, 3, 3], [3, 3, 3]]\n"
     ]
    }
   ],
   "source": [
    "def square_patch(n):\n",
    "  return [[n]*n]*n\n",
    "\n",
    "n = int(input('Enter number :'))\n",
    "print(square_patch(n), end = '\\n')"
   ]
  },
  {
   "cell_type": "code",
   "execution_count": 41,
   "id": "b33b8ce3",
   "metadata": {},
   "outputs": [
    {
     "data": {
      "text/plain": [
       "[[3, 3, 3]]"
      ]
     },
     "execution_count": 41,
     "metadata": {},
     "output_type": "execute_result"
    }
   ],
   "source": [
    "[[3]*3]"
   ]
  },
  {
   "cell_type": "markdown",
   "id": "6e3ebc41",
   "metadata": {},
   "source": [
    "### 04. Create a function which adds spaces before every capital in a word. Uncapitalize the whole string afterwards.\n",
    "\n",
    "* cap_space(\"helloWorld\") ➞ \"hello world\""
   ]
  },
  {
   "cell_type": "code",
   "execution_count": 44,
   "id": "37743f0c",
   "metadata": {},
   "outputs": [
    {
     "name": "stdout",
     "output_type": "stream",
     "text": [
      "Enter your string: HaiIAmRaviTeja\n",
      " hai i am ravi teja\n"
     ]
    }
   ],
   "source": [
    "def cap_space(txt):\n",
    "    return ''.join([ch if ch.islower() else ' ' + ch.lower() for ch in txt])\n",
    "\n",
    "txt = input('Enter your string: ')\n",
    "print(cap_space(txt))"
   ]
  },
  {
   "cell_type": "markdown",
   "id": "99e9fb7a",
   "metadata": {},
   "source": [
    "### 05. Create a function which takes in a number `n` as input and returns all numbers up to and including `n` joined together in a string. Separate each digit from each other with the character `\"-\"`.\n",
    "\n",
    "* join_digits(11) ➞ \"1-2-3-4-5-6-7-8-9-1-0-1-1\""
   ]
  },
  {
   "cell_type": "code",
   "execution_count": 59,
   "id": "5827edea",
   "metadata": {},
   "outputs": [
    {
     "name": "stdout",
     "output_type": "stream",
     "text": [
      "Enter number :15\n",
      "1-2-3-4-5-6-7-8-9-1-0-1-1-1-2-1-3-1-4-1-5\n"
     ]
    }
   ],
   "source": [
    "def join_digits(n):\n",
    "    return '-'.join(j for i in range(1, n+1) for j in str(i))\n",
    "\n",
    "n = int(input('Enter number :'))\n",
    "print(join_digits(n))"
   ]
  },
  {
   "cell_type": "markdown",
   "id": "bf3a0481",
   "metadata": {},
   "source": [
    "### 06. Question 1: Write a Python function that takes a list of integers as input and returns a new list containing only the unique elements, preserving their original order.\n",
    "\n",
    "Example:  \n",
    "Input: [3, 5, 2, 5, 6, 3, 1]  \n",
    "Output: [3, 5, 2, 6, 1]"
   ]
  },
  {
   "cell_type": "code",
   "execution_count": 68,
   "id": "88d4dd51",
   "metadata": {},
   "outputs": [
    {
     "name": "stdout",
     "output_type": "stream",
     "text": [
      "[3, 5, 2, 6, 1]\n"
     ]
    }
   ],
   "source": [
    "def find_unique(lst):\n",
    "    unique = []\n",
    "    for i in lst:\n",
    "        if i not in unique:\n",
    "            unique.append(i)\n",
    "            \n",
    "    return unique\n",
    "\n",
    "lst = [3,5,2,5,6,3,1]\n",
    "result = find_unique(lst)\n",
    "print(result)"
   ]
  },
  {
   "cell_type": "markdown",
   "id": "64ca8caf",
   "metadata": {},
   "source": [
    "### 07. Write a function that returns the first n vowels of a string.\n",
    "\n",
    "* first_n_vowels(\"sharpening skills\", 3) ➞ \"aei\"   \n",
    "\n",
    "* first_n_vowels(\"major league\", 5) ➞ \"aoeau\"   \n",
    "\n",
    "* first_n_vowels(\"hostess\", 5) ➞ \"invalid\"   "
   ]
  },
  {
   "cell_type": "code",
   "execution_count": 77,
   "id": "1409f348",
   "metadata": {},
   "outputs": [
    {
     "name": "stdout",
     "output_type": "stream",
     "text": [
      "Enter string : Raviteja\n",
      "Enter number : 2\n",
      "ai\n"
     ]
    }
   ],
   "source": [
    "def first_n_vowels(txt, n):\n",
    "  v = [i for i in txt if i in 'aeiou']\n",
    "  return 'invalid' if n>len(v) else ''.join(v[:n])\n",
    "\n",
    "txt = input('Enter string : ')\n",
    "n = int(input('Enter number : '))\n",
    "\n",
    "print(first_n_vowels(txt, n))"
   ]
  },
  {
   "cell_type": "markdown",
   "id": "8d353f00",
   "metadata": {},
   "source": [
    "### 08. Print the Even and odd number in a list using for loop"
   ]
  },
  {
   "cell_type": "code",
   "execution_count": 21,
   "id": "241fff06",
   "metadata": {},
   "outputs": [
    {
     "name": "stdout",
     "output_type": "stream",
     "text": [
      "[[0, 2, 4, 6, 8, 10], [1, 3, 5, 7, 9]]\n"
     ]
    }
   ],
   "source": [
    "def find_evenodd(num):\n",
    "    lst = [[], []]\n",
    "    for i in range(0, num+1):\n",
    "        if i%2==0:\n",
    "            lst[0].append(i)\n",
    "        else:\n",
    "            lst[1].append(i)\n",
    "    return print(lst)\n",
    "\n",
    "find_evenodd(10)"
   ]
  },
  {
   "cell_type": "code",
   "execution_count": 23,
   "id": "f7adc3a9",
   "metadata": {},
   "outputs": [
    {
     "name": "stdout",
     "output_type": "stream",
     "text": [
      "[[-10, -8, -6, -4, -2], [-9, -7, -5, -3, -1], [0, 2, 4, 6, 8, 10], [1, 3, 5, 7, 9]]\n"
     ]
    }
   ],
   "source": [
    "def find_evenodd(num):\n",
    "    lst = [[], [], [], []]\n",
    "    \n",
    "    for i in range(-10, num+1):\n",
    "        if i < 0 and i % 2 == 0:\n",
    "            lst[0].append(i)\n",
    "        elif i < 0 and i % 2 != 0:\n",
    "            lst[1].append(i)\n",
    "        elif i>=0 and i % 2 ==0:\n",
    "            lst[2].append(i)\n",
    "        elif i > 0 and i % 2 != 0:\n",
    "            lst[3].append(i)\n",
    "    return print(lst)\n",
    "\n",
    "find_evenodd(10)"
   ]
  },
  {
   "cell_type": "markdown",
   "id": "c2c62179",
   "metadata": {},
   "source": [
    "### 09. Write a Python program to count the number of even and odd numbers in a given list of integers."
   ]
  },
  {
   "cell_type": "code",
   "execution_count": 24,
   "id": "e377b005",
   "metadata": {},
   "outputs": [
    {
     "name": "stdout",
     "output_type": "stream",
     "text": [
      "Even: 5\n",
      "Odd: 5\n"
     ]
    }
   ],
   "source": [
    "def count_even_odd(numbers):\n",
    "    even_count = 0\n",
    "    odd_count = 0\n",
    "    for num in numbers:\n",
    "        if num % 2 == 0:\n",
    "            even_count += 1\n",
    "        else:\n",
    "            odd_count += 1\n",
    "    return even_count, odd_count\n",
    "\n",
    "numbers_list = [1, 2, 3, 4, 5, 6, 7, 8, 9, 10]\n",
    "even, odd = count_even_odd(numbers_list)\n",
    "print(\"Even:\", even)  # Output: Even: 5\n",
    "print(\"Odd:\", odd)    # Output: Odd: 5\n"
   ]
  },
  {
   "cell_type": "markdown",
   "id": "b7dcb1b5",
   "metadata": {},
   "source": [
    "### 10. Write a Python program to check if a given word is an anagram of another word. An anagram is a word formed by rearranging the letters of another."
   ]
  },
  {
   "cell_type": "code",
   "execution_count": 25,
   "id": "abaad702",
   "metadata": {},
   "outputs": [
    {
     "name": "stdout",
     "output_type": "stream",
     "text": [
      "True\n"
     ]
    }
   ],
   "source": [
    "def is_anagram(word1, word2):\n",
    "    return sorted(word1) == sorted(word2)\n",
    "\n",
    "\n",
    "word1 = \"listen\"\n",
    "word2 = \"silent\"\n",
    "print(is_anagram(word1, word2))  # Output: True\n"
   ]
  },
  {
   "cell_type": "code",
   "execution_count": null,
   "id": "96c0691e",
   "metadata": {},
   "outputs": [],
   "source": []
  }
 ],
 "metadata": {
  "kernelspec": {
   "display_name": "Python 3 (ipykernel)",
   "language": "python",
   "name": "python3"
  },
  "language_info": {
   "codemirror_mode": {
    "name": "ipython",
    "version": 3
   },
   "file_extension": ".py",
   "mimetype": "text/x-python",
   "name": "python",
   "nbconvert_exporter": "python",
   "pygments_lexer": "ipython3",
   "version": "3.10.9"
  }
 },
 "nbformat": 4,
 "nbformat_minor": 5
}
