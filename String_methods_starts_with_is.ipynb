{
 "cells": [
  {
   "cell_type": "markdown",
   "id": "dd832844",
   "metadata": {},
   "source": [
    "# String Methods\n",
    "***"
   ]
  },
  {
   "cell_type": "markdown",
   "id": "08dd4b70",
   "metadata": {},
   "source": [
    "### String Methods starts with is (Ex: 'isalnum', 'isalpha', 'isascii', 'isdecimal', 'isdigit', 'isidentifier', 'islower', 'isnumeric', 'isprintable', 'isspace', 'istitle', 'isupper')\n",
    "***\n",
    "> These \"is\" methods can be useful for checking certain properties of strings, such as whether they contain specific types of characters or are in a particular format."
   ]
  },
  {
   "cell_type": "code",
   "execution_count": 2,
   "id": "d675f831",
   "metadata": {},
   "outputs": [
    {
     "data": {
      "text/plain": [
       "['__add__',\n",
       " '__class__',\n",
       " '__contains__',\n",
       " '__delattr__',\n",
       " '__dir__',\n",
       " '__doc__',\n",
       " '__eq__',\n",
       " '__format__',\n",
       " '__ge__',\n",
       " '__getattribute__',\n",
       " '__getitem__',\n",
       " '__getnewargs__',\n",
       " '__gt__',\n",
       " '__hash__',\n",
       " '__init__',\n",
       " '__init_subclass__',\n",
       " '__iter__',\n",
       " '__le__',\n",
       " '__len__',\n",
       " '__lt__',\n",
       " '__mod__',\n",
       " '__mul__',\n",
       " '__ne__',\n",
       " '__new__',\n",
       " '__reduce__',\n",
       " '__reduce_ex__',\n",
       " '__repr__',\n",
       " '__rmod__',\n",
       " '__rmul__',\n",
       " '__setattr__',\n",
       " '__sizeof__',\n",
       " '__str__',\n",
       " '__subclasshook__',\n",
       " 'capitalize',\n",
       " 'casefold',\n",
       " 'center',\n",
       " 'count',\n",
       " 'encode',\n",
       " 'endswith',\n",
       " 'expandtabs',\n",
       " 'find',\n",
       " 'format',\n",
       " 'format_map',\n",
       " 'index',\n",
       " 'isalnum',\n",
       " 'isalpha',\n",
       " 'isascii',\n",
       " 'isdecimal',\n",
       " 'isdigit',\n",
       " 'isidentifier',\n",
       " 'islower',\n",
       " 'isnumeric',\n",
       " 'isprintable',\n",
       " 'isspace',\n",
       " 'istitle',\n",
       " 'isupper',\n",
       " 'join',\n",
       " 'ljust',\n",
       " 'lower',\n",
       " 'lstrip',\n",
       " 'maketrans',\n",
       " 'partition',\n",
       " 'removeprefix',\n",
       " 'removesuffix',\n",
       " 'replace',\n",
       " 'rfind',\n",
       " 'rindex',\n",
       " 'rjust',\n",
       " 'rpartition',\n",
       " 'rsplit',\n",
       " 'rstrip',\n",
       " 'split',\n",
       " 'splitlines',\n",
       " 'startswith',\n",
       " 'strip',\n",
       " 'swapcase',\n",
       " 'title',\n",
       " 'translate',\n",
       " 'upper',\n",
       " 'zfill']"
      ]
     },
     "execution_count": 2,
     "metadata": {},
     "output_type": "execute_result"
    }
   ],
   "source": [
    "string = 'Raviteja'\n",
    "dir(string)"
   ]
  },
  {
   "cell_type": "code",
   "execution_count": 3,
   "id": "16912838",
   "metadata": {},
   "outputs": [
    {
     "name": "stdout",
     "output_type": "stream",
     "text": [
      "['isalnum', 'isalpha', 'isascii', 'isdecimal', 'isdigit', 'isidentifier', 'islower', 'isnumeric', 'isprintable', 'isspace', 'istitle', 'isupper']\n"
     ]
    }
   ],
   "source": [
    "isstringmethods = ['isalnum','isalpha','isascii','isdecimal','isdigit','isidentifier','islower','isnumeric','isprintable','isspace','istitle','isupper',]\n",
    "print(isstringmethods)"
   ]
  },
  {
   "cell_type": "markdown",
   "id": "574dfa70",
   "metadata": {},
   "source": [
    "## 1. isalnum() \n",
    "***\n",
    "> The isalnum() method returns True if all the characters are alphanumeric {alphabet letter (a-z) and numbers (0-9)}\n"
   ]
  },
  {
   "cell_type": "code",
   "execution_count": 4,
   "id": "d6460d91",
   "metadata": {},
   "outputs": [
    {
     "name": "stdout",
     "output_type": "stream",
     "text": [
      "True\n",
      "False\n"
     ]
    }
   ],
   "source": [
    "# isalnum()-->\n",
    "\n",
    "a = 'Raviteja6497'\n",
    "print(a.isalnum())\n",
    "\n",
    "b = '@#$ Raviteja 6497'\n",
    "print(b.isalnum())"
   ]
  },
  {
   "cell_type": "markdown",
   "id": "d3e3770f",
   "metadata": {},
   "source": [
    "## 2. isalpha()\n",
    "* The isalpha() method returns True if all the characters are alphabets {alphabet letter (a-z)}\n",
    "\n"
   ]
  },
  {
   "cell_type": "code",
   "execution_count": 5,
   "id": "6c0fd321",
   "metadata": {},
   "outputs": [
    {
     "name": "stdout",
     "output_type": "stream",
     "text": [
      "True\n",
      "False\n"
     ]
    }
   ],
   "source": [
    "c = 'Raviteja'\n",
    "print(c.isalpha())\n",
    "\n",
    "print(a.isalpha()) # value of a = 'Raviteja6497' it is alphanumeric"
   ]
  },
  {
   "cell_type": "markdown",
   "id": "cbfa8f42",
   "metadata": {},
   "source": [
    "# 3. isascii()\n",
    "***\n",
    "> The isascii() method returns True if all text in the string are present in ascii table\n",
    "\n",
    "![](https://www.w3resource.com/w3r_images/python-basic-image-exercise-86.png)"
   ]
  },
  {
   "cell_type": "code",
   "execution_count": 6,
   "id": "fd22a5c0",
   "metadata": {},
   "outputs": [
    {
     "name": "stdout",
     "output_type": "stream",
     "text": [
      "True\n",
      "False\n"
     ]
    }
   ],
   "source": [
    "print(a.isascii())\n",
    "\n",
    "d = 'ß'\n",
    "print(d.isascii())\n"
   ]
  },
  {
   "cell_type": "markdown",
   "id": "71b8670f",
   "metadata": {},
   "source": [
    "# 4. isdecimal()\n",
    "***\n",
    "> The isdecimal() method returns True if all text in the string are numbers (0-9)\n",
    "\n",
    "> This method can also be used on unicode objects 0 and G."
   ]
  },
  {
   "cell_type": "code",
   "execution_count": 14,
   "id": "bdc35d76",
   "metadata": {},
   "outputs": [
    {
     "name": "stdout",
     "output_type": "stream",
     "text": [
      "True\n",
      "True\n",
      "False\n"
     ]
    }
   ],
   "source": [
    "df = \"786\"\n",
    "print(df.isdecimal())\n",
    "\n",
    "e = \"\\u0030\" #unicode for 0\n",
    "f = \"\\u0047\" #unicode for G\n",
    "\n",
    "print(e.isdecimal())\n",
    "print(f.isdecimal())\n"
   ]
  },
  {
   "cell_type": "markdown",
   "id": "03682211",
   "metadata": {},
   "source": [
    "## 5. isdigit()\n",
    "***\n",
    "* The isdigit() method returns True if all the characters are digits, otherwise False.\n",
    "\n",
    "* Exponents, like ², are also considered to be a digit."
   ]
  },
  {
   "cell_type": "code",
   "execution_count": 13,
   "id": "57459d4f",
   "metadata": {},
   "outputs": [
    {
     "name": "stdout",
     "output_type": "stream",
     "text": [
      "True\n",
      "True\n",
      "True\n"
     ]
    },
    {
     "data": {
      "text/plain": [
       "False"
      ]
     },
     "execution_count": 13,
     "metadata": {},
     "output_type": "execute_result"
    }
   ],
   "source": [
    "e = '72'\n",
    "print(e.isdigit())\n",
    "\n",
    "f = \"\\u0030\" #unicode for 0\n",
    "g = \"\\u00B2\" #unicode for ²\n",
    "\n",
    "print(f.isdigit())\n",
    "print(g.isdigit())\n",
    "\n",
    "h = \"\\u00A9\"  # unicode for ©\n",
    "h.isdigit()"
   ]
  },
  {
   "cell_type": "markdown",
   "id": "d033bf1f",
   "metadata": {},
   "source": [
    "## 6. isidentifier()\n",
    "***\n",
    "* The .isidentifier() method in Python is used to check whether a given string is a valid identifier. \n",
    "* An identifier is a name used to identify variables, functions, classes, modules, or other objects in Python. \n",
    ">Here's an explanation of the method and an example code:   \n",
    "   \n",
    "\n",
    "    * The .isidentifier() method returns True if all the characters in the string form a valid identifier, and False otherwise. An identifier must follow certain rules:    \n",
    "\n",
    "\n",
    "        * It must start with a letter (a-z, A-Z) or an underscore (_).   \n",
    "        \n",
    "        * The remaining characters can be letters, underscores, or digits (0-9).    \n",
    "     \n",
    "        * It cannot be a reserved word or contain any special characters.     \n"
   ]
  },
  {
   "cell_type": "code",
   "execution_count": 15,
   "id": "e8c6d993",
   "metadata": {},
   "outputs": [
    {
     "name": "stdout",
     "output_type": "stream",
     "text": [
      "True\n",
      "True\n",
      "False\n",
      "True\n"
     ]
    }
   ],
   "source": [
    "string1 = \"hello\"\n",
    "string2 = \"my_variable\"\n",
    "string3 = \"123abc\"\n",
    "string4 = \"for\"\n",
    "\n",
    "print(string1.isidentifier())  # Output: True\n",
    "print(string2.isidentifier())  # Output: True\n",
    "print(string3.isidentifier())  # Output: False\n",
    "print(string4.isidentifier())  # Output: False\n"
   ]
  },
  {
   "cell_type": "markdown",
   "id": "ee1398b3",
   "metadata": {},
   "source": [
    "> In this example, string1 and string2 both satisfy the rules for identifiers, so the .isidentifier() method returns True for both of them. \n",
    "\n",
    "> string3 starts with a digit, which violates the rule, so the method returns False. Similarly, string4 is a reserved word in Python, so it also fails to be a valid identifier.\n",
    "\n",
    "> The .isidentifier() method can be useful when you need to validate user inputs or dynamically generated strings to ensure they can be used as valid identifiers in your code."
   ]
  },
  {
   "cell_type": "markdown",
   "id": "b8925e4f",
   "metadata": {},
   "source": [
    "## 7. islower() \n",
    "***\n",
    "> The .islower() method in Python is used to check whether all alphabetic characters in a string are lowercase. \n",
    "> It returns True if all the alphabetic characters are lowercase, and False otherwise.\n",
    "\n",
    "> The .islower() method examines each alphabetic character in the string and checks if it is lowercase. \n",
    "\n",
    "> Non-alphabetic characters are ignored during the check. \n",
    "\n",
    "> If all the alphabetic characters are lowercase, the method returns True. \n",
    "\n",
    "> If there are any uppercase or non-alphabetic characters, it returns False."
   ]
  },
  {
   "cell_type": "code",
   "execution_count": 16,
   "id": "dce80c7e",
   "metadata": {},
   "outputs": [
    {
     "name": "stdout",
     "output_type": "stream",
     "text": [
      "True\n",
      "False\n",
      "False\n",
      "False\n"
     ]
    }
   ],
   "source": [
    "j = \"hello\"\n",
    "k = \"Hello\"\n",
    "l = \"Hello123\"\n",
    "m = \"123\"\n",
    "\n",
    "print(j.islower())  # Output: True\n",
    "print(k.islower())  # Output: False\n",
    "print(l.islower())  # Output: False\n",
    "print(m.islower())  # Output: False"
   ]
  },
  {
   "cell_type": "markdown",
   "id": "a5c8a1d2",
   "metadata": {},
   "source": [
    ">In this example, j consists of all lowercase alphabetic characters, so the .islower() method returns True. \n",
    "\n",
    "> However, k starts with an uppercase letter, so it contains at least one non-lowercase alphabetic character, resulting in the method returning False. \n",
    "\n",
    "> Similarly, l contains both uppercase letters and digits, so it also returns False. \n",
    "> m consists of only digits and no alphabetic characters, so it returns False as well.\n",
    "\n",
    ">> The .islower() method is handy when you need to check if a string is entirely in lowercase. It can be useful for validating inputs, performing conditional checks, or applying specific operations based on the case of the alphabetic characters in the string."
   ]
  },
  {
   "cell_type": "markdown",
   "id": "d4609f7d",
   "metadata": {},
   "source": [
    "## 8. isnumeric() \n",
    "***\n",
    "> The isnumeric() method returns True if all the characters are numeric (0-9), otherwise False.\n",
    "\n",
    "> Exponents, like ² and ¾ are also considered to be numeric values.\n",
    "\n",
    "> \"-5\" and \"2.3\" are NOT considered numeric values, because all the characters in the string must be numeric, and the - and the . are not.\n",
    "\n"
   ]
  },
  {
   "cell_type": "code",
   "execution_count": 17,
   "id": "71dae304",
   "metadata": {},
   "outputs": [
    {
     "name": "stdout",
     "output_type": "stream",
     "text": [
      "True\n",
      "True\n",
      "True\n",
      "False\n",
      "False\n",
      "False\n"
     ]
    }
   ],
   "source": [
    "a = \"\\u0030\" #unicode for 0\n",
    "b = \"\\u00B2\" #unicode for ²\n",
    "c = \"\\u00BE\" #unicodefor ¾\n",
    "d = \"15rd2\"\n",
    "e = \"-5\"\n",
    "f = \"2.3\"\n",
    "\n",
    "print(a.isnumeric())\n",
    "print(b.isnumeric())\n",
    "print(c.isnumeric())\n",
    "print(d.isnumeric())\n",
    "print(e.isnumeric())\n",
    "print(f.isnumeric())\n"
   ]
  },
  {
   "cell_type": "markdown",
   "id": "3d2ff625",
   "metadata": {},
   "source": [
    "## 9. isprintable()\n",
    "\n",
    "> The .isprintable() method in Python is used to check whether all characters in a string are printable. \n",
    "\n",
    "> It returns True if all characters are printable, meaning they have a visual representation, such as letters, digits, punctuation marks, and whitespace. \n",
    "\n",
    "> If the string contains any non-printable characters, such as control characters or special symbols, it returns False. \n",
    "\n",
    "\n",
    "> The .isprintable() method scans each character in the string and checks if it is printable. Printable characters are those that can be rendered and displayed in a meaningful way."
   ]
  },
  {
   "cell_type": "code",
   "execution_count": 18,
   "id": "1cd8611a",
   "metadata": {},
   "outputs": [
    {
     "name": "stdout",
     "output_type": "stream",
     "text": [
      "True\n",
      "False\n",
      "False\n",
      "False\n"
     ]
    }
   ],
   "source": [
    "n = \"Hello, World!\"\n",
    "o = \"Hello\\nWorld\"\n",
    "p = \"Hello\\tWorld\"\n",
    "q = \"Hello\\x0bWorld\"\n",
    "\n",
    "print(n.isprintable())  # Output: True\n",
    "print(o.isprintable())  # Output: False\n",
    "print(p.isprintable())  # Output: False\n",
    "print(q.isprintable())  # Output: False"
   ]
  },
  {
   "cell_type": "markdown",
   "id": "7068ae9d",
   "metadata": {},
   "source": [
    "## 10. isspace()\n",
    "***\n",
    "> The .isspace() method in Python is used to check whether a string consists only of whitespace characters. \n",
    "\n",
    "> It returns True if all characters in the string are whitespace characters (spaces, tabs, newlines, etc.), and False otherwise. "
   ]
  },
  {
   "cell_type": "code",
   "execution_count": 19,
   "id": "5a22fa27",
   "metadata": {},
   "outputs": [
    {
     "name": "stdout",
     "output_type": "stream",
     "text": [
      "True\n",
      "False\n",
      "False\n",
      "False\n"
     ]
    }
   ],
   "source": [
    "s = \"    \"\n",
    "t = \"Hello\"\n",
    "u = \"  Hello  \"\n",
    "v = \"\"\n",
    "\n",
    "print(s.isspace())  # Output: True\n",
    "print(t.isspace())  # Output: False\n",
    "print(u.isspace())  # Output: False\n",
    "print(v.isspace())  # Output: False"
   ]
  },
  {
   "cell_type": "markdown",
   "id": "c5798151",
   "metadata": {},
   "source": [
    "## 11. istitle()\n",
    "*** \n",
    "> The .istitle() method in Python is used to check whether a string is in titlecase format. It returns True if the string follows the titlecase convention, where the first character of each word is uppercase and the rest are lowercase. If the string does not match this format, it returns False. \n",
    "\n",
    "> The .istitle() method examines each word in the string and checks if it follows the titlecase format. It verifies that the first character of each word is uppercase, and all the remaining characters are lowercase or non-alphabetic. If all words in the string conform to this format, the method returns True. If any word deviates from the titlecase convention, it returns False.\n",
    "\n",
    "> Symbols and numbers are ignored."
   ]
  },
  {
   "cell_type": "code",
   "execution_count": 20,
   "id": "9a216125",
   "metadata": {},
   "outputs": [
    {
     "name": "stdout",
     "output_type": "stream",
     "text": [
      "True\n",
      "False\n",
      "True\n",
      "False\n"
     ]
    }
   ],
   "source": [
    "w = \"This Is Titlecase\"\n",
    "x = \"This is Not Titlecase\"\n",
    "y = \"This Is123 Titlecase\"\n",
    "z = \"This_is_titlecase\"\n",
    "\n",
    "print(w.istitle())  # Output: True\n",
    "print(x.istitle())  # Output: False\n",
    "print(y.istitle())  # Output: True\n",
    "print(z.istitle())  # Output: False"
   ]
  },
  {
   "cell_type": "markdown",
   "id": "119d7545",
   "metadata": {},
   "source": [
    "## 12. isupper()\n",
    "***\n",
    "> The .isupper() method in Python is used to check whether all alphabetic characters in a string are uppercase. It returns True if all the alphabetic characters in the string are uppercase, and False otherwise.\n",
    "\n",
    "> The .isupper() method examines each alphabetic character in the string and checks if it is uppercase. \n",
    "\n",
    "> Non-alphabetic characters are ignored during the check. \n",
    "\n",
    "> If all alphabetic characters are uppercase, the method returns True. If there are any lowercase or non-alphabetic characters, it returns False."
   ]
  },
  {
   "cell_type": "code",
   "execution_count": null,
   "id": "3d077764",
   "metadata": {},
   "outputs": [],
   "source": [
    "k = \"HELLO\"\n",
    "l = \"Hello\"\n",
    "m = \"HELLO123\"\n",
    "n = \"123\"\n",
    "\n",
    "print(string1.isupper())  # Output: True\n",
    "print(string2.isupper())  # Output: False\n",
    "print(string3.isupper())  # Output: True\n",
    "print(string4.isupper())  # Output: False"
   ]
  },
  {
   "cell_type": "markdown",
   "id": "90b3a739",
   "metadata": {},
   "source": [
    "> In this example, k consists of all uppercase alphabetic characters, so the .isupper() method returns True. However, l contains a lowercase letter, so it contains at least one non-uppercase alphabetic character, resulting in the method returning False. \n",
    "\n",
    "> Similarly, m contains uppercase letters and digits, but since it contains only uppercase letters in the alphabetic portion, it returns True. \n",
    "\n",
    "> n consists of only digits and no alphabetic characters, so it returns False as well.\n",
    "\n",
    "> The .isupper() method is useful when you want to check if a string is entirely in uppercase. It can be used to validate inputs, perform conditional checks, or apply specific operations based on the case of the alphabetic characters in the string."
   ]
  },
  {
   "cell_type": "code",
   "execution_count": null,
   "id": "454e2554",
   "metadata": {},
   "outputs": [],
   "source": []
  },
  {
   "cell_type": "code",
   "execution_count": null,
   "id": "8fd888fd",
   "metadata": {},
   "outputs": [],
   "source": []
  },
  {
   "cell_type": "code",
   "execution_count": null,
   "id": "9bf8c8e1",
   "metadata": {},
   "outputs": [],
   "source": []
  }
 ],
 "metadata": {
  "kernelspec": {
   "display_name": "Python 3 (ipykernel)",
   "language": "python",
   "name": "python3"
  },
  "language_info": {
   "codemirror_mode": {
    "name": "ipython",
    "version": 3
   },
   "file_extension": ".py",
   "mimetype": "text/x-python",
   "name": "python",
   "nbconvert_exporter": "python",
   "pygments_lexer": "ipython3",
   "version": "3.10.9"
  }
 },
 "nbformat": 4,
 "nbformat_minor": 5
}
