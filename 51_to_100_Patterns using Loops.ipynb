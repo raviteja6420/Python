{
 "cells": [
  {
   "cell_type": "markdown",
   "id": "a6cea967",
   "metadata": {},
   "source": [
    "# Patterns from 51 to 100"
   ]
  },
  {
   "cell_type": "markdown",
   "id": "016c4732",
   "metadata": {},
   "source": [
    "## pattern 51"
   ]
  },
  {
   "cell_type": "code",
   "execution_count": 1,
   "id": "7ed7003b",
   "metadata": {},
   "outputs": [],
   "source": [
    "# DDDDDDD\n",
    "#  CCCCC\n",
    "#   BBB\n",
    "#    A"
   ]
  },
  {
   "cell_type": "code",
   "execution_count": 16,
   "id": "d53a0b27",
   "metadata": {},
   "outputs": [],
   "source": [
    "# pattern 51 using for loop \n",
    "def pattern51for(start='D', end='A'):\n",
    "    s = 0\n",
    "    k = (ord(start)-ord(end))+4\n",
    "    for i in range(ord(start), ord(end)-1, -1):\n",
    "        print(' '* s + chr(i)*k)\n",
    "        s += 1\n",
    "        k -= 2"
   ]
  },
  {
   "cell_type": "code",
   "execution_count": 17,
   "id": "27d1b1f8",
   "metadata": {},
   "outputs": [
    {
     "name": "stdout",
     "output_type": "stream",
     "text": [
      "DDDDDDD\n",
      " CCCCC\n",
      "  BBB\n",
      "   A\n"
     ]
    }
   ],
   "source": [
    "pattern51for()"
   ]
  },
  {
   "cell_type": "code",
   "execution_count": 26,
   "id": "7ab90809",
   "metadata": {},
   "outputs": [
    {
     "name": "stdout",
     "output_type": "stream",
     "text": [
      "HHHHHHH\n",
      " GGGGG\n",
      "  FFF\n",
      "   E\n"
     ]
    }
   ],
   "source": [
    "pattern51for(start='H', end='E')"
   ]
  },
  {
   "cell_type": "code",
   "execution_count": 22,
   "id": "05f849d3",
   "metadata": {},
   "outputs": [],
   "source": [
    "# pattern 51 using while loop\n",
    "def pattern51while(start='D', end='A'):\n",
    "    s = 0\n",
    "    k = (ord(start)-ord(end))+4\n",
    "    i = ord(start)\n",
    "    while i >= ord(end):\n",
    "        print(' '*s + chr(i)*k)\n",
    "        i -= 1\n",
    "        s += 1\n",
    "        k -= 2"
   ]
  },
  {
   "cell_type": "code",
   "execution_count": 23,
   "id": "4dd218e8",
   "metadata": {},
   "outputs": [
    {
     "name": "stdout",
     "output_type": "stream",
     "text": [
      "DDDDDDD\n",
      " CCCCC\n",
      "  BBB\n",
      "   A\n"
     ]
    }
   ],
   "source": [
    "pattern51while()"
   ]
  },
  {
   "cell_type": "markdown",
   "id": "c15be3d6",
   "metadata": {},
   "source": [
    "## pattern 52"
   ]
  },
  {
   "cell_type": "code",
   "execution_count": 27,
   "id": "5b68f129",
   "metadata": {},
   "outputs": [],
   "source": [
    "# GGGGGGG\n",
    "#  EEEEE\n",
    "#   CCC\n",
    "#    A"
   ]
  },
  {
   "cell_type": "code",
   "execution_count": 37,
   "id": "a453806c",
   "metadata": {},
   "outputs": [],
   "source": [
    "# pattern 52 using for loop\n",
    "def pattern52for(start='G', end='A'):\n",
    "    s = 0\n",
    "    k = (ord(start)-ord(end))+1\n",
    "    for i in range(ord(start), ord(end)-1,-2):\n",
    "        print(' '*s + chr(i)*k)\n",
    "        s += 1\n",
    "        k -= 2"
   ]
  },
  {
   "cell_type": "code",
   "execution_count": 38,
   "id": "0e7729f3",
   "metadata": {},
   "outputs": [
    {
     "name": "stdout",
     "output_type": "stream",
     "text": [
      "GGGGGGG\n",
      " EEEEE\n",
      "  CCC\n",
      "   A\n"
     ]
    }
   ],
   "source": [
    "pattern52for()"
   ]
  },
  {
   "cell_type": "code",
   "execution_count": 40,
   "id": "21caf1a7",
   "metadata": {},
   "outputs": [
    {
     "name": "stdout",
     "output_type": "stream",
     "text": [
      "KKKKKKK\n",
      " JJJJJ\n",
      "  III\n",
      "   H\n"
     ]
    }
   ],
   "source": [
    "pattern51for(start='K', end='H')"
   ]
  },
  {
   "cell_type": "code",
   "execution_count": 44,
   "id": "2ffab2c2",
   "metadata": {},
   "outputs": [],
   "source": [
    "# pattern 52 using while loop\n",
    "def pattern52while(start='G', end='A'):\n",
    "    s = 0\n",
    "    k = (ord(start)-ord(end))+1\n",
    "    i = ord(start)\n",
    "    while i >= ord(end):\n",
    "        print(' '*s + chr(i)*k)\n",
    "        i -= 2\n",
    "        s += 1\n",
    "        k -= 2"
   ]
  },
  {
   "cell_type": "code",
   "execution_count": 45,
   "id": "a3a4d6ec",
   "metadata": {},
   "outputs": [
    {
     "name": "stdout",
     "output_type": "stream",
     "text": [
      "GGGGGGG\n",
      " EEEEE\n",
      "  CCC\n",
      "   A\n"
     ]
    }
   ],
   "source": [
    "pattern52while()"
   ]
  },
  {
   "cell_type": "code",
   "execution_count": 49,
   "id": "e42c8cc5",
   "metadata": {},
   "outputs": [
    {
     "name": "stdout",
     "output_type": "stream",
     "text": [
      "RRRRRRRRR\n",
      " PPPPPPP\n",
      "  NNNNN\n",
      "   LLL\n",
      "    J\n"
     ]
    }
   ],
   "source": [
    "pattern52while(start='R', end='J')"
   ]
  },
  {
   "cell_type": "markdown",
   "id": "2a2c064c",
   "metadata": {},
   "source": [
    "## pattern 53"
   ]
  },
  {
   "cell_type": "code",
   "execution_count": null,
   "id": "6bde98d4",
   "metadata": {},
   "outputs": [],
   "source": [
    "# ABCDEFG\n",
    "#  ABCDE\n",
    "#   ABC\n",
    "#    A"
   ]
  },
  {
   "cell_type": "code",
   "execution_count": 61,
   "id": "88ee2fc7",
   "metadata": {},
   "outputs": [],
   "source": [
    "# pattern 53 using for loop\n",
    "def pattern53for(start='A', end='G'):\n",
    "    n = ord(end)\n",
    "    c = (ord(end)-ord(start))-3\n",
    "    s = 1\n",
    "    for k in range(0, c+1):\n",
    "        for i in range(0, s):\n",
    "            print(' ', end='')\n",
    "        for j in range(ord(start), n+1):\n",
    "            print(chr(j), end='')\n",
    "        n -= 2\n",
    "        s += 1\n",
    "        print()"
   ]
  },
  {
   "cell_type": "code",
   "execution_count": 62,
   "id": "1b4f8f90",
   "metadata": {},
   "outputs": [
    {
     "name": "stdout",
     "output_type": "stream",
     "text": [
      " ABCDEFG\n",
      "  ABCDE\n",
      "   ABC\n",
      "    A\n"
     ]
    }
   ],
   "source": [
    "pattern53for()"
   ]
  },
  {
   "cell_type": "code",
   "execution_count": 64,
   "id": "5ad28b90",
   "metadata": {},
   "outputs": [
    {
     "name": "stdout",
     "output_type": "stream",
     "text": [
      " HIJKLMNOP\n",
      "  HIJKLMN\n",
      "   HIJKL\n",
      "    HIJ\n",
      "     H\n",
      "      \n"
     ]
    }
   ],
   "source": [
    "pattern53for(start='H', end='P')"
   ]
  },
  {
   "cell_type": "code",
   "execution_count": 88,
   "id": "f544a624",
   "metadata": {},
   "outputs": [],
   "source": [
    "# pattern 53 using while loop\n",
    "def pattern53while(start='A', end='G'):\n",
    "    n = 3\n",
    "    i = 0\n",
    "    m = 0\n",
    "    l = ord(end)\n",
    "    while i <= n:\n",
    "        j = 0\n",
    "        while j <= m:\n",
    "            print(' ', end='')\n",
    "            j += 1\n",
    "        k = ord(start)\n",
    "        while k <= l:\n",
    "            print(chr(k), end='')\n",
    "            k += 1\n",
    "        m += 1\n",
    "        l -= 2\n",
    "        n -= 1\n",
    "        print()"
   ]
  },
  {
   "cell_type": "code",
   "execution_count": 89,
   "id": "b58a413e",
   "metadata": {},
   "outputs": [
    {
     "name": "stdout",
     "output_type": "stream",
     "text": [
      " ABCDEFG\n",
      "  ABCDE\n",
      "   ABC\n",
      "    A\n"
     ]
    }
   ],
   "source": [
    "pattern53while()"
   ]
  },
  {
   "cell_type": "markdown",
   "id": "b9b6c023",
   "metadata": {},
   "source": [
    "## pattern 54"
   ]
  },
  {
   "cell_type": "code",
   "execution_count": null,
   "id": "8aeea3b7",
   "metadata": {},
   "outputs": [],
   "source": [
    "# *\n",
    "# * *\n",
    "# * * *\n",
    "# * * * *\n",
    "# * * *\n",
    "# * *\n",
    "# *"
   ]
  },
  {
   "cell_type": "code",
   "execution_count": 103,
   "id": "d72bebc8",
   "metadata": {},
   "outputs": [],
   "source": [
    "# pattern 54 using for loop\n",
    "def pattern54for(n = 4, char='*'):\n",
    "    for i in range(1, n+1):\n",
    "        print((char+' ')*i)\n",
    "    for j in range(n-1, 0, -1):\n",
    "        print((char+' ')*j)"
   ]
  },
  {
   "cell_type": "code",
   "execution_count": 104,
   "id": "2e39f3fd",
   "metadata": {},
   "outputs": [
    {
     "name": "stdout",
     "output_type": "stream",
     "text": [
      "* \n",
      "* * \n",
      "* * * \n",
      "* * * * \n",
      "* * * \n",
      "* * \n",
      "* \n"
     ]
    }
   ],
   "source": [
    "pattern54for()"
   ]
  },
  {
   "cell_type": "code",
   "execution_count": 121,
   "id": "1f107bcf",
   "metadata": {},
   "outputs": [
    {
     "name": "stdout",
     "output_type": "stream",
     "text": [
      "> \n",
      "> > \n",
      "> > > \n",
      "> > > > \n",
      "> > > > > \n",
      "> > > > > > \n",
      "> > > > > > > \n",
      "> > > > > > > > \n",
      "> > > > > > > > > \n",
      "> > > > > > > > \n",
      "> > > > > > > \n",
      "> > > > > > \n",
      "> > > > > \n",
      "> > > > \n",
      "> > > \n",
      "> > \n",
      "> \n"
     ]
    }
   ],
   "source": [
    "pattern54for(char='>', n = 9)"
   ]
  },
  {
   "cell_type": "code",
   "execution_count": 122,
   "id": "fd802324",
   "metadata": {},
   "outputs": [],
   "source": [
    "# pattern 54 using while loop\n",
    "def pattern54while(n=4, char='*'):\n",
    "    i = 1\n",
    "    while i <= n:\n",
    "        print((char+' ')*i)\n",
    "        i += 1\n",
    "    j = n-1\n",
    "    while j >= 1:\n",
    "        print((char+' ')*j)\n",
    "        j -= 1"
   ]
  },
  {
   "cell_type": "code",
   "execution_count": 123,
   "id": "dca4b91a",
   "metadata": {},
   "outputs": [
    {
     "name": "stdout",
     "output_type": "stream",
     "text": [
      "* \n",
      "* * \n",
      "* * * \n",
      "* * * * \n",
      "* * * \n",
      "* * \n",
      "* \n"
     ]
    }
   ],
   "source": [
    "pattern54while()"
   ]
  },
  {
   "cell_type": "code",
   "execution_count": 124,
   "id": "041d3dcf",
   "metadata": {},
   "outputs": [
    {
     "name": "stdout",
     "output_type": "stream",
     "text": [
      "@ \n",
      "@ @ \n",
      "@ @ @ \n",
      "@ @ @ @ \n",
      "@ @ @ @ @ \n",
      "@ @ @ @ @ @ \n",
      "@ @ @ @ @ @ @ \n",
      "@ @ @ @ @ @ \n",
      "@ @ @ @ @ \n",
      "@ @ @ @ \n",
      "@ @ @ \n",
      "@ @ \n",
      "@ \n"
     ]
    }
   ],
   "source": [
    "pattern54while(char='@', n = 7)"
   ]
  },
  {
   "cell_type": "markdown",
   "id": "e2ea1ce9",
   "metadata": {},
   "source": [
    "## pattern 55"
   ]
  },
  {
   "cell_type": "code",
   "execution_count": 198,
   "id": "b0fd7094",
   "metadata": {},
   "outputs": [],
   "source": [
    "# '''\n",
    "\n",
    "# 3\n",
    "# 3 2\n",
    "# 3 2 1\n",
    "# 3 2 1 0\n",
    "# 3 2 1\n",
    "# 3 2 \n",
    "# 3\n",
    "\n",
    "\n",
    "# '''"
   ]
  },
  {
   "cell_type": "code",
   "execution_count": 1,
   "id": "1916c4cb",
   "metadata": {},
   "outputs": [
    {
     "name": "stdout",
     "output_type": "stream",
     "text": [
      "3 \r\n",
      "3 2 \r\n",
      "3 2 1 \r\n",
      "3 2 1 0 \r\n",
      "3 2 1 \r\n",
      "3 2 \r\n",
      "3 \r\n"
     ]
    }
   ],
   "source": [
    "# pattern 55 using while loop\n",
    "i = 1\n",
    "while i<=4:\n",
    "    j = 1\n",
    "    num = 3\n",
    "    while j <= i:\n",
    "        print(num,end=\" \")\n",
    "        j+=1\n",
    "        num-=1\n",
    "    print('\\r')\n",
    "    i+=1\n",
    "i-=2\n",
    "while i!=0:\n",
    "    num = 3 # initialise number so as to reset it to 3 after loop\n",
    "    j = 1\n",
    "    while j <= i:\n",
    "        print(num,end=\" \")\n",
    "        j+=1\n",
    "        num-=1\n",
    "    print('\\r')\n",
    "    i-=1"
   ]
  },
  {
   "cell_type": "code",
   "execution_count": 3,
   "id": "8d7456f7",
   "metadata": {},
   "outputs": [
    {
     "name": "stdout",
     "output_type": "stream",
     "text": [
      "3 \r\n",
      "3 2 \r\n",
      "3 2 1 \r\n",
      "3 2 1 0 \r\n",
      "3 2 1 \r\n",
      "3 2 \r\n",
      "3 \r\n"
     ]
    }
   ],
   "source": [
    "for i in range(1,5):\n",
    "    num = 3 # initialise num to 3 for each row\n",
    "    for j in range(1,i+1):\n",
    "        print(num,end=\" \")\n",
    "        num-=1 # decrement num for each column\n",
    "    print('\\r') \n",
    "\n",
    "for i in range(3,0,-1):\n",
    "    # run loop 3 times\n",
    "    num = 3 # initialise number so as to reset it to 3 after loop\n",
    "    for j in range(1,i+1):\n",
    "        # run loop to print total 'i' numbers in each row\n",
    "        print(num,end=\" \")\n",
    "        num-=1\n",
    "    print('\\r')"
   ]
  },
  {
   "cell_type": "markdown",
   "id": "bdb2b80f",
   "metadata": {},
   "source": [
    "## pattern 56"
   ]
  },
  {
   "cell_type": "code",
   "execution_count": 4,
   "id": "6404f0bd",
   "metadata": {},
   "outputs": [
    {
     "name": "stdout",
     "output_type": "stream",
     "text": [
      "3 \r\n",
      "2 3 \r\n",
      "1 2 3 \r\n",
      "0 1 2 3 \r\n",
      "1 2 3 \r\n",
      "2 3 \r\n",
      "3 \r\n"
     ]
    }
   ],
   "source": [
    "i = 1 # setting starting count for row\n",
    "temp = 3\n",
    "while i<=4:\n",
    "    # run loop 4 times\n",
    "    num = temp \n",
    "    j = 1 # to run j loop i number of times\n",
    "    while j <= i:\n",
    "        # number has to be printed i no. of times on each row\n",
    "        print(num,end=\" \")\n",
    "        j+=1\n",
    "        num+=1 \n",
    "    print('\\r')\n",
    "    temp = temp-1\n",
    "    i+=1\n",
    "# i becomes 5 in previous loop\n",
    "i-=2 # need only 3 more rows \n",
    "temp = 1\n",
    "while i!=0:\n",
    "    num = temp\n",
    "    j = 1\n",
    "    while j <= i:\n",
    "        print(num,end=\" \")\n",
    "        j+=1\n",
    "        num+=1\n",
    "    print('\\r')\n",
    "    temp+=1\n",
    "    i-=1"
   ]
  },
  {
   "cell_type": "code",
   "execution_count": 5,
   "id": "c2c4adf6",
   "metadata": {},
   "outputs": [
    {
     "name": "stdout",
     "output_type": "stream",
     "text": [
      "3 \r\n",
      "2 3 \r\n",
      "1 2 3 \r\n",
      "0 1 2 3 \r\n",
      "1 2 3 \r\n",
      "2 3 \r\n",
      "3 \r\n"
     ]
    }
   ],
   "source": [
    "temp = 3\n",
    "for i in range(1,5):\n",
    "    # run loop 4 times\n",
    "    num = temp \n",
    "    for j in range(1,i+1):\n",
    "        # number has to be printed i no. of times on each row\n",
    "        print(num,end=\" \")\n",
    "        num+=1 \n",
    "    print('\\r')\n",
    "    temp = temp-1\n",
    "\n",
    "temp = 1\n",
    "for i in range(3,0,-1):\n",
    "    num = temp\n",
    "    for j in range(1,i+1):\n",
    "        print(num,end=\" \")\n",
    "        num+=1\n",
    "    print('\\r')\n",
    "    temp+=1"
   ]
  },
  {
   "cell_type": "markdown",
   "id": "03a8c5be",
   "metadata": {},
   "source": [
    "## pattern 57"
   ]
  },
  {
   "cell_type": "code",
   "execution_count": 6,
   "id": "f839e896",
   "metadata": {},
   "outputs": [
    {
     "name": "stdout",
     "output_type": "stream",
     "text": [
      "D \r\n",
      "D C \r\n",
      "D C B \r\n",
      "D C B A \r\n",
      "D C B \r\n",
      "D C \r\n",
      "D \r\n"
     ]
    }
   ],
   "source": [
    "i = 1\n",
    "while i<=4:\n",
    "    char = \"D\" # initialise number so as to reset it to \"D\" after loop\n",
    "    j = 1\n",
    "    while j <= i:\n",
    "        print(char,end=\" \")\n",
    "        j+=1\n",
    "        char = chr(ord(char)-1) # get the previous char in alphabets\n",
    "    print('\\r')\n",
    "    i+=1\n",
    "# i becomes 5 in previous loop\n",
    "i-=2\n",
    "while i!=0:\n",
    "    char = \"D\" # initialise number so as to reset it to \"D\" after loop\n",
    "    j = 1\n",
    "    while j <= i:\n",
    "        print(char,end=\" \")\n",
    "        j+=1\n",
    "        char = chr(ord(char)-1)\n",
    "    print('\\r')\n",
    "    i-=1"
   ]
  },
  {
   "cell_type": "code",
   "execution_count": 7,
   "id": "5c98ac7f",
   "metadata": {},
   "outputs": [
    {
     "name": "stdout",
     "output_type": "stream",
     "text": [
      "D \r\n",
      "D C \r\n",
      "D C B \r\n",
      "D C B A \r\n",
      "D C B \r\n",
      "D C \r\n",
      "D \r\n"
     ]
    }
   ],
   "source": [
    "for i in range(1,5):\n",
    "    char = \"D\" # initialise number so as to reset it to \"D\" after loop\n",
    "    for j in range(1,i+1):\n",
    "        print(char,end=\" \")\n",
    "        char = chr(ord(char)-1) # get the previous char in alphabets\n",
    "    print('\\r')\n",
    "\n",
    "for i in range(3,0,-1):\n",
    "    char = \"D\" # initialise number so as to reset it to \"D\" after loop\n",
    "    for j in range(1,i+1):\n",
    "        print(char,end=\" \")\n",
    "        char = chr(ord(char)-1)\n",
    "    print('\\r')"
   ]
  },
  {
   "cell_type": "markdown",
   "id": "8ed418da",
   "metadata": {},
   "source": [
    "## pattern 58"
   ]
  },
  {
   "cell_type": "code",
   "execution_count": 8,
   "id": "31b73af9",
   "metadata": {},
   "outputs": [
    {
     "name": "stdout",
     "output_type": "stream",
     "text": [
      "D\n",
      "CD\n",
      "BCD\n",
      "ABCD\n",
      "BCD\n",
      "CD\n",
      "D\n"
     ]
    }
   ],
   "source": [
    "i = 1\n",
    "temp = \"D\"\n",
    "while i<=4:\n",
    "    j = 1\n",
    "    char = temp # temp will be starting value of each row\n",
    "    while j<=i:\n",
    "        print(char,end=\"\")\n",
    "        char = chr(ord(char)+1) # increment char for each column\n",
    "        j+=1\n",
    "    print()\n",
    "    temp = chr(ord(temp)-1) # decrement temp for each row\n",
    "    i+=1\n",
    "# i becomes 5 in previous loop\n",
    "i-=2\n",
    "temp = \"B\" # initialise number so as to reset it to \"D\" after loop\n",
    "while i!=0:\n",
    "    j = 1\n",
    "    char = temp # temp will be starting value of each row\n",
    "    while j <= i:\n",
    "        print(char,end=\"\")\n",
    "        j+=1\n",
    "        char = chr(ord(char)+1) # increment char for each column\n",
    "    print() # print newline\n",
    "    temp = chr(ord(temp)+1) # increment temp for each row\n",
    "    i-=1"
   ]
  },
  {
   "cell_type": "code",
   "execution_count": 9,
   "id": "91c87c5a",
   "metadata": {},
   "outputs": [
    {
     "name": "stdout",
     "output_type": "stream",
     "text": [
      "D\n",
      "CD\n",
      "BCD\n",
      "ABCD\n",
      "BCD\n",
      "CD\n",
      "D\n"
     ]
    }
   ],
   "source": [
    "temp = \"D\"\n",
    "for i in range(1,5):\n",
    "    char = temp # temp will be starting value of each row\n",
    "    for j in range(1,i+1):\n",
    "        print(char,end=\"\")\n",
    "        char = chr(ord(char)+1) # increment char for each column\n",
    "    print()\n",
    "    temp = chr(ord(temp)-1) # decrement temp for each row\n",
    "\n",
    "temp = \"B\" # initialise number so as to reset it to \"D\" after loop\n",
    "for i in range(3,0,-1):\n",
    "    char = temp # temp will be starting value of each row\n",
    "    for j in range(1,i+1):\n",
    "        print(char,end=\"\")\n",
    "        char = chr(ord(char)+1) # increment char for each column\n",
    "    print() # print newline\n",
    "    temp = chr(ord(temp)+1) # increment temp for each row"
   ]
  },
  {
   "cell_type": "markdown",
   "id": "a4c310a5",
   "metadata": {},
   "source": [
    "## pattern 59"
   ]
  },
  {
   "cell_type": "code",
   "execution_count": 10,
   "id": "1d4eaffa",
   "metadata": {},
   "outputs": [
    {
     "name": "stdout",
     "output_type": "stream",
     "text": [
      "   *\n",
      "  **\n",
      " ***\n",
      "****\n",
      " ***\n",
      "  **\n",
      "   *\n"
     ]
    }
   ],
   "source": [
    "i = 1\n",
    "num = 3\n",
    "k = 1\n",
    "while i<=4:\n",
    "    j = 1\n",
    "    while j<=num:\n",
    "        print(end=\" \")\n",
    "        j+=1\n",
    "    num = num-1\n",
    "    while k<=i:\n",
    "        print(i*\"*\", end=\"\")\n",
    "        k+=1\n",
    "    i+=1\n",
    "    print() # go to nextline\n",
    "\n",
    "k = 1 # reset k \n",
    "i = 3\n",
    "while i!=0:\n",
    "    # run loop 3 times\n",
    "    j = 1\n",
    "    while j in range(0,k+1):\n",
    "        # print k spaces on each line\n",
    "        print(end=\" \")\n",
    "        j+=1\n",
    "    k = k+1 \n",
    "    j = 1\n",
    "    while j in range(1,i+1):\n",
    "        # print 'i' number of stars on each line\n",
    "        print(\"*\", end = \"\")\n",
    "        j+=1\n",
    "    print() # print newline \n",
    "    i = i-1"
   ]
  },
  {
   "cell_type": "code",
   "execution_count": 11,
   "id": "964655ef",
   "metadata": {},
   "outputs": [
    {
     "name": "stdout",
     "output_type": "stream",
     "text": [
      "   *\n",
      "  **\n",
      " ***\n",
      "****\n",
      " ***\n",
      "  **\n",
      "   *\n"
     ]
    }
   ],
   "source": [
    "num = 3\n",
    "for i in range(1,5):\n",
    "    for j in range(1,num+1):\n",
    "        print(end=\" \")\n",
    "    num = num-1\n",
    "    for k in range(1,i+1):\n",
    "        print(\"*\", end=\"\")\n",
    "    print() # go to nextline\n",
    "\n",
    "k = 1 # reset value of k\n",
    "for i in range(3,0,-1):\n",
    "    j = 1\n",
    "    for j in range(0,k):\n",
    "        print(end=\" \")\n",
    "        j+=1\n",
    "    k = k+1\n",
    "    j = 1\n",
    "    for j in range(1,i+1):\n",
    "        print(\"*\", end = \"\")\n",
    "    print()"
   ]
  },
  {
   "cell_type": "markdown",
   "id": "06597f92",
   "metadata": {},
   "source": [
    "## pattern 60"
   ]
  },
  {
   "cell_type": "code",
   "execution_count": 13,
   "id": "e8c23768",
   "metadata": {},
   "outputs": [
    {
     "name": "stdout",
     "output_type": "stream",
     "text": [
      "   3\n",
      "  32\n",
      " 321\n",
      "3210\n",
      " 321\n",
      "  32\n",
      "   3\n",
      "    \n",
      "     \n"
     ]
    }
   ],
   "source": [
    "i = 1\n",
    "count = 3\n",
    "while i<=4:\n",
    "    j = 1\n",
    "    num = 3 # value to print on each row is initialised here\n",
    "    k = 1\n",
    "    while j<=count:\n",
    "        # loop to print spaces\n",
    "        print(end=\" \")\n",
    "        j+=1\n",
    "    # decrement space for next row\n",
    "    count = count-1\n",
    "    while k<=i:\n",
    "        # loop to print umber\n",
    "        print(num, end=\"\")\n",
    "        k+=1\n",
    "        num-=1\n",
    "    i+=1\n",
    "    print() # go to nextline\n",
    "# i    5, count    -1, k    5, j    1\n",
    "k = k-3\n",
    "while i!=0:\n",
    "    j = 1\n",
    "    num = 3\n",
    "    while j in range(0,k):\n",
    "        print(end=\" \")\n",
    "        j+=1\n",
    "    k = k+1\n",
    "    j = 1\n",
    "    while j in range(1,i-1):\n",
    "        print(num, end = \"\")\n",
    "        num-=1\n",
    "        j+=1\n",
    "    print()\n",
    "    i = i-1"
   ]
  },
  {
   "cell_type": "code",
   "execution_count": 14,
   "id": "f49222bc",
   "metadata": {},
   "outputs": [
    {
     "name": "stdout",
     "output_type": "stream",
     "text": [
      "   3\n",
      "  32\n",
      " 321\n",
      "3210\n",
      " 321\n",
      "  32\n",
      "   3\n"
     ]
    }
   ],
   "source": [
    "count = 3\n",
    "for i in range(1,5):\n",
    "    num = 3 # value to print on each row is initialised here\n",
    "    for j in range(1,count+1):\n",
    "        # loop to print spaces\n",
    "        print(end=\" \")\n",
    "    # decrement space for next row\n",
    "    count = count-1\n",
    "    for k in range(1,i+1):\n",
    "        # loop to print number\n",
    "        print(num, end=\"\")\n",
    "        num-=1\n",
    "    print() # go to nextline\n",
    "\n",
    "count = 1\n",
    "for i in range(3,0,-1):\n",
    "    num = 3\n",
    "    for j in range(1,count+1):\n",
    "        print(end=\" \")\n",
    "    count+=1\n",
    "    for j in range(1,i+1):\n",
    "        print(num, end = \"\")\n",
    "        num-=1\n",
    "    print()"
   ]
  },
  {
   "cell_type": "markdown",
   "id": "2273044f",
   "metadata": {},
   "source": [
    "## pattern 61"
   ]
  },
  {
   "cell_type": "code",
   "execution_count": 16,
   "id": "d3b641f4",
   "metadata": {},
   "outputs": [
    {
     "name": "stdout",
     "output_type": "stream",
     "text": [
      "   3\n",
      "  23\n",
      " 123\n",
      "0123\n",
      " 123\n",
      "  23\n",
      "   3\n"
     ]
    }
   ],
   "source": [
    "i = 1\n",
    "count,temp = 3,3\n",
    "while i<=4:\n",
    "    j = 1\n",
    "    k = 1\n",
    "    num = temp\n",
    "    while j<=count:\n",
    "        # loop to print spaces\n",
    "        print(end=\" \")\n",
    "        j+=1\n",
    "    # decrement space for next row\n",
    "    count = count-1\n",
    "    while k<=i:\n",
    "        # loop to print umber\n",
    "        print(num, end=\"\")\n",
    "        k+=1\n",
    "        num+=1\n",
    "    i+=1\n",
    "    temp-=1\n",
    "    print() # go to nextline\n",
    "# i    5, count    -1, k    5, j    1\n",
    "i = 3\n",
    "count = 1\n",
    "temp = 1\n",
    "while i!=0:\n",
    "    num = temp\n",
    "    j = 1\n",
    "    while j in range(1,count+1):\n",
    "        print(end=\" \")\n",
    "        j+=1\n",
    "    count+=1\n",
    "    j = 1\n",
    "    while j in range(1,i+1):\n",
    "        print(num, end = \"\")\n",
    "        num+=1\n",
    "        j+=1\n",
    "    print()\n",
    "    temp+=1\n",
    "    i = i-1"
   ]
  },
  {
   "cell_type": "code",
   "execution_count": 17,
   "id": "97eb3a0b",
   "metadata": {},
   "outputs": [
    {
     "name": "stdout",
     "output_type": "stream",
     "text": [
      "   3\n",
      "  23\n",
      " 123\n",
      "0123\n",
      " 123\n",
      "  23\n",
      "   3\n"
     ]
    }
   ],
   "source": [
    "count,temp = 3,3\n",
    "for i in range(1,5):\n",
    "    num = temp\n",
    "    for j in range(1,count+1):\n",
    "        # loop to print spaces\n",
    "        print(end=\" \")\n",
    "    # decrement space for next row\n",
    "    count = count-1\n",
    "    for k in range(1,i+1):\n",
    "        # loop to print umber\n",
    "        print(num, end=\"\")\n",
    "        num+=1\n",
    "    temp-=1\n",
    "    print() # go to nextline\n",
    "count = 1\n",
    "temp = 1\n",
    "for i in range(3,0,-1):\n",
    "    num = temp\n",
    "    j = 1\n",
    "    for j in range(1,count+1):\n",
    "        print(end=\" \")\n",
    "    count+=1\n",
    "    for j in range(1,i+1):\n",
    "        print(num, end = \"\")\n",
    "        num+=1\n",
    "    print()\n",
    "    temp+=1"
   ]
  },
  {
   "cell_type": "markdown",
   "id": "13f15a1b",
   "metadata": {},
   "source": [
    "## pattern 62"
   ]
  },
  {
   "cell_type": "code",
   "execution_count": 18,
   "id": "f3a0d6c4",
   "metadata": {},
   "outputs": [
    {
     "name": "stdout",
     "output_type": "stream",
     "text": [
      "   D\n",
      "  CD\n",
      " BCD\n",
      "ABCD\n",
      " BCD\n",
      "  CD\n",
      "   D\n"
     ]
    }
   ],
   "source": [
    "i = 1\n",
    "count = 3\n",
    "temp = \"D\"\n",
    "while i<=4:\n",
    "    j = 1\n",
    "    k = 1\n",
    "    char = temp # initialise char to temp value\n",
    "    while j<=count:\n",
    "        # loop to print spaces\n",
    "        print(end=\" \")\n",
    "        j+=1\n",
    "    # decrement space for next row\n",
    "    count = count-1\n",
    "    while k<=i:\n",
    "        # loop to print umber\n",
    "        print(char, end=\"\")\n",
    "        k+=1\n",
    "        char = chr(ord(char)+1)\n",
    "    i+=1\n",
    "    temp = chr(ord(temp)-1)\n",
    "    print() # go to nextline\n",
    "# i    5, count    -1, k    5, j    1\n",
    "count = 1\n",
    "i = 3\n",
    "temp = \"B\"\n",
    "while i!=0:\n",
    "    j = 1\n",
    "    char = temp\n",
    "    while j in range(1,count+1):\n",
    "        print(end=\" \")\n",
    "        j+=1\n",
    "    count+=1\n",
    "    j = 1\n",
    "    while j in range(1,i+1):\n",
    "        print(char, end = \"\")\n",
    "        char = chr(ord(char)+1)\n",
    "        j+=1\n",
    "    print()\n",
    "    temp = chr(ord(temp)+1)\n",
    "    i = i-1"
   ]
  },
  {
   "cell_type": "code",
   "execution_count": 19,
   "id": "00b5e296",
   "metadata": {},
   "outputs": [
    {
     "name": "stdout",
     "output_type": "stream",
     "text": [
      "   D\n",
      "  CD\n",
      " BCD\n",
      "ABCD\n",
      " BCD\n",
      "  CD\n",
      "   D\n"
     ]
    }
   ],
   "source": [
    "count = 3\n",
    "temp = \"D\"\n",
    "for i in range(1,5):\n",
    "    k = 1\n",
    "    char = temp # initialise char to temp value\n",
    "    for j in range(1,count+1):\n",
    "        # loop to print spaces\n",
    "        print(end=\" \")\n",
    "    # decrement space for next row\n",
    "    count = count-1\n",
    "    for k in range(1,i+1):\n",
    "        # loop to print umber\n",
    "        print(char, end=\"\")\n",
    "        char = chr(ord(char)+1)\n",
    "    temp = chr(ord(temp)-1)\n",
    "    print() # go to nextline\n",
    "# i    5, count    -1, k    5, j    1\n",
    "count = 1\n",
    "temp = \"B\"\n",
    "for i in range(3,0,-1):\n",
    "    j = 1\n",
    "    char = temp\n",
    "    for j in range(0,count):\n",
    "        print(end=\" \")\n",
    "    count+=1\n",
    "    for j in range(1,i+1):\n",
    "        print(char, end = \"\")\n",
    "        char = chr(ord(char)+1)\n",
    "    print()\n",
    "    temp = chr(ord(temp)+1)"
   ]
  },
  {
   "cell_type": "markdown",
   "id": "4d2ac661",
   "metadata": {},
   "source": [
    "## pattern 63"
   ]
  },
  {
   "cell_type": "code",
   "execution_count": 21,
   "id": "556badf7",
   "metadata": {},
   "outputs": [
    {
     "name": "stdout",
     "output_type": "stream",
     "text": [
      "   D\n",
      "  DC\n",
      " DCB\n",
      "DCBA\n",
      " DCB\n",
      "  DC\n",
      "   D\n"
     ]
    }
   ],
   "source": [
    "i = 1\n",
    "count = 3\n",
    "while i<=4:\n",
    "    j = 1\n",
    "    k = 1\n",
    "    char = \"D\" # initialise char value\n",
    "    while j<=count:\n",
    "        # loop to print spaces\n",
    "        print(end=\" \")\n",
    "        j+=1\n",
    "    # decrement space for next row\n",
    "    count = count-1\n",
    "    while k<=i:\n",
    "        # loop to print umber\n",
    "        print(char, end=\"\")\n",
    "        k+=1\n",
    "        char = chr(ord(char)-1)\n",
    "    i+=1\n",
    "    print() # go to nextline\n",
    "# i    5, count    -1, k    5, j    1\n",
    "i = 3\n",
    "count = 1\n",
    "while i!=0:\n",
    "    j = 1\n",
    "    char = \"D\"\n",
    "    while j in range(0,count+1):\n",
    "        print(end=\" \")\n",
    "        j+=1\n",
    "    count+=1\n",
    "    j = 1\n",
    "    while j in range(1,i+1):\n",
    "        print(char, end = \"\")\n",
    "        char = chr(ord(char)-1)\n",
    "        j+=1\n",
    "    print()\n",
    "    i = i-1"
   ]
  },
  {
   "cell_type": "code",
   "execution_count": 22,
   "id": "5a12c4c0",
   "metadata": {},
   "outputs": [
    {
     "name": "stdout",
     "output_type": "stream",
     "text": [
      "   D\n",
      "  DC\n",
      " DCB\n",
      "DCBA\n",
      " DCB\n",
      "  DC\n",
      "   D\n"
     ]
    }
   ],
   "source": [
    "count = 3\n",
    "for i in range(1,5):\n",
    "    char = \"D\" # initialise char value\n",
    "    for j in range(1,count+1):\n",
    "        # loop to print spaces\n",
    "        print(end=\" \")\n",
    "    # decrement space for next row\n",
    "    count = count-1\n",
    "    for k in range(1,i+1):\n",
    "        # loop to print umber\n",
    "        print(char, end=\"\")\n",
    "        char = chr(ord(char)-1)\n",
    "    print() # go to nextline\n",
    "# i    5, count    -1, k    5, j    1\n",
    "count = 1\n",
    "for i in range(3,0,-1):\n",
    "    char = \"D\"\n",
    "    for j in range(1,count+1):\n",
    "        print(end=\" \")\n",
    "    count+=1\n",
    "    for j in range(1,i+1):\n",
    "        print(char, end = \"\")\n",
    "        char = chr(ord(char)-1)\n",
    "    print()"
   ]
  },
  {
   "cell_type": "markdown",
   "id": "9b6e9214",
   "metadata": {},
   "source": [
    "## pattern 64"
   ]
  },
  {
   "cell_type": "code",
   "execution_count": 23,
   "id": "5c236efd",
   "metadata": {},
   "outputs": [
    {
     "name": "stdout",
     "output_type": "stream",
     "text": [
      "    * \n",
      "   * * \n",
      "  * * * \n",
      " * * * * \n",
      "* * * * * \n"
     ]
    }
   ],
   "source": [
    "def pattern64(n):\n",
    "    for i in range(n): #creating for loop for rows then, we created for loop for columns within a \n",
    "                       # row's for loop.\n",
    "        for j in range(n-i-1):#creating for loop for spaces \n",
    "            print(\" \",end=\"\")\n",
    "            \n",
    "        for j in range(i+1):# creating for loop for printing star\n",
    "            print(\"*\",end=\" \")\n",
    "            \n",
    "        print()\n",
    "pattern64(5) "
   ]
  },
  {
   "cell_type": "code",
   "execution_count": 24,
   "id": "902b60cb",
   "metadata": {},
   "outputs": [
    {
     "name": "stdout",
     "output_type": "stream",
     "text": [
      "    * \n",
      "   * * \n",
      "  * * * \n",
      " * * * * \n",
      "* * * * * \n"
     ]
    }
   ],
   "source": [
    "def pattern_64(num):\n",
    "    row = 0 #initializing\n",
    "    while row<num: \n",
    "        space = num-row-1\n",
    "        while space>0:\n",
    "            print(end=\" \")\n",
    "            space = space-1\n",
    "        star = row+1\n",
    "        while star>0:\n",
    "            print(\"*\",end=\" \")\n",
    "            star = star-1\n",
    "        row = row + 1\n",
    "        print()\n",
    "        \n",
    "pattern_64(5)"
   ]
  },
  {
   "cell_type": "markdown",
   "id": "80f7b09a",
   "metadata": {},
   "source": [
    "## pattern 65"
   ]
  },
  {
   "cell_type": "code",
   "execution_count": 25,
   "id": "17f94af5",
   "metadata": {},
   "outputs": [
    {
     "name": "stdout",
     "output_type": "stream",
     "text": [
      "    1 \n",
      "   2 2 \n",
      "  3 3 3 \n",
      " 4 4 4 4 \n",
      "5 5 5 5 5 \n"
     ]
    }
   ],
   "source": [
    "def pattern65(n):\n",
    "    i = 1\n",
    "    for i in range(1,n+1):\n",
    "        for j in range(n-i):\n",
    "            print(\" \",end=\"\")\n",
    "        for j in range(i):\n",
    "            print(i,end=\" \")\n",
    "        print()\n",
    "pattern65(5)"
   ]
  },
  {
   "cell_type": "code",
   "execution_count": 26,
   "id": "20560415",
   "metadata": {},
   "outputs": [
    {
     "name": "stdout",
     "output_type": "stream",
     "text": [
      "    1 \n",
      "   2 2 \n",
      "  3 3 3 \n",
      " 4 4 4 4 \n",
      "5 5 5 5 5 \n"
     ]
    }
   ],
   "source": [
    "def numbers_pyramid(rows=5):\n",
    "    i = 1\n",
    "    while i <= rows:\n",
    "        \n",
    "        spaces = rows - i\n",
    "        while spaces > 0:\n",
    "            print(\" \", end=\"\")\n",
    "            spaces -= 1\n",
    "\n",
    "       \n",
    "        j = 1\n",
    "        while j <= i:\n",
    "            print(i, end=\" \")\n",
    "            j += 1\n",
    "\n",
    "        print()  \n",
    "        i += 1\n",
    "\n",
    "numbers_pyramid()"
   ]
  },
  {
   "cell_type": "markdown",
   "id": "de971d14",
   "metadata": {},
   "source": [
    "## pattern 66"
   ]
  },
  {
   "cell_type": "code",
   "execution_count": 27,
   "id": "0abcdb39",
   "metadata": {},
   "outputs": [
    {
     "name": "stdout",
     "output_type": "stream",
     "text": [
      "    1 \n",
      "   1 2 \n",
      "  1 2 3 \n",
      " 1 2 3 4 \n",
      "1 2 3 4 5 \n"
     ]
    }
   ],
   "source": [
    "def pattern66(n):\n",
    "    i = 1\n",
    "    for i in range(2,n+1):\n",
    "        for j in range(n-i):\n",
    "            print(\" \",end=\"\")\n",
    "        for j in range(1,i):\n",
    "            print(j,end=\" \")\n",
    "        print()\n",
    "pattern66(6)"
   ]
  },
  {
   "cell_type": "code",
   "execution_count": 28,
   "id": "76e5d4ca",
   "metadata": {},
   "outputs": [
    {
     "name": "stdout",
     "output_type": "stream",
     "text": [
      "    1 \n",
      "   1 2 \n",
      "  1 2 3 \n",
      " 1 2 3 4 \n",
      "1 2 3 4 5 \n"
     ]
    }
   ],
   "source": [
    "def pattern_66(rows):\n",
    "    i = 1\n",
    "    while i <= rows:\n",
    "        \n",
    "        spaces = rows - i\n",
    "        while spaces > 0:\n",
    "            print(\" \", end=\"\")\n",
    "            spaces -= 1\n",
    "\n",
    "        \n",
    "        j = 1\n",
    "        while j <= i:\n",
    "            print(j, end=\" \")\n",
    "            j += 1\n",
    "\n",
    "        print()  \n",
    "        i += 1\n",
    "\n",
    "pattern_66(5)"
   ]
  },
  {
   "cell_type": "markdown",
   "id": "f04e091a",
   "metadata": {},
   "source": [
    "## pattern 67"
   ]
  },
  {
   "cell_type": "code",
   "execution_count": 29,
   "id": "139d2e62",
   "metadata": {},
   "outputs": [
    {
     "name": "stdout",
     "output_type": "stream",
     "text": [
      "    A \n",
      "   B B \n",
      "  C C C \n",
      " D D D D \n",
      "E E E E E \n"
     ]
    }
   ],
   "source": [
    "def pattern67(n):\n",
    "    for i in range(1,n+1):\n",
    "        for j in range(n-i):\n",
    "            print(\" \",end =\"\")\n",
    "        for j in range(i):\n",
    "            print(chr(64+i),end=\" \")\n",
    "        print()\n",
    "        \n",
    "pattern67(5)"
   ]
  },
  {
   "cell_type": "code",
   "execution_count": 30,
   "id": "3a835b0d",
   "metadata": {},
   "outputs": [
    {
     "name": "stdout",
     "output_type": "stream",
     "text": [
      "    A \n",
      "   B B \n",
      "  C C C \n",
      " D D D D \n",
      "E E E E E \n"
     ]
    }
   ],
   "source": [
    "def pattern_67(n):\n",
    "    i = 1\n",
    "    while i<=n:\n",
    "        space = n-i\n",
    "        while space>0:\n",
    "            print(\" \",end = \"\")\n",
    "            space-=1\n",
    "        j = 1\n",
    "        while j <= i :\n",
    "            print(chr(64+i),end =\" \")\n",
    "            j+=1\n",
    "        print()\n",
    "        i+=1\n",
    "pattern_67(5)"
   ]
  },
  {
   "cell_type": "markdown",
   "id": "50a51a82",
   "metadata": {},
   "source": [
    "## pattern 68"
   ]
  },
  {
   "cell_type": "code",
   "execution_count": 31,
   "id": "4d7a89c3",
   "metadata": {},
   "outputs": [
    {
     "name": "stdout",
     "output_type": "stream",
     "text": [
      "    A \n",
      "   A B \n",
      "  A B C \n",
      " A B C D \n",
      "A B C D E \n"
     ]
    }
   ],
   "source": [
    "def pattern68(n):\n",
    "    for i in range(1,n+1):\n",
    "        for j in range(n-i):\n",
    "            print(\" \",end =\"\")\n",
    "        for j in range(i):\n",
    "            print(chr(65+j),end=\" \")\n",
    "        print()\n",
    "        \n",
    "pattern68(5)"
   ]
  },
  {
   "cell_type": "code",
   "execution_count": 32,
   "id": "d7628cf2",
   "metadata": {},
   "outputs": [
    {
     "name": "stdout",
     "output_type": "stream",
     "text": [
      "    A \n",
      "   A B \n",
      "  A B C \n",
      " A B C D \n",
      "A B C D E \n"
     ]
    }
   ],
   "source": [
    "def pattern_68(n):\n",
    "    i = 1\n",
    "    while i<=n:\n",
    "        space = n-i\n",
    "        while space>0:\n",
    "            print(\" \",end = \"\")\n",
    "            space-=1\n",
    "        j = 1\n",
    "        while j <= i :\n",
    "            print(chr(64+j),end =\" \")\n",
    "            j+=1\n",
    "        print()\n",
    "        i+=1\n",
    "pattern_68(5)"
   ]
  },
  {
   "cell_type": "markdown",
   "id": "516b1963",
   "metadata": {},
   "source": [
    "## pattern 69"
   ]
  },
  {
   "cell_type": "code",
   "execution_count": 33,
   "id": "c96b64d5",
   "metadata": {},
   "outputs": [
    {
     "name": "stdout",
     "output_type": "stream",
     "text": [
      "* * * * * \n",
      " * * * * \n",
      "  * * * \n",
      "   * * \n",
      "    * \n"
     ]
    }
   ],
   "source": [
    "def pattern69(n):\n",
    "    for i in range(n,0,-1): \n",
    "        for j in range(n-i):\n",
    "            print(\" \",end=\"\")\n",
    "            \n",
    "        for j in range(i):\n",
    "            print(\"*\",end=\" \")\n",
    "            \n",
    "        print()\n",
    "pattern69(5) "
   ]
  },
  {
   "cell_type": "code",
   "execution_count": 34,
   "id": "293657b2",
   "metadata": {},
   "outputs": [
    {
     "name": "stdout",
     "output_type": "stream",
     "text": [
      " * * * * * \n",
      "  * * * * \n",
      "   * * * \n",
      "    * * \n",
      "     * \n"
     ]
    }
   ],
   "source": [
    "def pattern_69(num):\n",
    "    row = 0 #initializing\n",
    "    while num>row: \n",
    "        space = row\n",
    "        space = space+1\n",
    "        while space>0:\n",
    "            print(end=\" \")\n",
    "            space-=1\n",
    "        star = num-row\n",
    "        while star>0:\n",
    "            print(\"*\",end=\" \")\n",
    "            star = star-1\n",
    "        row = row + 1\n",
    "        print()\n",
    "        \n",
    "pattern_69(5) "
   ]
  },
  {
   "cell_type": "markdown",
   "id": "0d53f4d0",
   "metadata": {},
   "source": [
    "## pattern 70"
   ]
  },
  {
   "cell_type": "code",
   "execution_count": 35,
   "id": "2f52de89",
   "metadata": {},
   "outputs": [
    {
     "name": "stdout",
     "output_type": "stream",
     "text": [
      "5 5 5 5 5 \n",
      " 4 4 4 4 \n",
      "  3 3 3 \n",
      "   2 2 \n",
      "    1 \n"
     ]
    }
   ],
   "source": [
    "def pattern70(n):\n",
    "    for i in range(n,0,-1): \n",
    "        for j in range(n-i):\n",
    "            print(\" \",end=\"\")\n",
    "            \n",
    "        for j in range(i):\n",
    "            print(i,end=\" \")\n",
    "            \n",
    "        print()\n",
    "pattern70(5) "
   ]
  },
  {
   "cell_type": "code",
   "execution_count": 36,
   "id": "77bea46d",
   "metadata": {},
   "outputs": [
    {
     "name": "stdout",
     "output_type": "stream",
     "text": [
      "5 5 5 5 5 \n",
      " 4 4 4 4 \n",
      "  3 3 3 \n",
      "   2 2 \n",
      "    1 \n"
     ]
    }
   ],
   "source": [
    "def pattern_70(rows):\n",
    "    i = rows\n",
    "    while i >= 1:\n",
    "        # Print spaces\n",
    "        spaces = rows - i\n",
    "        while spaces > 0:\n",
    "            print(\" \", end=\"\")\n",
    "            spaces -= 1\n",
    "\n",
    "        # Print numbers\n",
    "        j = 1\n",
    "        while j <= i:\n",
    "            print(i, end=\" \")\n",
    "            j += 1\n",
    "\n",
    "        print()  # Move to the next line\n",
    "        i -= 1\n",
    "pattern_70(5)"
   ]
  },
  {
   "cell_type": "markdown",
   "id": "9b0140ae",
   "metadata": {},
   "source": [
    "## pattern 71"
   ]
  },
  {
   "cell_type": "code",
   "execution_count": 37,
   "id": "ba5a6ae2",
   "metadata": {},
   "outputs": [
    {
     "name": "stdout",
     "output_type": "stream",
     "text": [
      " 5 4 3 2 1 \n",
      "  4 3 2 1 \n",
      "   3 2 1 \n",
      "    2 1 \n",
      "     1 \n"
     ]
    }
   ],
   "source": [
    "def pattern71(n):\n",
    "    for i in range(n,0,-1): \n",
    "        for j in range(n-i+1):\n",
    "            print(\" \",end=\"\")\n",
    "            \n",
    "        for j in range(i,0,-1):\n",
    "            print(j,end=\" \")\n",
    "            \n",
    "        print()\n",
    "pattern71(5)"
   ]
  },
  {
   "cell_type": "code",
   "execution_count": 38,
   "id": "05d57b4d",
   "metadata": {},
   "outputs": [
    {
     "name": "stdout",
     "output_type": "stream",
     "text": [
      " 5 4 3 2 1 \n",
      "  4 3 2 1 \n",
      "   3 2 1 \n",
      "    2 1 \n",
      "     1 \n"
     ]
    }
   ],
   "source": [
    "def pattern_71(rows):\n",
    "    i = rows\n",
    "    while i >= 1:\n",
    "        # Print spaces\n",
    "        spaces = rows - i +1\n",
    "        while spaces > 0:\n",
    "            print(\" \", end=\"\")        \n",
    "            spaces -= 1\n",
    "\n",
    "        # Print numbers\n",
    "        j = i\n",
    "        while j >= 1:\n",
    "            print(j, end=\" \")\n",
    "            j -= 1\n",
    "\n",
    "        print()  # Move to the next line\n",
    "        i -= 1\n",
    "pattern_71(5)"
   ]
  },
  {
   "cell_type": "markdown",
   "id": "4853f802",
   "metadata": {},
   "source": [
    "## pattern 72"
   ]
  },
  {
   "cell_type": "code",
   "execution_count": 39,
   "id": "1a250e23",
   "metadata": {},
   "outputs": [
    {
     "name": "stdout",
     "output_type": "stream",
     "text": [
      "E E E E E \n",
      " D D D D \n",
      "  C C C \n",
      "   B B \n",
      "    A \n"
     ]
    }
   ],
   "source": [
    "def pattern72(n):\n",
    "    for i in range(n,0,-1):\n",
    "        for j in range(n-i):\n",
    "            print(\" \",end =\"\")\n",
    "        for j in range(i,0,-1):\n",
    "            print(chr(64+i),end=\" \")\n",
    "        print()\n",
    "        \n",
    "pattern72(5)"
   ]
  },
  {
   "cell_type": "code",
   "execution_count": 40,
   "id": "91ce1147",
   "metadata": {},
   "outputs": [
    {
     "name": "stdout",
     "output_type": "stream",
     "text": [
      "E E E E E \n",
      " D D D D \n",
      "  C C C \n",
      "   B B \n",
      "    A \n"
     ]
    }
   ],
   "source": [
    "def pattern_72(n): \n",
    "    i = n\n",
    "    while i>=1:\n",
    "        space = n-i\n",
    "        while space>0:\n",
    "            print(\" \",end = \"\")\n",
    "            space-=1\n",
    "        j = 1\n",
    "        while j <= i :\n",
    "            print(chr(64+i),end =\" \")\n",
    "            j+=1\n",
    "        print()\n",
    "        i-=1\n",
    "pattern_72(5)"
   ]
  },
  {
   "cell_type": "markdown",
   "id": "f3f35991",
   "metadata": {},
   "source": [
    "## pattern 73"
   ]
  },
  {
   "cell_type": "code",
   "execution_count": 41,
   "id": "3fda621f",
   "metadata": {},
   "outputs": [
    {
     "name": "stdout",
     "output_type": "stream",
     "text": [
      "E D C B A \n",
      " D C B A \n",
      "  C B A \n",
      "   B A \n",
      "    A \n"
     ]
    }
   ],
   "source": [
    "def pattern73(n):\n",
    "    for i in range(n,0,-1): \n",
    "        for j in range(n-i):\n",
    "            print(\" \",end=\"\")\n",
    "         \n",
    "        for j in range(i,0,-1):\n",
    "            print(chr(64+j),end=\" \")\n",
    "            \n",
    "        print()\n",
    "pattern73(5)"
   ]
  },
  {
   "cell_type": "code",
   "execution_count": 42,
   "id": "7037a1a2",
   "metadata": {},
   "outputs": [
    {
     "name": "stdout",
     "output_type": "stream",
     "text": [
      "E D C B A \n",
      " D C B A \n",
      "  C B A \n",
      "   B A \n",
      "    A \n"
     ]
    }
   ],
   "source": [
    "def pattern_73(n): \n",
    "    i = n\n",
    "    while i >= 1:\n",
    "        space = n - i\n",
    "        while space > 0:\n",
    "            print(\" \", end=\"\")\n",
    "            space -= 1\n",
    "        j = i\n",
    "        while j >= 1:\n",
    "            print(chr(64 + j), end=\" \")\n",
    "            j -= 1\n",
    "        print()\n",
    "        i -= 1\n",
    "\n",
    "pattern_73(5)"
   ]
  },
  {
   "cell_type": "markdown",
   "id": "e9905e59",
   "metadata": {},
   "source": [
    "## pattern 74"
   ]
  },
  {
   "cell_type": "code",
   "execution_count": 43,
   "id": "f767a520",
   "metadata": {},
   "outputs": [
    {
     "name": "stdout",
     "output_type": "stream",
     "text": [
      " A B C D E \n",
      "  A B C D \n",
      "   A B C \n",
      "    A B \n",
      "     A \n"
     ]
    }
   ],
   "source": [
    "def pattern74(n):\n",
    "    for i in range(n,0,-1): \n",
    "        for j in range(n-i+1):\n",
    "            print(\" \",end=\"\")\n",
    "         \n",
    "        for j in range(i):\n",
    "            print(chr(65+j),end=\" \")\n",
    "            \n",
    "        print()\n",
    "pattern74(5)"
   ]
  },
  {
   "cell_type": "code",
   "execution_count": 44,
   "id": "02c509f8",
   "metadata": {},
   "outputs": [
    {
     "name": "stdout",
     "output_type": "stream",
     "text": [
      "A B C D E \n",
      " A B C D \n",
      "  A B C \n",
      "   A B \n",
      "    A \n"
     ]
    }
   ],
   "source": [
    "def pattern_74(n): \n",
    "    i = n\n",
    "    while i>=1:\n",
    "        space = n-i\n",
    "        while space>0:\n",
    "            print(\" \",end = \"\")\n",
    "            space-=1\n",
    "        j = 1\n",
    "        while j <= i :\n",
    "            print(chr(64+j),end =\" \")\n",
    "            j+=1\n",
    "        print()\n",
    "        i-=1\n",
    "pattern_74(5)"
   ]
  },
  {
   "cell_type": "markdown",
   "id": "dd3e9456",
   "metadata": {},
   "source": [
    "## pattern 75"
   ]
  },
  {
   "cell_type": "code",
   "execution_count": 5,
   "id": "5f607a82",
   "metadata": {},
   "outputs": [
    {
     "name": "stdout",
     "output_type": "stream",
     "text": [
      "     *\n",
      "    * *\n",
      "   * * *\n",
      "  * * * *\n",
      " * * * * *\n",
      "  * * * *\n",
      "   * * *\n",
      "    * *\n",
      "     *\n"
     ]
    }
   ],
   "source": [
    "# pattern 75 using for loop \n",
    "def Pattern75For(n=5,char='*'):\n",
    "    for i in range(n):\n",
    "        print(' '*(n-i-1)+(' '+char)*(i+1))\n",
    "    for j in range(n-1,0,-1):\n",
    "        print(' '*(n-j)+(' '+char)*(j) )\n",
    "Pattern75For()"
   ]
  },
  {
   "cell_type": "code",
   "execution_count": 6,
   "id": "a2cb726d",
   "metadata": {},
   "outputs": [
    {
     "name": "stdout",
     "output_type": "stream",
     "text": [
      "     &\n",
      "    & &\n",
      "   & & &\n",
      "  & & & &\n",
      " & & & & &\n",
      "  & & & &\n",
      "   & & &\n",
      "    & &\n",
      "     &\n"
     ]
    }
   ],
   "source": [
    "Pattern75For(n=5,char='&')"
   ]
  },
  {
   "cell_type": "code",
   "execution_count": 18,
   "id": "5b9114b1",
   "metadata": {},
   "outputs": [
    {
     "name": "stdout",
     "output_type": "stream",
     "text": [
      "     *\n",
      "    * *\n",
      "   * * *\n",
      "  * * * *\n",
      " * * * * *\n",
      "  * * * *\n",
      "   * * *\n",
      "    * *\n",
      "     *\n"
     ]
    }
   ],
   "source": [
    "# pattern 75 using while\n",
    "def pattern75while(char='*',n=5):\n",
    "    i=0\n",
    "    while i<n:\n",
    "        print(' '*(n-i-1)+(' '+char)*(i+1))\n",
    "        i+=1\n",
    "    j=n-1\n",
    "    while j>0:\n",
    "        \n",
    "        print(' '*(n-j)+(' '+char)*(j))\n",
    "        j-=1\n",
    "        \n",
    "pattern75while()"
   ]
  },
  {
   "cell_type": "code",
   "execution_count": 19,
   "id": "1683fe42",
   "metadata": {},
   "outputs": [
    {
     "name": "stdout",
     "output_type": "stream",
     "text": [
      "      $\n",
      "     $ $\n",
      "    $ $ $\n",
      "   $ $ $ $\n",
      "  $ $ $ $ $\n",
      " $ $ $ $ $ $\n",
      "  $ $ $ $ $\n",
      "   $ $ $ $\n",
      "    $ $ $\n",
      "     $ $\n",
      "      $\n"
     ]
    }
   ],
   "source": [
    "pattern75while(char='$',n=6)"
   ]
  },
  {
   "cell_type": "markdown",
   "id": "33b0f4d8",
   "metadata": {},
   "source": [
    "## pattern 76"
   ]
  },
  {
   "cell_type": "code",
   "execution_count": 9,
   "id": "51f7d0af",
   "metadata": {
    "scrolled": true
   },
   "outputs": [
    {
     "name": "stdout",
     "output_type": "stream",
     "text": [
      "    1 \n",
      "   2 2 \n",
      "  3 3 3 \n",
      " 4 4 4 4 \n",
      "5 5 5 5 5 \n",
      " 4 4 4 4 \n",
      "  3 3 3 \n",
      "   2 2 \n",
      "    1 \n"
     ]
    }
   ],
   "source": [
    "# pattern 76 using for loop\n",
    "def pattern76for(n=5):\n",
    "    for i in range(n):\n",
    "        print(' '*(n-i-1)+(str(i+1)+' ')*(i+1))\n",
    "    for i in range(n-1):\n",
    "        print(' '*(i+1)+(str(n-i-1)+' ')*(n-i-1))\n",
    "pattern76for()"
   ]
  },
  {
   "cell_type": "code",
   "execution_count": 12,
   "id": "2e99f85e",
   "metadata": {},
   "outputs": [
    {
     "name": "stdout",
     "output_type": "stream",
     "text": [
      "        1 \n",
      "       2 2 \n",
      "      3 3 3 \n",
      "     4 4 4 4 \n",
      "    5 5 5 5 5 \n",
      "   6 6 6 6 6 6 \n",
      "  7 7 7 7 7 7 7 \n",
      " 8 8 8 8 8 8 8 8 \n",
      "9 9 9 9 9 9 9 9 9 \n",
      " 8 8 8 8 8 8 8 8 \n",
      "  7 7 7 7 7 7 7 \n",
      "   6 6 6 6 6 6 \n",
      "    5 5 5 5 5 \n",
      "     4 4 4 4 \n",
      "      3 3 3 \n",
      "       2 2 \n",
      "        1 \n"
     ]
    }
   ],
   "source": [
    "pattern76for(n=9)"
   ]
  },
  {
   "cell_type": "code",
   "execution_count": 11,
   "id": "5d41e550",
   "metadata": {},
   "outputs": [
    {
     "name": "stdout",
     "output_type": "stream",
     "text": [
      "    1 \n",
      "   2 2 \n",
      "  3 3 3 \n",
      " 4 4 4 4 \n",
      "5 5 5 5 5 \n",
      " 4 4 4 4 \n",
      "  3 3 3 \n",
      "   2 2 \n",
      "    1 \n"
     ]
    }
   ],
   "source": [
    "# pattern 76 using while loop\n",
    "def pattern76while(n=5):\n",
    "    i=0\n",
    "    while i<n:\n",
    "        print(' '*(n-i-1)+(str(i+1)+' ')*(i+1))\n",
    "        i+=1\n",
    "    i=0\n",
    "    while i<n-1:\n",
    "        print(' '*(i+1)+(str(n-i-1)+' ')*(n-i-1))\n",
    "        i+=1\n",
    "pattern76while()"
   ]
  },
  {
   "cell_type": "markdown",
   "id": "f9efe415",
   "metadata": {},
   "source": [
    "## pattern 77 "
   ]
  },
  {
   "cell_type": "code",
   "execution_count": 23,
   "id": "18e99f57",
   "metadata": {},
   "outputs": [
    {
     "name": "stdout",
     "output_type": "stream",
     "text": [
      "    1 \n",
      "   1 2 \n",
      "  1 2 3 \n",
      " 1 2 3 4 \n",
      "1 2 3 4 5 \n",
      " 2 3 4 5 \n",
      "  3 4 5 \n",
      "   4 5 \n",
      "    5 \n"
     ]
    }
   ],
   "source": [
    "# pattern 77 using for loop\n",
    "def pattern77for(n=5,char='*'):\n",
    "    for i in range(1,n+1):\n",
    "        print(' '*(n-i),end='')\n",
    "        for j in range(1,i+1):\n",
    "            print(j,end=' ')\n",
    "        print()\n",
    "    for i in range(2,n+1):\n",
    "        print(' '*(i-1),end='')\n",
    "        for j in range(i,n+1):\n",
    "            print(j,end=' ')\n",
    "        print()\n",
    "        \n",
    "pattern77for()       \n",
    "              "
   ]
  },
  {
   "cell_type": "code",
   "execution_count": 24,
   "id": "65b1635c",
   "metadata": {},
   "outputs": [
    {
     "name": "stdout",
     "output_type": "stream",
     "text": [
      "    1 \n",
      "   1 2 \n",
      "  1 2 3 \n",
      " 1 2 3 4 \n",
      "1 2 3 4 5 \n",
      " 2 3 4 5 \n",
      "  3 4 5 \n",
      "   4 5 \n",
      "    5 \n"
     ]
    }
   ],
   "source": [
    "# pattern 77 using while loop\n",
    "def pattern77while(n=5, char='*'):\n",
    "    i = 1\n",
    "    while i <= n:\n",
    "        j = 1\n",
    "        print(' '*(n-i), end='')\n",
    "        while j <= i:\n",
    "            print(j, end=' ')\n",
    "            j += 1\n",
    "        print()\n",
    "        i += 1\n",
    "\n",
    "    i = 2\n",
    "    while i <= n:\n",
    "        j = i\n",
    "        print(' '*(i-1), end='')\n",
    "        while j <= n:\n",
    "            print(j, end=' ')\n",
    "            j += 1\n",
    "        print()\n",
    "        i += 1\n",
    "\n",
    "pattern77while()\n"
   ]
  },
  {
   "cell_type": "markdown",
   "id": "48f23ba1",
   "metadata": {},
   "source": [
    "## pattern 78"
   ]
  },
  {
   "cell_type": "code",
   "execution_count": 25,
   "id": "560d9388",
   "metadata": {},
   "outputs": [
    {
     "name": "stdout",
     "output_type": "stream",
     "text": [
      "    1\n",
      "   1 2\n",
      "  1 2 3\n",
      " 1 2 3 4\n",
      "1 2 3 4 5\n",
      " 1 2 3 4\n",
      "  1 2 3\n",
      "   1 2\n",
      "    1\n"
     ]
    }
   ],
   "source": [
    "# pattern 78 uding for loop\n",
    "def pattern78for(n=5):\n",
    "    for i in range(1,n+1):\n",
    "        print(\" \"*(n-i)+' '.join(str(j) for j in range(1,i+1)))\n",
    "    for i in range(n-1,0,-1):\n",
    "        print(\" \"*(n-i)+' '.join(str(j) for j in range(1,i+1)))\n",
    "pattern78for()"
   ]
  },
  {
   "cell_type": "code",
   "execution_count": 26,
   "id": "9660602c",
   "metadata": {},
   "outputs": [
    {
     "name": "stdout",
     "output_type": "stream",
     "text": [
      "     1\n",
      "    1 2\n",
      "   1 2 3\n",
      "  1 2 3 4\n",
      " 1 2 3 4 5\n",
      "1 2 3 4 5 6\n",
      " 1 2 3 4 5\n",
      "  1 2 3 4\n",
      "   1 2 3\n",
      "    1 2\n",
      "     1\n"
     ]
    }
   ],
   "source": [
    "pattern78for(n=6)"
   ]
  },
  {
   "cell_type": "code",
   "execution_count": 29,
   "id": "15c83f94",
   "metadata": {},
   "outputs": [
    {
     "name": "stdout",
     "output_type": "stream",
     "text": [
      "    1\n",
      "   1 2\n",
      "  1 2 3\n",
      " 1 2 3 4\n",
      "1 2 3 4 5\n",
      " 1 2 3 4\n",
      "  1 2 3\n",
      "   1 2\n",
      "    1\n"
     ]
    }
   ],
   "source": [
    "# pattern 78 using while loop\n",
    "def pattern78while(n=5):\n",
    "    i=1\n",
    "    while i<=n:\n",
    "        print(\" \"*(n-i)+' '.join(str(j) for j in range(1,i+1)))\n",
    "        i+=1\n",
    "    i=n-1\n",
    "    while i>0:\n",
    "        print(\" \"*(n-i)+' '.join(str(j) for j in range(1,i+1)))\n",
    "        i-=1\n",
    "pattern78while()"
   ]
  },
  {
   "cell_type": "markdown",
   "id": "a80057bc",
   "metadata": {},
   "source": [
    "## pattern 79"
   ]
  },
  {
   "cell_type": "code",
   "execution_count": 30,
   "id": "0c910524",
   "metadata": {},
   "outputs": [
    {
     "name": "stdout",
     "output_type": "stream",
     "text": [
      "    A \n",
      "   B B \n",
      "  C C C \n",
      " D D D D \n",
      "E E E E E \n",
      " D D D D \n",
      "  C C C \n",
      "   B B \n",
      "    A \n"
     ]
    }
   ],
   "source": [
    "# pattern 79 using for loop\n",
    "def pattern79for(n=5):\n",
    "    for i in range(n):\n",
    "        print(' '*(n-i-1)+(chr(65+i)+' ')*(i+1))\n",
    "    for i in range(n-1):\n",
    "        print(' '*(i+1)+(chr(63+n-i)+' ')*(n-i-1))\n",
    "pattern79for()"
   ]
  },
  {
   "cell_type": "code",
   "execution_count": 31,
   "id": "11b2b5be",
   "metadata": {},
   "outputs": [
    {
     "name": "stdout",
     "output_type": "stream",
     "text": [
      "      A \n",
      "     B B \n",
      "    C C C \n",
      "   D D D D \n",
      "  E E E E E \n",
      " F F F F F F \n",
      "G G G G G G G \n",
      " F F F F F F \n",
      "  E E E E E \n",
      "   D D D D \n",
      "    C C C \n",
      "     B B \n",
      "      A \n"
     ]
    }
   ],
   "source": [
    "pattern79for(n=7)"
   ]
  },
  {
   "cell_type": "code",
   "execution_count": 33,
   "id": "8b6d7f90",
   "metadata": {},
   "outputs": [
    {
     "name": "stdout",
     "output_type": "stream",
     "text": [
      "    A \n",
      "   B B \n",
      "  C C C \n",
      " D D D D \n",
      "E E E E E \n",
      " D D D D \n",
      "  C C C \n",
      "   B B \n",
      "    A \n"
     ]
    }
   ],
   "source": [
    "# pattern 79 using wile loop\n",
    "def pattern79while(n=5):\n",
    "    i=0\n",
    "    while i <n:\n",
    "        print(' '*(n-i-1)+(chr(65+i)+' ')*(i+1))\n",
    "        i+=1\n",
    "    i=0\n",
    "    while i<n-1:\n",
    "        print(' '*(i+1)+(chr(63+n-i)+' ')*(n-i-1))\n",
    "        i+=1\n",
    "pattern79while()"
   ]
  },
  {
   "cell_type": "markdown",
   "id": "71d7ca2d",
   "metadata": {},
   "source": [
    "## pattern 80"
   ]
  },
  {
   "cell_type": "code",
   "execution_count": 34,
   "id": "3772ac70",
   "metadata": {},
   "outputs": [
    {
     "name": "stdout",
     "output_type": "stream",
     "text": [
      "    A \n",
      "   A B \n",
      "  A B C \n",
      " A B C D \n",
      "A B C D E \n",
      " B C D E \n",
      "  C D E \n",
      "   D E \n",
      "    E \n"
     ]
    }
   ],
   "source": [
    "# pattern 80 using for loop\n",
    "def pattern80for(n=5):\n",
    "    for i in range(1,n+1):\n",
    "        print(' '*(n-i),end='')\n",
    "        for j in range(1,i+1):\n",
    "            print(chr(64+j),end=' ')\n",
    "        print()\n",
    "    for p in range(1,n):\n",
    "        print(' '*p,end='')\n",
    "        for q in range(1,n+1-p):\n",
    "            print(chr(64+p+q),end=' ')\n",
    "        print()\n",
    "pattern80for()"
   ]
  },
  {
   "cell_type": "code",
   "execution_count": 35,
   "id": "9d62a4d8",
   "metadata": {},
   "outputs": [
    {
     "name": "stdout",
     "output_type": "stream",
     "text": [
      "    A \n",
      "   A B \n",
      "  A B C \n",
      " A B C D \n",
      "A B C D E \n",
      " B C D E \n",
      "  C D E \n",
      "   D E \n",
      "    E \n"
     ]
    }
   ],
   "source": [
    "# pattern 80 using while\n",
    "def pattern80while(n=5):\n",
    "    i = 1\n",
    "    while i <= n:\n",
    "        j = 1\n",
    "        print(' '*(n-i), end='')\n",
    "        while j <= i:\n",
    "            print(chr(64+j), end=' ')\n",
    "            j += 1\n",
    "        print()\n",
    "        i += 1\n",
    "\n",
    "    p = 1\n",
    "    while p < n:\n",
    "        q = 1\n",
    "        print(' ' * p, end='')\n",
    "        while q <= n - p:\n",
    "            print(chr(64 + p + q), end=' ')\n",
    "            q += 1\n",
    "        print()\n",
    "        p += 1\n",
    "\n",
    "pattern80while()\n"
   ]
  },
  {
   "cell_type": "markdown",
   "id": "77172e7b",
   "metadata": {},
   "source": [
    "## pattern 81"
   ]
  },
  {
   "cell_type": "code",
   "execution_count": 37,
   "id": "6396ca49",
   "metadata": {},
   "outputs": [
    {
     "name": "stdout",
     "output_type": "stream",
     "text": [
      "        *         \n",
      "      *   *       \n",
      "    *       *     \n",
      "  *           *   \n",
      "*               * \n"
     ]
    }
   ],
   "source": [
    "#pattern 81 using for loop\n",
    "def pattern81for(char='*',n=5):\n",
    "    for i in range(0,n):\n",
    "        for j in range(0,2*n-1):\n",
    "            if (i+j==n-1) or (j-i==n-1):\n",
    "                print(char,end=' ')\n",
    "            else:\n",
    "                print(' ',end=' ')\n",
    "        print()\n",
    "pattern81for()"
   ]
  },
  {
   "cell_type": "code",
   "execution_count": 38,
   "id": "7bcbb604",
   "metadata": {},
   "outputs": [
    {
     "name": "stdout",
     "output_type": "stream",
     "text": [
      "          #           \n",
      "        #   #         \n",
      "      #       #       \n",
      "    #           #     \n",
      "  #               #   \n",
      "#                   # \n"
     ]
    }
   ],
   "source": [
    "pattern81for(char='#',n=6)"
   ]
  },
  {
   "cell_type": "code",
   "execution_count": 39,
   "id": "60d17514",
   "metadata": {},
   "outputs": [
    {
     "name": "stdout",
     "output_type": "stream",
     "text": [
      "        *         \n",
      "      *   *       \n",
      "    *       *     \n",
      "  *           *   \n",
      "*               * \n"
     ]
    }
   ],
   "source": [
    "# pattern 81 using while loop\n",
    "def pattern81while(char='*',n=5):\n",
    "    i=0\n",
    "    while i<n:\n",
    "        j=0\n",
    "        while j<2*n-1:\n",
    "            if (i+j==n-1) or (j-i==n-1):\n",
    "                print(char,end= ' ')\n",
    "            else:\n",
    "                print(' ',end=' ')\n",
    "            j+=1\n",
    "        print()\n",
    "        i+=1\n",
    "pattern81while()"
   ]
  },
  {
   "cell_type": "code",
   "execution_count": 40,
   "id": "24ad5d39",
   "metadata": {},
   "outputs": [
    {
     "name": "stdout",
     "output_type": "stream",
     "text": [
      "          &           \n",
      "        &   &         \n",
      "      &       &       \n",
      "    &           &     \n",
      "  &               &   \n",
      "&                   & \n"
     ]
    }
   ],
   "source": [
    "pattern81while(char='&',n=6)"
   ]
  },
  {
   "cell_type": "markdown",
   "id": "e40eb780",
   "metadata": {},
   "source": [
    "## pattern 82"
   ]
  },
  {
   "cell_type": "code",
   "execution_count": 41,
   "id": "841fd612",
   "metadata": {},
   "outputs": [
    {
     "name": "stdout",
     "output_type": "stream",
     "text": [
      "        1         \n",
      "      2   2       \n",
      "    3       3     \n",
      "  4           4   \n",
      "5               5 \n",
      "                  \n"
     ]
    }
   ],
   "source": [
    "# pattern 82 using for loop\n",
    "def pattern82for(n=5):\n",
    "    for i in range(0,n+1):\n",
    "        for j in range(0,2*n-1):\n",
    "            if i+j==n-1 or j-i==n-1:\n",
    "                print(i+1,end=' ')\n",
    "            else:\n",
    "                print(' ',end=' ')\n",
    "        print()\n",
    "pattern82for()"
   ]
  },
  {
   "cell_type": "code",
   "execution_count": 43,
   "id": "2ee8385e",
   "metadata": {},
   "outputs": [
    {
     "name": "stdout",
     "output_type": "stream",
     "text": [
      "              1               \n",
      "            2   2             \n",
      "          3       3           \n",
      "        4           4         \n",
      "      5               5       \n",
      "    6                   6     \n",
      "  7                       7   \n",
      "8                           8 \n",
      "                              \n"
     ]
    }
   ],
   "source": [
    "pattern82for(n=8)"
   ]
  },
  {
   "cell_type": "code",
   "execution_count": 44,
   "id": "4bfe8def",
   "metadata": {},
   "outputs": [
    {
     "name": "stdout",
     "output_type": "stream",
     "text": [
      "        1         \n",
      "      2   2       \n",
      "    3       3     \n",
      "  4           4   \n",
      "5               5 \n"
     ]
    }
   ],
   "source": [
    "# pattern 82 using while loop\n",
    "def pattern82while(n=5):\n",
    "    i=0\n",
    "    while i<n:\n",
    "        j=0\n",
    "        while j<2*n-1:\n",
    "            if (i+j==n-1) or (j-i==n-1):\n",
    "                print(i+1,end=' ')\n",
    "            else:\n",
    "                print(' ',end=' ')\n",
    "            j+=1\n",
    "        print()\n",
    "        i+=1\n",
    "        \n",
    "pattern82while()"
   ]
  },
  {
   "cell_type": "code",
   "execution_count": 45,
   "id": "bb92ccf9",
   "metadata": {},
   "outputs": [
    {
     "name": "stdout",
     "output_type": "stream",
     "text": [
      "          1           \n",
      "        2   2         \n",
      "      3       3       \n",
      "    4           4     \n",
      "  5               5   \n",
      "6                   6 \n"
     ]
    }
   ],
   "source": [
    "pattern82while(n=6)"
   ]
  },
  {
   "cell_type": "markdown",
   "id": "aa999d7f",
   "metadata": {},
   "source": [
    "## pattern 83"
   ]
  },
  {
   "cell_type": "code",
   "execution_count": 46,
   "id": "34b67ef6",
   "metadata": {},
   "outputs": [
    {
     "name": "stdout",
     "output_type": "stream",
     "text": [
      "        5         \n",
      "      4   4       \n",
      "    3       3     \n",
      "  2           2   \n",
      "1               1 \n"
     ]
    }
   ],
   "source": [
    "# pattern 83 using for loop\n",
    "def pattern83for(n=5):\n",
    "    for i in range(0,n):\n",
    "        for j in range(0,2*n-1):\n",
    "            if i+j==n-1 or j-i==n-1:\n",
    "                print(n-i,end=' ')\n",
    "            else:\n",
    "                print(' ',end=' ')\n",
    "        print()\n",
    "pattern83for()"
   ]
  },
  {
   "cell_type": "code",
   "execution_count": 47,
   "id": "ee8f41e2",
   "metadata": {},
   "outputs": [
    {
     "name": "stdout",
     "output_type": "stream",
     "text": [
      "            7             \n",
      "          6   6           \n",
      "        5       5         \n",
      "      4           4       \n",
      "    3               3     \n",
      "  2                   2   \n",
      "1                       1 \n"
     ]
    }
   ],
   "source": [
    "pattern83for(n=7)"
   ]
  },
  {
   "cell_type": "code",
   "execution_count": 48,
   "id": "dad8c831",
   "metadata": {},
   "outputs": [
    {
     "name": "stdout",
     "output_type": "stream",
     "text": [
      "        5         \n",
      "      4   4       \n",
      "    3       3     \n",
      "  2           2   \n",
      "1               1 \n"
     ]
    }
   ],
   "source": [
    "# pattern 83 using while loop\n",
    "def pattern83while(n=5):\n",
    "    i=0\n",
    "    while i<n:\n",
    "        j=0\n",
    "        while j<2*n-1:\n",
    "            if i+j==n-1 or j-i==n-1:\n",
    "                print(n-i,end=' ')\n",
    "            else:\n",
    "                print(' ',end=' ')\n",
    "            j+=1\n",
    "        print()\n",
    "        i+=1\n",
    "pattern83while()"
   ]
  },
  {
   "cell_type": "code",
   "execution_count": 49,
   "id": "adea2a18",
   "metadata": {},
   "outputs": [
    {
     "name": "stdout",
     "output_type": "stream",
     "text": [
      "          6           \n",
      "        5   5         \n",
      "      4       4       \n",
      "    3           3     \n",
      "  2               2   \n",
      "1                   1 \n"
     ]
    }
   ],
   "source": [
    "pattern83while(n=6)"
   ]
  },
  {
   "cell_type": "markdown",
   "id": "a1d24cbd",
   "metadata": {},
   "source": [
    "## pattern 84"
   ]
  },
  {
   "cell_type": "code",
   "execution_count": 52,
   "id": "fcda3f66",
   "metadata": {},
   "outputs": [
    {
     "name": "stdout",
     "output_type": "stream",
     "text": [
      "        A \n",
      "      B   B \n",
      "    C       C \n",
      "  D           D \n",
      "E               E \n"
     ]
    }
   ],
   "source": [
    "# pattern 84 using for\n",
    "def pattern84for(n=5):\n",
    "    for i in range(1,n+1):\n",
    "        for j in range(1,n-i+1):\n",
    "            print(' ',end=' ')\n",
    "        for j in range(1,2*i):\n",
    "            if j==1 or j==2*i-1:\n",
    "                print(str(chr(64+i)),end=' ')\n",
    "            else:\n",
    "                print(' ',end=' ')\n",
    "        print()\n",
    "            \n",
    "pattern84for()"
   ]
  },
  {
   "cell_type": "code",
   "execution_count": 53,
   "id": "01fced41",
   "metadata": {},
   "outputs": [
    {
     "name": "stdout",
     "output_type": "stream",
     "text": [
      "        A \n",
      "      B   B \n",
      "    C       C \n",
      "  D           D \n",
      "E               E \n"
     ]
    }
   ],
   "source": [
    "# pattern 84 using while loop\n",
    "def pattern84While(n=5):\n",
    "    i = 1\n",
    "    while i <= n:\n",
    "        j = 1\n",
    "        while j <= n - i:\n",
    "            print(' ', end=' ')\n",
    "            j += 1\n",
    "        j = 1\n",
    "        while j <= 2 * i - 1:\n",
    "            if j == 1 or j == 2 * i - 1:\n",
    "                print(str(chr(64 + i)), end=' ')\n",
    "            else:\n",
    "                print(' ', end=' ')\n",
    "            j += 1\n",
    "        print()\n",
    "        i += 1\n",
    "pattern84While()"
   ]
  },
  {
   "cell_type": "markdown",
   "id": "d12d4a00",
   "metadata": {},
   "source": [
    "## pattern 85"
   ]
  },
  {
   "cell_type": "code",
   "execution_count": 54,
   "id": "a701a64a",
   "metadata": {},
   "outputs": [
    {
     "name": "stdout",
     "output_type": "stream",
     "text": [
      "        E \n",
      "      D   D \n",
      "    C       C \n",
      "  B           B \n",
      "A               A \n"
     ]
    }
   ],
   "source": [
    "# pattern 85 using for loop\n",
    "def pattern85for(n=5):\n",
    "    for i in range(1,n+1):\n",
    "        for j in range(1,n-i+1):\n",
    "            print(' ',end=' ')\n",
    "        for j in range(1,2*i):\n",
    "            if j==1 or j==2*i-1:\n",
    "                print(str(chr(70-i)),end=' ')\n",
    "            else:\n",
    "                print(' ',end=\" \")\n",
    "        print()\n",
    "pattern85for()"
   ]
  },
  {
   "cell_type": "code",
   "execution_count": 55,
   "id": "dbb5bef3",
   "metadata": {},
   "outputs": [
    {
     "name": "stdout",
     "output_type": "stream",
     "text": [
      "        E \n",
      "      D   D \n",
      "    C       C \n",
      "  B           B \n",
      "A               A \n"
     ]
    }
   ],
   "source": [
    "# pattern 85 using while loop\n",
    "def pattern85while(n=5):\n",
    "    i=1\n",
    "    while i<=n:\n",
    "        j=1\n",
    "        while j<=(n-i):\n",
    "            print(' ',end=' ')\n",
    "            j+=1\n",
    "        j=1\n",
    "        while j<=(2*i-1):\n",
    "            if j==1 or j==2*i-1:\n",
    "                print(str(chr(70-i)),end=' ')\n",
    "            else:\n",
    "                print(' ',end=' ')\n",
    "            j+=1\n",
    "        print()\n",
    "        i+=1\n",
    "pattern85while()"
   ]
  },
  {
   "cell_type": "markdown",
   "id": "3336b0ba",
   "metadata": {},
   "source": [
    "## pattern 86"
   ]
  },
  {
   "cell_type": "code",
   "execution_count": 45,
   "id": "32dd4e15",
   "metadata": {},
   "outputs": [],
   "source": [
    "#for loop\n",
    "def pattern86for(n):\n",
    "    for i in range(n):\n",
    "        for j in range(2*n-1):\n",
    "            if (i==j) or (i+j == 2*n-2 and j > n-1):\n",
    "                print(\"*\",end=\"\")\n",
    "            else:\n",
    "                print(\" \",end=\"\")\n",
    "        print() \n"
   ]
  },
  {
   "cell_type": "code",
   "execution_count": 46,
   "id": "51f17656",
   "metadata": {},
   "outputs": [
    {
     "name": "stdout",
     "output_type": "stream",
     "text": [
      "*       *\n",
      " *     * \n",
      "  *   *  \n",
      "   * *   \n",
      "    *    \n"
     ]
    }
   ],
   "source": [
    "pattern86for(5)"
   ]
  },
  {
   "cell_type": "code",
   "execution_count": 47,
   "id": "06d4ba42",
   "metadata": {},
   "outputs": [],
   "source": [
    "#while loop\n",
    "def pattern86while(n):\n",
    "    i = 0\n",
    "    while i < n:\n",
    "        j = 0\n",
    "        while j < 2*n-1:\n",
    "            if (i==j) or (i+j == 2*n-2 and j > n-1):\n",
    "                print(\"*\",end=\"\")\n",
    "            else:\n",
    "                print(\" \",end=\"\")\n",
    "            j += 1\n",
    "        print()\n",
    "        i += 1"
   ]
  },
  {
   "cell_type": "code",
   "execution_count": 48,
   "id": "b364d8ce",
   "metadata": {},
   "outputs": [
    {
     "name": "stdout",
     "output_type": "stream",
     "text": [
      "*       *\n",
      " *     * \n",
      "  *   *  \n",
      "   * *   \n",
      "    *    \n"
     ]
    }
   ],
   "source": [
    "pattern86while(5)"
   ]
  },
  {
   "cell_type": "markdown",
   "id": "4f55d421",
   "metadata": {},
   "source": [
    "## pattern 87"
   ]
  },
  {
   "cell_type": "code",
   "execution_count": 49,
   "id": "f4f6bea1",
   "metadata": {},
   "outputs": [],
   "source": [
    "#for loop\n",
    "def pattern87for(n):\n",
    "    for i in range(n):\n",
    "        for j in range(2*n-1):\n",
    "            if (i==j) or (i+j == 2*n-2 and j > n-1):\n",
    "                print(i+1,end=\"\")\n",
    "            else:\n",
    "                print(\" \",end=\"\")\n",
    "        print() \n",
    "    \n"
   ]
  },
  {
   "cell_type": "code",
   "execution_count": 50,
   "id": "96893cd7",
   "metadata": {},
   "outputs": [
    {
     "name": "stdout",
     "output_type": "stream",
     "text": [
      "1       1\n",
      " 2     2 \n",
      "  3   3  \n",
      "   4 4   \n",
      "    5    \n"
     ]
    }
   ],
   "source": [
    "pattern87for(5)"
   ]
  },
  {
   "cell_type": "code",
   "execution_count": 51,
   "id": "498f575c",
   "metadata": {},
   "outputs": [],
   "source": [
    "#while loop\n",
    "def pattern87while(n):\n",
    "    i = 0\n",
    "    while i < n:\n",
    "        j = 0\n",
    "        while j < 2*n-1:\n",
    "            if (i==j) or (i+j == 2*n-2 and j > n-1):\n",
    "                print(i+1,end=\"\")\n",
    "            else:\n",
    "                print(\" \",end=\"\")\n",
    "            j += 1\n",
    "        print()\n",
    "        i += 1\n",
    "\n",
    "    "
   ]
  },
  {
   "cell_type": "code",
   "execution_count": 52,
   "id": "af5061ad",
   "metadata": {},
   "outputs": [
    {
     "name": "stdout",
     "output_type": "stream",
     "text": [
      "1       1\n",
      " 2     2 \n",
      "  3   3  \n",
      "   4 4   \n",
      "    5    \n"
     ]
    }
   ],
   "source": [
    "pattern87while(5)"
   ]
  },
  {
   "cell_type": "markdown",
   "id": "6fe89c16",
   "metadata": {},
   "source": [
    "## pattern 88"
   ]
  },
  {
   "cell_type": "code",
   "execution_count": 53,
   "id": "7d1ebd09",
   "metadata": {},
   "outputs": [],
   "source": [
    "#for loop\n",
    "def pattern88for(n):\n",
    "    for i in range(n):\n",
    "        for j in range(2*n-1):\n",
    "            if (i==j) or (i+j == 2*n-2 and j > n-1):\n",
    "                print(n-i,end=\"\")\n",
    "            else:\n",
    "                print(\" \",end=\"\")\n",
    "        print() \n",
    "    "
   ]
  },
  {
   "cell_type": "code",
   "execution_count": 54,
   "id": "3c0ef689",
   "metadata": {},
   "outputs": [
    {
     "name": "stdout",
     "output_type": "stream",
     "text": [
      "5       5\n",
      " 4     4 \n",
      "  3   3  \n",
      "   2 2   \n",
      "    1    \n"
     ]
    }
   ],
   "source": [
    "pattern88for(5)"
   ]
  },
  {
   "cell_type": "code",
   "execution_count": 55,
   "id": "0be27bc8",
   "metadata": {},
   "outputs": [],
   "source": [
    "#while loop\n",
    "def pattern88while(n):\n",
    "    i = 0\n",
    "    while i < n:\n",
    "        j = 0\n",
    "        while j < 2*n-1:\n",
    "            if (i==j) or (i+j == 2*n-2 and j > n-1):\n",
    "                print(n-i,end=\"\")\n",
    "            else:\n",
    "                print(\" \",end=\"\")\n",
    "            j += 1\n",
    "        print()\n",
    "        i += 1\n"
   ]
  },
  {
   "cell_type": "code",
   "execution_count": 56,
   "id": "135a0f2f",
   "metadata": {},
   "outputs": [
    {
     "name": "stdout",
     "output_type": "stream",
     "text": [
      "5       5\n",
      " 4     4 \n",
      "  3   3  \n",
      "   2 2   \n",
      "    1    \n"
     ]
    }
   ],
   "source": [
    "pattern88while(5)"
   ]
  },
  {
   "cell_type": "markdown",
   "id": "41f87b0d",
   "metadata": {},
   "source": [
    "## pattern 89"
   ]
  },
  {
   "cell_type": "code",
   "execution_count": 57,
   "id": "ccd51314",
   "metadata": {},
   "outputs": [],
   "source": [
    "#for loop\n",
    "def pattern89for(n):\n",
    "    start_char = ord('A')\n",
    "    for i in range(n):\n",
    "        for j in range(2*n-1):\n",
    "            if (i==j) or (i+j == 2*n-2 and j > n-1):\n",
    "                print(chr(start_char+i),end=\"\")\n",
    "            else:\n",
    "                print(\" \",end=\"\")\n",
    "        print() \n",
    "    "
   ]
  },
  {
   "cell_type": "code",
   "execution_count": 58,
   "id": "d38235d9",
   "metadata": {},
   "outputs": [
    {
     "name": "stdout",
     "output_type": "stream",
     "text": [
      "A       A\n",
      " B     B \n",
      "  C   C  \n",
      "   D D   \n",
      "    E    \n"
     ]
    }
   ],
   "source": [
    "pattern89for(5)"
   ]
  },
  {
   "cell_type": "code",
   "execution_count": 59,
   "id": "942b4363",
   "metadata": {},
   "outputs": [],
   "source": [
    "#while loop\n",
    "def pattern89while(n):\n",
    "    start_char = ord('A')\n",
    "    i = 0\n",
    "    while i < n:\n",
    "        j = 0\n",
    "        while j < 2*n-1:\n",
    "            if (i==j) or (i+j == 2*n-2 and j > n-1):\n",
    "                print(chr(start_char+i),end=\"\")\n",
    "            else:\n",
    "                print(\" \",end=\"\")\n",
    "            j += 1\n",
    "        print()\n",
    "        i += 1"
   ]
  },
  {
   "cell_type": "code",
   "execution_count": 60,
   "id": "181f31cc",
   "metadata": {},
   "outputs": [
    {
     "name": "stdout",
     "output_type": "stream",
     "text": [
      "A       A\n",
      " B     B \n",
      "  C   C  \n",
      "   D D   \n",
      "    E    \n"
     ]
    }
   ],
   "source": [
    "pattern89while(5)"
   ]
  },
  {
   "cell_type": "markdown",
   "id": "fbb4395e",
   "metadata": {},
   "source": [
    "## pattern 90"
   ]
  },
  {
   "cell_type": "code",
   "execution_count": 61,
   "id": "fd7c7ed6",
   "metadata": {},
   "outputs": [],
   "source": [
    "#for loop\n",
    "def pattern90for(n):\n",
    "    start_char = ord('A') + n - 1\n",
    "    for i in range(n):\n",
    "        for j in range(2*n-1):\n",
    "            if (i==j) or (i+j == 2*n-2 and j > n-1):\n",
    "                print(chr(start_char-i),end=\"\")\n",
    "            else:\n",
    "                print(\" \",end=\"\")\n",
    "        print() \n",
    "    "
   ]
  },
  {
   "cell_type": "code",
   "execution_count": 62,
   "id": "28710234",
   "metadata": {},
   "outputs": [
    {
     "name": "stdout",
     "output_type": "stream",
     "text": [
      "E       E\n",
      " D     D \n",
      "  C   C  \n",
      "   B B   \n",
      "    A    \n"
     ]
    }
   ],
   "source": [
    "pattern90for(5)"
   ]
  },
  {
   "cell_type": "code",
   "execution_count": 63,
   "id": "f024d861",
   "metadata": {},
   "outputs": [],
   "source": [
    "#while loop\n",
    "\n",
    "def pattern90while(n):\n",
    "    start_char = ord('A') + n - 1\n",
    "    i = 0\n",
    "    while i < n:\n",
    "        j = 0\n",
    "        while j < 2*n-1:\n",
    "            if (i==j) or (i+j == 2*n-2 and j > n-1):\n",
    "                print(chr(start_char-i),end=\"\")\n",
    "            else:\n",
    "                print(\" \",end=\"\")\n",
    "            j += 1\n",
    "        print()\n",
    "        i += 1"
   ]
  },
  {
   "cell_type": "code",
   "execution_count": 64,
   "id": "4fd06a3b",
   "metadata": {},
   "outputs": [
    {
     "name": "stdout",
     "output_type": "stream",
     "text": [
      "E       E\n",
      " D     D \n",
      "  C   C  \n",
      "   B B   \n",
      "    A    \n"
     ]
    }
   ],
   "source": [
    "pattern90while(5)"
   ]
  },
  {
   "cell_type": "markdown",
   "id": "430db2cc",
   "metadata": {},
   "source": [
    "## pattern 91"
   ]
  },
  {
   "cell_type": "code",
   "execution_count": 65,
   "id": "66fc3c4b",
   "metadata": {},
   "outputs": [],
   "source": [
    "#for loop\n",
    "def pattern91for(n):\n",
    "    for i in range(n):\n",
    "        for j in range(n - i - 1):\n",
    "            print(\" \", end=\" \")\n",
    "        for j in range(2 * i + 1):\n",
    "            if j == 0 or j == 2 * i:\n",
    "                print(\"*\", end=\" \")\n",
    "            else:\n",
    "                print(\" \", end=\" \")\n",
    "        print()\n",
    "\n",
    "    for i in range(n - 2, -1, -1):\n",
    "        for j in range(n - i - 1):\n",
    "            print(\" \", end=\" \")\n",
    "        for j in range(2 * i + 1):\n",
    "            if j == 0 or j == 2 * i:\n",
    "                print(\"*\", end=\" \")\n",
    "            else:\n",
    "                print(\" \", end=\" \")\n",
    "        print()\n"
   ]
  },
  {
   "cell_type": "code",
   "execution_count": 66,
   "id": "f8b7bdb2",
   "metadata": {},
   "outputs": [
    {
     "name": "stdout",
     "output_type": "stream",
     "text": [
      "        * \n",
      "      *   * \n",
      "    *       * \n",
      "  *           * \n",
      "*               * \n",
      "  *           * \n",
      "    *       * \n",
      "      *   * \n",
      "        * \n"
     ]
    }
   ],
   "source": [
    "pattern91for(5)"
   ]
  },
  {
   "cell_type": "code",
   "execution_count": 67,
   "id": "bee7c15d",
   "metadata": {},
   "outputs": [],
   "source": [
    "#while loop\n",
    "def pattern91while(n):\n",
    "    i = 0\n",
    "    while i < n:\n",
    "        j = 0\n",
    "        while j < n - i - 1:\n",
    "            print(\" \", end=\" \")\n",
    "            j += 1\n",
    "        j = 0\n",
    "        while j < 2 * i + 1:\n",
    "            if j == 0 or j == 2 * i:\n",
    "                print(\"*\", end=\" \")\n",
    "            else:\n",
    "                print(\" \", end=\" \")\n",
    "            j += 1\n",
    "        print()\n",
    "        i += 1\n",
    "    i = n - 2\n",
    "    while i >= 0:\n",
    "        j = 0\n",
    "        while j < n - i - 1:\n",
    "            print(\" \", end=\" \")\n",
    "            j += 1\n",
    "        j = 0\n",
    "        while j < 2 * i + 1:\n",
    "            if j == 0 or j == 2 * i:\n",
    "                print(\"*\", end=\" \")\n",
    "            else:\n",
    "                print(\" \", end=\" \")\n",
    "            j += 1\n",
    "        print()\n",
    "        i -= 1\n"
   ]
  },
  {
   "cell_type": "code",
   "execution_count": 68,
   "id": "68584ba3",
   "metadata": {},
   "outputs": [
    {
     "name": "stdout",
     "output_type": "stream",
     "text": [
      "        * \n",
      "      *   * \n",
      "    *       * \n",
      "  *           * \n",
      "*               * \n",
      "  *           * \n",
      "    *       * \n",
      "      *   * \n",
      "        * \n"
     ]
    }
   ],
   "source": [
    "pattern91while(5)"
   ]
  },
  {
   "cell_type": "markdown",
   "id": "dcce6920",
   "metadata": {},
   "source": [
    "## pattern 92"
   ]
  },
  {
   "cell_type": "code",
   "execution_count": 69,
   "id": "582c1a13",
   "metadata": {},
   "outputs": [],
   "source": [
    "#for loop\n",
    "def pattern92for(n):\n",
    "    for i in range(n):\n",
    "        for j in range(n - i - 1):\n",
    "            print(\" \", end=\" \")\n",
    "        for j in range(2 * i + 1):\n",
    "            if j == 0 or j == 2 * i:\n",
    "                print(i+1, end=\" \")\n",
    "            else:\n",
    "                print(\" \", end=\" \")\n",
    "        print()\n",
    "\n",
    "    for i in range(n - 2, -1, -1):\n",
    "        for j in range(n - i - 1):\n",
    "            print(\" \", end=\" \")\n",
    "        for j in range(2 * i + 1):\n",
    "            if j == 0 or j == 2 * i:\n",
    "                print(i+1, end=\" \")\n",
    "            else:\n",
    "                print(\" \", end=\" \")\n",
    "        print()\n",
    "\n"
   ]
  },
  {
   "cell_type": "code",
   "execution_count": 70,
   "id": "f4018b9a",
   "metadata": {},
   "outputs": [
    {
     "name": "stdout",
     "output_type": "stream",
     "text": [
      "        1 \n",
      "      2   2 \n",
      "    3       3 \n",
      "  4           4 \n",
      "5               5 \n",
      "  4           4 \n",
      "    3       3 \n",
      "      2   2 \n",
      "        1 \n"
     ]
    }
   ],
   "source": [
    "pattern92for(5)"
   ]
  },
  {
   "cell_type": "code",
   "execution_count": 71,
   "id": "09d9a28a",
   "metadata": {},
   "outputs": [],
   "source": [
    "#while loop\n",
    "def pattern92while(n):\n",
    "    i = 0\n",
    "    while i < n:\n",
    "        j = 0\n",
    "        while j < n - i - 1:\n",
    "            print(\" \", end=\" \")\n",
    "            j += 1\n",
    "        j = 0\n",
    "        while j < 2 * i + 1:\n",
    "            if j == 0 or j == 2 * i:\n",
    "                print(i+1, end=\" \")\n",
    "            else:\n",
    "                print(\" \", end=\" \")\n",
    "            j += 1\n",
    "        print()\n",
    "        i += 1\n",
    "    i = n - 2\n",
    "    while i >= 0:\n",
    "        j = 0\n",
    "        while j < n - i - 1:\n",
    "            print(\" \", end=\" \")\n",
    "            j += 1\n",
    "        j = 0\n",
    "        while j < 2 * i + 1:\n",
    "            if j == 0 or j == 2 * i:\n",
    "                print(i+1, end=\" \")\n",
    "            else:\n",
    "                print(\" \", end=\" \")\n",
    "            j += 1\n",
    "        print()\n",
    "        i -= 1\n",
    "\n"
   ]
  },
  {
   "cell_type": "code",
   "execution_count": 72,
   "id": "7d823984",
   "metadata": {},
   "outputs": [
    {
     "name": "stdout",
     "output_type": "stream",
     "text": [
      "        1 \n",
      "      2   2 \n",
      "    3       3 \n",
      "  4           4 \n",
      "5               5 \n",
      "  4           4 \n",
      "    3       3 \n",
      "      2   2 \n",
      "        1 \n"
     ]
    }
   ],
   "source": [
    "pattern92while(5)"
   ]
  },
  {
   "cell_type": "markdown",
   "id": "7fce7722",
   "metadata": {},
   "source": [
    "## pattearn 93"
   ]
  },
  {
   "cell_type": "code",
   "execution_count": 73,
   "id": "b90ca021",
   "metadata": {},
   "outputs": [],
   "source": [
    "#for loop\n",
    "def pattern93for(n):\n",
    "    for i in range(n):\n",
    "        for j in range(n - i - 1):\n",
    "            print(\" \", end=\" \")\n",
    "        for j in range(2 * i + 1):\n",
    "            if j == 0 or j == 2 * i:\n",
    "                print(n-i, end=\" \")\n",
    "            else:\n",
    "                print(\" \", end=\" \")\n",
    "        print()\n",
    "\n",
    "    for i in range(n - 2, -1, -1):\n",
    "        for j in range(n - i - 1):\n",
    "            print(\" \", end=\" \")\n",
    "        for j in range(2 * i + 1):\n",
    "            if j == 0 or j == 2 * i:\n",
    "                print(n-i, end=\" \")\n",
    "            else:\n",
    "                print(\" \", end=\" \")\n",
    "        print()\n",
    "\n"
   ]
  },
  {
   "cell_type": "code",
   "execution_count": 74,
   "id": "7aa5cdf6",
   "metadata": {},
   "outputs": [
    {
     "name": "stdout",
     "output_type": "stream",
     "text": [
      "        5 \n",
      "      4   4 \n",
      "    3       3 \n",
      "  2           2 \n",
      "1               1 \n",
      "  2           2 \n",
      "    3       3 \n",
      "      4   4 \n",
      "        5 \n"
     ]
    }
   ],
   "source": [
    "pattern93for(5)"
   ]
  },
  {
   "cell_type": "code",
   "execution_count": 75,
   "id": "7587b831",
   "metadata": {},
   "outputs": [],
   "source": [
    "#while loop\n",
    "def pattern93while(n):\n",
    "    i = 0\n",
    "    while i < n:\n",
    "        j = 0\n",
    "        while j < n - i - 1:\n",
    "            print(\" \", end=\" \")\n",
    "            j += 1\n",
    "        j = 0\n",
    "        while j < 2 * i + 1:\n",
    "            if j == 0 or j == 2 * i:\n",
    "                print(n-i, end=\" \")\n",
    "            else:\n",
    "                print(\" \", end=\" \")\n",
    "            j += 1\n",
    "        print()\n",
    "        i += 1\n",
    "    i = n - 2\n",
    "    while i >= 0:\n",
    "        j = 0\n",
    "        while j < n - i - 1:\n",
    "            print(\" \", end=\" \")\n",
    "            j += 1\n",
    "        j = 0\n",
    "        while j < 2 * i + 1:\n",
    "            if j == 0 or j == 2 * i:\n",
    "                print(n-i, end=\" \")\n",
    "            else:\n",
    "                print(\" \", end=\" \")\n",
    "            j += 1\n",
    "        print()\n",
    "        i -= 1\n"
   ]
  },
  {
   "cell_type": "code",
   "execution_count": 76,
   "id": "1e6a35fe",
   "metadata": {},
   "outputs": [
    {
     "name": "stdout",
     "output_type": "stream",
     "text": [
      "        5 \n",
      "      4   4 \n",
      "    3       3 \n",
      "  2           2 \n",
      "1               1 \n",
      "  2           2 \n",
      "    3       3 \n",
      "      4   4 \n",
      "        5 \n"
     ]
    }
   ],
   "source": [
    "pattern93while(5)"
   ]
  },
  {
   "cell_type": "markdown",
   "id": "00bd57c8",
   "metadata": {},
   "source": [
    "## pattern 94"
   ]
  },
  {
   "cell_type": "code",
   "execution_count": 77,
   "id": "5c043534",
   "metadata": {},
   "outputs": [],
   "source": [
    "#for loop\n",
    "def pattern94for(n):\n",
    "    start_char = ord('A')\n",
    "    for i in range(n):\n",
    "        for j in range(n - i - 1):\n",
    "            print(\" \", end=\" \")\n",
    "        for j in range(2 * i + 1):\n",
    "            if j == 0 or j == 2 * i:\n",
    "                print(chr(start_char+i), end=\" \")\n",
    "            else:\n",
    "                print(\" \", end=\" \")\n",
    "        print()\n",
    "\n",
    "    for i in range(n - 2, -1, -1):\n",
    "        for j in range(n - i - 1):\n",
    "            print(\" \", end=\" \")\n",
    "        for j in range(2 * i + 1):\n",
    "            if j == 0 or j == 2 * i:\n",
    "                print(chr(start_char+i), end=\" \")\n",
    "            else:\n",
    "                print(\" \", end=\" \")\n",
    "        print()\n"
   ]
  },
  {
   "cell_type": "code",
   "execution_count": 78,
   "id": "a8d80a27",
   "metadata": {},
   "outputs": [
    {
     "name": "stdout",
     "output_type": "stream",
     "text": [
      "        A \n",
      "      B   B \n",
      "    C       C \n",
      "  D           D \n",
      "E               E \n",
      "  D           D \n",
      "    C       C \n",
      "      B   B \n",
      "        A \n"
     ]
    }
   ],
   "source": [
    "pattern94for(5)"
   ]
  },
  {
   "cell_type": "code",
   "execution_count": 79,
   "id": "e4184f05",
   "metadata": {},
   "outputs": [],
   "source": [
    "#while loop\n",
    "def pattern94while(n):\n",
    "    start_char = ord('A')\n",
    "    i = 0\n",
    "    while i < n:\n",
    "        j = 0\n",
    "        while j < n - i - 1:\n",
    "            print(\" \", end=\" \")\n",
    "            j += 1\n",
    "        j = 0\n",
    "        while j < 2 * i + 1:\n",
    "            if j == 0 or j == 2 * i:\n",
    "                print(chr(start_char+i), end=\" \")\n",
    "            else:\n",
    "                print(\" \", end=\" \")\n",
    "            j += 1\n",
    "        print()\n",
    "        i += 1\n",
    "    i = n - 2\n",
    "    while i >= 0:\n",
    "        j = 0\n",
    "        while j < n - i - 1:\n",
    "            print(\" \", end=\" \")\n",
    "            j += 1\n",
    "        j = 0\n",
    "        while j < 2 * i + 1:\n",
    "            if j == 0 or j == 2 * i:\n",
    "                print(chr(start_char+i), end=\" \")\n",
    "            else:\n",
    "                print(\" \", end=\" \")\n",
    "            j += 1\n",
    "        print()\n",
    "        i -= 1\n"
   ]
  },
  {
   "cell_type": "code",
   "execution_count": 80,
   "id": "6a702146",
   "metadata": {},
   "outputs": [
    {
     "name": "stdout",
     "output_type": "stream",
     "text": [
      "        A \n",
      "      B   B \n",
      "    C       C \n",
      "  D           D \n",
      "E               E \n",
      "  D           D \n",
      "    C       C \n",
      "      B   B \n",
      "        A \n"
     ]
    }
   ],
   "source": [
    "pattern94while(5)"
   ]
  },
  {
   "cell_type": "markdown",
   "id": "0fcba574",
   "metadata": {},
   "source": [
    "## pattern 95"
   ]
  },
  {
   "cell_type": "code",
   "execution_count": 81,
   "id": "b1d69e3d",
   "metadata": {},
   "outputs": [],
   "source": [
    "#for loop\n",
    "def pattern95for(n):\n",
    "    start_char = ord('A') + n - 1\n",
    "    for i in range(n):\n",
    "        for j in range(n - i - 1):\n",
    "            print(\" \", end=\" \")\n",
    "        for j in range(2 * i + 1):\n",
    "            if j == 0 or j == 2 * i:\n",
    "                print(chr(start_char-i), end=\" \")\n",
    "            else:\n",
    "                print(\" \", end=\" \")\n",
    "        print()\n",
    "\n",
    "    for i in range(n - 2, -1, -1):\n",
    "        for j in range(n - i - 1):\n",
    "            print(\" \", end=\" \")\n",
    "        for j in range(2 * i + 1):\n",
    "            if j == 0 or j == 2 * i:\n",
    "                print(chr(start_char-i), end=\" \")\n",
    "            else:\n",
    "                print(\" \", end=\" \")\n",
    "        print()\n"
   ]
  },
  {
   "cell_type": "code",
   "execution_count": 82,
   "id": "e354c65d",
   "metadata": {},
   "outputs": [
    {
     "name": "stdout",
     "output_type": "stream",
     "text": [
      "        E \n",
      "      D   D \n",
      "    C       C \n",
      "  B           B \n",
      "A               A \n",
      "  B           B \n",
      "    C       C \n",
      "      D   D \n",
      "        E \n"
     ]
    }
   ],
   "source": [
    "pattern95for(5)"
   ]
  },
  {
   "cell_type": "code",
   "execution_count": 83,
   "id": "f0f2f19f",
   "metadata": {},
   "outputs": [],
   "source": [
    "#while loop\n",
    "def pattern95while(n):\n",
    "    start_char = ord('A') + n - 1\n",
    "    i = 0\n",
    "    while i < n:\n",
    "        j = 0\n",
    "        while j < n - i - 1:\n",
    "            print(\" \", end=\" \")\n",
    "            j += 1\n",
    "        j = 0\n",
    "        while j < 2 * i + 1:\n",
    "            if j == 0 or j == 2 * i:\n",
    "                print(chr(start_char-i), end=\" \")\n",
    "            else:\n",
    "                print(\" \", end=\" \")\n",
    "            j += 1\n",
    "        print()\n",
    "        i += 1\n",
    "    i = n - 2\n",
    "    while i >= 0:\n",
    "        j = 0\n",
    "        while j < n - i - 1:\n",
    "            print(\" \", end=\" \")\n",
    "            j += 1\n",
    "        j = 0\n",
    "        while j < 2 * i + 1:\n",
    "            if j == 0 or j == 2 * i:\n",
    "                print(chr(start_char-i), end=\" \")\n",
    "            else:\n",
    "                print(\" \", end=\" \")\n",
    "            j += 1\n",
    "        print()\n",
    "        i -= 1"
   ]
  },
  {
   "cell_type": "code",
   "execution_count": 84,
   "id": "946432e2",
   "metadata": {},
   "outputs": [
    {
     "name": "stdout",
     "output_type": "stream",
     "text": [
      "        E \n",
      "      D   D \n",
      "    C       C \n",
      "  B           B \n",
      "A               A \n",
      "  B           B \n",
      "    C       C \n",
      "      D   D \n",
      "        E \n"
     ]
    }
   ],
   "source": [
    "pattern95while(5)"
   ]
  },
  {
   "cell_type": "markdown",
   "id": "3512a491",
   "metadata": {},
   "source": [
    "## pattern 96"
   ]
  },
  {
   "cell_type": "code",
   "execution_count": 85,
   "id": "236d0f02",
   "metadata": {},
   "outputs": [],
   "source": [
    "#for loop\n",
    "def pattern96for(n):\n",
    "    for i in range(n):\n",
    "        for j in range(n-i):\n",
    "            print(\"*\",end=\" \")\n",
    "        for j in range(i):\n",
    "            print(\" \",end=\" \")\n",
    "        for j in range(i):\n",
    "            print(\" \",end=\" \")\n",
    "        for j in range(i,n):\n",
    "            print('*',end=\" \")\n",
    "        print()"
   ]
  },
  {
   "cell_type": "code",
   "execution_count": 86,
   "id": "9437d98c",
   "metadata": {},
   "outputs": [
    {
     "name": "stdout",
     "output_type": "stream",
     "text": [
      "* * * * * * * * * * \n",
      "* * * *     * * * * \n",
      "* * *         * * * \n",
      "* *             * * \n",
      "*                 * \n"
     ]
    }
   ],
   "source": [
    "pattern96for(5)"
   ]
  },
  {
   "cell_type": "code",
   "execution_count": 87,
   "id": "655bc5b6",
   "metadata": {},
   "outputs": [],
   "source": [
    "def pattern96while(n):\n",
    "    i = 0\n",
    "    while i < n:\n",
    "        j = 0\n",
    "        while j < n-i:\n",
    "            print(\"*\",end=\" \")\n",
    "            j += 1\n",
    "        j = 0\n",
    "        while j < i:\n",
    "            print(\" \",end=\" \")\n",
    "            j += 1\n",
    "        j = 0\n",
    "        while j < i:\n",
    "            print(\" \",end=\" \")\n",
    "            j += 1\n",
    "        j = i\n",
    "        while j < n:\n",
    "            print('*',end=\" \")\n",
    "            j += 1\n",
    "        print()\n",
    "        i += 1\n"
   ]
  },
  {
   "cell_type": "code",
   "execution_count": 88,
   "id": "ada46a85",
   "metadata": {},
   "outputs": [
    {
     "name": "stdout",
     "output_type": "stream",
     "text": [
      "* * * * * * * * * * \n",
      "* * * *     * * * * \n",
      "* * *         * * * \n",
      "* *             * * \n",
      "*                 * \n"
     ]
    }
   ],
   "source": [
    "pattern96while(5)"
   ]
  },
  {
   "cell_type": "markdown",
   "id": "d05dbf27",
   "metadata": {},
   "source": [
    "## pattern 97 "
   ]
  },
  {
   "cell_type": "code",
   "execution_count": 89,
   "id": "43eebc86",
   "metadata": {},
   "outputs": [],
   "source": [
    "#for loop\n",
    "def pattern97for(n):\n",
    "    for i in range(n):\n",
    "        for j in range(i+1):\n",
    "            print(\"*\",end=\" \")\n",
    "        for j in range(n-i-1):\n",
    "            print(\" \",end=\" \")\n",
    "        for j in range(n-i-1):\n",
    "            print(\" \",end=\" \")\n",
    "        for j in range(i+1):\n",
    "            print(\"*\",end=\" \")\n",
    "        print()"
   ]
  },
  {
   "cell_type": "code",
   "execution_count": 90,
   "id": "938e876d",
   "metadata": {},
   "outputs": [
    {
     "name": "stdout",
     "output_type": "stream",
     "text": [
      "*                 * \n",
      "* *             * * \n",
      "* * *         * * * \n",
      "* * * *     * * * * \n",
      "* * * * * * * * * * \n"
     ]
    }
   ],
   "source": [
    "pattern97for(5)"
   ]
  },
  {
   "cell_type": "code",
   "execution_count": 91,
   "id": "0f76f276",
   "metadata": {},
   "outputs": [],
   "source": [
    "#while loop\n",
    "def pattern97while(n):\n",
    "    i = 0\n",
    "    while i < n:\n",
    "        j = 0\n",
    "        while j < i + 1:\n",
    "            print(\"*\", end=\" \")\n",
    "            j += 1\n",
    "        \n",
    "        j = 0\n",
    "        while j < n - i - 1:\n",
    "            print(\" \", end=\" \")\n",
    "            j += 1\n",
    "        \n",
    "        j = 0\n",
    "        while j < n - i - 1:\n",
    "            print(\" \", end=\" \")\n",
    "            j += 1\n",
    "        \n",
    "        j = 0\n",
    "        while j < i + 1:\n",
    "            print(\"*\", end=\" \")\n",
    "            j += 1\n",
    "        \n",
    "        print()\n",
    "        i += 1\n"
   ]
  },
  {
   "cell_type": "code",
   "execution_count": 92,
   "id": "0dc0e861",
   "metadata": {},
   "outputs": [
    {
     "name": "stdout",
     "output_type": "stream",
     "text": [
      "*                 * \n",
      "* *             * * \n",
      "* * *         * * * \n",
      "* * * *     * * * * \n",
      "* * * * * * * * * * \n"
     ]
    }
   ],
   "source": [
    "pattern97while(5)"
   ]
  },
  {
   "cell_type": "markdown",
   "id": "6f851e12",
   "metadata": {},
   "source": [
    "## pattern 98"
   ]
  },
  {
   "cell_type": "code",
   "execution_count": 93,
   "id": "c2fba402",
   "metadata": {},
   "outputs": [],
   "source": [
    "#for loop\n",
    "def pattern98for(n):\n",
    "    for i in range(n-1):\n",
    "        for j in range(i+1):\n",
    "            print(\"*\",end=\" \")\n",
    "        for j in range(n-i-1):\n",
    "            print(\" \",end=\" \")\n",
    "        for j in range(n-i-1):\n",
    "            print(\" \",end=\" \")\n",
    "        for j in range(i+1):\n",
    "            print(\"*\",end=\" \")\n",
    "        print()\n",
    "    for i in range(n):\n",
    "        for j in range(n-i):\n",
    "            print(\"*\",end=\" \")\n",
    "        for j in range(i):\n",
    "            print(\" \",end=\" \")\n",
    "        for j in range(i):\n",
    "            print(\" \",end=\" \")\n",
    "        for j in range(i,n):\n",
    "            print('*',end=\" \")\n",
    "        print()"
   ]
  },
  {
   "cell_type": "code",
   "execution_count": 94,
   "id": "bdad7bbf",
   "metadata": {},
   "outputs": [
    {
     "name": "stdout",
     "output_type": "stream",
     "text": [
      "*                 * \n",
      "* *             * * \n",
      "* * *         * * * \n",
      "* * * *     * * * * \n",
      "* * * * * * * * * * \n",
      "* * * *     * * * * \n",
      "* * *         * * * \n",
      "* *             * * \n",
      "*                 * \n"
     ]
    }
   ],
   "source": [
    "pattern98for(5)"
   ]
  },
  {
   "cell_type": "code",
   "execution_count": 95,
   "id": "a4d03131",
   "metadata": {},
   "outputs": [],
   "source": [
    "def pattern98while(n):\n",
    "    i = 0\n",
    "    while i < n - 1:\n",
    "        j = 0\n",
    "        while j < i + 1:\n",
    "            print(\"*\", end=\" \")\n",
    "            j += 1\n",
    "        j = 0\n",
    "        while j < n - i - 1:\n",
    "            print(\" \", end=\" \")\n",
    "            j += 1\n",
    "        j = 0\n",
    "        while j < n - i - 1:\n",
    "            print(\" \", end=\" \")\n",
    "            j += 1\n",
    "        j = 0\n",
    "        while j < i + 1:\n",
    "            print(\"*\", end=\" \")\n",
    "            j += 1\n",
    "        print()\n",
    "        i += 1\n",
    "    i = 0\n",
    "    while i < n:\n",
    "        j = 0\n",
    "        while j < n-i:\n",
    "            print(\"*\",end=\" \")\n",
    "            j += 1\n",
    "        j = 0\n",
    "        while j < i:\n",
    "            print(\" \",end=\" \")\n",
    "            j += 1\n",
    "        j = 0\n",
    "        while j < i:\n",
    "            print(\" \",end=\" \")\n",
    "            j += 1\n",
    "        j = i\n",
    "        while j < n:\n",
    "            print('*',end=\" \")\n",
    "            j += 1\n",
    "        print()\n",
    "        i += 1\n",
    "\n"
   ]
  },
  {
   "cell_type": "code",
   "execution_count": 96,
   "id": "d8dff25f",
   "metadata": {},
   "outputs": [
    {
     "name": "stdout",
     "output_type": "stream",
     "text": [
      "*                 * \n",
      "* *             * * \n",
      "* * *         * * * \n",
      "* * * *     * * * * \n",
      "* * * * * * * * * * \n",
      "* * * *     * * * * \n",
      "* * *         * * * \n",
      "* *             * * \n",
      "*                 * \n"
     ]
    }
   ],
   "source": [
    "pattern98while(5)"
   ]
  },
  {
   "cell_type": "markdown",
   "id": "59238c4d",
   "metadata": {},
   "source": [
    "## pattern 99"
   ]
  },
  {
   "cell_type": "code",
   "execution_count": 97,
   "id": "186afbac",
   "metadata": {},
   "outputs": [],
   "source": [
    "#for loop\n",
    "def pattern99for(n):\n",
    "    for i in range(n):\n",
    "        for j in range(n-i-1):\n",
    "            print(\" \",end=\" \")\n",
    "        for j in range(i+1):\n",
    "            print(\"*\",end=\" \")\n",
    "        for j in range(i):\n",
    "            print(\"*\",end=\" \")\n",
    "        for j in range(i,n-1):\n",
    "            print(\" \",end=\" \")\n",
    "        for j in range(i,n-1):\n",
    "            print(\" \",end=\" \")\n",
    "        for j in range(i+1):\n",
    "            print(\"*\",end=\" \")\n",
    "        for j in range(i):\n",
    "            print(\"*\",end=\" \")\n",
    "        print()\n",
    "    \n",
    "        \n"
   ]
  },
  {
   "cell_type": "code",
   "execution_count": 98,
   "id": "d6219d0f",
   "metadata": {},
   "outputs": [
    {
     "name": "stdout",
     "output_type": "stream",
     "text": [
      "        *                 * \n",
      "      * * *             * * * \n",
      "    * * * * *         * * * * * \n",
      "  * * * * * * *     * * * * * * * \n",
      "* * * * * * * * * * * * * * * * * * \n"
     ]
    }
   ],
   "source": [
    "pattern99for(5)"
   ]
  },
  {
   "cell_type": "code",
   "execution_count": 99,
   "id": "15c288a2",
   "metadata": {},
   "outputs": [],
   "source": [
    "#while loop \n",
    "def pattern99while(n):\n",
    "    i = 0\n",
    "    while i < n:\n",
    "        j = 0\n",
    "        while j < n - i - 1:\n",
    "            print(\" \", end=\" \")\n",
    "            j += 1\n",
    "        j = 0\n",
    "        while j < i + 1:\n",
    "            print(\"*\", end=\" \")\n",
    "            j += 1\n",
    "        j = 0\n",
    "        while j < i:\n",
    "            print(\"*\", end=\" \")\n",
    "            j += 1\n",
    "        j = 0\n",
    "        while j < n - i - 1:\n",
    "            print(\" \", end=\" \")\n",
    "            j += 1\n",
    "        j = 0\n",
    "        while j < n - i - 1:\n",
    "            print(\" \", end=\" \")\n",
    "            j += 1\n",
    "        j = 0\n",
    "        while j < i + 1:\n",
    "            print(\"*\", end=\" \")\n",
    "            j += 1\n",
    "        j = 0\n",
    "        while j < i:\n",
    "            print(\"*\", end=\" \")\n",
    "            j += 1\n",
    "        print()\n",
    "        i += 1\n"
   ]
  },
  {
   "cell_type": "code",
   "execution_count": 100,
   "id": "14e17ad7",
   "metadata": {},
   "outputs": [
    {
     "name": "stdout",
     "output_type": "stream",
     "text": [
      "        *                 * \n",
      "      * * *             * * * \n",
      "    * * * * *         * * * * * \n",
      "  * * * * * * *     * * * * * * * \n",
      "* * * * * * * * * * * * * * * * * * \n"
     ]
    }
   ],
   "source": [
    "pattern99while(5)"
   ]
  },
  {
   "cell_type": "markdown",
   "id": "000230cd",
   "metadata": {},
   "source": [
    "## pattern 100"
   ]
  },
  {
   "cell_type": "code",
   "execution_count": 101,
   "id": "56de34cb",
   "metadata": {},
   "outputs": [],
   "source": [
    "#for loop\n",
    "def pattern100for(n):\n",
    "    for i in range(n):\n",
    "        for j in range(n-i-1):\n",
    "            print(\" \",end=\"\")\n",
    "        for j in range(i+1):\n",
    "            print(\"*\",end=\" \")\n",
    "        for j in range(n-i-1):\n",
    "            print(\" \",end=\"\")\n",
    "        for j in range(n-i-1):\n",
    "            print(\" \",end=\"\")\n",
    "        for j in range(i+1):\n",
    "            print(\"*\",end=\" \")\n",
    "        print()\n",
    "        \n",
    "     "
   ]
  },
  {
   "cell_type": "code",
   "execution_count": 102,
   "id": "4cadd4a6",
   "metadata": {},
   "outputs": [
    {
     "name": "stdout",
     "output_type": "stream",
     "text": [
      "    *         * \n",
      "   * *       * * \n",
      "  * * *     * * * \n",
      " * * * *   * * * * \n",
      "* * * * * * * * * * \n"
     ]
    }
   ],
   "source": [
    "pattern100for(5)"
   ]
  },
  {
   "cell_type": "code",
   "execution_count": 103,
   "id": "63ccf69d",
   "metadata": {},
   "outputs": [],
   "source": [
    "#while loop\n",
    "def pattern100while(n):\n",
    "    i = 0\n",
    "    while i < n:\n",
    "        j = 0\n",
    "        while j < n - i - 1:\n",
    "            print(\" \", end=\"\")\n",
    "            j += 1\n",
    "        j = 0\n",
    "        while j < i + 1:\n",
    "            print(\"*\", end=\" \")\n",
    "            j += 1\n",
    "        j = 0\n",
    "        while j < n - i - 1:\n",
    "            print(\" \", end=\"\")\n",
    "            j += 1\n",
    "        j = 0\n",
    "        while j < n - i - 1:\n",
    "            print(\" \", end=\"\")\n",
    "            j += 1\n",
    "        j = 0\n",
    "        while j < i + 1:\n",
    "            print(\"*\", end=\" \")\n",
    "            j += 1\n",
    "        print()\n",
    "        i += 1\n"
   ]
  },
  {
   "cell_type": "code",
   "execution_count": 104,
   "id": "6de2951c",
   "metadata": {},
   "outputs": [
    {
     "name": "stdout",
     "output_type": "stream",
     "text": [
      "    *         * \n",
      "   * *       * * \n",
      "  * * *     * * * \n",
      " * * * *   * * * * \n",
      "* * * * * * * * * * \n"
     ]
    }
   ],
   "source": [
    "pattern100while(5)"
   ]
  },
  {
   "cell_type": "code",
   "execution_count": null,
   "id": "0deab577",
   "metadata": {},
   "outputs": [],
   "source": []
  }
 ],
 "metadata": {
  "kernelspec": {
   "display_name": "Python 3 (ipykernel)",
   "language": "python",
   "name": "python3"
  },
  "language_info": {
   "codemirror_mode": {
    "name": "ipython",
    "version": 3
   },
   "file_extension": ".py",
   "mimetype": "text/x-python",
   "name": "python",
   "nbconvert_exporter": "python",
   "pygments_lexer": "ipython3",
   "version": "3.10.9"
  }
 },
 "nbformat": 4,
 "nbformat_minor": 5
}
