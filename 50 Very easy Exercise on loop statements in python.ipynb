{
 "cells": [
  {
   "cell_type": "markdown",
   "id": "08f9923b",
   "metadata": {},
   "source": [
    "## 50 Very Easy Questions on Loop statements in python\n",
    "***\n",
    "\n",
    "01. What is the basic purpose of a loop in Python? (Hint: Repeating actions)\n",
    "\n",
    "02. Write a for loop that prints numbers from 1 to 5. (Hint: range() function)\n",
    "\n",
    "03. Write a while loop that prints even numbers from 2 to 10. (Hint: Use while and % operator)\n",
    "\n",
    "04. How do you stop the execution of a loop? (Hint: break statement)\n",
    "\n",
    "05. Write a for loop that iterates over a list of names and prints each name. (Hint: for loop syntax)\n",
    "\n",
    "06. Write a while loop that prints numbers from 10 to 1 in reverse order. (Hint: Use while and decrement)\n",
    "\n",
    "07. What is the purpose of the continue statement in a loop? (Hint: Skips the rest of the loop body)\n",
    "\n",
    "08. Write a for loop that prints only the odd numbers from 1 to 10. (Hint: range() and %)\n",
    "\n",
    "09. Write a while loop that prints multiples of 3 from 3 to 15. (Hint: Use while and increment)\n",
    "\n",
    "10. How can you iterate over characters in a string using a loop? (Hint: for loop)\n",
    "\n",
    "11. Write a for loop that prints each letter of the word \"Hello\". (Hint: for and strings)\n",
    "\n",
    "12. Write a while loop that prints numbers from 1 to 10 but skips 5. (Hint: Use while, if, and continue)\n",
    "\n",
    "13. How do you find the sum of all numbers from 1 to 100 using a loop? (Hint: Use a variable to accumulate the sum)\n",
    "\n",
    "14. Write a for loop to print elements of a list: [1, 2, 3, 4, 5]. (Hint: for loop and list)\n",
    "\n",
    "15. Write a while loop that prints squares of numbers from 1 to 5. (Hint: Use while and exponentiation)\n",
    "\n",
    "16. What is the purpose of an else statement in a loop? (Hint: Executed when loop completes normally)\n",
    "\n",
    "17. Write a for loop to print characters of a string: \"Python\". (Hint: for loop and string)\n",
    "\n",
    "18. Write a while loop that prints numbers from 0 to 20 but stops when reaching 12. (Hint: Use while and break)\n",
    "\n",
    "19. How do you iterate over key-value pairs in a dictionary using a loop? (Hint: for loop and .items())\n",
    "\n",
    "20. Write a for loop to print elements of a list: ['apple', 'banana', 'cherry']. (Hint: for loop and list)\n",
    "\n",
    "21. Write a while loop that prints the first 3 multiples of 4. (Hint: Use a counter and while)\n",
    "\n",
    "22. How can you create an infinite loop intentionally? (Hint: No stop condition)\n",
    "\n",
    "23. Write a for loop to print each character of a string in reverse: \"Hello\". (Hint: for and slicing)\n",
    "\n",
    "24. Write a while loop that calculates the factorial of a number n. (Hint: Use a variable to accumulate)\n",
    "\n",
    "25. How do you avoid an infinite loop in Python? (Hint: Include a stop condition)\n",
    "\n",
    "26. Write a for loop to print numbers from 0 to 10 with a step of 2. (Hint: range() with step)\n",
    "\n",
    "27. Write a while loop that prints cubes of numbers from 1 to 4. (Hint: Use while and exponentiation)\n",
    "\n",
    "28. How can you iterate over only the keys of a dictionary using a loop? (Hint: .keys() method)\n",
    "\n",
    "29. Write a for loop to print elements of a list in reverse: [7, 5, 3, 1]. (Hint: for loop and slicing)\n",
    "\n",
    "30. Write a while loop that prints the first 5 even numbers. (Hint: Use a counter and while)\n",
    "31. How do you modify the control flow of a loop using else and break together? (Hint: Combination of else and break)\n",
    "\n",
    "32. Write a for loop that prints each letter of the word \"Loop\". (Hint: for and strings)\n",
    "\n",
    "33. Write a while loop that finds the sum of all numbers from 1 to 50. (Hint: Use a variable to accumulate)\n",
    "\n",
    "34. How do you iterate over only the values of a dictionary using a loop? (Hint: .values() method)\n",
    "\n",
    "35. Write a for loop that prints numbers from 10 to 1 with a step of -1. (Hint: range() with negative step)\n",
    "\n",
    "36. Write a while loop that prints the first 4 powers of 2. (Hint: Use a counter and while)\n",
    "\n",
    "37. What is the purpose of the pass statement in a loop? (Hint: Placeholder for future code)\n",
    "\n",
    "38. Write a for loop to print elements of a list: ['red', 'green', 'blue']. (Hint: for loop and list)\n",
    "\n",
    "39. Write a while loop that prints all uppercase letters from 'A' to 'Z'. (Hint: Use ASCII values and chr())\n",
    "\n",
    "40. How can you iterate over the index and elements of a list using a loop? (Hint: enumerate() function)\n",
    "\n",
    "41. Write a for loop to print elements of a tuple: (1, 2, 3, 4, 5). (Hint: for loop and tuple)\n",
    "\n",
    "42. Write a while loop that prints numbers from 1 to 5, but stops at 3. (Hint: Use while and break)\n",
    "\n",
    "43. How do you iterate over a string and skip every second character? (Hint: Use a step in slicing)\n",
    "\n",
    "44. Write a for loop to print each letter of a string in reverse: \"Python\". (Hint: for and slicing)\n",
    "\n",
    "45. Write a while loop to print numbers from 3 to 10 with a step of 2. (Hint: Use a counter and while)\n",
    "46. How can you iterate over a list of lists using nested loops? (Hint: Use two for loops)\n",
    "\n",
    "47. Write a for loop to print each character of a string: \"Hello\" without the letter 'l'. (Hint: for, if, and continue)\n",
    "\n",
    "48. Write a while loop to print the first 3 powers of 3. (Hint: Use a counter and while)\n",
    "\n",
    "49. How do you iterate over a dictionary using only a loop? (Hint: By default, loops over keys)\n",
    "\n",
    "50. Write a for loop to print elements of a tuple in reverse: (5, 4, 3, 2, 1). (Hint: for loop and slicing)\n"
   ]
  },
  {
   "cell_type": "markdown",
   "id": "51c0ec77",
   "metadata": {},
   "source": [
    "### 01. What is the basic purpose of a loop in Python? (Hint: Repeating actions)"
   ]
  },
  {
   "cell_type": "markdown",
   "id": "19be4314",
   "metadata": {},
   "source": [
    "#### Basic purpose of a loop in Python: Loops allow you to execute a block of code repeatedly."
   ]
  },
  {
   "cell_type": "markdown",
   "id": "f3812cb6",
   "metadata": {},
   "source": [
    "* There are two main types of loops in Python:\n",
    "    * `for` loop: The for loop is used to `iterate over a sequence` (such as a list, tuple, string, or dictionary) or any other iterable object. It allows you to perform an action on each item in the sequence.\n",
    "    * `while` loop: The while loop is used to `execute a block of code repeatedly as long as a certain condition remains true`. It keeps looping `until` the condition becomes `false`."
   ]
  },
  {
   "cell_type": "markdown",
   "id": "3dd7db5b",
   "metadata": {},
   "source": [
    "### 2. Write a for loop that prints numbers from 1 to 5. (Hint: range() function)"
   ]
  },
  {
   "cell_type": "code",
   "execution_count": 1,
   "id": "c8a54aca",
   "metadata": {},
   "outputs": [
    {
     "name": "stdout",
     "output_type": "stream",
     "text": [
      "1\n",
      "2\n",
      "3\n",
      "4\n",
      "5\n"
     ]
    }
   ],
   "source": [
    "for num in range(1, 6):\n",
    "    print(num)"
   ]
  },
  {
   "cell_type": "markdown",
   "id": "3aa56d9d",
   "metadata": {},
   "source": [
    "### 3. Write a while loop that prints even numbers from 2 to 10. (Hint: Use while and % operator)"
   ]
  },
  {
   "cell_type": "code",
   "execution_count": 15,
   "id": "98620282",
   "metadata": {},
   "outputs": [
    {
     "name": "stdout",
     "output_type": "stream",
     "text": [
      "2\n",
      "4\n",
      "6\n",
      "8\n",
      "10\n"
     ]
    }
   ],
   "source": [
    "i = 1\n",
    "while i <= 10:\n",
    "        if i % 2 == 0:\n",
    "            print(i)\n",
    "            \n",
    "        i += 1"
   ]
  },
  {
   "cell_type": "markdown",
   "id": "7cc83b98",
   "metadata": {},
   "source": [
    "### 4. How do you stop the execution of a loop? (Hint: break statement)"
   ]
  },
  {
   "cell_type": "code",
   "execution_count": 22,
   "id": "73aed6eb",
   "metadata": {},
   "outputs": [
    {
     "name": "stdout",
     "output_type": "stream",
     "text": [
      "1\n"
     ]
    }
   ],
   "source": [
    "for i in range(1, 21):\n",
    "    print(i)\n",
    "    break\n",
    "    "
   ]
  },
  {
   "cell_type": "markdown",
   "id": "6500b42b",
   "metadata": {},
   "source": [
    "### 5. Write a for loop that iterates over a list of names and prints each name. (Hint: for loop syntax)"
   ]
  },
  {
   "cell_type": "code",
   "execution_count": 31,
   "id": "33e9da92",
   "metadata": {},
   "outputs": [
    {
     "name": "stdout",
     "output_type": "stream",
     "text": [
      "apple\n",
      "banana\n",
      "cherry\n",
      "dates\n",
      "elder berris\n",
      "fig\n",
      "grapes\n",
      "Honeydew melons\n",
      "kiwi\n",
      "leamon\n"
     ]
    }
   ],
   "source": [
    "items_list = ['apple', 'banana', 'cherry', 'dates', 'elder berris', 'fig', 'grapes', 'Honeydew melons', 'kiwi', 'leamon']\n",
    "for item in items_list:\n",
    "    print(item)"
   ]
  },
  {
   "cell_type": "markdown",
   "id": "2e9523d9",
   "metadata": {},
   "source": [
    "### 6. Write a while loop that prints numbers from 10 to 1 in reverse order. (Hint: Use while and decrement)"
   ]
  },
  {
   "cell_type": "code",
   "execution_count": 34,
   "id": "308213a1",
   "metadata": {},
   "outputs": [
    {
     "name": "stdout",
     "output_type": "stream",
     "text": [
      "10\n",
      "9\n",
      "8\n",
      "7\n",
      "6\n",
      "5\n",
      "4\n",
      "3\n",
      "2\n",
      "1\n"
     ]
    }
   ],
   "source": [
    "i = 10\n",
    "while i >= 1:\n",
    "    print(i)\n",
    "    i -= 1"
   ]
  },
  {
   "cell_type": "markdown",
   "id": "5a75fe57",
   "metadata": {},
   "source": [
    "### 7. What is the purpose of the continue statement in a loop? (Hint: Skips the rest of the loop body)"
   ]
  },
  {
   "cell_type": "code",
   "execution_count": 35,
   "id": "abde6656",
   "metadata": {},
   "outputs": [
    {
     "name": "stdout",
     "output_type": "stream",
     "text": [
      "1\n",
      "3\n",
      "5\n",
      "7\n",
      "9\n"
     ]
    }
   ],
   "source": [
    "numbers = [1, 2, 3, 4, 5, 6, 7, 8, 9, 10]\n",
    "\n",
    "for num in numbers:\n",
    "    if num % 2 == 0:\n",
    "        continue\n",
    "    print(num)\n"
   ]
  },
  {
   "cell_type": "code",
   "execution_count": 54,
   "id": "23c90de4",
   "metadata": {},
   "outputs": [
    {
     "name": "stdout",
     "output_type": "stream",
     "text": [
      "1\n",
      "3\n",
      "5\n",
      "7\n",
      "9\n"
     ]
    }
   ],
   "source": [
    "count = 0\n",
    "\n",
    "while count < 10:\n",
    "    count += 1\n",
    "    if count % 2 == 0:\n",
    "        continue\n",
    "    print(count)"
   ]
  },
  {
   "cell_type": "markdown",
   "id": "f91bac7a",
   "metadata": {},
   "source": [
    "### 8. Write a for loop that prints only the odd numbers from 1 to 10. (Hint: range() and %)"
   ]
  },
  {
   "cell_type": "code",
   "execution_count": 48,
   "id": "350e080a",
   "metadata": {},
   "outputs": [
    {
     "name": "stdout",
     "output_type": "stream",
     "text": [
      "1\n",
      "3\n",
      "5\n",
      "7\n",
      "9\n"
     ]
    }
   ],
   "source": [
    "numbers = range(1, 11)\n",
    "\n",
    "for odd in numbers:\n",
    "    if odd % 2 != 0:\n",
    "        print(odd)"
   ]
  },
  {
   "cell_type": "markdown",
   "id": "f9119e43",
   "metadata": {},
   "source": [
    "### 9. Write a while loop that prints multiples of 3 from 3 to 15. (Hint: Use while and increment)"
   ]
  },
  {
   "cell_type": "code",
   "execution_count": 59,
   "id": "c91379d3",
   "metadata": {},
   "outputs": [
    {
     "name": "stdout",
     "output_type": "stream",
     "text": [
      "3\n",
      "6\n",
      "9\n",
      "12\n",
      "15\n"
     ]
    }
   ],
   "source": [
    "c = 3\n",
    "while c <= 15:\n",
    "    if c % 3 == 0:\n",
    "        print(c)\n",
    "    \n",
    "    c += 1"
   ]
  },
  {
   "cell_type": "markdown",
   "id": "73040a8d",
   "metadata": {},
   "source": [
    "### 10. How can you iterate over characters in a string using a loop? (Hint: for loop)"
   ]
  },
  {
   "cell_type": "code",
   "execution_count": 60,
   "id": "49f12b0b",
   "metadata": {},
   "outputs": [
    {
     "name": "stdout",
     "output_type": "stream",
     "text": [
      "Enter your Name: Raviteja\n",
      "R\n",
      "a\n",
      "v\n",
      "i\n",
      "t\n",
      "e\n",
      "j\n",
      "a\n"
     ]
    }
   ],
   "source": [
    "name = input('Enter your Name: ')\n",
    "for ch in name:\n",
    "    print(ch)"
   ]
  },
  {
   "cell_type": "markdown",
   "id": "ff60f397",
   "metadata": {},
   "source": [
    "### 11. Write a for loop that prints each letter of the word \"Hello\". (Hint: for and strings)"
   ]
  },
  {
   "cell_type": "code",
   "execution_count": 1,
   "id": "9d814729",
   "metadata": {},
   "outputs": [
    {
     "name": "stdout",
     "output_type": "stream",
     "text": [
      "H\n",
      "e\n",
      "l\n",
      "l\n",
      "o\n"
     ]
    }
   ],
   "source": [
    "for letter in 'Hello':\n",
    "    print(letter)"
   ]
  },
  {
   "cell_type": "markdown",
   "id": "6345bea3",
   "metadata": {},
   "source": [
    "### 12. Write a while loop that prints numbers from 1 to 10 but skips 5. (Hint: Use while, if, and continue)"
   ]
  },
  {
   "cell_type": "code",
   "execution_count": 10,
   "id": "5f5e755a",
   "metadata": {},
   "outputs": [
    {
     "name": "stdout",
     "output_type": "stream",
     "text": [
      "1\n",
      "2\n",
      "3\n",
      "4\n",
      "6\n",
      "7\n",
      "8\n",
      "9\n",
      "10\n"
     ]
    }
   ],
   "source": [
    "n = 0\n",
    "while n <= 9:\n",
    "    n += 1\n",
    "    if n == 5:\n",
    "        continue\n",
    "        \n",
    "    print(n)        \n",
    "    "
   ]
  },
  {
   "cell_type": "markdown",
   "id": "3d367656",
   "metadata": {},
   "source": [
    "### 13. How do you find the sum of all numbers from 1 to 100 using a loop? (Hint: Use a variable to accumulate the sum)"
   ]
  },
  {
   "cell_type": "code",
   "execution_count": 16,
   "id": "8dfdcbb4",
   "metadata": {},
   "outputs": [
    {
     "name": "stdout",
     "output_type": "stream",
     "text": [
      "5050\n"
     ]
    }
   ],
   "source": [
    "sum = 0\n",
    "for num in (range(1, 101)):\n",
    "    sum = sum + num\n",
    "print(sum)"
   ]
  },
  {
   "cell_type": "markdown",
   "id": "c75588b1",
   "metadata": {},
   "source": [
    "### 14. Write a for loop to print elements of a list: [1, 2, 3, 4, 5]. (Hint: for loop and list)"
   ]
  },
  {
   "cell_type": "code",
   "execution_count": 19,
   "id": "edcd97ed",
   "metadata": {},
   "outputs": [
    {
     "name": "stdout",
     "output_type": "stream",
     "text": [
      "1\n",
      "2\n",
      "3\n",
      "4\n",
      "5\n"
     ]
    }
   ],
   "source": [
    "num = list(range(1, 6))\n",
    "for n in num:\n",
    "    print(n)"
   ]
  },
  {
   "cell_type": "markdown",
   "id": "17a9ab44",
   "metadata": {},
   "source": [
    "### 15. Write a while loop that prints squares of numbers from 1 to 5. (Hint: Use while and exponentiation)"
   ]
  },
  {
   "cell_type": "code",
   "execution_count": 32,
   "id": "0e1ea23e",
   "metadata": {},
   "outputs": [
    {
     "name": "stdout",
     "output_type": "stream",
     "text": [
      "1\n",
      "4\n",
      "9\n",
      "16\n",
      "25\n"
     ]
    }
   ],
   "source": [
    "n = 1\n",
    "while n <= 5:\n",
    "    print(n ** 2)\n",
    "    n += 1"
   ]
  },
  {
   "cell_type": "markdown",
   "id": "34711bc1",
   "metadata": {},
   "source": [
    "### 16. What is the purpose of an else statement in a loop? (Hint: Executed when loop completes normally)"
   ]
  },
  {
   "cell_type": "markdown",
   "id": "fbf5fe94",
   "metadata": {},
   "source": [
    "* The else statement in a loop is executed when the loop completes normally, i.e., when there is no break statement encountered."
   ]
  },
  {
   "cell_type": "code",
   "execution_count": 34,
   "id": "45de258c",
   "metadata": {},
   "outputs": [
    {
     "name": "stdout",
     "output_type": "stream",
     "text": [
      "1\n",
      "8\n",
      "27\n",
      "64\n",
      "125\n",
      "216\n",
      "343\n",
      "512\n",
      "729\n",
      "1000\n",
      "Loop completed successfully!\n"
     ]
    }
   ],
   "source": [
    "n = 1 \n",
    "while n <= 10:\n",
    "    print(n ** 3)\n",
    "    n += 1\n",
    "else:\n",
    "    print(\"Loop completed successfully!\")"
   ]
  },
  {
   "cell_type": "markdown",
   "id": "c7ad0960",
   "metadata": {},
   "source": [
    "### 17. Write a for loop to print characters of a string: \"Python\". (Hint: for loop and string)"
   ]
  },
  {
   "cell_type": "code",
   "execution_count": 37,
   "id": "3528c90a",
   "metadata": {},
   "outputs": [
    {
     "name": "stdout",
     "output_type": "stream",
     "text": [
      "P\n",
      "y\n",
      "t\n",
      "h\n",
      "o\n",
      "n\n"
     ]
    }
   ],
   "source": [
    "for char in 'Python':\n",
    "    print(char)"
   ]
  },
  {
   "cell_type": "markdown",
   "id": "61215ff9",
   "metadata": {},
   "source": [
    "### 18. Write a while loop that prints numbers from 0 to 20 but stops when reaching 12. (Hint: Use while and break)"
   ]
  },
  {
   "cell_type": "code",
   "execution_count": 39,
   "id": "a95b4f6b",
   "metadata": {},
   "outputs": [
    {
     "name": "stdout",
     "output_type": "stream",
     "text": [
      "0\n",
      "1\n",
      "2\n",
      "3\n",
      "4\n",
      "5\n",
      "6\n",
      "7\n",
      "8\n",
      "9\n",
      "10\n",
      "11\n"
     ]
    }
   ],
   "source": [
    "i = 0 \n",
    "while i <= 20:\n",
    "    if i == 12:\n",
    "        break\n",
    "        \n",
    "    print(i)\n",
    "    i += 1"
   ]
  },
  {
   "cell_type": "markdown",
   "id": "709a7ece",
   "metadata": {},
   "source": [
    "### 19. How do you iterate over key-value pairs in a dictionary using a loop? (Hint: for loop and .items()) `check`"
   ]
  },
  {
   "cell_type": "code",
   "execution_count": 40,
   "id": "a8f4fa2a",
   "metadata": {},
   "outputs": [
    {
     "name": "stdout",
     "output_type": "stream",
     "text": [
      "Alice's score is 85\n",
      "Bob's score is 92\n",
      "Charlie's score is 78\n",
      "David's score is 90\n",
      "Eva's score is 88\n"
     ]
    }
   ],
   "source": [
    "student_scores = {\n",
    "    \"Abhilash\": 85,\n",
    "    \"Bharat\": 92,\n",
    "    \"Chirudeep\": 78,\n",
    "    \"David\": 90,\n",
    "    \"Evanka\": 88\n",
    "}\n",
    "\n",
    "# Iterating over key-value pairs using a for loop and .items()\n",
    "\n",
    "for name, score in student_scores.items():\n",
    "    print(f\"{name}'s score is {score}\")\n"
   ]
  },
  {
   "cell_type": "markdown",
   "id": "9bfdf343",
   "metadata": {},
   "source": [
    "### 20. Write a for loop to print elements of a list: ['apple', 'banana', 'cherry']. (Hint: for loop and list)"
   ]
  },
  {
   "cell_type": "code",
   "execution_count": 41,
   "id": "6bec2853",
   "metadata": {},
   "outputs": [
    {
     "name": "stdout",
     "output_type": "stream",
     "text": [
      "apple\n",
      "banana\n",
      "cherry\n"
     ]
    }
   ],
   "source": [
    "for ele in ['apple', 'banana', 'cherry']:\n",
    "    print(ele)"
   ]
  },
  {
   "cell_type": "markdown",
   "id": "9ad26104",
   "metadata": {},
   "source": [
    "### 21. Write a while loop that prints the first 3 multiples of 4. (Hint: Use a counter and while)"
   ]
  },
  {
   "cell_type": "code",
   "execution_count": 43,
   "id": "425cf8bd",
   "metadata": {},
   "outputs": [
    {
     "name": "stdout",
     "output_type": "stream",
     "text": [
      "4\n",
      "8\n",
      "12\n"
     ]
    }
   ],
   "source": [
    "counter = 1\n",
    "while counter <= 3:\n",
    "    print(counter * 4)\n",
    "    counter += 1"
   ]
  },
  {
   "cell_type": "markdown",
   "id": "963fca54",
   "metadata": {},
   "source": [
    "### 22. How can you create an infinite loop intentionally? (Hint: No stop condition)"
   ]
  },
  {
   "cell_type": "code",
   "execution_count": 47,
   "id": "f370f280",
   "metadata": {},
   "outputs": [],
   "source": [
    "# i = 1\n",
    "# while True:\n",
    "#     print(i)\n",
    "#     i += 1      \n",
    "\n",
    "# uncomment to see the magic"
   ]
  },
  {
   "cell_type": "markdown",
   "id": "c0e7f608",
   "metadata": {},
   "source": [
    "### 23. Write a for loop to print each character of a string in reverse: \"Hello\". (Hint: for and slicing)"
   ]
  },
  {
   "cell_type": "code",
   "execution_count": 50,
   "id": "b356dabb",
   "metadata": {},
   "outputs": [
    {
     "name": "stdout",
     "output_type": "stream",
     "text": [
      "o\n",
      "l\n",
      "l\n",
      "e\n",
      "H\n"
     ]
    }
   ],
   "source": [
    "word = 'Hello'\n",
    "for each in word[::-1]:\n",
    "    print(each)"
   ]
  },
  {
   "cell_type": "markdown",
   "id": "59da4de4",
   "metadata": {},
   "source": [
    "### 24. Write a while loop that calculates the factorial of a number n. (Hint: Use a variable to accumulate)"
   ]
  },
  {
   "cell_type": "code",
   "execution_count": 57,
   "id": "b9aa9e20",
   "metadata": {},
   "outputs": [
    {
     "name": "stdout",
     "output_type": "stream",
     "text": [
      "Enter your number you want to calculate Factorial Value: 10\n",
      "3628800\n"
     ]
    }
   ],
   "source": [
    "n = int(input('Enter your number you want to calculate Factorial Value: '))\n",
    "factorial = 1\n",
    "while n > 0:\n",
    "    factorial = factorial * n\n",
    "    n -= 1\n",
    "print(factorial)"
   ]
  },
  {
   "cell_type": "markdown",
   "id": "21c5aa88",
   "metadata": {},
   "source": [
    "### 25. How do you avoid an infinite loop in Python? (Hint: Include a stop condition)"
   ]
  },
  {
   "cell_type": "code",
   "execution_count": 59,
   "id": "a90272cb",
   "metadata": {},
   "outputs": [
    {
     "name": "stdout",
     "output_type": "stream",
     "text": [
      "Enter 'stop' to end the loop: ravi\n",
      "You entered: ravi\n",
      "Enter 'stop' to end the loop: teja\n",
      "You entered: teja\n",
      "Enter 'stop' to end the loop: m\n",
      "You entered: m\n",
      "Enter 'stop' to end the loop: stop\n"
     ]
    }
   ],
   "source": [
    "while True:\n",
    "    user_input = input(\"Enter 'stop' to end the loop: \")\n",
    "    if user_input.lower() == \"stop\":\n",
    "        break  # Break out of the loop when the user enters 'stop'\n",
    "    else:\n",
    "        print(\"You entered:\", user_input)"
   ]
  },
  {
   "cell_type": "markdown",
   "id": "885ae5a9",
   "metadata": {},
   "source": [
    "### 26. Write a for loop to print numbers from 0 to 10 with a step of 2. (Hint: range() with step)"
   ]
  },
  {
   "cell_type": "code",
   "execution_count": 60,
   "id": "a8c33779",
   "metadata": {},
   "outputs": [
    {
     "name": "stdout",
     "output_type": "stream",
     "text": [
      "0\n",
      "2\n",
      "4\n",
      "6\n",
      "8\n"
     ]
    }
   ],
   "source": [
    "for num in (range(0, 10, 2)):\n",
    "    print(num)"
   ]
  },
  {
   "cell_type": "markdown",
   "id": "d4f8bd97",
   "metadata": {},
   "source": [
    "### 27. Write a while loop that prints cubes of numbers from 1 to 4. (Hint: Use while and exponentiation)"
   ]
  },
  {
   "cell_type": "code",
   "execution_count": 61,
   "id": "deaee9b8",
   "metadata": {},
   "outputs": [
    {
     "name": "stdout",
     "output_type": "stream",
     "text": [
      "1\n",
      "8\n",
      "27\n",
      "64\n"
     ]
    }
   ],
   "source": [
    "i = 1 \n",
    "while i <= 4:\n",
    "    print(i ** 3)\n",
    "    i += 1"
   ]
  },
  {
   "cell_type": "markdown",
   "id": "f2e36943",
   "metadata": {},
   "source": [
    "### 28. How can you iterate over only the keys of a dictionary using a loop? (Hint: .keys() method) `Check`"
   ]
  },
  {
   "cell_type": "code",
   "execution_count": 93,
   "id": "55d7c775",
   "metadata": {},
   "outputs": [
    {
     "name": "stdout",
     "output_type": "stream",
     "text": [
      "Key: name is Abhilash\n",
      "Key: name is Bharat\n",
      "Key: name is Chirudeep\n",
      "Key: name is David\n",
      "Key: name is Evanka\n"
     ]
    }
   ],
   "source": [
    "student_scores = {\n",
    "    \"Abhilash\": 85,\n",
    "    \"Bharat\": 92,\n",
    "    \"Chirudeep\": 78,\n",
    "    \"David\": 90,\n",
    "    \"Evanka\": 88\n",
    "}\n",
    "\n",
    "# Iterating over keys using a for loop and .keys()\n",
    "\n",
    "for name in student_scores.keys():\n",
    "    print(f\"Key: name is {name}\")\n"
   ]
  },
  {
   "cell_type": "markdown",
   "id": "a4f747a4",
   "metadata": {},
   "source": [
    "### 29. Write a for loop to print elements of a list in reverse: [7, 5, 3, 1]. (Hint: for loop and slicing)"
   ]
  },
  {
   "cell_type": "code",
   "execution_count": 94,
   "id": "ee4cd864",
   "metadata": {},
   "outputs": [
    {
     "name": "stdout",
     "output_type": "stream",
     "text": [
      "1\n",
      "3\n",
      "5\n",
      "7\n"
     ]
    }
   ],
   "source": [
    "elements = [7, 5, 3, 1]\n",
    "for ele in elements[::-1]:\n",
    "    print(ele)"
   ]
  },
  {
   "cell_type": "markdown",
   "id": "5ab7a26a",
   "metadata": {},
   "source": [
    "### 30. Write a while loop that prints the first 5 even numbers. (Hint: Use a counter and while)"
   ]
  },
  {
   "cell_type": "code",
   "execution_count": 95,
   "id": "37e785fc",
   "metadata": {},
   "outputs": [
    {
     "name": "stdout",
     "output_type": "stream",
     "text": [
      "2\n",
      "4\n",
      "6\n",
      "8\n",
      "10\n"
     ]
    }
   ],
   "source": [
    "num = 2\n",
    "count = 1\n",
    "while count <= 5:\n",
    "    print(num)\n",
    "    num += 2\n",
    "    count += 1"
   ]
  },
  {
   "cell_type": "markdown",
   "id": "d0b84390",
   "metadata": {},
   "source": [
    "### 31. How do you modify the control flow of a loop using else and break together? (Hint: Combination of else and break)"
   ]
  },
  {
   "cell_type": "code",
   "execution_count": 96,
   "id": "ff3146c4",
   "metadata": {},
   "outputs": [
    {
     "name": "stdout",
     "output_type": "stream",
     "text": [
      "1\n",
      "2\n",
      "It Breaks due to break function\n"
     ]
    }
   ],
   "source": [
    "numbers = list(range(1, 6, 1))\n",
    "for num in numbers:\n",
    "    if num == 3:\n",
    "        print('It Breaks due to break function')\n",
    "        break\n",
    "    print(num)\n",
    "else:\n",
    "    print(\"Loop completed without encountering break.\")"
   ]
  },
  {
   "cell_type": "markdown",
   "id": "de3a2854",
   "metadata": {},
   "source": [
    "### 32. Write a for loop that prints each letter of the word \"Loop\". (Hint: for and strings)"
   ]
  },
  {
   "cell_type": "code",
   "execution_count": 97,
   "id": "35ee8eaf",
   "metadata": {},
   "outputs": [
    {
     "name": "stdout",
     "output_type": "stream",
     "text": [
      "L\n",
      "o\n",
      "o\n",
      "p\n"
     ]
    }
   ],
   "source": [
    "for each in 'Loop':\n",
    "    print(each)"
   ]
  },
  {
   "cell_type": "markdown",
   "id": "b4cb36b4",
   "metadata": {},
   "source": [
    "### 33. Write a while loop that finds the sum of all numbers from 1 to 50. (Hint: Use a variable to accumulate)"
   ]
  },
  {
   "cell_type": "code",
   "execution_count": 98,
   "id": "05092b9d",
   "metadata": {},
   "outputs": [
    {
     "name": "stdout",
     "output_type": "stream",
     "text": [
      "1275\n"
     ]
    }
   ],
   "source": [
    "sum = 0\n",
    "count = 1\n",
    "while count <= 50:\n",
    "    sum = sum + count\n",
    "    count += 1\n",
    "print(sum)"
   ]
  },
  {
   "cell_type": "markdown",
   "id": "c44fb5c8",
   "metadata": {},
   "source": [
    "### 34. How do you iterate over only the values of a dictionary using a loop? (Hint: .values() method) `Check`"
   ]
  },
  {
   "cell_type": "code",
   "execution_count": 100,
   "id": "94b288ab",
   "metadata": {},
   "outputs": [
    {
     "name": "stdout",
     "output_type": "stream",
     "text": [
      "value is 85\n",
      "value is 92\n",
      "value is 78\n",
      "value is 90\n",
      "value is 88\n"
     ]
    }
   ],
   "source": [
    "student_scores = {\n",
    "    \"Abhilash\": 85,\n",
    "    \"Bharat\": 92,\n",
    "    \"Chirudeep\": 78,\n",
    "    \"David\": 90,\n",
    "    \"Evanka\": 88\n",
    "}\n",
    "\n",
    "# Iterating over values using a for loop and .values()\n",
    "\n",
    "for value in student_scores.values():\n",
    "    print(f\"value is {value}\")"
   ]
  },
  {
   "cell_type": "markdown",
   "id": "a41ec6af",
   "metadata": {},
   "source": [
    "### 35. Write a for loop that prints numbers from 10 to 1 with a step of -1. (Hint: range() with negative step)"
   ]
  },
  {
   "cell_type": "code",
   "execution_count": 107,
   "id": "ff3dc35d",
   "metadata": {},
   "outputs": [
    {
     "name": "stdout",
     "output_type": "stream",
     "text": [
      "10\n",
      "9\n",
      "8\n",
      "7\n",
      "6\n",
      "5\n",
      "4\n",
      "3\n",
      "2\n",
      "1\n"
     ]
    }
   ],
   "source": [
    "for num in (range(10, 0, -1)):\n",
    "    print(num)"
   ]
  },
  {
   "cell_type": "markdown",
   "id": "1056aa70",
   "metadata": {},
   "source": [
    "### 36. Write a while loop that prints the first 4 powers of 2. (Hint: Use a counter and while)"
   ]
  },
  {
   "cell_type": "code",
   "execution_count": 115,
   "id": "b35d9ce4",
   "metadata": {},
   "outputs": [
    {
     "name": "stdout",
     "output_type": "stream",
     "text": [
      "Enter your number you want to see the first 4 powers :2\n",
      "1\n",
      "2\n",
      "4\n",
      "8\n",
      "16\n"
     ]
    }
   ],
   "source": [
    "num = int(input('Enter your number you want to see the first 4 powers :'))\n",
    "count = num\n",
    "while True:\n",
    "    print(count ** 0)\n",
    "    print(count ** 1)\n",
    "    print(count ** 2)\n",
    "    print(count ** 3)\n",
    "    print(count ** 4)\n",
    "    break"
   ]
  },
  {
   "cell_type": "markdown",
   "id": "8065c47b",
   "metadata": {},
   "source": [
    "### 37. What is the purpose of the pass statement in a loop? (Hint: Placeholder for future code)"
   ]
  },
  {
   "cell_type": "markdown",
   "id": "0643cf40",
   "metadata": {},
   "source": [
    "The `pass` statement in a loop is a `placeholder` that does nothing and is used when you need syntactically correct code without any action."
   ]
  },
  {
   "cell_type": "code",
   "execution_count": 116,
   "id": "9c98b1ce",
   "metadata": {},
   "outputs": [
    {
     "name": "stdout",
     "output_type": "stream",
     "text": [
      "apple\n",
      "cherry\n"
     ]
    }
   ],
   "source": [
    "fruits = [\"apple\", \"banana\", \"cherry\"]\n",
    "\n",
    "for fruit in fruits:\n",
    "    if fruit == \"banana\":\n",
    "        pass\n",
    "    else:\n",
    "        print(fruit)"
   ]
  },
  {
   "cell_type": "markdown",
   "id": "38d61761",
   "metadata": {},
   "source": [
    "### 38. Write a for loop to print elements of a list: ['red', 'green', 'blue']. (Hint: for loop and list)"
   ]
  },
  {
   "cell_type": "code",
   "execution_count": 117,
   "id": "569b3df1",
   "metadata": {},
   "outputs": [
    {
     "name": "stdout",
     "output_type": "stream",
     "text": [
      "red\n",
      "green\n",
      "blue\n"
     ]
    }
   ],
   "source": [
    "for ele in ['red', 'green', 'blue']:\n",
    "    print(ele)"
   ]
  },
  {
   "cell_type": "markdown",
   "id": "b5f975ed",
   "metadata": {},
   "source": [
    "### 39. Write a while loop that prints all uppercase letters from 'A' to 'Z'. (Hint: Use ASCII values and chr())"
   ]
  },
  {
   "cell_type": "code",
   "execution_count": 126,
   "id": "7ecb2c70",
   "metadata": {},
   "outputs": [],
   "source": [
    "letter = ord('A')\n",
    "\n",
    "while letter <= ord('Z'):\n",
    "    print(chr(letter))\n",
    "    letter += 1"
   ]
  },
  {
   "cell_type": "code",
   "execution_count": 127,
   "id": "8e9162ef",
   "metadata": {},
   "outputs": [],
   "source": [
    "letter = ord('a')\n",
    "\n",
    "while letter <= ord('z'):\n",
    "    print(chr(letter))\n",
    "    letter += 1"
   ]
  },
  {
   "cell_type": "markdown",
   "id": "8f77b72e",
   "metadata": {},
   "source": [
    "### 40. How can you iterate over the index and elements of a list using a loop? (Hint: enumerate() function) `check`"
   ]
  },
  {
   "cell_type": "code",
   "execution_count": 131,
   "id": "9d45115a",
   "metadata": {},
   "outputs": [
    {
     "name": "stdout",
     "output_type": "stream",
     "text": [
      "Index 0: avacado\n",
      "Index 1: berry\n",
      "Index 2: cherry\n",
      "Index 3: dates\n",
      "Index 4: fig\n"
     ]
    }
   ],
   "source": [
    "# to do operation on index and elements in a list use enumerate function.\n",
    "\n",
    "fruits = ['avacado', 'berry', 'cherry', 'dates', 'fig']\n",
    "for index, element in enumerate(fruits):\n",
    "    print(f'Index {index}: {element}')"
   ]
  },
  {
   "cell_type": "markdown",
   "id": "c5fdbfa3",
   "metadata": {},
   "source": [
    "### 41. Write a for loop to print elements of a tuple: (1, 2, 3, 4, 5). (Hint: for loop and tuple)"
   ]
  },
  {
   "cell_type": "code",
   "execution_count": 132,
   "id": "c89a5e3c",
   "metadata": {},
   "outputs": [
    {
     "name": "stdout",
     "output_type": "stream",
     "text": [
      "1\n",
      "2\n",
      "3\n",
      "4\n",
      "5\n"
     ]
    }
   ],
   "source": [
    "for elements in (1, 2, 3, 4, 5):\n",
    "    print(elements)"
   ]
  },
  {
   "cell_type": "markdown",
   "id": "ee48f8fc",
   "metadata": {},
   "source": [
    "### 42. Write a while loop that prints numbers from 1 to 5, but stops at 3. (Hint: Use while and break)"
   ]
  },
  {
   "cell_type": "code",
   "execution_count": 138,
   "id": "a0ea2c21",
   "metadata": {},
   "outputs": [
    {
     "name": "stdout",
     "output_type": "stream",
     "text": [
      "1\n",
      "2\n"
     ]
    }
   ],
   "source": [
    "c = 1\n",
    "while c <= 5:\n",
    "    if c == 3:\n",
    "        break\n",
    "        \n",
    "    print(c)\n",
    "    c += 1"
   ]
  },
  {
   "cell_type": "markdown",
   "id": "130a5e0e",
   "metadata": {},
   "source": [
    "### 43. How do you iterate over a string and skip every second character? (Hint: Use a step in slicing)"
   ]
  },
  {
   "cell_type": "code",
   "execution_count": 140,
   "id": "ee4331eb",
   "metadata": {},
   "outputs": [
    {
     "name": "stdout",
     "output_type": "stream",
     "text": [
      "Enter your string: Raviteja\n",
      "R\n",
      "v\n",
      "t\n",
      "j\n"
     ]
    }
   ],
   "source": [
    "string = input('Enter your string: ')\n",
    "for skip in string[::2]:\n",
    "    print(skip)"
   ]
  },
  {
   "cell_type": "markdown",
   "id": "75eeda55",
   "metadata": {},
   "source": [
    "### 44. Write a for loop to print each letter of a string in reverse: \"Python\". (Hint: for and slicing)"
   ]
  },
  {
   "cell_type": "code",
   "execution_count": 143,
   "id": "a6158cbd",
   "metadata": {},
   "outputs": [
    {
     "name": "stdout",
     "output_type": "stream",
     "text": [
      "n\n",
      "o\n",
      "h\n",
      "t\n",
      "y\n",
      "P\n"
     ]
    }
   ],
   "source": [
    "st = 'Python'\n",
    "for letter in st[::-1]:\n",
    "    print(letter)"
   ]
  },
  {
   "cell_type": "markdown",
   "id": "9d7b69fa",
   "metadata": {},
   "source": [
    "### 45. Write a while loop to print numbers from 3 to 10 with a step of 2. (Hint: Use a counter and while)"
   ]
  },
  {
   "cell_type": "code",
   "execution_count": 150,
   "id": "51ce776a",
   "metadata": {},
   "outputs": [
    {
     "name": "stdout",
     "output_type": "stream",
     "text": [
      "3\n",
      "5\n",
      "7\n",
      "9\n"
     ]
    }
   ],
   "source": [
    "c = 3 \n",
    "while c <= 10:\n",
    "    print(c)\n",
    "    c += 2"
   ]
  },
  {
   "cell_type": "markdown",
   "id": "96d0cc34",
   "metadata": {},
   "source": [
    "### 46. How can you iterate over a list of lists using nested loops? (Hint: Use two for loops) `check`"
   ]
  },
  {
   "cell_type": "code",
   "execution_count": 159,
   "id": "2f9d2dd8",
   "metadata": {},
   "outputs": [
    {
     "name": "stdout",
     "output_type": "stream",
     "text": [
      "1\n",
      "2\n",
      "3\n",
      "4\n",
      "5\n",
      "6\n",
      "7\n",
      "8\n",
      "9\n",
      "10\n",
      "11\n"
     ]
    }
   ],
   "source": [
    "# Example list of lists\n",
    "list_of_lists = [[1, 2, 3], [4, 5, 6], [7, 8, 9], [10], [11]]\n",
    "\n",
    "# Iterating over the list of lists using nested loops\n",
    "for sublist in list_of_lists:\n",
    "    for element in sublist:\n",
    "        print(element)"
   ]
  },
  {
   "cell_type": "markdown",
   "id": "9b592c54",
   "metadata": {},
   "source": [
    "### 47. Write a for loop to print each character of a string: \"Hello\" without the letter 'l'. (Hint: for, if, and continue)"
   ]
  },
  {
   "cell_type": "code",
   "execution_count": 160,
   "id": "04b10222",
   "metadata": {},
   "outputs": [
    {
     "name": "stdout",
     "output_type": "stream",
     "text": [
      "H\n",
      "e\n",
      "o\n"
     ]
    }
   ],
   "source": [
    "for each in 'Hello':\n",
    "    if each == 'l':\n",
    "        continue\n",
    "    print(each)"
   ]
  },
  {
   "cell_type": "markdown",
   "id": "07b60fd5",
   "metadata": {},
   "source": [
    "### 48. Write a while loop to print the first 3 powers of 3. (Hint: Use a counter and while)"
   ]
  },
  {
   "cell_type": "code",
   "execution_count": 161,
   "id": "acf0133d",
   "metadata": {},
   "outputs": [
    {
     "name": "stdout",
     "output_type": "stream",
     "text": [
      "Enter your number you want to see the first 4 powers :3\n",
      "1\n",
      "3\n",
      "9\n",
      "27\n"
     ]
    }
   ],
   "source": [
    "num = int(input('Enter your number you want to see the first 4 powers :'))\n",
    "count = num\n",
    "while True:\n",
    "    print(count ** 0)\n",
    "    print(count ** 1)\n",
    "    print(count ** 2)\n",
    "    print(count ** 3)\n",
    "    break"
   ]
  },
  {
   "cell_type": "markdown",
   "id": "3a3ff1c9",
   "metadata": {},
   "source": [
    "### 49. How do you iterate over a dictionary using only a loop? (Hint: By default, loops over keys) `Check`"
   ]
  },
  {
   "cell_type": "code",
   "execution_count": 166,
   "id": "9e03fdd9",
   "metadata": {},
   "outputs": [
    {
     "name": "stdout",
     "output_type": "stream",
     "text": [
      "Abhilash's score is 85\n",
      "Bharat's score is 92\n",
      "Chirudeep's score is 78\n",
      "David's score is 90\n",
      "Evanka's score is 88\n"
     ]
    }
   ],
   "source": [
    "student_scores = {\n",
    "    \"Abhilash\": 85,\n",
    "    \"Bharat\": 92,\n",
    "    \"Chirudeep\": 78,\n",
    "    \"David\": 90,\n",
    "    \"Evanka\": 88\n",
    "}\n",
    "\n",
    "# Iterating over key-value pairs using a for loop and .items()\n",
    "\n",
    "for name in student_scores:\n",
    "    score = student_scores[name]\n",
    "    print(f\"{name}'s score is {score}\")\n"
   ]
  },
  {
   "cell_type": "markdown",
   "id": "98b7abad",
   "metadata": {},
   "source": [
    "### 50. Write a for loop to print elements of a tuple in reverse: (5, 4, 3, 2, 1). (Hint: for loop and slicing)"
   ]
  },
  {
   "cell_type": "code",
   "execution_count": 168,
   "id": "4beaec8c",
   "metadata": {},
   "outputs": [
    {
     "name": "stdout",
     "output_type": "stream",
     "text": [
      "1\n",
      "2\n",
      "3\n",
      "4\n",
      "5\n"
     ]
    }
   ],
   "source": [
    "for rev in (5,4,3,2,1)[::-1]:\n",
    "    print(rev)"
   ]
  },
  {
   "cell_type": "code",
   "execution_count": 1,
   "id": "fef9487a",
   "metadata": {},
   "outputs": [
    {
     "name": "stdout",
     "output_type": "stream",
     "text": [
      "Enter your string: raviteja\n",
      "8\n"
     ]
    }
   ],
   "source": [
    "string = input('Enter your string: ')\n",
    "c = 0\n",
    "for char in string:\n",
    "    c += 1\n",
    "    \n",
    "print(c)"
   ]
  },
  {
   "cell_type": "code",
   "execution_count": null,
   "id": "eab258c6",
   "metadata": {},
   "outputs": [],
   "source": []
  }
 ],
 "metadata": {
  "kernelspec": {
   "display_name": "Python 3 (ipykernel)",
   "language": "python",
   "name": "python3"
  },
  "language_info": {
   "codemirror_mode": {
    "name": "ipython",
    "version": 3
   },
   "file_extension": ".py",
   "mimetype": "text/x-python",
   "name": "python",
   "nbconvert_exporter": "python",
   "pygments_lexer": "ipython3",
   "version": "3.10.9"
  }
 },
 "nbformat": 4,
 "nbformat_minor": 5
}
